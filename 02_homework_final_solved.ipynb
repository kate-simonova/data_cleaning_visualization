{
 "cells": [
  {
   "cell_type": "markdown",
   "source": "# Homework 2 - balancing & binning (deadline 28. 11. 2021, 23:59)\n\nIn short, the main task is to play with balancing and binning to obtain the best results for the binary classification task.\n  \n> The instructions are not given in details: It is up to you to come up with ideas on how to fulfill the particular tasks as best you can!\n\nHowever, we **strongly recommend and require** the following:\n* Follow the assignment step by step. Number each step.\n* Most steps contain the number of features that should be treated. You can preprocess more features, however, it does not mean that the teacher will give you more points. Focus on quality, not quantity.\n* Properly comment all your steps. Comments are evaluated for 2 points of the total together with the final presentation of the solution. However, it is not desirable to write novels! \n* This task is the most challenging of the three, both timewise and computationally. Do not leave it to the last minute.\n* Hand in a notebook that has already been run (i.e. do not delete outputs before handing in).\n\n## What are you supposed to do:\n\n  1. Download the dataset [here](https://www.dropbox.com/s/aq08ytozfplb97b/data.csv?dl=0).\n  1. Use 2 binning methods (on features of your choice, with your choice of parameters) and comment on its effects on classification performance. _(3 points)_\n  1. Use at least 2 other data balancing techniques of your choice on the dataset and comment the classification results. **Just copied code from tutorial 4 will not be accepted.** _(6 points)_\n  1. Run all classification tests at least three times - once for unbalanced original data, twice for balanced data (try at least 2 balancing techniques), compare those results and discuss (give a comment). _(5 points)_\n  \nAll your steps and following code **have to be commented!** Comments are evaluated for _2 points_ together with the final presentation of the solution.\n\n**If you do all this properly, you will obtain 16 points.**\n\n## Comments\n\n  * Please follow the technical instructions from https://courses.fit.cvut.cz/NI-PDD/homeworks/index.html.\n  * If the reviewing teacher is not satisfied, she can (!) give you another chance to rework your homework and to obtain more points. However, this is not a given, so do your best! :)\n  * English is not compulsory.\n  \n## Data description\n\n* The dataset can be downloaded [here](https://www.dropbox.com/s/aq08ytozfplb97b/data.csv?dl=0).\n* The data are devoted to the binary classification task, the aim is to predict the probability that a driver will initiate an auto insurance claim in the next year.\n* Target feature is called 'y' and signifies whether or not a claim was filed for that policy holder.\n* To fulfill the task one does not need to know the meaning of predictors.\n* Predictors that belong to similar groupings are tagged as such in the feature names (e.g., ind, reg, car, calc). In addition, feature names include the postfix bin to indicate binary features and cat to indicate categorical features. Features without these designations are either continuous or ordinal. Values of -1 indicate that the feature was missing from the observation.\n* While using [train_test_split](https://scikit-learn.org/stable/modules/generated/sklearn.model_selection.train_test_split.html), control the shuffling of data by random_state parameter. Do not use shuffle=False, probably never (can cause systematic error).",
   "metadata": {
    "cell_id": "00000-1ac24d15-35c5-40ec-b264-78db858a7455",
    "deepnote_cell_type": "markdown"
   }
  },
  {
   "cell_type": "markdown",
   "source": "# Predicting the probability that a driver will initiate an auto insurance claim in the next year",
   "metadata": {
    "tags": [],
    "is_collapsed": false,
    "cell_id": "00001-a52b5a43-c524-41a9-a9ac-50beaf8f9d05",
    "deepnote_cell_type": "text-cell-h1"
   }
  },
  {
   "cell_type": "markdown",
   "source": "## Ekaterina Simonova - Bioinformatics, UCT ",
   "metadata": {
    "tags": [],
    "is_collapsed": false,
    "cell_id": "00002-eeac30fc-9ce6-47ac-8b9c-bf1fd9914c30",
    "deepnote_cell_type": "text-cell-h2"
   }
  },
  {
   "cell_type": "markdown",
   "source": "### Loading libraries &amp; Data",
   "metadata": {
    "tags": [],
    "is_collapsed": false,
    "cell_id": "00003-42eb31af-adbd-4e8c-a0d5-4711df5d9fcb",
    "deepnote_cell_type": "text-cell-h3"
   }
  },
  {
   "cell_type": "code",
   "metadata": {
    "tags": [],
    "cell_id": "00004-e36a1285-a38d-4b71-bf35-db9c43aaac99",
    "deepnote_to_be_reexecuted": false,
    "source_hash": "d7011339",
    "execution_start": 1638088224313,
    "execution_millis": 49,
    "deepnote_output_heights": [
     21
    ],
    "deepnote_cell_type": "code"
   },
   "source": "'''\n! sudo apt-get update\n! sudo apt-get install -y openjdk-11-jdk\n! pip install pyspark\n'''",
   "execution_count": null,
   "outputs": [
    {
     "output_type": "execute_result",
     "execution_count": 1,
     "data": {
      "text/plain": "'\\n! sudo apt-get update\\n! sudo apt-get install -y openjdk-11-jdk\\n! pip install pyspark\\n'"
     },
     "metadata": {}
    }
   ]
  },
  {
   "cell_type": "code",
   "metadata": {
    "tags": [],
    "cell_id": "00004-c96a4cbd-6b53-4902-91b5-baae74f707a7",
    "deepnote_to_be_reexecuted": false,
    "source_hash": "ae0e3718",
    "execution_start": 1638088224357,
    "execution_millis": 1569,
    "deepnote_cell_type": "code"
   },
   "source": "# Data handling and processing\nimport pandas as pd\nimport numpy as np\n\n# Data visualisation \nimport matplotlib.pyplot as plt\nimport seaborn as sns\n\n# model fine-tuning and evaluation\nfrom sklearn.model_selection import train_test_split,cross_val_predict\nfrom sklearn.metrics import accuracy_score, confusion_matrix, roc_auc_score, f1_score\nfrom sklearn.ensemble import RandomForestClassifier\nfrom sklearn.tree import DecisionTreeClassifier\nfrom sklearn.model_selection import GridSearchCV\n\n'''\n# pyspark modules\nfrom pyspark.ml.feature import VectorAssembler\nfrom pyspark.ml import Pipeline\nfrom pyspark.ml.classification import LogisticRegression\nfrom pyspark import SparkConf\nfrom pyspark.sql import SparkSession\nfrom pyspark.ml.classification import LogisticRegression\nfrom pyspark.ml.evaluation import BinaryClassificationEvaluator, MulticlassClassificationEvaluator\nfrom pyspark.sql.types import *\nfrom pyspark import SparkContext, SQLContext\n'''\n\n# sampling methods\nfrom imblearn.under_sampling import RandomUnderSampler\nfrom imblearn.over_sampling import RandomOverSampler, SMOTE\n\n# importing other modules\nimport warnings\nfrom collections import Counter",
   "execution_count": null,
   "outputs": []
  },
  {
   "cell_type": "markdown",
   "source": "Let's now download the data.",
   "metadata": {
    "tags": [],
    "cell_id": "00005-6449e38f-32b2-436e-8d0f-81859c197031",
    "deepnote_cell_type": "markdown"
   }
  },
  {
   "cell_type": "code",
   "metadata": {
    "tags": [],
    "cell_id": "00006-906adc1f-c5ee-47bb-8822-9a78fda98172",
    "deepnote_to_be_reexecuted": false,
    "source_hash": "2bf4607d",
    "execution_start": 1638088225935,
    "execution_millis": 2287,
    "deepnote_cell_type": "code"
   },
   "source": "df = pd.read_csv(\"data.csv\")\ndf.head()",
   "execution_count": null,
   "outputs": [
    {
     "output_type": "execute_result",
     "execution_count": 3,
     "data": {
      "application/vnd.deepnote.dataframe.v2+json": {
       "row_count": 5,
       "column_count": 58,
       "columns": [
        {
         "name": "y",
         "dtype": "int64",
         "stats": {
          "unique_count": 1,
          "nan_count": 0,
          "min": "0",
          "max": "0",
          "histogram": [
           {
            "bin_start": -0.5,
            "bin_end": -0.4,
            "count": 0
           },
           {
            "bin_start": -0.4,
            "bin_end": -0.3,
            "count": 0
           },
           {
            "bin_start": -0.3,
            "bin_end": -0.19999999999999996,
            "count": 0
           },
           {
            "bin_start": -0.19999999999999996,
            "bin_end": -0.09999999999999998,
            "count": 0
           },
           {
            "bin_start": -0.09999999999999998,
            "bin_end": 0,
            "count": 0
           },
           {
            "bin_start": 0,
            "bin_end": 0.10000000000000009,
            "count": 5
           },
           {
            "bin_start": 0.10000000000000009,
            "bin_end": 0.20000000000000007,
            "count": 0
           },
           {
            "bin_start": 0.20000000000000007,
            "bin_end": 0.30000000000000004,
            "count": 0
           },
           {
            "bin_start": 0.30000000000000004,
            "bin_end": 0.4,
            "count": 0
           },
           {
            "bin_start": 0.4,
            "bin_end": 0.5,
            "count": 0
           }
          ]
         }
        },
        {
         "name": "xind_01",
         "dtype": "int64",
         "stats": {
          "unique_count": 2,
          "nan_count": 0,
          "min": "1",
          "max": "2",
          "histogram": [
           {
            "bin_start": 1,
            "bin_end": 1.1,
            "count": 2
           },
           {
            "bin_start": 1.1,
            "bin_end": 1.2,
            "count": 0
           },
           {
            "bin_start": 1.2,
            "bin_end": 1.3,
            "count": 0
           },
           {
            "bin_start": 1.3,
            "bin_end": 1.4,
            "count": 0
           },
           {
            "bin_start": 1.4,
            "bin_end": 1.5,
            "count": 0
           },
           {
            "bin_start": 1.5,
            "bin_end": 1.6,
            "count": 0
           },
           {
            "bin_start": 1.6,
            "bin_end": 1.7000000000000002,
            "count": 0
           },
           {
            "bin_start": 1.7000000000000002,
            "bin_end": 1.8,
            "count": 0
           },
           {
            "bin_start": 1.8,
            "bin_end": 1.9,
            "count": 0
           },
           {
            "bin_start": 1.9,
            "bin_end": 2,
            "count": 3
           }
          ]
         }
        },
        {
         "name": "xind_02_cat",
         "dtype": "int64",
         "stats": {
          "unique_count": 1,
          "nan_count": 0,
          "min": "1",
          "max": "1",
          "histogram": [
           {
            "bin_start": 0.5,
            "bin_end": 0.6,
            "count": 0
           },
           {
            "bin_start": 0.6,
            "bin_end": 0.7,
            "count": 0
           },
           {
            "bin_start": 0.7,
            "bin_end": 0.8,
            "count": 0
           },
           {
            "bin_start": 0.8,
            "bin_end": 0.9,
            "count": 0
           },
           {
            "bin_start": 0.9,
            "bin_end": 1,
            "count": 0
           },
           {
            "bin_start": 1,
            "bin_end": 1.1,
            "count": 5
           },
           {
            "bin_start": 1.1,
            "bin_end": 1.2000000000000002,
            "count": 0
           },
           {
            "bin_start": 1.2000000000000002,
            "bin_end": 1.3,
            "count": 0
           },
           {
            "bin_start": 1.3,
            "bin_end": 1.4,
            "count": 0
           },
           {
            "bin_start": 1.4,
            "bin_end": 1.5,
            "count": 0
           }
          ]
         }
        },
        {
         "name": "xind_03",
         "dtype": "int64",
         "stats": {
          "unique_count": 3,
          "nan_count": 0,
          "min": "5",
          "max": "9",
          "histogram": [
           {
            "bin_start": 5,
            "bin_end": 5.4,
            "count": 2
           },
           {
            "bin_start": 5.4,
            "bin_end": 5.8,
            "count": 0
           },
           {
            "bin_start": 5.8,
            "bin_end": 6.2,
            "count": 2
           },
           {
            "bin_start": 6.2,
            "bin_end": 6.6,
            "count": 0
           },
           {
            "bin_start": 6.6,
            "bin_end": 7,
            "count": 0
           },
           {
            "bin_start": 7,
            "bin_end": 7.4,
            "count": 0
           },
           {
            "bin_start": 7.4,
            "bin_end": 7.800000000000001,
            "count": 0
           },
           {
            "bin_start": 7.800000000000001,
            "bin_end": 8.2,
            "count": 0
           },
           {
            "bin_start": 8.2,
            "bin_end": 8.6,
            "count": 0
           },
           {
            "bin_start": 8.6,
            "bin_end": 9,
            "count": 1
           }
          ]
         }
        },
        {
         "name": "xind_04_cat",
         "dtype": "int64",
         "stats": {
          "unique_count": 2,
          "nan_count": 0,
          "min": "0",
          "max": "1",
          "histogram": [
           {
            "bin_start": 0,
            "bin_end": 0.1,
            "count": 3
           },
           {
            "bin_start": 0.1,
            "bin_end": 0.2,
            "count": 0
           },
           {
            "bin_start": 0.2,
            "bin_end": 0.30000000000000004,
            "count": 0
           },
           {
            "bin_start": 0.30000000000000004,
            "bin_end": 0.4,
            "count": 0
           },
           {
            "bin_start": 0.4,
            "bin_end": 0.5,
            "count": 0
           },
           {
            "bin_start": 0.5,
            "bin_end": 0.6000000000000001,
            "count": 0
           },
           {
            "bin_start": 0.6000000000000001,
            "bin_end": 0.7000000000000001,
            "count": 0
           },
           {
            "bin_start": 0.7000000000000001,
            "bin_end": 0.8,
            "count": 0
           },
           {
            "bin_start": 0.8,
            "bin_end": 0.9,
            "count": 0
           },
           {
            "bin_start": 0.9,
            "bin_end": 1,
            "count": 2
           }
          ]
         }
        },
        {
         "name": "xind_05_cat",
         "dtype": "int64",
         "stats": {
          "unique_count": 2,
          "nan_count": 0,
          "min": "0",
          "max": "6",
          "histogram": [
           {
            "bin_start": 0,
            "bin_end": 0.6,
            "count": 4
           },
           {
            "bin_start": 0.6,
            "bin_end": 1.2,
            "count": 0
           },
           {
            "bin_start": 1.2,
            "bin_end": 1.7999999999999998,
            "count": 0
           },
           {
            "bin_start": 1.7999999999999998,
            "bin_end": 2.4,
            "count": 0
           },
           {
            "bin_start": 2.4,
            "bin_end": 3,
            "count": 0
           },
           {
            "bin_start": 3,
            "bin_end": 3.5999999999999996,
            "count": 0
           },
           {
            "bin_start": 3.5999999999999996,
            "bin_end": 4.2,
            "count": 0
           },
           {
            "bin_start": 4.2,
            "bin_end": 4.8,
            "count": 0
           },
           {
            "bin_start": 4.8,
            "bin_end": 5.3999999999999995,
            "count": 0
           },
           {
            "bin_start": 5.3999999999999995,
            "bin_end": 6,
            "count": 1
           }
          ]
         }
        },
        {
         "name": "xind_06_bin",
         "dtype": "int64",
         "stats": {
          "unique_count": 2,
          "nan_count": 0,
          "min": "0",
          "max": "1",
          "histogram": [
           {
            "bin_start": 0,
            "bin_end": 0.1,
            "count": 3
           },
           {
            "bin_start": 0.1,
            "bin_end": 0.2,
            "count": 0
           },
           {
            "bin_start": 0.2,
            "bin_end": 0.30000000000000004,
            "count": 0
           },
           {
            "bin_start": 0.30000000000000004,
            "bin_end": 0.4,
            "count": 0
           },
           {
            "bin_start": 0.4,
            "bin_end": 0.5,
            "count": 0
           },
           {
            "bin_start": 0.5,
            "bin_end": 0.6000000000000001,
            "count": 0
           },
           {
            "bin_start": 0.6000000000000001,
            "bin_end": 0.7000000000000001,
            "count": 0
           },
           {
            "bin_start": 0.7000000000000001,
            "bin_end": 0.8,
            "count": 0
           },
           {
            "bin_start": 0.8,
            "bin_end": 0.9,
            "count": 0
           },
           {
            "bin_start": 0.9,
            "bin_end": 1,
            "count": 2
           }
          ]
         }
        },
        {
         "name": "xind_07_bin",
         "dtype": "int64",
         "stats": {
          "unique_count": 2,
          "nan_count": 0,
          "min": "0",
          "max": "1",
          "histogram": [
           {
            "bin_start": 0,
            "bin_end": 0.1,
            "count": 3
           },
           {
            "bin_start": 0.1,
            "bin_end": 0.2,
            "count": 0
           },
           {
            "bin_start": 0.2,
            "bin_end": 0.30000000000000004,
            "count": 0
           },
           {
            "bin_start": 0.30000000000000004,
            "bin_end": 0.4,
            "count": 0
           },
           {
            "bin_start": 0.4,
            "bin_end": 0.5,
            "count": 0
           },
           {
            "bin_start": 0.5,
            "bin_end": 0.6000000000000001,
            "count": 0
           },
           {
            "bin_start": 0.6000000000000001,
            "bin_end": 0.7000000000000001,
            "count": 0
           },
           {
            "bin_start": 0.7000000000000001,
            "bin_end": 0.8,
            "count": 0
           },
           {
            "bin_start": 0.8,
            "bin_end": 0.9,
            "count": 0
           },
           {
            "bin_start": 0.9,
            "bin_end": 1,
            "count": 2
           }
          ]
         }
        },
        {
         "name": "xind_08_bin",
         "dtype": "int64",
         "stats": {
          "unique_count": 1,
          "nan_count": 0,
          "min": "0",
          "max": "0",
          "histogram": [
           {
            "bin_start": -0.5,
            "bin_end": -0.4,
            "count": 0
           },
           {
            "bin_start": -0.4,
            "bin_end": -0.3,
            "count": 0
           },
           {
            "bin_start": -0.3,
            "bin_end": -0.19999999999999996,
            "count": 0
           },
           {
            "bin_start": -0.19999999999999996,
            "bin_end": -0.09999999999999998,
            "count": 0
           },
           {
            "bin_start": -0.09999999999999998,
            "bin_end": 0,
            "count": 0
           },
           {
            "bin_start": 0,
            "bin_end": 0.10000000000000009,
            "count": 5
           },
           {
            "bin_start": 0.10000000000000009,
            "bin_end": 0.20000000000000007,
            "count": 0
           },
           {
            "bin_start": 0.20000000000000007,
            "bin_end": 0.30000000000000004,
            "count": 0
           },
           {
            "bin_start": 0.30000000000000004,
            "bin_end": 0.4,
            "count": 0
           },
           {
            "bin_start": 0.4,
            "bin_end": 0.5,
            "count": 0
           }
          ]
         }
        },
        {
         "name": "xind_09_bin",
         "dtype": "int64",
         "stats": {
          "unique_count": 2,
          "nan_count": 0,
          "min": "0",
          "max": "1",
          "histogram": [
           {
            "bin_start": 0,
            "bin_end": 0.1,
            "count": 4
           },
           {
            "bin_start": 0.1,
            "bin_end": 0.2,
            "count": 0
           },
           {
            "bin_start": 0.2,
            "bin_end": 0.30000000000000004,
            "count": 0
           },
           {
            "bin_start": 0.30000000000000004,
            "bin_end": 0.4,
            "count": 0
           },
           {
            "bin_start": 0.4,
            "bin_end": 0.5,
            "count": 0
           },
           {
            "bin_start": 0.5,
            "bin_end": 0.6000000000000001,
            "count": 0
           },
           {
            "bin_start": 0.6000000000000001,
            "bin_end": 0.7000000000000001,
            "count": 0
           },
           {
            "bin_start": 0.7000000000000001,
            "bin_end": 0.8,
            "count": 0
           },
           {
            "bin_start": 0.8,
            "bin_end": 0.9,
            "count": 0
           },
           {
            "bin_start": 0.9,
            "bin_end": 1,
            "count": 1
           }
          ]
         }
        },
        {
         "name": "xind_10_bin",
         "dtype": "int64",
         "stats": {
          "unique_count": 1,
          "nan_count": 0,
          "min": "0",
          "max": "0",
          "histogram": [
           {
            "bin_start": -0.5,
            "bin_end": -0.4,
            "count": 0
           },
           {
            "bin_start": -0.4,
            "bin_end": -0.3,
            "count": 0
           },
           {
            "bin_start": -0.3,
            "bin_end": -0.19999999999999996,
            "count": 0
           },
           {
            "bin_start": -0.19999999999999996,
            "bin_end": -0.09999999999999998,
            "count": 0
           },
           {
            "bin_start": -0.09999999999999998,
            "bin_end": 0,
            "count": 0
           },
           {
            "bin_start": 0,
            "bin_end": 0.10000000000000009,
            "count": 5
           },
           {
            "bin_start": 0.10000000000000009,
            "bin_end": 0.20000000000000007,
            "count": 0
           },
           {
            "bin_start": 0.20000000000000007,
            "bin_end": 0.30000000000000004,
            "count": 0
           },
           {
            "bin_start": 0.30000000000000004,
            "bin_end": 0.4,
            "count": 0
           },
           {
            "bin_start": 0.4,
            "bin_end": 0.5,
            "count": 0
           }
          ]
         }
        },
        {
         "name": "xind_11_bin",
         "dtype": "int64",
         "stats": {
          "unique_count": 1,
          "nan_count": 0,
          "min": "0",
          "max": "0",
          "histogram": [
           {
            "bin_start": -0.5,
            "bin_end": -0.4,
            "count": 0
           },
           {
            "bin_start": -0.4,
            "bin_end": -0.3,
            "count": 0
           },
           {
            "bin_start": -0.3,
            "bin_end": -0.19999999999999996,
            "count": 0
           },
           {
            "bin_start": -0.19999999999999996,
            "bin_end": -0.09999999999999998,
            "count": 0
           },
           {
            "bin_start": -0.09999999999999998,
            "bin_end": 0,
            "count": 0
           },
           {
            "bin_start": 0,
            "bin_end": 0.10000000000000009,
            "count": 5
           },
           {
            "bin_start": 0.10000000000000009,
            "bin_end": 0.20000000000000007,
            "count": 0
           },
           {
            "bin_start": 0.20000000000000007,
            "bin_end": 0.30000000000000004,
            "count": 0
           },
           {
            "bin_start": 0.30000000000000004,
            "bin_end": 0.4,
            "count": 0
           },
           {
            "bin_start": 0.4,
            "bin_end": 0.5,
            "count": 0
           }
          ]
         }
        },
        {
         "name": "xind_12_bin",
         "dtype": "int64",
         "stats": {
          "unique_count": 1,
          "nan_count": 0,
          "min": "0",
          "max": "0",
          "histogram": [
           {
            "bin_start": -0.5,
            "bin_end": -0.4,
            "count": 0
           },
           {
            "bin_start": -0.4,
            "bin_end": -0.3,
            "count": 0
           },
           {
            "bin_start": -0.3,
            "bin_end": -0.19999999999999996,
            "count": 0
           },
           {
            "bin_start": -0.19999999999999996,
            "bin_end": -0.09999999999999998,
            "count": 0
           },
           {
            "bin_start": -0.09999999999999998,
            "bin_end": 0,
            "count": 0
           },
           {
            "bin_start": 0,
            "bin_end": 0.10000000000000009,
            "count": 5
           },
           {
            "bin_start": 0.10000000000000009,
            "bin_end": 0.20000000000000007,
            "count": 0
           },
           {
            "bin_start": 0.20000000000000007,
            "bin_end": 0.30000000000000004,
            "count": 0
           },
           {
            "bin_start": 0.30000000000000004,
            "bin_end": 0.4,
            "count": 0
           },
           {
            "bin_start": 0.4,
            "bin_end": 0.5,
            "count": 0
           }
          ]
         }
        },
        {
         "name": "xind_13_bin",
         "dtype": "int64",
         "stats": {
          "unique_count": 1,
          "nan_count": 0,
          "min": "0",
          "max": "0",
          "histogram": [
           {
            "bin_start": -0.5,
            "bin_end": -0.4,
            "count": 0
           },
           {
            "bin_start": -0.4,
            "bin_end": -0.3,
            "count": 0
           },
           {
            "bin_start": -0.3,
            "bin_end": -0.19999999999999996,
            "count": 0
           },
           {
            "bin_start": -0.19999999999999996,
            "bin_end": -0.09999999999999998,
            "count": 0
           },
           {
            "bin_start": -0.09999999999999998,
            "bin_end": 0,
            "count": 0
           },
           {
            "bin_start": 0,
            "bin_end": 0.10000000000000009,
            "count": 5
           },
           {
            "bin_start": 0.10000000000000009,
            "bin_end": 0.20000000000000007,
            "count": 0
           },
           {
            "bin_start": 0.20000000000000007,
            "bin_end": 0.30000000000000004,
            "count": 0
           },
           {
            "bin_start": 0.30000000000000004,
            "bin_end": 0.4,
            "count": 0
           },
           {
            "bin_start": 0.4,
            "bin_end": 0.5,
            "count": 0
           }
          ]
         }
        },
        {
         "name": "xind_14",
         "dtype": "int64",
         "stats": {
          "unique_count": 1,
          "nan_count": 0,
          "min": "0",
          "max": "0",
          "histogram": [
           {
            "bin_start": -0.5,
            "bin_end": -0.4,
            "count": 0
           },
           {
            "bin_start": -0.4,
            "bin_end": -0.3,
            "count": 0
           },
           {
            "bin_start": -0.3,
            "bin_end": -0.19999999999999996,
            "count": 0
           },
           {
            "bin_start": -0.19999999999999996,
            "bin_end": -0.09999999999999998,
            "count": 0
           },
           {
            "bin_start": -0.09999999999999998,
            "bin_end": 0,
            "count": 0
           },
           {
            "bin_start": 0,
            "bin_end": 0.10000000000000009,
            "count": 5
           },
           {
            "bin_start": 0.10000000000000009,
            "bin_end": 0.20000000000000007,
            "count": 0
           },
           {
            "bin_start": 0.20000000000000007,
            "bin_end": 0.30000000000000004,
            "count": 0
           },
           {
            "bin_start": 0.30000000000000004,
            "bin_end": 0.4,
            "count": 0
           },
           {
            "bin_start": 0.4,
            "bin_end": 0.5,
            "count": 0
           }
          ]
         }
        },
        {
         "name": "xind_15",
         "dtype": "int64",
         "stats": {
          "unique_count": 3,
          "nan_count": 0,
          "min": "6",
          "max": "12",
          "histogram": [
           {
            "bin_start": 6,
            "bin_end": 6.6,
            "count": 1
           },
           {
            "bin_start": 6.6,
            "bin_end": 7.2,
            "count": 0
           },
           {
            "bin_start": 7.2,
            "bin_end": 7.8,
            "count": 0
           },
           {
            "bin_start": 7.8,
            "bin_end": 8.4,
            "count": 0
           },
           {
            "bin_start": 8.4,
            "bin_end": 9,
            "count": 0
           },
           {
            "bin_start": 9,
            "bin_end": 9.6,
            "count": 0
           },
           {
            "bin_start": 9.6,
            "bin_end": 10.2,
            "count": 3
           },
           {
            "bin_start": 10.2,
            "bin_end": 10.8,
            "count": 0
           },
           {
            "bin_start": 10.8,
            "bin_end": 11.399999999999999,
            "count": 0
           },
           {
            "bin_start": 11.399999999999999,
            "bin_end": 12,
            "count": 1
           }
          ]
         }
        },
        {
         "name": "xind_16_bin",
         "dtype": "int64",
         "stats": {
          "unique_count": 1,
          "nan_count": 0,
          "min": "1",
          "max": "1",
          "histogram": [
           {
            "bin_start": 0.5,
            "bin_end": 0.6,
            "count": 0
           },
           {
            "bin_start": 0.6,
            "bin_end": 0.7,
            "count": 0
           },
           {
            "bin_start": 0.7,
            "bin_end": 0.8,
            "count": 0
           },
           {
            "bin_start": 0.8,
            "bin_end": 0.9,
            "count": 0
           },
           {
            "bin_start": 0.9,
            "bin_end": 1,
            "count": 0
           },
           {
            "bin_start": 1,
            "bin_end": 1.1,
            "count": 5
           },
           {
            "bin_start": 1.1,
            "bin_end": 1.2000000000000002,
            "count": 0
           },
           {
            "bin_start": 1.2000000000000002,
            "bin_end": 1.3,
            "count": 0
           },
           {
            "bin_start": 1.3,
            "bin_end": 1.4,
            "count": 0
           },
           {
            "bin_start": 1.4,
            "bin_end": 1.5,
            "count": 0
           }
          ]
         }
        },
        {
         "name": "xind_17_bin",
         "dtype": "int64",
         "stats": {
          "unique_count": 1,
          "nan_count": 0,
          "min": "0",
          "max": "0",
          "histogram": [
           {
            "bin_start": -0.5,
            "bin_end": -0.4,
            "count": 0
           },
           {
            "bin_start": -0.4,
            "bin_end": -0.3,
            "count": 0
           },
           {
            "bin_start": -0.3,
            "bin_end": -0.19999999999999996,
            "count": 0
           },
           {
            "bin_start": -0.19999999999999996,
            "bin_end": -0.09999999999999998,
            "count": 0
           },
           {
            "bin_start": -0.09999999999999998,
            "bin_end": 0,
            "count": 0
           },
           {
            "bin_start": 0,
            "bin_end": 0.10000000000000009,
            "count": 5
           },
           {
            "bin_start": 0.10000000000000009,
            "bin_end": 0.20000000000000007,
            "count": 0
           },
           {
            "bin_start": 0.20000000000000007,
            "bin_end": 0.30000000000000004,
            "count": 0
           },
           {
            "bin_start": 0.30000000000000004,
            "bin_end": 0.4,
            "count": 0
           },
           {
            "bin_start": 0.4,
            "bin_end": 0.5,
            "count": 0
           }
          ]
         }
        },
        {
         "name": "xind_18_bin",
         "dtype": "int64",
         "stats": {
          "unique_count": 1,
          "nan_count": 0,
          "min": "0",
          "max": "0",
          "histogram": [
           {
            "bin_start": -0.5,
            "bin_end": -0.4,
            "count": 0
           },
           {
            "bin_start": -0.4,
            "bin_end": -0.3,
            "count": 0
           },
           {
            "bin_start": -0.3,
            "bin_end": -0.19999999999999996,
            "count": 0
           },
           {
            "bin_start": -0.19999999999999996,
            "bin_end": -0.09999999999999998,
            "count": 0
           },
           {
            "bin_start": -0.09999999999999998,
            "bin_end": 0,
            "count": 0
           },
           {
            "bin_start": 0,
            "bin_end": 0.10000000000000009,
            "count": 5
           },
           {
            "bin_start": 0.10000000000000009,
            "bin_end": 0.20000000000000007,
            "count": 0
           },
           {
            "bin_start": 0.20000000000000007,
            "bin_end": 0.30000000000000004,
            "count": 0
           },
           {
            "bin_start": 0.30000000000000004,
            "bin_end": 0.4,
            "count": 0
           },
           {
            "bin_start": 0.4,
            "bin_end": 0.5,
            "count": 0
           }
          ]
         }
        },
        {
         "name": "xreg_01",
         "dtype": "float64",
         "stats": {
          "unique_count": 4,
          "nan_count": 0,
          "min": "0.1",
          "max": "0.8",
          "histogram": [
           {
            "bin_start": 0.1,
            "bin_end": 0.17,
            "count": 1
           },
           {
            "bin_start": 0.17,
            "bin_end": 0.24000000000000002,
            "count": 0
           },
           {
            "bin_start": 0.24000000000000002,
            "bin_end": 0.31000000000000005,
            "count": 0
           },
           {
            "bin_start": 0.31000000000000005,
            "bin_end": 0.38,
            "count": 0
           },
           {
            "bin_start": 0.38,
            "bin_end": 0.45000000000000007,
            "count": 2
           },
           {
            "bin_start": 0.45000000000000007,
            "bin_end": 0.52,
            "count": 0
           },
           {
            "bin_start": 0.52,
            "bin_end": 0.5900000000000001,
            "count": 0
           },
           {
            "bin_start": 0.5900000000000001,
            "bin_end": 0.66,
            "count": 1
           },
           {
            "bin_start": 0.66,
            "bin_end": 0.7300000000000001,
            "count": 0
           },
           {
            "bin_start": 0.7300000000000001,
            "bin_end": 0.8,
            "count": 1
           }
          ]
         }
        },
        {
         "name": "xreg_02",
         "dtype": "float64",
         "stats": {
          "unique_count": 2,
          "nan_count": 0,
          "min": "0.0",
          "max": "0.1",
          "histogram": [
           {
            "bin_start": 0,
            "bin_end": 0.01,
            "count": 3
           },
           {
            "bin_start": 0.01,
            "bin_end": 0.02,
            "count": 0
           },
           {
            "bin_start": 0.02,
            "bin_end": 0.03,
            "count": 0
           },
           {
            "bin_start": 0.03,
            "bin_end": 0.04,
            "count": 0
           },
           {
            "bin_start": 0.04,
            "bin_end": 0.05,
            "count": 0
           },
           {
            "bin_start": 0.05,
            "bin_end": 0.06,
            "count": 0
           },
           {
            "bin_start": 0.06,
            "bin_end": 0.07,
            "count": 0
           },
           {
            "bin_start": 0.07,
            "bin_end": 0.08,
            "count": 0
           },
           {
            "bin_start": 0.08,
            "bin_end": 0.09,
            "count": 0
           },
           {
            "bin_start": 0.09,
            "bin_end": 0.1,
            "count": 2
           }
          ]
         }
        },
        {
         "name": "xreg_03",
         "dtype": "float64",
         "stats": {
          "unique_count": 5,
          "nan_count": 0,
          "min": "-1.0",
          "max": "0.6851094803",
          "histogram": [
           {
            "bin_start": -1,
            "bin_end": -0.83148905197,
            "count": 1
           },
           {
            "bin_start": -0.83148905197,
            "bin_end": -0.66297810394,
            "count": 0
           },
           {
            "bin_start": -0.66297810394,
            "bin_end": -0.49446715591,
            "count": 0
           },
           {
            "bin_start": -0.49446715591,
            "bin_end": -0.32595620788,
            "count": 0
           },
           {
            "bin_start": -0.32595620788,
            "bin_end": -0.15744525985000002,
            "count": 0
           },
           {
            "bin_start": -0.15744525985000002,
            "bin_end": 0.011065688179999977,
            "count": 0
           },
           {
            "bin_start": 0.011065688179999977,
            "bin_end": 0.17957663620999997,
            "count": 0
           },
           {
            "bin_start": 0.17957663620999997,
            "bin_end": 0.34808758423999997,
            "count": 0
           },
           {
            "bin_start": 0.34808758423999997,
            "bin_end": 0.51659853227,
            "count": 2
           },
           {
            "bin_start": 0.51659853227,
            "bin_end": 0.6851094803,
            "count": 2
           }
          ]
         }
        },
        {
         "name": "xcar_01_cat",
         "dtype": "int64",
         "stats": {
          "unique_count": 3,
          "nan_count": 0,
          "min": "6",
          "max": "10",
          "histogram": [
           {
            "bin_start": 6,
            "bin_end": 6.4,
            "count": 1
           },
           {
            "bin_start": 6.4,
            "bin_end": 6.8,
            "count": 0
           },
           {
            "bin_start": 6.8,
            "bin_end": 7.2,
            "count": 3
           },
           {
            "bin_start": 7.2,
            "bin_end": 7.6,
            "count": 0
           },
           {
            "bin_start": 7.6,
            "bin_end": 8,
            "count": 0
           },
           {
            "bin_start": 8,
            "bin_end": 8.4,
            "count": 0
           },
           {
            "bin_start": 8.4,
            "bin_end": 8.8,
            "count": 0
           },
           {
            "bin_start": 8.8,
            "bin_end": 9.2,
            "count": 0
           },
           {
            "bin_start": 9.2,
            "bin_end": 9.6,
            "count": 0
           },
           {
            "bin_start": 9.6,
            "bin_end": 10,
            "count": 1
           }
          ]
         }
        },
        {
         "name": "xcar_02_cat",
         "dtype": "int64",
         "stats": {
          "unique_count": 1,
          "nan_count": 0,
          "min": "1",
          "max": "1",
          "histogram": [
           {
            "bin_start": 0.5,
            "bin_end": 0.6,
            "count": 0
           },
           {
            "bin_start": 0.6,
            "bin_end": 0.7,
            "count": 0
           },
           {
            "bin_start": 0.7,
            "bin_end": 0.8,
            "count": 0
           },
           {
            "bin_start": 0.8,
            "bin_end": 0.9,
            "count": 0
           },
           {
            "bin_start": 0.9,
            "bin_end": 1,
            "count": 0
           },
           {
            "bin_start": 1,
            "bin_end": 1.1,
            "count": 5
           },
           {
            "bin_start": 1.1,
            "bin_end": 1.2000000000000002,
            "count": 0
           },
           {
            "bin_start": 1.2000000000000002,
            "bin_end": 1.3,
            "count": 0
           },
           {
            "bin_start": 1.3,
            "bin_end": 1.4,
            "count": 0
           },
           {
            "bin_start": 1.4,
            "bin_end": 1.5,
            "count": 0
           }
          ]
         }
        },
        {
         "name": "xcar_03_cat",
         "dtype": "int64",
         "stats": {
          "unique_count": 3,
          "nan_count": 0,
          "min": "-1",
          "max": "1",
          "histogram": [
           {
            "bin_start": -1,
            "bin_end": -0.8,
            "count": 3
           },
           {
            "bin_start": -0.8,
            "bin_end": -0.6,
            "count": 0
           },
           {
            "bin_start": -0.6,
            "bin_end": -0.3999999999999999,
            "count": 0
           },
           {
            "bin_start": -0.3999999999999999,
            "bin_end": -0.19999999999999996,
            "count": 0
           },
           {
            "bin_start": -0.19999999999999996,
            "bin_end": 0,
            "count": 0
           },
           {
            "bin_start": 0,
            "bin_end": 0.20000000000000018,
            "count": 1
           },
           {
            "bin_start": 0.20000000000000018,
            "bin_end": 0.40000000000000013,
            "count": 0
           },
           {
            "bin_start": 0.40000000000000013,
            "bin_end": 0.6000000000000001,
            "count": 0
           },
           {
            "bin_start": 0.6000000000000001,
            "bin_end": 0.8,
            "count": 0
           },
           {
            "bin_start": 0.8,
            "bin_end": 1,
            "count": 1
           }
          ]
         }
        },
        {
         "name": "xcar_04_cat",
         "dtype": "int64",
         "stats": {
          "unique_count": 1,
          "nan_count": 0,
          "min": "0",
          "max": "0",
          "histogram": [
           {
            "bin_start": -0.5,
            "bin_end": -0.4,
            "count": 0
           },
           {
            "bin_start": -0.4,
            "bin_end": -0.3,
            "count": 0
           },
           {
            "bin_start": -0.3,
            "bin_end": -0.19999999999999996,
            "count": 0
           },
           {
            "bin_start": -0.19999999999999996,
            "bin_end": -0.09999999999999998,
            "count": 0
           },
           {
            "bin_start": -0.09999999999999998,
            "bin_end": 0,
            "count": 0
           },
           {
            "bin_start": 0,
            "bin_end": 0.10000000000000009,
            "count": 5
           },
           {
            "bin_start": 0.10000000000000009,
            "bin_end": 0.20000000000000007,
            "count": 0
           },
           {
            "bin_start": 0.20000000000000007,
            "bin_end": 0.30000000000000004,
            "count": 0
           },
           {
            "bin_start": 0.30000000000000004,
            "bin_end": 0.4,
            "count": 0
           },
           {
            "bin_start": 0.4,
            "bin_end": 0.5,
            "count": 0
           }
          ]
         }
        },
        {
         "name": "xcar_05_cat",
         "dtype": "int64",
         "stats": {
          "unique_count": 3,
          "nan_count": 0,
          "min": "-1",
          "max": "1",
          "histogram": [
           {
            "bin_start": -1,
            "bin_end": -0.8,
            "count": 2
           },
           {
            "bin_start": -0.8,
            "bin_end": -0.6,
            "count": 0
           },
           {
            "bin_start": -0.6,
            "bin_end": -0.3999999999999999,
            "count": 0
           },
           {
            "bin_start": -0.3999999999999999,
            "bin_end": -0.19999999999999996,
            "count": 0
           },
           {
            "bin_start": -0.19999999999999996,
            "bin_end": 0,
            "count": 0
           },
           {
            "bin_start": 0,
            "bin_end": 0.20000000000000018,
            "count": 1
           },
           {
            "bin_start": 0.20000000000000018,
            "bin_end": 0.40000000000000013,
            "count": 0
           },
           {
            "bin_start": 0.40000000000000013,
            "bin_end": 0.6000000000000001,
            "count": 0
           },
           {
            "bin_start": 0.6000000000000001,
            "bin_end": 0.8,
            "count": 0
           },
           {
            "bin_start": 0.8,
            "bin_end": 1,
            "count": 2
           }
          ]
         }
        },
        {
         "name": "xcar_06_cat",
         "dtype": "int64",
         "stats": {
          "unique_count": 5,
          "nan_count": 0,
          "min": "0",
          "max": "14",
          "histogram": [
           {
            "bin_start": 0,
            "bin_end": 1.4,
            "count": 2
           },
           {
            "bin_start": 1.4,
            "bin_end": 2.8,
            "count": 0
           },
           {
            "bin_start": 2.8,
            "bin_end": 4.199999999999999,
            "count": 0
           },
           {
            "bin_start": 4.199999999999999,
            "bin_end": 5.6,
            "count": 0
           },
           {
            "bin_start": 5.6,
            "bin_end": 7,
            "count": 0
           },
           {
            "bin_start": 7,
            "bin_end": 8.399999999999999,
            "count": 1
           },
           {
            "bin_start": 8.399999999999999,
            "bin_end": 9.799999999999999,
            "count": 0
           },
           {
            "bin_start": 9.799999999999999,
            "bin_end": 11.2,
            "count": 1
           },
           {
            "bin_start": 11.2,
            "bin_end": 12.6,
            "count": 0
           },
           {
            "bin_start": 12.6,
            "bin_end": 14,
            "count": 1
           }
          ]
         }
        },
        {
         "name": "xcar_07_cat",
         "dtype": "int64",
         "stats": {
          "unique_count": 1,
          "nan_count": 0,
          "min": "1",
          "max": "1",
          "histogram": [
           {
            "bin_start": 0.5,
            "bin_end": 0.6,
            "count": 0
           },
           {
            "bin_start": 0.6,
            "bin_end": 0.7,
            "count": 0
           },
           {
            "bin_start": 0.7,
            "bin_end": 0.8,
            "count": 0
           },
           {
            "bin_start": 0.8,
            "bin_end": 0.9,
            "count": 0
           },
           {
            "bin_start": 0.9,
            "bin_end": 1,
            "count": 0
           },
           {
            "bin_start": 1,
            "bin_end": 1.1,
            "count": 5
           },
           {
            "bin_start": 1.1,
            "bin_end": 1.2000000000000002,
            "count": 0
           },
           {
            "bin_start": 1.2000000000000002,
            "bin_end": 1.3,
            "count": 0
           },
           {
            "bin_start": 1.3,
            "bin_end": 1.4,
            "count": 0
           },
           {
            "bin_start": 1.4,
            "bin_end": 1.5,
            "count": 0
           }
          ]
         }
        },
        {
         "name": "xcar_08_cat",
         "dtype": "int64",
         "stats": {
          "unique_count": 1,
          "nan_count": 0,
          "min": "1",
          "max": "1",
          "histogram": [
           {
            "bin_start": 0.5,
            "bin_end": 0.6,
            "count": 0
           },
           {
            "bin_start": 0.6,
            "bin_end": 0.7,
            "count": 0
           },
           {
            "bin_start": 0.7,
            "bin_end": 0.8,
            "count": 0
           },
           {
            "bin_start": 0.8,
            "bin_end": 0.9,
            "count": 0
           },
           {
            "bin_start": 0.9,
            "bin_end": 1,
            "count": 0
           },
           {
            "bin_start": 1,
            "bin_end": 1.1,
            "count": 5
           },
           {
            "bin_start": 1.1,
            "bin_end": 1.2000000000000002,
            "count": 0
           },
           {
            "bin_start": 1.2000000000000002,
            "bin_end": 1.3,
            "count": 0
           },
           {
            "bin_start": 1.3,
            "bin_end": 1.4,
            "count": 0
           },
           {
            "bin_start": 1.4,
            "bin_end": 1.5,
            "count": 0
           }
          ]
         }
        },
        {
         "name": "xcar_09_cat",
         "dtype": "int64",
         "stats": {
          "unique_count": 2,
          "nan_count": 0,
          "min": "0",
          "max": "2",
          "histogram": [
           {
            "bin_start": 0,
            "bin_end": 0.2,
            "count": 3
           },
           {
            "bin_start": 0.2,
            "bin_end": 0.4,
            "count": 0
           },
           {
            "bin_start": 0.4,
            "bin_end": 0.6000000000000001,
            "count": 0
           },
           {
            "bin_start": 0.6000000000000001,
            "bin_end": 0.8,
            "count": 0
           },
           {
            "bin_start": 0.8,
            "bin_end": 1,
            "count": 0
           },
           {
            "bin_start": 1,
            "bin_end": 1.2000000000000002,
            "count": 0
           },
           {
            "bin_start": 1.2000000000000002,
            "bin_end": 1.4000000000000001,
            "count": 0
           },
           {
            "bin_start": 1.4000000000000001,
            "bin_end": 1.6,
            "count": 0
           },
           {
            "bin_start": 1.6,
            "bin_end": 1.8,
            "count": 0
           },
           {
            "bin_start": 1.8,
            "bin_end": 2,
            "count": 2
           }
          ]
         }
        },
        {
         "name": "xcar_10_cat",
         "dtype": "int64",
         "stats": {
          "unique_count": 1,
          "nan_count": 0,
          "min": "1",
          "max": "1",
          "histogram": [
           {
            "bin_start": 0.5,
            "bin_end": 0.6,
            "count": 0
           },
           {
            "bin_start": 0.6,
            "bin_end": 0.7,
            "count": 0
           },
           {
            "bin_start": 0.7,
            "bin_end": 0.8,
            "count": 0
           },
           {
            "bin_start": 0.8,
            "bin_end": 0.9,
            "count": 0
           },
           {
            "bin_start": 0.9,
            "bin_end": 1,
            "count": 0
           },
           {
            "bin_start": 1,
            "bin_end": 1.1,
            "count": 5
           },
           {
            "bin_start": 1.1,
            "bin_end": 1.2000000000000002,
            "count": 0
           },
           {
            "bin_start": 1.2000000000000002,
            "bin_end": 1.3,
            "count": 0
           },
           {
            "bin_start": 1.3,
            "bin_end": 1.4,
            "count": 0
           },
           {
            "bin_start": 1.4,
            "bin_end": 1.5,
            "count": 0
           }
          ]
         }
        },
        {
         "name": "xcar_11_cat",
         "dtype": "int64",
         "stats": {
          "unique_count": 5,
          "nan_count": 0,
          "min": "42",
          "max": "104",
          "histogram": [
           {
            "bin_start": 42,
            "bin_end": 48.2,
            "count": 1
           },
           {
            "bin_start": 48.2,
            "bin_end": 54.4,
            "count": 0
           },
           {
            "bin_start": 54.4,
            "bin_end": 60.6,
            "count": 0
           },
           {
            "bin_start": 60.6,
            "bin_end": 66.8,
            "count": 0
           },
           {
            "bin_start": 66.8,
            "bin_end": 73,
            "count": 0
           },
           {
            "bin_start": 73,
            "bin_end": 79.2,
            "count": 0
           },
           {
            "bin_start": 79.2,
            "bin_end": 85.4,
            "count": 1
           },
           {
            "bin_start": 85.4,
            "bin_end": 91.6,
            "count": 0
           },
           {
            "bin_start": 91.6,
            "bin_end": 97.80000000000001,
            "count": 1
           },
           {
            "bin_start": 97.80000000000001,
            "bin_end": 104,
            "count": 2
           }
          ]
         }
        },
        {
         "name": "xcar_11",
         "dtype": "int64",
         "stats": {
          "unique_count": 2,
          "nan_count": 0,
          "min": "2",
          "max": "3",
          "histogram": [
           {
            "bin_start": 2,
            "bin_end": 2.1,
            "count": 3
           },
           {
            "bin_start": 2.1,
            "bin_end": 2.2,
            "count": 0
           },
           {
            "bin_start": 2.2,
            "bin_end": 2.3,
            "count": 0
           },
           {
            "bin_start": 2.3,
            "bin_end": 2.4,
            "count": 0
           },
           {
            "bin_start": 2.4,
            "bin_end": 2.5,
            "count": 0
           },
           {
            "bin_start": 2.5,
            "bin_end": 2.6,
            "count": 0
           },
           {
            "bin_start": 2.6,
            "bin_end": 2.7,
            "count": 0
           },
           {
            "bin_start": 2.7,
            "bin_end": 2.8,
            "count": 0
           },
           {
            "bin_start": 2.8,
            "bin_end": 2.9,
            "count": 0
           },
           {
            "bin_start": 2.9,
            "bin_end": 3,
            "count": 2
           }
          ]
         }
        },
        {
         "name": "xcar_12",
         "dtype": "float64",
         "stats": {
          "unique_count": 2,
          "nan_count": 0,
          "min": "0.316227766",
          "max": "0.4",
          "histogram": [
           {
            "bin_start": 0.316227766,
            "bin_end": 0.32460498940000004,
            "count": 2
           },
           {
            "bin_start": 0.32460498940000004,
            "bin_end": 0.3329822128,
            "count": 0
           },
           {
            "bin_start": 0.3329822128,
            "bin_end": 0.34135943620000003,
            "count": 0
           },
           {
            "bin_start": 0.34135943620000003,
            "bin_end": 0.3497366596,
            "count": 0
           },
           {
            "bin_start": 0.3497366596,
            "bin_end": 0.358113883,
            "count": 0
           },
           {
            "bin_start": 0.358113883,
            "bin_end": 0.36649110640000004,
            "count": 0
           },
           {
            "bin_start": 0.36649110640000004,
            "bin_end": 0.3748683298,
            "count": 0
           },
           {
            "bin_start": 0.3748683298,
            "bin_end": 0.38324555320000003,
            "count": 0
           },
           {
            "bin_start": 0.38324555320000003,
            "bin_end": 0.3916227766,
            "count": 0
           },
           {
            "bin_start": 0.3916227766,
            "bin_end": 0.4,
            "count": 3
           }
          ]
         }
        },
        {
         "name": "xcar_13",
         "dtype": "float64",
         "stats": {
          "unique_count": 5,
          "nan_count": 0,
          "min": "0.6331575079",
          "max": "1.0164453537",
          "histogram": [
           {
            "bin_start": 0.6331575079,
            "bin_end": 0.67148629248,
            "count": 1
           },
           {
            "bin_start": 0.67148629248,
            "bin_end": 0.70981507706,
            "count": 0
           },
           {
            "bin_start": 0.70981507706,
            "bin_end": 0.74814386164,
            "count": 1
           },
           {
            "bin_start": 0.74814386164,
            "bin_end": 0.78647264622,
            "count": 1
           },
           {
            "bin_start": 0.78647264622,
            "bin_end": 0.8248014308,
            "count": 1
           },
           {
            "bin_start": 0.8248014308,
            "bin_end": 0.86313021538,
            "count": 0
           },
           {
            "bin_start": 0.86313021538,
            "bin_end": 0.90145899996,
            "count": 0
           },
           {
            "bin_start": 0.90145899996,
            "bin_end": 0.93978778454,
            "count": 0
           },
           {
            "bin_start": 0.93978778454,
            "bin_end": 0.97811656912,
            "count": 0
           },
           {
            "bin_start": 0.97811656912,
            "bin_end": 1.0164453537,
            "count": 1
           }
          ]
         }
        },
        {
         "name": "xcar_14",
         "dtype": "float64",
         "stats": {
          "unique_count": 5,
          "nan_count": 0,
          "min": "-1.0",
          "max": "0.4256759331",
          "histogram": [
           {
            "bin_start": -1,
            "bin_end": -0.85743240669,
            "count": 1
           },
           {
            "bin_start": -0.85743240669,
            "bin_end": -0.71486481338,
            "count": 0
           },
           {
            "bin_start": -0.71486481338,
            "bin_end": -0.5722972200700001,
            "count": 0
           },
           {
            "bin_start": -0.5722972200700001,
            "bin_end": -0.42972962676000004,
            "count": 0
           },
           {
            "bin_start": -0.42972962676000004,
            "bin_end": -0.28716203345,
            "count": 0
           },
           {
            "bin_start": -0.28716203345,
            "bin_end": -0.1445944401400001,
            "count": 0
           },
           {
            "bin_start": -0.1445944401400001,
            "bin_end": -0.0020268468300000952,
            "count": 0
           },
           {
            "bin_start": -0.0020268468300000952,
            "bin_end": 0.14054074647999992,
            "count": 0
           },
           {
            "bin_start": 0.14054074647999992,
            "bin_end": 0.28310833978999983,
            "count": 0
           },
           {
            "bin_start": 0.28310833978999983,
            "bin_end": 0.4256759331,
            "count": 4
           }
          ]
         }
        },
        {
         "name": "xcar_15",
         "dtype": "float64",
         "stats": {
          "unique_count": 5,
          "nan_count": 0,
          "min": "2.8284271247",
          "max": "3.7416573868",
          "histogram": [
           {
            "bin_start": 2.8284271247,
            "bin_end": 2.91975015091,
            "count": 1
           },
           {
            "bin_start": 2.91975015091,
            "bin_end": 3.01107317712,
            "count": 1
           },
           {
            "bin_start": 3.01107317712,
            "bin_end": 3.10239620333,
            "count": 0
           },
           {
            "bin_start": 3.10239620333,
            "bin_end": 3.19371922954,
            "count": 0
           },
           {
            "bin_start": 3.19371922954,
            "bin_end": 3.28504225575,
            "count": 0
           },
           {
            "bin_start": 3.28504225575,
            "bin_end": 3.37636528196,
            "count": 0
           },
           {
            "bin_start": 3.37636528196,
            "bin_end": 3.46768830817,
            "count": 1
           },
           {
            "bin_start": 3.46768830817,
            "bin_end": 3.55901133438,
            "count": 0
           },
           {
            "bin_start": 3.55901133438,
            "bin_end": 3.65033436059,
            "count": 1
           },
           {
            "bin_start": 3.65033436059,
            "bin_end": 3.7416573868,
            "count": 1
           }
          ]
         }
        },
        {
         "name": "xcalc_01",
         "dtype": "float64",
         "stats": {
          "unique_count": 5,
          "nan_count": 0,
          "min": "0.0",
          "max": "0.9",
          "histogram": [
           {
            "bin_start": 0,
            "bin_end": 0.09,
            "count": 1
           },
           {
            "bin_start": 0.09,
            "bin_end": 0.18,
            "count": 0
           },
           {
            "bin_start": 0.18,
            "bin_end": 0.27,
            "count": 1
           },
           {
            "bin_start": 0.27,
            "bin_end": 0.36,
            "count": 0
           },
           {
            "bin_start": 0.36,
            "bin_end": 0.44999999999999996,
            "count": 1
           },
           {
            "bin_start": 0.44999999999999996,
            "bin_end": 0.54,
            "count": 0
           },
           {
            "bin_start": 0.54,
            "bin_end": 0.63,
            "count": 0
           },
           {
            "bin_start": 0.63,
            "bin_end": 0.72,
            "count": 1
           },
           {
            "bin_start": 0.72,
            "bin_end": 0.8099999999999999,
            "count": 0
           },
           {
            "bin_start": 0.8099999999999999,
            "bin_end": 0.9,
            "count": 1
           }
          ]
         }
        },
        {
         "name": "xcalc_02",
         "dtype": "float64",
         "stats": {
          "unique_count": 5,
          "nan_count": 0,
          "min": "0.3",
          "max": "0.9",
          "histogram": [
           {
            "bin_start": 0.3,
            "bin_end": 0.36,
            "count": 1
           },
           {
            "bin_start": 0.36,
            "bin_end": 0.42000000000000004,
            "count": 0
           },
           {
            "bin_start": 0.42000000000000004,
            "bin_end": 0.48000000000000004,
            "count": 0
           },
           {
            "bin_start": 0.48000000000000004,
            "bin_end": 0.54,
            "count": 1
           },
           {
            "bin_start": 0.54,
            "bin_end": 0.6000000000000001,
            "count": 1
           },
           {
            "bin_start": 0.6000000000000001,
            "bin_end": 0.6600000000000001,
            "count": 0
           },
           {
            "bin_start": 0.6600000000000001,
            "bin_end": 0.7200000000000001,
            "count": 1
           },
           {
            "bin_start": 0.7200000000000001,
            "bin_end": 0.78,
            "count": 0
           },
           {
            "bin_start": 0.78,
            "bin_end": 0.8400000000000001,
            "count": 0
           },
           {
            "bin_start": 0.8400000000000001,
            "bin_end": 0.9,
            "count": 1
           }
          ]
         }
        },
        {
         "name": "xcalc_03",
         "dtype": "float64",
         "stats": {
          "unique_count": 5,
          "nan_count": 0,
          "min": "0.0",
          "max": "0.9",
          "histogram": [
           {
            "bin_start": 0,
            "bin_end": 0.09,
            "count": 1
           },
           {
            "bin_start": 0.09,
            "bin_end": 0.18,
            "count": 0
           },
           {
            "bin_start": 0.18,
            "bin_end": 0.27,
            "count": 1
           },
           {
            "bin_start": 0.27,
            "bin_end": 0.36,
            "count": 0
           },
           {
            "bin_start": 0.36,
            "bin_end": 0.44999999999999996,
            "count": 1
           },
           {
            "bin_start": 0.44999999999999996,
            "bin_end": 0.54,
            "count": 0
           },
           {
            "bin_start": 0.54,
            "bin_end": 0.63,
            "count": 1
           },
           {
            "bin_start": 0.63,
            "bin_end": 0.72,
            "count": 0
           },
           {
            "bin_start": 0.72,
            "bin_end": 0.8099999999999999,
            "count": 0
           },
           {
            "bin_start": 0.8099999999999999,
            "bin_end": 0.9,
            "count": 1
           }
          ]
         }
        },
        {
         "name": "xcalc_04",
         "dtype": "int64",
         "stats": {
          "unique_count": 4,
          "nan_count": 0,
          "min": "0",
          "max": "4",
          "histogram": [
           {
            "bin_start": 0,
            "bin_end": 0.4,
            "count": 1
           },
           {
            "bin_start": 0.4,
            "bin_end": 0.8,
            "count": 0
           },
           {
            "bin_start": 0.8,
            "bin_end": 1.2000000000000002,
            "count": 0
           },
           {
            "bin_start": 1.2000000000000002,
            "bin_end": 1.6,
            "count": 0
           },
           {
            "bin_start": 1.6,
            "bin_end": 2,
            "count": 0
           },
           {
            "bin_start": 2,
            "bin_end": 2.4000000000000004,
            "count": 1
           },
           {
            "bin_start": 2.4000000000000004,
            "bin_end": 2.8000000000000003,
            "count": 0
           },
           {
            "bin_start": 2.8000000000000003,
            "bin_end": 3.2,
            "count": 2
           },
           {
            "bin_start": 3.2,
            "bin_end": 3.6,
            "count": 0
           },
           {
            "bin_start": 3.6,
            "bin_end": 4,
            "count": 1
           }
          ]
         }
        },
        {
         "name": "xcalc_05",
         "dtype": "int64",
         "stats": {
          "unique_count": 4,
          "nan_count": 0,
          "min": "0",
          "max": "3",
          "histogram": [
           {
            "bin_start": 0,
            "bin_end": 0.3,
            "count": 1
           },
           {
            "bin_start": 0.3,
            "bin_end": 0.6,
            "count": 0
           },
           {
            "bin_start": 0.6,
            "bin_end": 0.8999999999999999,
            "count": 0
           },
           {
            "bin_start": 0.8999999999999999,
            "bin_end": 1.2,
            "count": 2
           },
           {
            "bin_start": 1.2,
            "bin_end": 1.5,
            "count": 0
           },
           {
            "bin_start": 1.5,
            "bin_end": 1.7999999999999998,
            "count": 0
           },
           {
            "bin_start": 1.7999999999999998,
            "bin_end": 2.1,
            "count": 1
           },
           {
            "bin_start": 2.1,
            "bin_end": 2.4,
            "count": 0
           },
           {
            "bin_start": 2.4,
            "bin_end": 2.6999999999999997,
            "count": 0
           },
           {
            "bin_start": 2.6999999999999997,
            "bin_end": 3,
            "count": 1
           }
          ]
         }
        },
        {
         "name": "xcalc_06",
         "dtype": "int64",
         "stats": {
          "unique_count": 4,
          "nan_count": 0,
          "min": "6",
          "max": "10",
          "histogram": [
           {
            "bin_start": 6,
            "bin_end": 6.4,
            "count": 1
           },
           {
            "bin_start": 6.4,
            "bin_end": 6.8,
            "count": 0
           },
           {
            "bin_start": 6.8,
            "bin_end": 7.2,
            "count": 1
           },
           {
            "bin_start": 7.2,
            "bin_end": 7.6,
            "count": 0
           },
           {
            "bin_start": 7.6,
            "bin_end": 8,
            "count": 0
           },
           {
            "bin_start": 8,
            "bin_end": 8.4,
            "count": 0
           },
           {
            "bin_start": 8.4,
            "bin_end": 8.8,
            "count": 0
           },
           {
            "bin_start": 8.8,
            "bin_end": 9.2,
            "count": 2
           },
           {
            "bin_start": 9.2,
            "bin_end": 9.6,
            "count": 0
           },
           {
            "bin_start": 9.6,
            "bin_end": 10,
            "count": 1
           }
          ]
         }
        },
        {
         "name": "xcalc_07",
         "dtype": "int64",
         "stats": {
          "unique_count": 2,
          "nan_count": 0,
          "min": "3",
          "max": "5",
          "histogram": [
           {
            "bin_start": 3,
            "bin_end": 3.2,
            "count": 3
           },
           {
            "bin_start": 3.2,
            "bin_end": 3.4,
            "count": 0
           },
           {
            "bin_start": 3.4,
            "bin_end": 3.6,
            "count": 0
           },
           {
            "bin_start": 3.6,
            "bin_end": 3.8,
            "count": 0
           },
           {
            "bin_start": 3.8,
            "bin_end": 4,
            "count": 0
           },
           {
            "bin_start": 4,
            "bin_end": 4.2,
            "count": 0
           },
           {
            "bin_start": 4.2,
            "bin_end": 4.4,
            "count": 0
           },
           {
            "bin_start": 4.4,
            "bin_end": 4.6,
            "count": 0
           },
           {
            "bin_start": 4.6,
            "bin_end": 4.8,
            "count": 0
           },
           {
            "bin_start": 4.8,
            "bin_end": 5,
            "count": 2
           }
          ]
         }
        },
        {
         "name": "xcalc_08",
         "dtype": "int64",
         "stats": {
          "unique_count": 3,
          "nan_count": 0,
          "min": "4",
          "max": "10",
          "histogram": [
           {
            "bin_start": 4,
            "bin_end": 4.6,
            "count": 1
           },
           {
            "bin_start": 4.6,
            "bin_end": 5.2,
            "count": 0
           },
           {
            "bin_start": 5.2,
            "bin_end": 5.8,
            "count": 0
           },
           {
            "bin_start": 5.8,
            "bin_end": 6.4,
            "count": 0
           },
           {
            "bin_start": 6.4,
            "bin_end": 7,
            "count": 0
           },
           {
            "bin_start": 7,
            "bin_end": 7.6,
            "count": 0
           },
           {
            "bin_start": 7.6,
            "bin_end": 8.2,
            "count": 0
           },
           {
            "bin_start": 8.2,
            "bin_end": 8.8,
            "count": 0
           },
           {
            "bin_start": 8.8,
            "bin_end": 9.399999999999999,
            "count": 2
           },
           {
            "bin_start": 9.399999999999999,
            "bin_end": 10,
            "count": 2
           }
          ]
         }
        },
        {
         "name": "xcalc_09",
         "dtype": "int64",
         "stats": {
          "unique_count": 3,
          "nan_count": 0,
          "min": "1",
          "max": "3",
          "histogram": [
           {
            "bin_start": 1,
            "bin_end": 1.2,
            "count": 1
           },
           {
            "bin_start": 1.2,
            "bin_end": 1.4,
            "count": 0
           },
           {
            "bin_start": 1.4,
            "bin_end": 1.6,
            "count": 0
           },
           {
            "bin_start": 1.6,
            "bin_end": 1.8,
            "count": 0
           },
           {
            "bin_start": 1.8,
            "bin_end": 2,
            "count": 0
           },
           {
            "bin_start": 2,
            "bin_end": 2.2,
            "count": 3
           },
           {
            "bin_start": 2.2,
            "bin_end": 2.4000000000000004,
            "count": 0
           },
           {
            "bin_start": 2.4000000000000004,
            "bin_end": 2.6,
            "count": 0
           },
           {
            "bin_start": 2.6,
            "bin_end": 2.8,
            "count": 0
           },
           {
            "bin_start": 2.8,
            "bin_end": 3,
            "count": 1
           }
          ]
         }
        },
        {
         "name": "xcalc_10",
         "dtype": "int64",
         "stats": {
          "unique_count": 5,
          "nan_count": 0,
          "min": "0",
          "max": "11",
          "histogram": [
           {
            "bin_start": 0,
            "bin_end": 1.1,
            "count": 1
           },
           {
            "bin_start": 1.1,
            "bin_end": 2.2,
            "count": 0
           },
           {
            "bin_start": 2.2,
            "bin_end": 3.3000000000000003,
            "count": 0
           },
           {
            "bin_start": 3.3000000000000003,
            "bin_end": 4.4,
            "count": 1
           },
           {
            "bin_start": 4.4,
            "bin_end": 5.5,
            "count": 0
           },
           {
            "bin_start": 5.5,
            "bin_end": 6.6000000000000005,
            "count": 1
           },
           {
            "bin_start": 6.6000000000000005,
            "bin_end": 7.700000000000001,
            "count": 0
           },
           {
            "bin_start": 7.700000000000001,
            "bin_end": 8.8,
            "count": 0
           },
           {
            "bin_start": 8.8,
            "bin_end": 9.9,
            "count": 1
           },
           {
            "bin_start": 9.9,
            "bin_end": 11,
            "count": 1
           }
          ]
         }
        },
        {
         "name": "xcalc_11",
         "dtype": "int64",
         "stats": {
          "unique_count": 4,
          "nan_count": 0,
          "min": "3",
          "max": "9",
          "histogram": [
           {
            "bin_start": 3,
            "bin_end": 3.6,
            "count": 1
           },
           {
            "bin_start": 3.6,
            "bin_end": 4.2,
            "count": 2
           },
           {
            "bin_start": 4.2,
            "bin_end": 4.8,
            "count": 0
           },
           {
            "bin_start": 4.8,
            "bin_end": 5.4,
            "count": 1
           },
           {
            "bin_start": 5.4,
            "bin_end": 6,
            "count": 0
           },
           {
            "bin_start": 6,
            "bin_end": 6.6,
            "count": 0
           },
           {
            "bin_start": 6.6,
            "bin_end": 7.2,
            "count": 0
           },
           {
            "bin_start": 7.2,
            "bin_end": 7.8,
            "count": 0
           },
           {
            "bin_start": 7.8,
            "bin_end": 8.399999999999999,
            "count": 0
           },
           {
            "bin_start": 8.399999999999999,
            "bin_end": 9,
            "count": 1
           }
          ]
         }
        },
        {
         "name": "xcalc_12",
         "dtype": "int64",
         "stats": {
          "unique_count": 3,
          "nan_count": 0,
          "min": "0",
          "max": "3",
          "histogram": [
           {
            "bin_start": 0,
            "bin_end": 0.3,
            "count": 3
           },
           {
            "bin_start": 0.3,
            "bin_end": 0.6,
            "count": 0
           },
           {
            "bin_start": 0.6,
            "bin_end": 0.8999999999999999,
            "count": 0
           },
           {
            "bin_start": 0.8999999999999999,
            "bin_end": 1.2,
            "count": 0
           },
           {
            "bin_start": 1.2,
            "bin_end": 1.5,
            "count": 0
           },
           {
            "bin_start": 1.5,
            "bin_end": 1.7999999999999998,
            "count": 0
           },
           {
            "bin_start": 1.7999999999999998,
            "bin_end": 2.1,
            "count": 1
           },
           {
            "bin_start": 2.1,
            "bin_end": 2.4,
            "count": 0
           },
           {
            "bin_start": 2.4,
            "bin_end": 2.6999999999999997,
            "count": 0
           },
           {
            "bin_start": 2.6999999999999997,
            "bin_end": 3,
            "count": 1
           }
          ]
         }
        },
        {
         "name": "xcalc_13",
         "dtype": "int64",
         "stats": {
          "unique_count": 4,
          "nan_count": 0,
          "min": "1",
          "max": "4",
          "histogram": [
           {
            "bin_start": 1,
            "bin_end": 1.3,
            "count": 1
           },
           {
            "bin_start": 1.3,
            "bin_end": 1.6,
            "count": 0
           },
           {
            "bin_start": 1.6,
            "bin_end": 1.9,
            "count": 0
           },
           {
            "bin_start": 1.9,
            "bin_end": 2.2,
            "count": 2
           },
           {
            "bin_start": 2.2,
            "bin_end": 2.5,
            "count": 0
           },
           {
            "bin_start": 2.5,
            "bin_end": 2.8,
            "count": 0
           },
           {
            "bin_start": 2.8,
            "bin_end": 3.1,
            "count": 1
           },
           {
            "bin_start": 3.1,
            "bin_end": 3.4,
            "count": 0
           },
           {
            "bin_start": 3.4,
            "bin_end": 3.6999999999999997,
            "count": 0
           },
           {
            "bin_start": 3.6999999999999997,
            "bin_end": 4,
            "count": 1
           }
          ]
         }
        },
        {
         "name": "xcalc_14",
         "dtype": "int64",
         "stats": {
          "unique_count": 4,
          "nan_count": 0,
          "min": "2",
          "max": "8",
          "histogram": [
           {
            "bin_start": 2,
            "bin_end": 2.6,
            "count": 1
           },
           {
            "bin_start": 2.6,
            "bin_end": 3.2,
            "count": 0
           },
           {
            "bin_start": 3.2,
            "bin_end": 3.8,
            "count": 0
           },
           {
            "bin_start": 3.8,
            "bin_end": 4.4,
            "count": 0
           },
           {
            "bin_start": 4.4,
            "bin_end": 5,
            "count": 0
           },
           {
            "bin_start": 5,
            "bin_end": 5.6,
            "count": 0
           },
           {
            "bin_start": 5.6,
            "bin_end": 6.2,
            "count": 1
           },
           {
            "bin_start": 6.2,
            "bin_end": 6.8,
            "count": 0
           },
           {
            "bin_start": 6.8,
            "bin_end": 7.3999999999999995,
            "count": 1
           },
           {
            "bin_start": 7.3999999999999995,
            "bin_end": 8,
            "count": 2
           }
          ]
         }
        },
        {
         "name": "xcalc_15_bin",
         "dtype": "int64",
         "stats": {
          "unique_count": 1,
          "nan_count": 0,
          "min": "0",
          "max": "0",
          "histogram": [
           {
            "bin_start": -0.5,
            "bin_end": -0.4,
            "count": 0
           },
           {
            "bin_start": -0.4,
            "bin_end": -0.3,
            "count": 0
           },
           {
            "bin_start": -0.3,
            "bin_end": -0.19999999999999996,
            "count": 0
           },
           {
            "bin_start": -0.19999999999999996,
            "bin_end": -0.09999999999999998,
            "count": 0
           },
           {
            "bin_start": -0.09999999999999998,
            "bin_end": 0,
            "count": 0
           },
           {
            "bin_start": 0,
            "bin_end": 0.10000000000000009,
            "count": 5
           },
           {
            "bin_start": 0.10000000000000009,
            "bin_end": 0.20000000000000007,
            "count": 0
           },
           {
            "bin_start": 0.20000000000000007,
            "bin_end": 0.30000000000000004,
            "count": 0
           },
           {
            "bin_start": 0.30000000000000004,
            "bin_end": 0.4,
            "count": 0
           },
           {
            "bin_start": 0.4,
            "bin_end": 0.5,
            "count": 0
           }
          ]
         }
        },
        {
         "name": "xcalc_16_bin",
         "dtype": "int64",
         "stats": {
          "unique_count": 2,
          "nan_count": 0,
          "min": "0",
          "max": "1",
          "histogram": [
           {
            "bin_start": 0,
            "bin_end": 0.1,
            "count": 3
           },
           {
            "bin_start": 0.1,
            "bin_end": 0.2,
            "count": 0
           },
           {
            "bin_start": 0.2,
            "bin_end": 0.30000000000000004,
            "count": 0
           },
           {
            "bin_start": 0.30000000000000004,
            "bin_end": 0.4,
            "count": 0
           },
           {
            "bin_start": 0.4,
            "bin_end": 0.5,
            "count": 0
           },
           {
            "bin_start": 0.5,
            "bin_end": 0.6000000000000001,
            "count": 0
           },
           {
            "bin_start": 0.6000000000000001,
            "bin_end": 0.7000000000000001,
            "count": 0
           },
           {
            "bin_start": 0.7000000000000001,
            "bin_end": 0.8,
            "count": 0
           },
           {
            "bin_start": 0.8,
            "bin_end": 0.9,
            "count": 0
           },
           {
            "bin_start": 0.9,
            "bin_end": 1,
            "count": 2
           }
          ]
         }
        },
        {
         "name": "xcalc_17_bin",
         "dtype": "int64",
         "stats": {
          "unique_count": 2,
          "nan_count": 0,
          "min": "0",
          "max": "1",
          "histogram": [
           {
            "bin_start": 0,
            "bin_end": 0.1,
            "count": 3
           },
           {
            "bin_start": 0.1,
            "bin_end": 0.2,
            "count": 0
           },
           {
            "bin_start": 0.2,
            "bin_end": 0.30000000000000004,
            "count": 0
           },
           {
            "bin_start": 0.30000000000000004,
            "bin_end": 0.4,
            "count": 0
           },
           {
            "bin_start": 0.4,
            "bin_end": 0.5,
            "count": 0
           },
           {
            "bin_start": 0.5,
            "bin_end": 0.6000000000000001,
            "count": 0
           },
           {
            "bin_start": 0.6000000000000001,
            "bin_end": 0.7000000000000001,
            "count": 0
           },
           {
            "bin_start": 0.7000000000000001,
            "bin_end": 0.8,
            "count": 0
           },
           {
            "bin_start": 0.8,
            "bin_end": 0.9,
            "count": 0
           },
           {
            "bin_start": 0.9,
            "bin_end": 1,
            "count": 2
           }
          ]
         }
        },
        {
         "name": "xcalc_18_bin",
         "dtype": "int64",
         "stats": {
          "unique_count": 2,
          "nan_count": 0,
          "min": "0",
          "max": "1",
          "histogram": [
           {
            "bin_start": 0,
            "bin_end": 0.1,
            "count": 3
           },
           {
            "bin_start": 0.1,
            "bin_end": 0.2,
            "count": 0
           },
           {
            "bin_start": 0.2,
            "bin_end": 0.30000000000000004,
            "count": 0
           },
           {
            "bin_start": 0.30000000000000004,
            "bin_end": 0.4,
            "count": 0
           },
           {
            "bin_start": 0.4,
            "bin_end": 0.5,
            "count": 0
           },
           {
            "bin_start": 0.5,
            "bin_end": 0.6000000000000001,
            "count": 0
           },
           {
            "bin_start": 0.6000000000000001,
            "bin_end": 0.7000000000000001,
            "count": 0
           },
           {
            "bin_start": 0.7000000000000001,
            "bin_end": 0.8,
            "count": 0
           },
           {
            "bin_start": 0.8,
            "bin_end": 0.9,
            "count": 0
           },
           {
            "bin_start": 0.9,
            "bin_end": 1,
            "count": 2
           }
          ]
         }
        },
        {
         "name": "xcalc_19_bin",
         "dtype": "int64",
         "stats": {
          "unique_count": 2,
          "nan_count": 0,
          "min": "0",
          "max": "1",
          "histogram": [
           {
            "bin_start": 0,
            "bin_end": 0.1,
            "count": 2
           },
           {
            "bin_start": 0.1,
            "bin_end": 0.2,
            "count": 0
           },
           {
            "bin_start": 0.2,
            "bin_end": 0.30000000000000004,
            "count": 0
           },
           {
            "bin_start": 0.30000000000000004,
            "bin_end": 0.4,
            "count": 0
           },
           {
            "bin_start": 0.4,
            "bin_end": 0.5,
            "count": 0
           },
           {
            "bin_start": 0.5,
            "bin_end": 0.6000000000000001,
            "count": 0
           },
           {
            "bin_start": 0.6000000000000001,
            "bin_end": 0.7000000000000001,
            "count": 0
           },
           {
            "bin_start": 0.7000000000000001,
            "bin_end": 0.8,
            "count": 0
           },
           {
            "bin_start": 0.8,
            "bin_end": 0.9,
            "count": 0
           },
           {
            "bin_start": 0.9,
            "bin_end": 1,
            "count": 3
           }
          ]
         }
        },
        {
         "name": "xcalc_20_bin",
         "dtype": "int64",
         "stats": {
          "unique_count": 1,
          "nan_count": 0,
          "min": "0",
          "max": "0",
          "histogram": [
           {
            "bin_start": -0.5,
            "bin_end": -0.4,
            "count": 0
           },
           {
            "bin_start": -0.4,
            "bin_end": -0.3,
            "count": 0
           },
           {
            "bin_start": -0.3,
            "bin_end": -0.19999999999999996,
            "count": 0
           },
           {
            "bin_start": -0.19999999999999996,
            "bin_end": -0.09999999999999998,
            "count": 0
           },
           {
            "bin_start": -0.09999999999999998,
            "bin_end": 0,
            "count": 0
           },
           {
            "bin_start": 0,
            "bin_end": 0.10000000000000009,
            "count": 5
           },
           {
            "bin_start": 0.10000000000000009,
            "bin_end": 0.20000000000000007,
            "count": 0
           },
           {
            "bin_start": 0.20000000000000007,
            "bin_end": 0.30000000000000004,
            "count": 0
           },
           {
            "bin_start": 0.30000000000000004,
            "bin_end": 0.4,
            "count": 0
           },
           {
            "bin_start": 0.4,
            "bin_end": 0.5,
            "count": 0
           }
          ]
         }
        },
        {
         "name": "_deepnote_index_column",
         "dtype": "int64"
        }
       ],
       "rows_top": [
        {
         "y": 0,
         "xind_01": 2,
         "xind_02_cat": 1,
         "xind_03": 5,
         "xind_04_cat": 1,
         "xind_05_cat": 6,
         "xind_06_bin": 0,
         "xind_07_bin": 1,
         "xind_08_bin": 0,
         "xind_09_bin": 0,
         "xind_10_bin": 0,
         "xind_11_bin": 0,
         "xind_12_bin": 0,
         "xind_13_bin": 0,
         "xind_14": 0,
         "xind_15": 10,
         "xind_16_bin": 1,
         "xind_17_bin": 0,
         "xind_18_bin": 0,
         "xreg_01": 0.6,
         "xreg_02": 0,
         "xreg_03": 0.6025985397,
         "xcar_01_cat": 7,
         "xcar_02_cat": 1,
         "xcar_03_cat": 0,
         "xcar_04_cat": 0,
         "xcar_05_cat": 1,
         "xcar_06_cat": 1,
         "xcar_07_cat": 1,
         "xcar_08_cat": 1,
         "xcar_09_cat": 2,
         "xcar_10_cat": 1,
         "xcar_11_cat": 80,
         "xcar_11": 3,
         "xcar_12": 0.316227766,
         "xcar_13": 0.7483590865,
         "xcar_14": -1,
         "xcar_15": 3.6055512755,
         "xcalc_01": 0.4,
         "xcalc_02": 0.9,
         "xcalc_03": 0.6,
         "xcalc_04": 2,
         "xcalc_05": 0,
         "xcalc_06": 6,
         "xcalc_07": 3,
         "xcalc_08": 4,
         "xcalc_09": 2,
         "xcalc_10": 4,
         "xcalc_11": 4,
         "xcalc_12": 0,
         "xcalc_13": 2,
         "xcalc_14": 8,
         "xcalc_15_bin": 0,
         "xcalc_16_bin": 0,
         "xcalc_17_bin": 0,
         "xcalc_18_bin": 1,
         "xcalc_19_bin": 1,
         "xcalc_20_bin": 0,
         "_deepnote_index_column": 0
        },
        {
         "y": 0,
         "xind_01": 2,
         "xind_02_cat": 1,
         "xind_03": 6,
         "xind_04_cat": 0,
         "xind_05_cat": 0,
         "xind_06_bin": 0,
         "xind_07_bin": 0,
         "xind_08_bin": 0,
         "xind_09_bin": 1,
         "xind_10_bin": 0,
         "xind_11_bin": 0,
         "xind_12_bin": 0,
         "xind_13_bin": 0,
         "xind_14": 0,
         "xind_15": 10,
         "xind_16_bin": 1,
         "xind_17_bin": 0,
         "xind_18_bin": 0,
         "xreg_01": 0.4,
         "xreg_02": 0,
         "xreg_03": 0.5111262075,
         "xcar_01_cat": 6,
         "xcar_02_cat": 1,
         "xcar_03_cat": -1,
         "xcar_04_cat": 0,
         "xcar_05_cat": 1,
         "xcar_06_cat": 0,
         "xcar_07_cat": 1,
         "xcar_08_cat": 1,
         "xcar_09_cat": 0,
         "xcar_10_cat": 1,
         "xcar_11_cat": 95,
         "xcar_11": 2,
         "xcar_12": 0.4,
         "xcar_13": 0.7386748242,
         "xcar_14": 0.4013726448,
         "xcar_15": 2.8284271247,
         "xcalc_01": 0.7,
         "xcalc_02": 0.7,
         "xcalc_03": 0.2,
         "xcalc_04": 4,
         "xcalc_05": 3,
         "xcalc_06": 9,
         "xcalc_07": 5,
         "xcalc_08": 10,
         "xcalc_09": 1,
         "xcalc_10": 11,
         "xcalc_11": 9,
         "xcalc_12": 2,
         "xcalc_13": 3,
         "xcalc_14": 7,
         "xcalc_15_bin": 0,
         "xcalc_16_bin": 0,
         "xcalc_17_bin": 1,
         "xcalc_18_bin": 0,
         "xcalc_19_bin": 0,
         "xcalc_20_bin": 0,
         "_deepnote_index_column": 1
        },
        {
         "y": 0,
         "xind_01": 2,
         "xind_02_cat": 1,
         "xind_03": 9,
         "xind_04_cat": 0,
         "xind_05_cat": 0,
         "xind_06_bin": 1,
         "xind_07_bin": 0,
         "xind_08_bin": 0,
         "xind_09_bin": 0,
         "xind_10_bin": 0,
         "xind_11_bin": 0,
         "xind_12_bin": 0,
         "xind_13_bin": 0,
         "xind_14": 0,
         "xind_15": 12,
         "xind_16_bin": 1,
         "xind_17_bin": 0,
         "xind_18_bin": 0,
         "xreg_01": 0.1,
         "xreg_02": 0.1,
         "xreg_03": -1,
         "xcar_01_cat": 7,
         "xcar_02_cat": 1,
         "xcar_03_cat": 1,
         "xcar_04_cat": 0,
         "xcar_05_cat": 0,
         "xcar_06_cat": 14,
         "xcar_07_cat": 1,
         "xcar_08_cat": 1,
         "xcar_09_cat": 0,
         "xcar_10_cat": 1,
         "xcar_11_cat": 42,
         "xcar_11": 2,
         "xcar_12": 0.4,
         "xcar_13": 0.8205143519,
         "xcar_14": 0.3313608305,
         "xcar_15": 3.7416573868,
         "xcalc_01": 0.2,
         "xcalc_02": 0.3,
         "xcalc_03": 0,
         "xcalc_04": 3,
         "xcalc_05": 1,
         "xcalc_06": 10,
         "xcalc_07": 3,
         "xcalc_08": 9,
         "xcalc_09": 2,
         "xcalc_10": 9,
         "xcalc_11": 5,
         "xcalc_12": 0,
         "xcalc_13": 2,
         "xcalc_14": 6,
         "xcalc_15_bin": 0,
         "xcalc_16_bin": 1,
         "xcalc_17_bin": 0,
         "xcalc_18_bin": 1,
         "xcalc_19_bin": 1,
         "xcalc_20_bin": 0,
         "_deepnote_index_column": 2
        },
        {
         "y": 0,
         "xind_01": 1,
         "xind_02_cat": 1,
         "xind_03": 6,
         "xind_04_cat": 0,
         "xind_05_cat": 0,
         "xind_06_bin": 1,
         "xind_07_bin": 0,
         "xind_08_bin": 0,
         "xind_09_bin": 0,
         "xind_10_bin": 0,
         "xind_11_bin": 0,
         "xind_12_bin": 0,
         "xind_13_bin": 0,
         "xind_14": 0,
         "xind_15": 10,
         "xind_16_bin": 1,
         "xind_17_bin": 0,
         "xind_18_bin": 0,
         "xreg_01": 0.8,
         "xreg_02": 0.1,
         "xreg_03": 0.4630064794,
         "xcar_01_cat": 7,
         "xcar_02_cat": 1,
         "xcar_03_cat": -1,
         "xcar_04_cat": 0,
         "xcar_05_cat": -1,
         "xcar_06_cat": 11,
         "xcar_07_cat": 1,
         "xcar_08_cat": 1,
         "xcar_09_cat": 0,
         "xcar_10_cat": 1,
         "xcar_11_cat": 99,
         "xcar_11": 2,
         "xcar_12": 0.316227766,
         "xcar_13": 0.6331575079,
         "xcar_14": 0.3687817783,
         "xcar_15": 3,
         "xcalc_01": 0,
         "xcalc_02": 0.5,
         "xcalc_03": 0.9,
         "xcalc_04": 3,
         "xcalc_05": 1,
         "xcalc_06": 9,
         "xcalc_07": 5,
         "xcalc_08": 10,
         "xcalc_09": 3,
         "xcalc_10": 6,
         "xcalc_11": 3,
         "xcalc_12": 0,
         "xcalc_13": 4,
         "xcalc_14": 8,
         "xcalc_15_bin": 0,
         "xcalc_16_bin": 0,
         "xcalc_17_bin": 1,
         "xcalc_18_bin": 0,
         "xcalc_19_bin": 0,
         "xcalc_20_bin": 0,
         "_deepnote_index_column": 3
        },
        {
         "y": 0,
         "xind_01": 1,
         "xind_02_cat": 1,
         "xind_03": 5,
         "xind_04_cat": 1,
         "xind_05_cat": 0,
         "xind_06_bin": 0,
         "xind_07_bin": 1,
         "xind_08_bin": 0,
         "xind_09_bin": 0,
         "xind_10_bin": 0,
         "xind_11_bin": 0,
         "xind_12_bin": 0,
         "xind_13_bin": 0,
         "xind_14": 0,
         "xind_15": 6,
         "xind_16_bin": 1,
         "xind_17_bin": 0,
         "xind_18_bin": 0,
         "xreg_01": 0.4,
         "xreg_02": 0,
         "xreg_03": 0.6851094803,
         "xcar_01_cat": 10,
         "xcar_02_cat": 1,
         "xcar_03_cat": -1,
         "xcar_04_cat": 0,
         "xcar_05_cat": -1,
         "xcar_06_cat": 7,
         "xcar_07_cat": 1,
         "xcar_08_cat": 1,
         "xcar_09_cat": 2,
         "xcar_10_cat": 1,
         "xcar_11_cat": 104,
         "xcar_11": 3,
         "xcar_12": 0.4,
         "xcar_13": 1.0164453537,
         "xcar_14": 0.4256759331,
         "xcar_15": 3.4641016151,
         "xcalc_01": 0.9,
         "xcalc_02": 0.6,
         "xcalc_03": 0.4,
         "xcalc_04": 0,
         "xcalc_05": 2,
         "xcalc_06": 7,
         "xcalc_07": 3,
         "xcalc_08": 9,
         "xcalc_09": 2,
         "xcalc_10": 0,
         "xcalc_11": 4,
         "xcalc_12": 3,
         "xcalc_13": 1,
         "xcalc_14": 2,
         "xcalc_15_bin": 0,
         "xcalc_16_bin": 1,
         "xcalc_17_bin": 0,
         "xcalc_18_bin": 0,
         "xcalc_19_bin": 1,
         "xcalc_20_bin": 0,
         "_deepnote_index_column": 4
        }
       ],
       "rows_bottom": null
      },
      "text/plain": "   y  xind_01  xind_02_cat  xind_03  xind_04_cat  xind_05_cat  xind_06_bin  \\\n0  0        2            1        5            1            6            0   \n1  0        2            1        6            0            0            0   \n2  0        2            1        9            0            0            1   \n3  0        1            1        6            0            0            1   \n4  0        1            1        5            1            0            0   \n\n   xind_07_bin  xind_08_bin  xind_09_bin  ...  xcalc_11  xcalc_12  xcalc_13  \\\n0            1            0            0  ...         4         0         2   \n1            0            0            1  ...         9         2         3   \n2            0            0            0  ...         5         0         2   \n3            0            0            0  ...         3         0         4   \n4            1            0            0  ...         4         3         1   \n\n   xcalc_14  xcalc_15_bin  xcalc_16_bin  xcalc_17_bin  xcalc_18_bin  \\\n0         8             0             0             0             1   \n1         7             0             0             1             0   \n2         6             0             1             0             1   \n3         8             0             0             1             0   \n4         2             0             1             0             0   \n\n   xcalc_19_bin  xcalc_20_bin  \n0             1             0  \n1             0             0  \n2             1             0  \n3             0             0  \n4             1             0  \n\n[5 rows x 58 columns]",
      "text/html": "<div>\n<style scoped>\n    .dataframe tbody tr th:only-of-type {\n        vertical-align: middle;\n    }\n\n    .dataframe tbody tr th {\n        vertical-align: top;\n    }\n\n    .dataframe thead th {\n        text-align: right;\n    }\n</style>\n<table border=\"1\" class=\"dataframe\">\n  <thead>\n    <tr style=\"text-align: right;\">\n      <th></th>\n      <th>y</th>\n      <th>xind_01</th>\n      <th>xind_02_cat</th>\n      <th>xind_03</th>\n      <th>xind_04_cat</th>\n      <th>xind_05_cat</th>\n      <th>xind_06_bin</th>\n      <th>xind_07_bin</th>\n      <th>xind_08_bin</th>\n      <th>xind_09_bin</th>\n      <th>...</th>\n      <th>xcalc_11</th>\n      <th>xcalc_12</th>\n      <th>xcalc_13</th>\n      <th>xcalc_14</th>\n      <th>xcalc_15_bin</th>\n      <th>xcalc_16_bin</th>\n      <th>xcalc_17_bin</th>\n      <th>xcalc_18_bin</th>\n      <th>xcalc_19_bin</th>\n      <th>xcalc_20_bin</th>\n    </tr>\n  </thead>\n  <tbody>\n    <tr>\n      <th>0</th>\n      <td>0</td>\n      <td>2</td>\n      <td>1</td>\n      <td>5</td>\n      <td>1</td>\n      <td>6</td>\n      <td>0</td>\n      <td>1</td>\n      <td>0</td>\n      <td>0</td>\n      <td>...</td>\n      <td>4</td>\n      <td>0</td>\n      <td>2</td>\n      <td>8</td>\n      <td>0</td>\n      <td>0</td>\n      <td>0</td>\n      <td>1</td>\n      <td>1</td>\n      <td>0</td>\n    </tr>\n    <tr>\n      <th>1</th>\n      <td>0</td>\n      <td>2</td>\n      <td>1</td>\n      <td>6</td>\n      <td>0</td>\n      <td>0</td>\n      <td>0</td>\n      <td>0</td>\n      <td>0</td>\n      <td>1</td>\n      <td>...</td>\n      <td>9</td>\n      <td>2</td>\n      <td>3</td>\n      <td>7</td>\n      <td>0</td>\n      <td>0</td>\n      <td>1</td>\n      <td>0</td>\n      <td>0</td>\n      <td>0</td>\n    </tr>\n    <tr>\n      <th>2</th>\n      <td>0</td>\n      <td>2</td>\n      <td>1</td>\n      <td>9</td>\n      <td>0</td>\n      <td>0</td>\n      <td>1</td>\n      <td>0</td>\n      <td>0</td>\n      <td>0</td>\n      <td>...</td>\n      <td>5</td>\n      <td>0</td>\n      <td>2</td>\n      <td>6</td>\n      <td>0</td>\n      <td>1</td>\n      <td>0</td>\n      <td>1</td>\n      <td>1</td>\n      <td>0</td>\n    </tr>\n    <tr>\n      <th>3</th>\n      <td>0</td>\n      <td>1</td>\n      <td>1</td>\n      <td>6</td>\n      <td>0</td>\n      <td>0</td>\n      <td>1</td>\n      <td>0</td>\n      <td>0</td>\n      <td>0</td>\n      <td>...</td>\n      <td>3</td>\n      <td>0</td>\n      <td>4</td>\n      <td>8</td>\n      <td>0</td>\n      <td>0</td>\n      <td>1</td>\n      <td>0</td>\n      <td>0</td>\n      <td>0</td>\n    </tr>\n    <tr>\n      <th>4</th>\n      <td>0</td>\n      <td>1</td>\n      <td>1</td>\n      <td>5</td>\n      <td>1</td>\n      <td>0</td>\n      <td>0</td>\n      <td>1</td>\n      <td>0</td>\n      <td>0</td>\n      <td>...</td>\n      <td>4</td>\n      <td>3</td>\n      <td>1</td>\n      <td>2</td>\n      <td>0</td>\n      <td>1</td>\n      <td>0</td>\n      <td>0</td>\n      <td>1</td>\n      <td>0</td>\n    </tr>\n  </tbody>\n</table>\n<p>5 rows × 58 columns</p>\n</div>"
     },
     "metadata": {}
    }
   ]
  },
  {
   "cell_type": "markdown",
   "source": "### Exploration of the data",
   "metadata": {
    "tags": [],
    "is_collapsed": false,
    "cell_id": "00008-5eb7664c-7753-45ca-b506-062fc1ede303",
    "deepnote_cell_type": "text-cell-h3"
   }
  },
  {
   "cell_type": "markdown",
   "source": "Let's first check if data have any null values and check their datatype after loading to environment. ",
   "metadata": {
    "tags": [],
    "cell_id": "00009-9d749be4-0e1d-465f-8307-9c6ebb3b6837",
    "deepnote_cell_type": "markdown"
   }
  },
  {
   "cell_type": "code",
   "metadata": {
    "tags": [],
    "cell_id": "00007-3b4165bd-6dcf-4d45-b4d1-f4460d730e89",
    "deepnote_to_be_reexecuted": false,
    "source_hash": "de1e323c",
    "execution_start": 1638088228189,
    "execution_millis": 72,
    "deepnote_cell_type": "code"
   },
   "source": "df.info()",
   "execution_count": null,
   "outputs": [
    {
     "name": "stdout",
     "text": "<class 'pandas.core.frame.DataFrame'>\nRangeIndex: 595212 entries, 0 to 595211\nData columns (total 58 columns):\n #   Column        Non-Null Count   Dtype  \n---  ------        --------------   -----  \n 0   y             595212 non-null  int64  \n 1   xind_01       595212 non-null  int64  \n 2   xind_02_cat   595212 non-null  int64  \n 3   xind_03       595212 non-null  int64  \n 4   xind_04_cat   595212 non-null  int64  \n 5   xind_05_cat   595212 non-null  int64  \n 6   xind_06_bin   595212 non-null  int64  \n 7   xind_07_bin   595212 non-null  int64  \n 8   xind_08_bin   595212 non-null  int64  \n 9   xind_09_bin   595212 non-null  int64  \n 10  xind_10_bin   595212 non-null  int64  \n 11  xind_11_bin   595212 non-null  int64  \n 12  xind_12_bin   595212 non-null  int64  \n 13  xind_13_bin   595212 non-null  int64  \n 14  xind_14       595212 non-null  int64  \n 15  xind_15       595212 non-null  int64  \n 16  xind_16_bin   595212 non-null  int64  \n 17  xind_17_bin   595212 non-null  int64  \n 18  xind_18_bin   595212 non-null  int64  \n 19  xreg_01       595212 non-null  float64\n 20  xreg_02       595212 non-null  float64\n 21  xreg_03       595212 non-null  float64\n 22  xcar_01_cat   595212 non-null  int64  \n 23  xcar_02_cat   595212 non-null  int64  \n 24  xcar_03_cat   595212 non-null  int64  \n 25  xcar_04_cat   595212 non-null  int64  \n 26  xcar_05_cat   595212 non-null  int64  \n 27  xcar_06_cat   595212 non-null  int64  \n 28  xcar_07_cat   595212 non-null  int64  \n 29  xcar_08_cat   595212 non-null  int64  \n 30  xcar_09_cat   595212 non-null  int64  \n 31  xcar_10_cat   595212 non-null  int64  \n 32  xcar_11_cat   595212 non-null  int64  \n 33  xcar_11       595212 non-null  int64  \n 34  xcar_12       595212 non-null  float64\n 35  xcar_13       595212 non-null  float64\n 36  xcar_14       595212 non-null  float64\n 37  xcar_15       595212 non-null  float64\n 38  xcalc_01      595212 non-null  float64\n 39  xcalc_02      595212 non-null  float64\n 40  xcalc_03      595212 non-null  float64\n 41  xcalc_04      595212 non-null  int64  \n 42  xcalc_05      595212 non-null  int64  \n 43  xcalc_06      595212 non-null  int64  \n 44  xcalc_07      595212 non-null  int64  \n 45  xcalc_08      595212 non-null  int64  \n 46  xcalc_09      595212 non-null  int64  \n 47  xcalc_10      595212 non-null  int64  \n 48  xcalc_11      595212 non-null  int64  \n 49  xcalc_12      595212 non-null  int64  \n 50  xcalc_13      595212 non-null  int64  \n 51  xcalc_14      595212 non-null  int64  \n 52  xcalc_15_bin  595212 non-null  int64  \n 53  xcalc_16_bin  595212 non-null  int64  \n 54  xcalc_17_bin  595212 non-null  int64  \n 55  xcalc_18_bin  595212 non-null  int64  \n 56  xcalc_19_bin  595212 non-null  int64  \n 57  xcalc_20_bin  595212 non-null  int64  \ndtypes: float64(10), int64(48)\nmemory usage: 263.4 MB\n",
     "output_type": "stream"
    }
   ]
  },
  {
   "cell_type": "markdown",
   "source": "As we can see from above, the dataset mostly contains int and float values. We can also see that it doesn't have any null values. Moreover, some values have sufix bin, which indicate the binary variable, others have suffix cat, I suggest that that was a categorical variable for which one-hot encoding was performed. Y variable might represent a variable which we are going to predict.\n\nRegarding names of columns, there are few unique names - xind/xcar/xreg/xcalc.\n\nLet's first check if y is balanced variable or not.",
   "metadata": {
    "tags": [],
    "cell_id": "00008-4df0c581-1f7e-4c3d-bf2d-6e9af11177a3",
    "deepnote_cell_type": "markdown"
   }
  },
  {
   "cell_type": "code",
   "metadata": {
    "tags": [],
    "cell_id": "00008-05fdd297-0c3e-4e2f-a898-9b167613828d",
    "deepnote_to_be_reexecuted": false,
    "source_hash": "bc0cb980",
    "execution_start": 1638088228271,
    "execution_millis": 27,
    "deepnote_output_heights": [
     59
    ],
    "deepnote_cell_type": "code"
   },
   "source": "df.y.value_counts()",
   "execution_count": null,
   "outputs": [
    {
     "output_type": "execute_result",
     "execution_count": 5,
     "data": {
      "text/plain": "0    573518\n1     21694\nName: y, dtype: int64"
     },
     "metadata": {}
    }
   ]
  },
  {
   "cell_type": "markdown",
   "source": "We can see from above that y is not balanced as value 1 represents only 3.5 % of total data. we can see that our data is highly inbalanced and different techniques should be used to balance it.",
   "metadata": {
    "tags": [],
    "cell_id": "00010-37854a19-9b29-4a4d-8bff-8ea8ce1b2d92",
    "deepnote_cell_type": "markdown"
   }
  },
  {
   "cell_type": "markdown",
   "source": "By running the notebook, I was running of memory all the time so I could not finish the task, to solve that problem I converted datatypes in the input data to the one which are more memory efficient. It seems like that it helped me to reduce memory usage twice. I found this advice on Medium.com (https://link.medium.com/wSbgxBtmmlb).",
   "metadata": {
    "tags": [],
    "cell_id": "00013-12cf6413-3d7d-4389-a38f-317181bdd59e",
    "deepnote_cell_type": "markdown"
   }
  },
  {
   "cell_type": "code",
   "metadata": {
    "tags": [],
    "cell_id": "00013-61bd0fcc-169e-44ea-80e2-da890075b88a",
    "deepnote_to_be_reexecuted": false,
    "source_hash": "5068e471",
    "execution_start": 1638088228310,
    "execution_millis": 499,
    "deepnote_cell_type": "code"
   },
   "source": "# datatype conversion\nfloat_cols = [\"xreg_01\", \"xreg_02\", \"xreg_03\", \"xcar_12\", \"xcar_13\", \"xcar_14\", \"xcar_15\", \"xcalc_01\", \"xcalc_02\", \"xcalc_03\"]\nint_cols = [i for i in df.columns if i not in float_cols]\nfloat_d = {val: 'float16'for val in float_cols}\nint_d = {val: np.uint8 for val in int_cols} \n\ndf = df.astype(float_d)\ndf = df.astype(int_d)\ndf.head()",
   "execution_count": null,
   "outputs": [
    {
     "output_type": "execute_result",
     "execution_count": 6,
     "data": {
      "application/vnd.deepnote.dataframe.v2+json": {
       "row_count": 5,
       "column_count": 58,
       "columns": [
        {
         "name": "y",
         "dtype": "uint8",
         "stats": {
          "unique_count": 1,
          "nan_count": 0,
          "min": "0",
          "max": "0",
          "histogram": [
           {
            "bin_start": -0.5,
            "bin_end": -0.4,
            "count": 0
           },
           {
            "bin_start": -0.4,
            "bin_end": -0.3,
            "count": 0
           },
           {
            "bin_start": -0.3,
            "bin_end": -0.19999999999999996,
            "count": 0
           },
           {
            "bin_start": -0.19999999999999996,
            "bin_end": -0.09999999999999998,
            "count": 0
           },
           {
            "bin_start": -0.09999999999999998,
            "bin_end": 0,
            "count": 0
           },
           {
            "bin_start": 0,
            "bin_end": 0.10000000000000009,
            "count": 5
           },
           {
            "bin_start": 0.10000000000000009,
            "bin_end": 0.20000000000000007,
            "count": 0
           },
           {
            "bin_start": 0.20000000000000007,
            "bin_end": 0.30000000000000004,
            "count": 0
           },
           {
            "bin_start": 0.30000000000000004,
            "bin_end": 0.4,
            "count": 0
           },
           {
            "bin_start": 0.4,
            "bin_end": 0.5,
            "count": 0
           }
          ]
         }
        },
        {
         "name": "xind_01",
         "dtype": "uint8",
         "stats": {
          "unique_count": 2,
          "nan_count": 0,
          "min": "1",
          "max": "2",
          "histogram": [
           {
            "bin_start": 1,
            "bin_end": 1.1,
            "count": 2
           },
           {
            "bin_start": 1.1,
            "bin_end": 1.2,
            "count": 0
           },
           {
            "bin_start": 1.2,
            "bin_end": 1.3,
            "count": 0
           },
           {
            "bin_start": 1.3,
            "bin_end": 1.4,
            "count": 0
           },
           {
            "bin_start": 1.4,
            "bin_end": 1.5,
            "count": 0
           },
           {
            "bin_start": 1.5,
            "bin_end": 1.6,
            "count": 0
           },
           {
            "bin_start": 1.6,
            "bin_end": 1.7000000000000002,
            "count": 0
           },
           {
            "bin_start": 1.7000000000000002,
            "bin_end": 1.8,
            "count": 0
           },
           {
            "bin_start": 1.8,
            "bin_end": 1.9,
            "count": 0
           },
           {
            "bin_start": 1.9,
            "bin_end": 2,
            "count": 3
           }
          ]
         }
        },
        {
         "name": "xind_02_cat",
         "dtype": "uint8",
         "stats": {
          "unique_count": 1,
          "nan_count": 0,
          "min": "1",
          "max": "1",
          "histogram": [
           {
            "bin_start": 0.5,
            "bin_end": 0.6,
            "count": 0
           },
           {
            "bin_start": 0.6,
            "bin_end": 0.7,
            "count": 0
           },
           {
            "bin_start": 0.7,
            "bin_end": 0.8,
            "count": 0
           },
           {
            "bin_start": 0.8,
            "bin_end": 0.9,
            "count": 0
           },
           {
            "bin_start": 0.9,
            "bin_end": 1,
            "count": 0
           },
           {
            "bin_start": 1,
            "bin_end": 1.1,
            "count": 5
           },
           {
            "bin_start": 1.1,
            "bin_end": 1.2000000000000002,
            "count": 0
           },
           {
            "bin_start": 1.2000000000000002,
            "bin_end": 1.3,
            "count": 0
           },
           {
            "bin_start": 1.3,
            "bin_end": 1.4,
            "count": 0
           },
           {
            "bin_start": 1.4,
            "bin_end": 1.5,
            "count": 0
           }
          ]
         }
        },
        {
         "name": "xind_03",
         "dtype": "uint8",
         "stats": {
          "unique_count": 3,
          "nan_count": 0,
          "min": "5",
          "max": "9",
          "histogram": [
           {
            "bin_start": 5,
            "bin_end": 5.4,
            "count": 2
           },
           {
            "bin_start": 5.4,
            "bin_end": 5.8,
            "count": 0
           },
           {
            "bin_start": 5.8,
            "bin_end": 6.2,
            "count": 2
           },
           {
            "bin_start": 6.2,
            "bin_end": 6.6,
            "count": 0
           },
           {
            "bin_start": 6.6,
            "bin_end": 7,
            "count": 0
           },
           {
            "bin_start": 7,
            "bin_end": 7.4,
            "count": 0
           },
           {
            "bin_start": 7.4,
            "bin_end": 7.800000000000001,
            "count": 0
           },
           {
            "bin_start": 7.800000000000001,
            "bin_end": 8.2,
            "count": 0
           },
           {
            "bin_start": 8.2,
            "bin_end": 8.6,
            "count": 0
           },
           {
            "bin_start": 8.6,
            "bin_end": 9,
            "count": 1
           }
          ]
         }
        },
        {
         "name": "xind_04_cat",
         "dtype": "uint8",
         "stats": {
          "unique_count": 2,
          "nan_count": 0,
          "min": "0",
          "max": "1",
          "histogram": [
           {
            "bin_start": 0,
            "bin_end": 0.1,
            "count": 3
           },
           {
            "bin_start": 0.1,
            "bin_end": 0.2,
            "count": 0
           },
           {
            "bin_start": 0.2,
            "bin_end": 0.30000000000000004,
            "count": 0
           },
           {
            "bin_start": 0.30000000000000004,
            "bin_end": 0.4,
            "count": 0
           },
           {
            "bin_start": 0.4,
            "bin_end": 0.5,
            "count": 0
           },
           {
            "bin_start": 0.5,
            "bin_end": 0.6000000000000001,
            "count": 0
           },
           {
            "bin_start": 0.6000000000000001,
            "bin_end": 0.7000000000000001,
            "count": 0
           },
           {
            "bin_start": 0.7000000000000001,
            "bin_end": 0.8,
            "count": 0
           },
           {
            "bin_start": 0.8,
            "bin_end": 0.9,
            "count": 0
           },
           {
            "bin_start": 0.9,
            "bin_end": 1,
            "count": 2
           }
          ]
         }
        },
        {
         "name": "xind_05_cat",
         "dtype": "uint8",
         "stats": {
          "unique_count": 2,
          "nan_count": 0,
          "min": "0",
          "max": "6",
          "histogram": [
           {
            "bin_start": 0,
            "bin_end": 0.6,
            "count": 4
           },
           {
            "bin_start": 0.6,
            "bin_end": 1.2,
            "count": 0
           },
           {
            "bin_start": 1.2,
            "bin_end": 1.7999999999999998,
            "count": 0
           },
           {
            "bin_start": 1.7999999999999998,
            "bin_end": 2.4,
            "count": 0
           },
           {
            "bin_start": 2.4,
            "bin_end": 3,
            "count": 0
           },
           {
            "bin_start": 3,
            "bin_end": 3.5999999999999996,
            "count": 0
           },
           {
            "bin_start": 3.5999999999999996,
            "bin_end": 4.2,
            "count": 0
           },
           {
            "bin_start": 4.2,
            "bin_end": 4.8,
            "count": 0
           },
           {
            "bin_start": 4.8,
            "bin_end": 5.3999999999999995,
            "count": 0
           },
           {
            "bin_start": 5.3999999999999995,
            "bin_end": 6,
            "count": 1
           }
          ]
         }
        },
        {
         "name": "xind_06_bin",
         "dtype": "uint8",
         "stats": {
          "unique_count": 2,
          "nan_count": 0,
          "min": "0",
          "max": "1",
          "histogram": [
           {
            "bin_start": 0,
            "bin_end": 0.1,
            "count": 3
           },
           {
            "bin_start": 0.1,
            "bin_end": 0.2,
            "count": 0
           },
           {
            "bin_start": 0.2,
            "bin_end": 0.30000000000000004,
            "count": 0
           },
           {
            "bin_start": 0.30000000000000004,
            "bin_end": 0.4,
            "count": 0
           },
           {
            "bin_start": 0.4,
            "bin_end": 0.5,
            "count": 0
           },
           {
            "bin_start": 0.5,
            "bin_end": 0.6000000000000001,
            "count": 0
           },
           {
            "bin_start": 0.6000000000000001,
            "bin_end": 0.7000000000000001,
            "count": 0
           },
           {
            "bin_start": 0.7000000000000001,
            "bin_end": 0.8,
            "count": 0
           },
           {
            "bin_start": 0.8,
            "bin_end": 0.9,
            "count": 0
           },
           {
            "bin_start": 0.9,
            "bin_end": 1,
            "count": 2
           }
          ]
         }
        },
        {
         "name": "xind_07_bin",
         "dtype": "uint8",
         "stats": {
          "unique_count": 2,
          "nan_count": 0,
          "min": "0",
          "max": "1",
          "histogram": [
           {
            "bin_start": 0,
            "bin_end": 0.1,
            "count": 3
           },
           {
            "bin_start": 0.1,
            "bin_end": 0.2,
            "count": 0
           },
           {
            "bin_start": 0.2,
            "bin_end": 0.30000000000000004,
            "count": 0
           },
           {
            "bin_start": 0.30000000000000004,
            "bin_end": 0.4,
            "count": 0
           },
           {
            "bin_start": 0.4,
            "bin_end": 0.5,
            "count": 0
           },
           {
            "bin_start": 0.5,
            "bin_end": 0.6000000000000001,
            "count": 0
           },
           {
            "bin_start": 0.6000000000000001,
            "bin_end": 0.7000000000000001,
            "count": 0
           },
           {
            "bin_start": 0.7000000000000001,
            "bin_end": 0.8,
            "count": 0
           },
           {
            "bin_start": 0.8,
            "bin_end": 0.9,
            "count": 0
           },
           {
            "bin_start": 0.9,
            "bin_end": 1,
            "count": 2
           }
          ]
         }
        },
        {
         "name": "xind_08_bin",
         "dtype": "uint8",
         "stats": {
          "unique_count": 1,
          "nan_count": 0,
          "min": "0",
          "max": "0",
          "histogram": [
           {
            "bin_start": -0.5,
            "bin_end": -0.4,
            "count": 0
           },
           {
            "bin_start": -0.4,
            "bin_end": -0.3,
            "count": 0
           },
           {
            "bin_start": -0.3,
            "bin_end": -0.19999999999999996,
            "count": 0
           },
           {
            "bin_start": -0.19999999999999996,
            "bin_end": -0.09999999999999998,
            "count": 0
           },
           {
            "bin_start": -0.09999999999999998,
            "bin_end": 0,
            "count": 0
           },
           {
            "bin_start": 0,
            "bin_end": 0.10000000000000009,
            "count": 5
           },
           {
            "bin_start": 0.10000000000000009,
            "bin_end": 0.20000000000000007,
            "count": 0
           },
           {
            "bin_start": 0.20000000000000007,
            "bin_end": 0.30000000000000004,
            "count": 0
           },
           {
            "bin_start": 0.30000000000000004,
            "bin_end": 0.4,
            "count": 0
           },
           {
            "bin_start": 0.4,
            "bin_end": 0.5,
            "count": 0
           }
          ]
         }
        },
        {
         "name": "xind_09_bin",
         "dtype": "uint8",
         "stats": {
          "unique_count": 2,
          "nan_count": 0,
          "min": "0",
          "max": "1",
          "histogram": [
           {
            "bin_start": 0,
            "bin_end": 0.1,
            "count": 4
           },
           {
            "bin_start": 0.1,
            "bin_end": 0.2,
            "count": 0
           },
           {
            "bin_start": 0.2,
            "bin_end": 0.30000000000000004,
            "count": 0
           },
           {
            "bin_start": 0.30000000000000004,
            "bin_end": 0.4,
            "count": 0
           },
           {
            "bin_start": 0.4,
            "bin_end": 0.5,
            "count": 0
           },
           {
            "bin_start": 0.5,
            "bin_end": 0.6000000000000001,
            "count": 0
           },
           {
            "bin_start": 0.6000000000000001,
            "bin_end": 0.7000000000000001,
            "count": 0
           },
           {
            "bin_start": 0.7000000000000001,
            "bin_end": 0.8,
            "count": 0
           },
           {
            "bin_start": 0.8,
            "bin_end": 0.9,
            "count": 0
           },
           {
            "bin_start": 0.9,
            "bin_end": 1,
            "count": 1
           }
          ]
         }
        },
        {
         "name": "xind_10_bin",
         "dtype": "uint8",
         "stats": {
          "unique_count": 1,
          "nan_count": 0,
          "min": "0",
          "max": "0",
          "histogram": [
           {
            "bin_start": -0.5,
            "bin_end": -0.4,
            "count": 0
           },
           {
            "bin_start": -0.4,
            "bin_end": -0.3,
            "count": 0
           },
           {
            "bin_start": -0.3,
            "bin_end": -0.19999999999999996,
            "count": 0
           },
           {
            "bin_start": -0.19999999999999996,
            "bin_end": -0.09999999999999998,
            "count": 0
           },
           {
            "bin_start": -0.09999999999999998,
            "bin_end": 0,
            "count": 0
           },
           {
            "bin_start": 0,
            "bin_end": 0.10000000000000009,
            "count": 5
           },
           {
            "bin_start": 0.10000000000000009,
            "bin_end": 0.20000000000000007,
            "count": 0
           },
           {
            "bin_start": 0.20000000000000007,
            "bin_end": 0.30000000000000004,
            "count": 0
           },
           {
            "bin_start": 0.30000000000000004,
            "bin_end": 0.4,
            "count": 0
           },
           {
            "bin_start": 0.4,
            "bin_end": 0.5,
            "count": 0
           }
          ]
         }
        },
        {
         "name": "xind_11_bin",
         "dtype": "uint8",
         "stats": {
          "unique_count": 1,
          "nan_count": 0,
          "min": "0",
          "max": "0",
          "histogram": [
           {
            "bin_start": -0.5,
            "bin_end": -0.4,
            "count": 0
           },
           {
            "bin_start": -0.4,
            "bin_end": -0.3,
            "count": 0
           },
           {
            "bin_start": -0.3,
            "bin_end": -0.19999999999999996,
            "count": 0
           },
           {
            "bin_start": -0.19999999999999996,
            "bin_end": -0.09999999999999998,
            "count": 0
           },
           {
            "bin_start": -0.09999999999999998,
            "bin_end": 0,
            "count": 0
           },
           {
            "bin_start": 0,
            "bin_end": 0.10000000000000009,
            "count": 5
           },
           {
            "bin_start": 0.10000000000000009,
            "bin_end": 0.20000000000000007,
            "count": 0
           },
           {
            "bin_start": 0.20000000000000007,
            "bin_end": 0.30000000000000004,
            "count": 0
           },
           {
            "bin_start": 0.30000000000000004,
            "bin_end": 0.4,
            "count": 0
           },
           {
            "bin_start": 0.4,
            "bin_end": 0.5,
            "count": 0
           }
          ]
         }
        },
        {
         "name": "xind_12_bin",
         "dtype": "uint8",
         "stats": {
          "unique_count": 1,
          "nan_count": 0,
          "min": "0",
          "max": "0",
          "histogram": [
           {
            "bin_start": -0.5,
            "bin_end": -0.4,
            "count": 0
           },
           {
            "bin_start": -0.4,
            "bin_end": -0.3,
            "count": 0
           },
           {
            "bin_start": -0.3,
            "bin_end": -0.19999999999999996,
            "count": 0
           },
           {
            "bin_start": -0.19999999999999996,
            "bin_end": -0.09999999999999998,
            "count": 0
           },
           {
            "bin_start": -0.09999999999999998,
            "bin_end": 0,
            "count": 0
           },
           {
            "bin_start": 0,
            "bin_end": 0.10000000000000009,
            "count": 5
           },
           {
            "bin_start": 0.10000000000000009,
            "bin_end": 0.20000000000000007,
            "count": 0
           },
           {
            "bin_start": 0.20000000000000007,
            "bin_end": 0.30000000000000004,
            "count": 0
           },
           {
            "bin_start": 0.30000000000000004,
            "bin_end": 0.4,
            "count": 0
           },
           {
            "bin_start": 0.4,
            "bin_end": 0.5,
            "count": 0
           }
          ]
         }
        },
        {
         "name": "xind_13_bin",
         "dtype": "uint8",
         "stats": {
          "unique_count": 1,
          "nan_count": 0,
          "min": "0",
          "max": "0",
          "histogram": [
           {
            "bin_start": -0.5,
            "bin_end": -0.4,
            "count": 0
           },
           {
            "bin_start": -0.4,
            "bin_end": -0.3,
            "count": 0
           },
           {
            "bin_start": -0.3,
            "bin_end": -0.19999999999999996,
            "count": 0
           },
           {
            "bin_start": -0.19999999999999996,
            "bin_end": -0.09999999999999998,
            "count": 0
           },
           {
            "bin_start": -0.09999999999999998,
            "bin_end": 0,
            "count": 0
           },
           {
            "bin_start": 0,
            "bin_end": 0.10000000000000009,
            "count": 5
           },
           {
            "bin_start": 0.10000000000000009,
            "bin_end": 0.20000000000000007,
            "count": 0
           },
           {
            "bin_start": 0.20000000000000007,
            "bin_end": 0.30000000000000004,
            "count": 0
           },
           {
            "bin_start": 0.30000000000000004,
            "bin_end": 0.4,
            "count": 0
           },
           {
            "bin_start": 0.4,
            "bin_end": 0.5,
            "count": 0
           }
          ]
         }
        },
        {
         "name": "xind_14",
         "dtype": "uint8",
         "stats": {
          "unique_count": 1,
          "nan_count": 0,
          "min": "0",
          "max": "0",
          "histogram": [
           {
            "bin_start": -0.5,
            "bin_end": -0.4,
            "count": 0
           },
           {
            "bin_start": -0.4,
            "bin_end": -0.3,
            "count": 0
           },
           {
            "bin_start": -0.3,
            "bin_end": -0.19999999999999996,
            "count": 0
           },
           {
            "bin_start": -0.19999999999999996,
            "bin_end": -0.09999999999999998,
            "count": 0
           },
           {
            "bin_start": -0.09999999999999998,
            "bin_end": 0,
            "count": 0
           },
           {
            "bin_start": 0,
            "bin_end": 0.10000000000000009,
            "count": 5
           },
           {
            "bin_start": 0.10000000000000009,
            "bin_end": 0.20000000000000007,
            "count": 0
           },
           {
            "bin_start": 0.20000000000000007,
            "bin_end": 0.30000000000000004,
            "count": 0
           },
           {
            "bin_start": 0.30000000000000004,
            "bin_end": 0.4,
            "count": 0
           },
           {
            "bin_start": 0.4,
            "bin_end": 0.5,
            "count": 0
           }
          ]
         }
        },
        {
         "name": "xind_15",
         "dtype": "uint8",
         "stats": {
          "unique_count": 3,
          "nan_count": 0,
          "min": "6",
          "max": "12",
          "histogram": [
           {
            "bin_start": 6,
            "bin_end": 6.6,
            "count": 1
           },
           {
            "bin_start": 6.6,
            "bin_end": 7.2,
            "count": 0
           },
           {
            "bin_start": 7.2,
            "bin_end": 7.8,
            "count": 0
           },
           {
            "bin_start": 7.8,
            "bin_end": 8.4,
            "count": 0
           },
           {
            "bin_start": 8.4,
            "bin_end": 9,
            "count": 0
           },
           {
            "bin_start": 9,
            "bin_end": 9.6,
            "count": 0
           },
           {
            "bin_start": 9.6,
            "bin_end": 10.2,
            "count": 3
           },
           {
            "bin_start": 10.2,
            "bin_end": 10.8,
            "count": 0
           },
           {
            "bin_start": 10.8,
            "bin_end": 11.399999999999999,
            "count": 0
           },
           {
            "bin_start": 11.399999999999999,
            "bin_end": 12,
            "count": 1
           }
          ]
         }
        },
        {
         "name": "xind_16_bin",
         "dtype": "uint8",
         "stats": {
          "unique_count": 1,
          "nan_count": 0,
          "min": "1",
          "max": "1",
          "histogram": [
           {
            "bin_start": 0.5,
            "bin_end": 0.6,
            "count": 0
           },
           {
            "bin_start": 0.6,
            "bin_end": 0.7,
            "count": 0
           },
           {
            "bin_start": 0.7,
            "bin_end": 0.8,
            "count": 0
           },
           {
            "bin_start": 0.8,
            "bin_end": 0.9,
            "count": 0
           },
           {
            "bin_start": 0.9,
            "bin_end": 1,
            "count": 0
           },
           {
            "bin_start": 1,
            "bin_end": 1.1,
            "count": 5
           },
           {
            "bin_start": 1.1,
            "bin_end": 1.2000000000000002,
            "count": 0
           },
           {
            "bin_start": 1.2000000000000002,
            "bin_end": 1.3,
            "count": 0
           },
           {
            "bin_start": 1.3,
            "bin_end": 1.4,
            "count": 0
           },
           {
            "bin_start": 1.4,
            "bin_end": 1.5,
            "count": 0
           }
          ]
         }
        },
        {
         "name": "xind_17_bin",
         "dtype": "uint8",
         "stats": {
          "unique_count": 1,
          "nan_count": 0,
          "min": "0",
          "max": "0",
          "histogram": [
           {
            "bin_start": -0.5,
            "bin_end": -0.4,
            "count": 0
           },
           {
            "bin_start": -0.4,
            "bin_end": -0.3,
            "count": 0
           },
           {
            "bin_start": -0.3,
            "bin_end": -0.19999999999999996,
            "count": 0
           },
           {
            "bin_start": -0.19999999999999996,
            "bin_end": -0.09999999999999998,
            "count": 0
           },
           {
            "bin_start": -0.09999999999999998,
            "bin_end": 0,
            "count": 0
           },
           {
            "bin_start": 0,
            "bin_end": 0.10000000000000009,
            "count": 5
           },
           {
            "bin_start": 0.10000000000000009,
            "bin_end": 0.20000000000000007,
            "count": 0
           },
           {
            "bin_start": 0.20000000000000007,
            "bin_end": 0.30000000000000004,
            "count": 0
           },
           {
            "bin_start": 0.30000000000000004,
            "bin_end": 0.4,
            "count": 0
           },
           {
            "bin_start": 0.4,
            "bin_end": 0.5,
            "count": 0
           }
          ]
         }
        },
        {
         "name": "xind_18_bin",
         "dtype": "uint8",
         "stats": {
          "unique_count": 1,
          "nan_count": 0,
          "min": "0",
          "max": "0",
          "histogram": [
           {
            "bin_start": -0.5,
            "bin_end": -0.4,
            "count": 0
           },
           {
            "bin_start": -0.4,
            "bin_end": -0.3,
            "count": 0
           },
           {
            "bin_start": -0.3,
            "bin_end": -0.19999999999999996,
            "count": 0
           },
           {
            "bin_start": -0.19999999999999996,
            "bin_end": -0.09999999999999998,
            "count": 0
           },
           {
            "bin_start": -0.09999999999999998,
            "bin_end": 0,
            "count": 0
           },
           {
            "bin_start": 0,
            "bin_end": 0.10000000000000009,
            "count": 5
           },
           {
            "bin_start": 0.10000000000000009,
            "bin_end": 0.20000000000000007,
            "count": 0
           },
           {
            "bin_start": 0.20000000000000007,
            "bin_end": 0.30000000000000004,
            "count": 0
           },
           {
            "bin_start": 0.30000000000000004,
            "bin_end": 0.4,
            "count": 0
           },
           {
            "bin_start": 0.4,
            "bin_end": 0.5,
            "count": 0
           }
          ]
         }
        },
        {
         "name": "xreg_01",
         "dtype": "float16",
         "stats": {
          "unique_count": 4,
          "nan_count": 0,
          "min": "0.0999755859375",
          "max": "0.7998046875",
          "histogram": [
           {
            "bin_start": 0.0999755859375,
            "bin_end": 0.169921875,
            "count": 1
           },
           {
            "bin_start": 0.169921875,
            "bin_end": 0.239990234375,
            "count": 0
           },
           {
            "bin_start": 0.239990234375,
            "bin_end": 0.309814453125,
            "count": 0
           },
           {
            "bin_start": 0.309814453125,
            "bin_end": 0.3798828125,
            "count": 0
           },
           {
            "bin_start": 0.3798828125,
            "bin_end": 0.449951171875,
            "count": 2
           },
           {
            "bin_start": 0.449951171875,
            "bin_end": 0.52001953125,
            "count": 0
           },
           {
            "bin_start": 0.52001953125,
            "bin_end": 0.58984375,
            "count": 0
           },
           {
            "bin_start": 0.58984375,
            "bin_end": 0.65966796875,
            "count": 1
           },
           {
            "bin_start": 0.65966796875,
            "bin_end": 0.72998046875,
            "count": 0
           },
           {
            "bin_start": 0.72998046875,
            "bin_end": 0.7998046875,
            "count": 1
           }
          ]
         }
        },
        {
         "name": "xreg_02",
         "dtype": "float16",
         "stats": {
          "unique_count": 2,
          "nan_count": 0,
          "min": "0.0",
          "max": "0.0999755859375",
          "histogram": [
           {
            "bin_start": 0,
            "bin_end": 0.0099945068359375,
            "count": 3
           },
           {
            "bin_start": 0.0099945068359375,
            "bin_end": 0.019989013671875,
            "count": 0
           },
           {
            "bin_start": 0.019989013671875,
            "bin_end": 0.029998779296875,
            "count": 0
           },
           {
            "bin_start": 0.029998779296875,
            "bin_end": 0.03997802734375,
            "count": 0
           },
           {
            "bin_start": 0.03997802734375,
            "bin_end": 0.04998779296875,
            "count": 0
           },
           {
            "bin_start": 0.04998779296875,
            "bin_end": 0.05999755859375,
            "count": 0
           },
           {
            "bin_start": 0.05999755859375,
            "bin_end": 0.07000732421875,
            "count": 0
           },
           {
            "bin_start": 0.07000732421875,
            "bin_end": 0.0799560546875,
            "count": 0
           },
           {
            "bin_start": 0.0799560546875,
            "bin_end": 0.0899658203125,
            "count": 0
           },
           {
            "bin_start": 0.0899658203125,
            "bin_end": 0.0999755859375,
            "count": 2
           }
          ]
         }
        },
        {
         "name": "xreg_03",
         "dtype": "float16",
         "stats": {
          "unique_count": 5,
          "nan_count": 0,
          "min": "-1.0",
          "max": "0.68505859375",
          "histogram": [
           {
            "bin_start": -1,
            "bin_end": -0.83154296875,
            "count": 1
           },
           {
            "bin_start": -0.83154296875,
            "bin_end": -0.6630859375,
            "count": 0
           },
           {
            "bin_start": -0.6630859375,
            "bin_end": -0.494384765625,
            "count": 0
           },
           {
            "bin_start": -0.494384765625,
            "bin_end": -0.325927734375,
            "count": 0
           },
           {
            "bin_start": -0.325927734375,
            "bin_end": -0.157470703125,
            "count": 0
           },
           {
            "bin_start": -0.157470703125,
            "bin_end": 0.0110321044921875,
            "count": 0
           },
           {
            "bin_start": 0.0110321044921875,
            "bin_end": 0.1795654296875,
            "count": 0
           },
           {
            "bin_start": 0.1795654296875,
            "bin_end": 0.34814453125,
            "count": 0
           },
           {
            "bin_start": 0.34814453125,
            "bin_end": 0.5166015625,
            "count": 2
           },
           {
            "bin_start": 0.5166015625,
            "bin_end": 0.68505859375,
            "count": 2
           }
          ]
         }
        },
        {
         "name": "xcar_01_cat",
         "dtype": "uint8",
         "stats": {
          "unique_count": 3,
          "nan_count": 0,
          "min": "6",
          "max": "10",
          "histogram": [
           {
            "bin_start": 6,
            "bin_end": 6.4,
            "count": 1
           },
           {
            "bin_start": 6.4,
            "bin_end": 6.8,
            "count": 0
           },
           {
            "bin_start": 6.8,
            "bin_end": 7.2,
            "count": 3
           },
           {
            "bin_start": 7.2,
            "bin_end": 7.6,
            "count": 0
           },
           {
            "bin_start": 7.6,
            "bin_end": 8,
            "count": 0
           },
           {
            "bin_start": 8,
            "bin_end": 8.4,
            "count": 0
           },
           {
            "bin_start": 8.4,
            "bin_end": 8.8,
            "count": 0
           },
           {
            "bin_start": 8.8,
            "bin_end": 9.2,
            "count": 0
           },
           {
            "bin_start": 9.2,
            "bin_end": 9.6,
            "count": 0
           },
           {
            "bin_start": 9.6,
            "bin_end": 10,
            "count": 1
           }
          ]
         }
        },
        {
         "name": "xcar_02_cat",
         "dtype": "uint8",
         "stats": {
          "unique_count": 1,
          "nan_count": 0,
          "min": "1",
          "max": "1",
          "histogram": [
           {
            "bin_start": 0.5,
            "bin_end": 0.6,
            "count": 0
           },
           {
            "bin_start": 0.6,
            "bin_end": 0.7,
            "count": 0
           },
           {
            "bin_start": 0.7,
            "bin_end": 0.8,
            "count": 0
           },
           {
            "bin_start": 0.8,
            "bin_end": 0.9,
            "count": 0
           },
           {
            "bin_start": 0.9,
            "bin_end": 1,
            "count": 0
           },
           {
            "bin_start": 1,
            "bin_end": 1.1,
            "count": 5
           },
           {
            "bin_start": 1.1,
            "bin_end": 1.2000000000000002,
            "count": 0
           },
           {
            "bin_start": 1.2000000000000002,
            "bin_end": 1.3,
            "count": 0
           },
           {
            "bin_start": 1.3,
            "bin_end": 1.4,
            "count": 0
           },
           {
            "bin_start": 1.4,
            "bin_end": 1.5,
            "count": 0
           }
          ]
         }
        },
        {
         "name": "xcar_03_cat",
         "dtype": "uint8",
         "stats": {
          "unique_count": 3,
          "nan_count": 0,
          "min": "0",
          "max": "255",
          "histogram": [
           {
            "bin_start": 0,
            "bin_end": 25.5,
            "count": 2
           },
           {
            "bin_start": 25.5,
            "bin_end": 51,
            "count": 0
           },
           {
            "bin_start": 51,
            "bin_end": 76.5,
            "count": 0
           },
           {
            "bin_start": 76.5,
            "bin_end": 102,
            "count": 0
           },
           {
            "bin_start": 102,
            "bin_end": 127.5,
            "count": 0
           },
           {
            "bin_start": 127.5,
            "bin_end": 153,
            "count": 0
           },
           {
            "bin_start": 153,
            "bin_end": 178.5,
            "count": 0
           },
           {
            "bin_start": 178.5,
            "bin_end": 204,
            "count": 0
           },
           {
            "bin_start": 204,
            "bin_end": 229.5,
            "count": 0
           },
           {
            "bin_start": 229.5,
            "bin_end": 255,
            "count": 3
           }
          ]
         }
        },
        {
         "name": "xcar_04_cat",
         "dtype": "uint8",
         "stats": {
          "unique_count": 1,
          "nan_count": 0,
          "min": "0",
          "max": "0",
          "histogram": [
           {
            "bin_start": -0.5,
            "bin_end": -0.4,
            "count": 0
           },
           {
            "bin_start": -0.4,
            "bin_end": -0.3,
            "count": 0
           },
           {
            "bin_start": -0.3,
            "bin_end": -0.19999999999999996,
            "count": 0
           },
           {
            "bin_start": -0.19999999999999996,
            "bin_end": -0.09999999999999998,
            "count": 0
           },
           {
            "bin_start": -0.09999999999999998,
            "bin_end": 0,
            "count": 0
           },
           {
            "bin_start": 0,
            "bin_end": 0.10000000000000009,
            "count": 5
           },
           {
            "bin_start": 0.10000000000000009,
            "bin_end": 0.20000000000000007,
            "count": 0
           },
           {
            "bin_start": 0.20000000000000007,
            "bin_end": 0.30000000000000004,
            "count": 0
           },
           {
            "bin_start": 0.30000000000000004,
            "bin_end": 0.4,
            "count": 0
           },
           {
            "bin_start": 0.4,
            "bin_end": 0.5,
            "count": 0
           }
          ]
         }
        },
        {
         "name": "xcar_05_cat",
         "dtype": "uint8",
         "stats": {
          "unique_count": 3,
          "nan_count": 0,
          "min": "0",
          "max": "255",
          "histogram": [
           {
            "bin_start": 0,
            "bin_end": 25.5,
            "count": 3
           },
           {
            "bin_start": 25.5,
            "bin_end": 51,
            "count": 0
           },
           {
            "bin_start": 51,
            "bin_end": 76.5,
            "count": 0
           },
           {
            "bin_start": 76.5,
            "bin_end": 102,
            "count": 0
           },
           {
            "bin_start": 102,
            "bin_end": 127.5,
            "count": 0
           },
           {
            "bin_start": 127.5,
            "bin_end": 153,
            "count": 0
           },
           {
            "bin_start": 153,
            "bin_end": 178.5,
            "count": 0
           },
           {
            "bin_start": 178.5,
            "bin_end": 204,
            "count": 0
           },
           {
            "bin_start": 204,
            "bin_end": 229.5,
            "count": 0
           },
           {
            "bin_start": 229.5,
            "bin_end": 255,
            "count": 2
           }
          ]
         }
        },
        {
         "name": "xcar_06_cat",
         "dtype": "uint8",
         "stats": {
          "unique_count": 5,
          "nan_count": 0,
          "min": "0",
          "max": "14",
          "histogram": [
           {
            "bin_start": 0,
            "bin_end": 1.4,
            "count": 2
           },
           {
            "bin_start": 1.4,
            "bin_end": 2.8,
            "count": 0
           },
           {
            "bin_start": 2.8,
            "bin_end": 4.199999999999999,
            "count": 0
           },
           {
            "bin_start": 4.199999999999999,
            "bin_end": 5.6,
            "count": 0
           },
           {
            "bin_start": 5.6,
            "bin_end": 7,
            "count": 0
           },
           {
            "bin_start": 7,
            "bin_end": 8.399999999999999,
            "count": 1
           },
           {
            "bin_start": 8.399999999999999,
            "bin_end": 9.799999999999999,
            "count": 0
           },
           {
            "bin_start": 9.799999999999999,
            "bin_end": 11.2,
            "count": 1
           },
           {
            "bin_start": 11.2,
            "bin_end": 12.6,
            "count": 0
           },
           {
            "bin_start": 12.6,
            "bin_end": 14,
            "count": 1
           }
          ]
         }
        },
        {
         "name": "xcar_07_cat",
         "dtype": "uint8",
         "stats": {
          "unique_count": 1,
          "nan_count": 0,
          "min": "1",
          "max": "1",
          "histogram": [
           {
            "bin_start": 0.5,
            "bin_end": 0.6,
            "count": 0
           },
           {
            "bin_start": 0.6,
            "bin_end": 0.7,
            "count": 0
           },
           {
            "bin_start": 0.7,
            "bin_end": 0.8,
            "count": 0
           },
           {
            "bin_start": 0.8,
            "bin_end": 0.9,
            "count": 0
           },
           {
            "bin_start": 0.9,
            "bin_end": 1,
            "count": 0
           },
           {
            "bin_start": 1,
            "bin_end": 1.1,
            "count": 5
           },
           {
            "bin_start": 1.1,
            "bin_end": 1.2000000000000002,
            "count": 0
           },
           {
            "bin_start": 1.2000000000000002,
            "bin_end": 1.3,
            "count": 0
           },
           {
            "bin_start": 1.3,
            "bin_end": 1.4,
            "count": 0
           },
           {
            "bin_start": 1.4,
            "bin_end": 1.5,
            "count": 0
           }
          ]
         }
        },
        {
         "name": "xcar_08_cat",
         "dtype": "uint8",
         "stats": {
          "unique_count": 1,
          "nan_count": 0,
          "min": "1",
          "max": "1",
          "histogram": [
           {
            "bin_start": 0.5,
            "bin_end": 0.6,
            "count": 0
           },
           {
            "bin_start": 0.6,
            "bin_end": 0.7,
            "count": 0
           },
           {
            "bin_start": 0.7,
            "bin_end": 0.8,
            "count": 0
           },
           {
            "bin_start": 0.8,
            "bin_end": 0.9,
            "count": 0
           },
           {
            "bin_start": 0.9,
            "bin_end": 1,
            "count": 0
           },
           {
            "bin_start": 1,
            "bin_end": 1.1,
            "count": 5
           },
           {
            "bin_start": 1.1,
            "bin_end": 1.2000000000000002,
            "count": 0
           },
           {
            "bin_start": 1.2000000000000002,
            "bin_end": 1.3,
            "count": 0
           },
           {
            "bin_start": 1.3,
            "bin_end": 1.4,
            "count": 0
           },
           {
            "bin_start": 1.4,
            "bin_end": 1.5,
            "count": 0
           }
          ]
         }
        },
        {
         "name": "xcar_09_cat",
         "dtype": "uint8",
         "stats": {
          "unique_count": 2,
          "nan_count": 0,
          "min": "0",
          "max": "2",
          "histogram": [
           {
            "bin_start": 0,
            "bin_end": 0.2,
            "count": 3
           },
           {
            "bin_start": 0.2,
            "bin_end": 0.4,
            "count": 0
           },
           {
            "bin_start": 0.4,
            "bin_end": 0.6000000000000001,
            "count": 0
           },
           {
            "bin_start": 0.6000000000000001,
            "bin_end": 0.8,
            "count": 0
           },
           {
            "bin_start": 0.8,
            "bin_end": 1,
            "count": 0
           },
           {
            "bin_start": 1,
            "bin_end": 1.2000000000000002,
            "count": 0
           },
           {
            "bin_start": 1.2000000000000002,
            "bin_end": 1.4000000000000001,
            "count": 0
           },
           {
            "bin_start": 1.4000000000000001,
            "bin_end": 1.6,
            "count": 0
           },
           {
            "bin_start": 1.6,
            "bin_end": 1.8,
            "count": 0
           },
           {
            "bin_start": 1.8,
            "bin_end": 2,
            "count": 2
           }
          ]
         }
        },
        {
         "name": "xcar_10_cat",
         "dtype": "uint8",
         "stats": {
          "unique_count": 1,
          "nan_count": 0,
          "min": "1",
          "max": "1",
          "histogram": [
           {
            "bin_start": 0.5,
            "bin_end": 0.6,
            "count": 0
           },
           {
            "bin_start": 0.6,
            "bin_end": 0.7,
            "count": 0
           },
           {
            "bin_start": 0.7,
            "bin_end": 0.8,
            "count": 0
           },
           {
            "bin_start": 0.8,
            "bin_end": 0.9,
            "count": 0
           },
           {
            "bin_start": 0.9,
            "bin_end": 1,
            "count": 0
           },
           {
            "bin_start": 1,
            "bin_end": 1.1,
            "count": 5
           },
           {
            "bin_start": 1.1,
            "bin_end": 1.2000000000000002,
            "count": 0
           },
           {
            "bin_start": 1.2000000000000002,
            "bin_end": 1.3,
            "count": 0
           },
           {
            "bin_start": 1.3,
            "bin_end": 1.4,
            "count": 0
           },
           {
            "bin_start": 1.4,
            "bin_end": 1.5,
            "count": 0
           }
          ]
         }
        },
        {
         "name": "xcar_11_cat",
         "dtype": "uint8",
         "stats": {
          "unique_count": 5,
          "nan_count": 0,
          "min": "42",
          "max": "104",
          "histogram": [
           {
            "bin_start": 42,
            "bin_end": 48.2,
            "count": 1
           },
           {
            "bin_start": 48.2,
            "bin_end": 54.4,
            "count": 0
           },
           {
            "bin_start": 54.4,
            "bin_end": 60.6,
            "count": 0
           },
           {
            "bin_start": 60.6,
            "bin_end": 66.8,
            "count": 0
           },
           {
            "bin_start": 66.8,
            "bin_end": 73,
            "count": 0
           },
           {
            "bin_start": 73,
            "bin_end": 79.2,
            "count": 0
           },
           {
            "bin_start": 79.2,
            "bin_end": 85.4,
            "count": 1
           },
           {
            "bin_start": 85.4,
            "bin_end": 91.6,
            "count": 0
           },
           {
            "bin_start": 91.6,
            "bin_end": 97.80000000000001,
            "count": 1
           },
           {
            "bin_start": 97.80000000000001,
            "bin_end": 104,
            "count": 2
           }
          ]
         }
        },
        {
         "name": "xcar_11",
         "dtype": "uint8",
         "stats": {
          "unique_count": 2,
          "nan_count": 0,
          "min": "2",
          "max": "3",
          "histogram": [
           {
            "bin_start": 2,
            "bin_end": 2.1,
            "count": 3
           },
           {
            "bin_start": 2.1,
            "bin_end": 2.2,
            "count": 0
           },
           {
            "bin_start": 2.2,
            "bin_end": 2.3,
            "count": 0
           },
           {
            "bin_start": 2.3,
            "bin_end": 2.4,
            "count": 0
           },
           {
            "bin_start": 2.4,
            "bin_end": 2.5,
            "count": 0
           },
           {
            "bin_start": 2.5,
            "bin_end": 2.6,
            "count": 0
           },
           {
            "bin_start": 2.6,
            "bin_end": 2.7,
            "count": 0
           },
           {
            "bin_start": 2.7,
            "bin_end": 2.8,
            "count": 0
           },
           {
            "bin_start": 2.8,
            "bin_end": 2.9,
            "count": 0
           },
           {
            "bin_start": 2.9,
            "bin_end": 3,
            "count": 2
           }
          ]
         }
        },
        {
         "name": "xcar_12",
         "dtype": "float16",
         "stats": {
          "unique_count": 2,
          "nan_count": 0,
          "min": "0.316162109375",
          "max": "0.39990234375",
          "histogram": [
           {
            "bin_start": 0.316162109375,
            "bin_end": 0.324462890625,
            "count": 2
           },
           {
            "bin_start": 0.324462890625,
            "bin_end": 0.3330078125,
            "count": 0
           },
           {
            "bin_start": 0.3330078125,
            "bin_end": 0.34130859375,
            "count": 0
           },
           {
            "bin_start": 0.34130859375,
            "bin_end": 0.349609375,
            "count": 0
           },
           {
            "bin_start": 0.349609375,
            "bin_end": 0.35791015625,
            "count": 0
           },
           {
            "bin_start": 0.35791015625,
            "bin_end": 0.366455078125,
            "count": 0
           },
           {
            "bin_start": 0.366455078125,
            "bin_end": 0.374755859375,
            "count": 0
           },
           {
            "bin_start": 0.374755859375,
            "bin_end": 0.383056640625,
            "count": 0
           },
           {
            "bin_start": 0.383056640625,
            "bin_end": 0.3916015625,
            "count": 0
           },
           {
            "bin_start": 0.3916015625,
            "bin_end": 0.39990234375,
            "count": 3
           }
          ]
         }
        },
        {
         "name": "xcar_13",
         "dtype": "float16",
         "stats": {
          "unique_count": 5,
          "nan_count": 0,
          "min": "0.63330078125",
          "max": "1.0166015625",
          "histogram": [
           {
            "bin_start": 0.63330078125,
            "bin_end": 0.671875,
            "count": 1
           },
           {
            "bin_start": 0.671875,
            "bin_end": 0.7099609375,
            "count": 0
           },
           {
            "bin_start": 0.7099609375,
            "bin_end": 0.748046875,
            "count": 1
           },
           {
            "bin_start": 0.748046875,
            "bin_end": 0.78662109375,
            "count": 1
           },
           {
            "bin_start": 0.78662109375,
            "bin_end": 0.8251953125,
            "count": 1
           },
           {
            "bin_start": 0.8251953125,
            "bin_end": 0.86328125,
            "count": 0
           },
           {
            "bin_start": 0.86328125,
            "bin_end": 0.9013671875,
            "count": 0
           },
           {
            "bin_start": 0.9013671875,
            "bin_end": 0.93994140625,
            "count": 0
           },
           {
            "bin_start": 0.93994140625,
            "bin_end": 0.978515625,
            "count": 0
           },
           {
            "bin_start": 0.978515625,
            "bin_end": 1.0166015625,
            "count": 1
           }
          ]
         }
        },
        {
         "name": "xcar_14",
         "dtype": "float16",
         "stats": {
          "unique_count": 5,
          "nan_count": 0,
          "min": "-1.0",
          "max": "0.42578125",
          "histogram": [
           {
            "bin_start": -1,
            "bin_end": -0.857421875,
            "count": 1
           },
           {
            "bin_start": -0.857421875,
            "bin_end": -0.71484375,
            "count": 0
           },
           {
            "bin_start": -0.71484375,
            "bin_end": -0.572265625,
            "count": 0
           },
           {
            "bin_start": -0.572265625,
            "bin_end": -0.4296875,
            "count": 0
           },
           {
            "bin_start": -0.4296875,
            "bin_end": -0.287109375,
            "count": 0
           },
           {
            "bin_start": -0.287109375,
            "bin_end": -0.14453125,
            "count": 0
           },
           {
            "bin_start": -0.14453125,
            "bin_end": -0.001953125,
            "count": 0
           },
           {
            "bin_start": -0.001953125,
            "bin_end": 0.140625,
            "count": 0
           },
           {
            "bin_start": 0.140625,
            "bin_end": 0.283203125,
            "count": 0
           },
           {
            "bin_start": 0.283203125,
            "bin_end": 0.42578125,
            "count": 4
           }
          ]
         }
        },
        {
         "name": "xcar_15",
         "dtype": "float16",
         "stats": {
          "unique_count": 5,
          "nan_count": 0,
          "min": "2.828125",
          "max": "3.7421875",
          "histogram": [
           {
            "bin_start": 2.828125,
            "bin_end": 2.919921875,
            "count": 1
           },
           {
            "bin_start": 2.919921875,
            "bin_end": 3.01171875,
            "count": 1
           },
           {
            "bin_start": 3.01171875,
            "bin_end": 3.1015625,
            "count": 0
           },
           {
            "bin_start": 3.1015625,
            "bin_end": 3.193359375,
            "count": 0
           },
           {
            "bin_start": 3.193359375,
            "bin_end": 3.28515625,
            "count": 0
           },
           {
            "bin_start": 3.28515625,
            "bin_end": 3.376953125,
            "count": 0
           },
           {
            "bin_start": 3.376953125,
            "bin_end": 3.46875,
            "count": 1
           },
           {
            "bin_start": 3.46875,
            "bin_end": 3.55859375,
            "count": 0
           },
           {
            "bin_start": 3.55859375,
            "bin_end": 3.650390625,
            "count": 1
           },
           {
            "bin_start": 3.650390625,
            "bin_end": 3.7421875,
            "count": 1
           }
          ]
         }
        },
        {
         "name": "xcalc_01",
         "dtype": "float16",
         "stats": {
          "unique_count": 5,
          "nan_count": 0,
          "min": "0.0",
          "max": "0.89990234375",
          "histogram": [
           {
            "bin_start": 0,
            "bin_end": 0.0899658203125,
            "count": 1
           },
           {
            "bin_start": 0.0899658203125,
            "bin_end": 0.179931640625,
            "count": 0
           },
           {
            "bin_start": 0.179931640625,
            "bin_end": 0.27001953125,
            "count": 1
           },
           {
            "bin_start": 0.27001953125,
            "bin_end": 0.35986328125,
            "count": 0
           },
           {
            "bin_start": 0.35986328125,
            "bin_end": 0.449951171875,
            "count": 1
           },
           {
            "bin_start": 0.449951171875,
            "bin_end": 0.5400390625,
            "count": 0
           },
           {
            "bin_start": 0.5400390625,
            "bin_end": 0.6298828125,
            "count": 0
           },
           {
            "bin_start": 0.6298828125,
            "bin_end": 0.7197265625,
            "count": 1
           },
           {
            "bin_start": 0.7197265625,
            "bin_end": 0.81005859375,
            "count": 0
           },
           {
            "bin_start": 0.81005859375,
            "bin_end": 0.89990234375,
            "count": 1
           }
          ]
         }
        },
        {
         "name": "xcalc_02",
         "dtype": "float16",
         "stats": {
          "unique_count": 5,
          "nan_count": 0,
          "min": "0.300048828125",
          "max": "0.89990234375",
          "histogram": [
           {
            "bin_start": 0.300048828125,
            "bin_end": 0.360107421875,
            "count": 1
           },
           {
            "bin_start": 0.360107421875,
            "bin_end": 0.419921875,
            "count": 0
           },
           {
            "bin_start": 0.419921875,
            "bin_end": 0.47998046875,
            "count": 0
           },
           {
            "bin_start": 0.47998046875,
            "bin_end": 0.5400390625,
            "count": 1
           },
           {
            "bin_start": 0.5400390625,
            "bin_end": 0.60009765625,
            "count": 0
           },
           {
            "bin_start": 0.60009765625,
            "bin_end": 0.66015625,
            "count": 1
           },
           {
            "bin_start": 0.66015625,
            "bin_end": 0.7197265625,
            "count": 1
           },
           {
            "bin_start": 0.7197265625,
            "bin_end": 0.77978515625,
            "count": 0
           },
           {
            "bin_start": 0.77978515625,
            "bin_end": 0.83984375,
            "count": 0
           },
           {
            "bin_start": 0.83984375,
            "bin_end": 0.89990234375,
            "count": 1
           }
          ]
         }
        },
        {
         "name": "xcalc_03",
         "dtype": "float16",
         "stats": {
          "unique_count": 5,
          "nan_count": 0,
          "min": "0.0",
          "max": "0.89990234375",
          "histogram": [
           {
            "bin_start": 0,
            "bin_end": 0.0899658203125,
            "count": 1
           },
           {
            "bin_start": 0.0899658203125,
            "bin_end": 0.179931640625,
            "count": 0
           },
           {
            "bin_start": 0.179931640625,
            "bin_end": 0.27001953125,
            "count": 1
           },
           {
            "bin_start": 0.27001953125,
            "bin_end": 0.35986328125,
            "count": 0
           },
           {
            "bin_start": 0.35986328125,
            "bin_end": 0.449951171875,
            "count": 1
           },
           {
            "bin_start": 0.449951171875,
            "bin_end": 0.5400390625,
            "count": 0
           },
           {
            "bin_start": 0.5400390625,
            "bin_end": 0.6298828125,
            "count": 1
           },
           {
            "bin_start": 0.6298828125,
            "bin_end": 0.7197265625,
            "count": 0
           },
           {
            "bin_start": 0.7197265625,
            "bin_end": 0.81005859375,
            "count": 0
           },
           {
            "bin_start": 0.81005859375,
            "bin_end": 0.89990234375,
            "count": 1
           }
          ]
         }
        },
        {
         "name": "xcalc_04",
         "dtype": "uint8",
         "stats": {
          "unique_count": 4,
          "nan_count": 0,
          "min": "0",
          "max": "4",
          "histogram": [
           {
            "bin_start": 0,
            "bin_end": 0.4,
            "count": 1
           },
           {
            "bin_start": 0.4,
            "bin_end": 0.8,
            "count": 0
           },
           {
            "bin_start": 0.8,
            "bin_end": 1.2000000000000002,
            "count": 0
           },
           {
            "bin_start": 1.2000000000000002,
            "bin_end": 1.6,
            "count": 0
           },
           {
            "bin_start": 1.6,
            "bin_end": 2,
            "count": 0
           },
           {
            "bin_start": 2,
            "bin_end": 2.4000000000000004,
            "count": 1
           },
           {
            "bin_start": 2.4000000000000004,
            "bin_end": 2.8000000000000003,
            "count": 0
           },
           {
            "bin_start": 2.8000000000000003,
            "bin_end": 3.2,
            "count": 2
           },
           {
            "bin_start": 3.2,
            "bin_end": 3.6,
            "count": 0
           },
           {
            "bin_start": 3.6,
            "bin_end": 4,
            "count": 1
           }
          ]
         }
        },
        {
         "name": "xcalc_05",
         "dtype": "uint8",
         "stats": {
          "unique_count": 4,
          "nan_count": 0,
          "min": "0",
          "max": "3",
          "histogram": [
           {
            "bin_start": 0,
            "bin_end": 0.3,
            "count": 1
           },
           {
            "bin_start": 0.3,
            "bin_end": 0.6,
            "count": 0
           },
           {
            "bin_start": 0.6,
            "bin_end": 0.8999999999999999,
            "count": 0
           },
           {
            "bin_start": 0.8999999999999999,
            "bin_end": 1.2,
            "count": 2
           },
           {
            "bin_start": 1.2,
            "bin_end": 1.5,
            "count": 0
           },
           {
            "bin_start": 1.5,
            "bin_end": 1.7999999999999998,
            "count": 0
           },
           {
            "bin_start": 1.7999999999999998,
            "bin_end": 2.1,
            "count": 1
           },
           {
            "bin_start": 2.1,
            "bin_end": 2.4,
            "count": 0
           },
           {
            "bin_start": 2.4,
            "bin_end": 2.6999999999999997,
            "count": 0
           },
           {
            "bin_start": 2.6999999999999997,
            "bin_end": 3,
            "count": 1
           }
          ]
         }
        },
        {
         "name": "xcalc_06",
         "dtype": "uint8",
         "stats": {
          "unique_count": 4,
          "nan_count": 0,
          "min": "6",
          "max": "10",
          "histogram": [
           {
            "bin_start": 6,
            "bin_end": 6.4,
            "count": 1
           },
           {
            "bin_start": 6.4,
            "bin_end": 6.8,
            "count": 0
           },
           {
            "bin_start": 6.8,
            "bin_end": 7.2,
            "count": 1
           },
           {
            "bin_start": 7.2,
            "bin_end": 7.6,
            "count": 0
           },
           {
            "bin_start": 7.6,
            "bin_end": 8,
            "count": 0
           },
           {
            "bin_start": 8,
            "bin_end": 8.4,
            "count": 0
           },
           {
            "bin_start": 8.4,
            "bin_end": 8.8,
            "count": 0
           },
           {
            "bin_start": 8.8,
            "bin_end": 9.2,
            "count": 2
           },
           {
            "bin_start": 9.2,
            "bin_end": 9.6,
            "count": 0
           },
           {
            "bin_start": 9.6,
            "bin_end": 10,
            "count": 1
           }
          ]
         }
        },
        {
         "name": "xcalc_07",
         "dtype": "uint8",
         "stats": {
          "unique_count": 2,
          "nan_count": 0,
          "min": "3",
          "max": "5",
          "histogram": [
           {
            "bin_start": 3,
            "bin_end": 3.2,
            "count": 3
           },
           {
            "bin_start": 3.2,
            "bin_end": 3.4,
            "count": 0
           },
           {
            "bin_start": 3.4,
            "bin_end": 3.6,
            "count": 0
           },
           {
            "bin_start": 3.6,
            "bin_end": 3.8,
            "count": 0
           },
           {
            "bin_start": 3.8,
            "bin_end": 4,
            "count": 0
           },
           {
            "bin_start": 4,
            "bin_end": 4.2,
            "count": 0
           },
           {
            "bin_start": 4.2,
            "bin_end": 4.4,
            "count": 0
           },
           {
            "bin_start": 4.4,
            "bin_end": 4.6,
            "count": 0
           },
           {
            "bin_start": 4.6,
            "bin_end": 4.8,
            "count": 0
           },
           {
            "bin_start": 4.8,
            "bin_end": 5,
            "count": 2
           }
          ]
         }
        },
        {
         "name": "xcalc_08",
         "dtype": "uint8",
         "stats": {
          "unique_count": 3,
          "nan_count": 0,
          "min": "4",
          "max": "10",
          "histogram": [
           {
            "bin_start": 4,
            "bin_end": 4.6,
            "count": 1
           },
           {
            "bin_start": 4.6,
            "bin_end": 5.2,
            "count": 0
           },
           {
            "bin_start": 5.2,
            "bin_end": 5.8,
            "count": 0
           },
           {
            "bin_start": 5.8,
            "bin_end": 6.4,
            "count": 0
           },
           {
            "bin_start": 6.4,
            "bin_end": 7,
            "count": 0
           },
           {
            "bin_start": 7,
            "bin_end": 7.6,
            "count": 0
           },
           {
            "bin_start": 7.6,
            "bin_end": 8.2,
            "count": 0
           },
           {
            "bin_start": 8.2,
            "bin_end": 8.8,
            "count": 0
           },
           {
            "bin_start": 8.8,
            "bin_end": 9.399999999999999,
            "count": 2
           },
           {
            "bin_start": 9.399999999999999,
            "bin_end": 10,
            "count": 2
           }
          ]
         }
        },
        {
         "name": "xcalc_09",
         "dtype": "uint8",
         "stats": {
          "unique_count": 3,
          "nan_count": 0,
          "min": "1",
          "max": "3",
          "histogram": [
           {
            "bin_start": 1,
            "bin_end": 1.2,
            "count": 1
           },
           {
            "bin_start": 1.2,
            "bin_end": 1.4,
            "count": 0
           },
           {
            "bin_start": 1.4,
            "bin_end": 1.6,
            "count": 0
           },
           {
            "bin_start": 1.6,
            "bin_end": 1.8,
            "count": 0
           },
           {
            "bin_start": 1.8,
            "bin_end": 2,
            "count": 0
           },
           {
            "bin_start": 2,
            "bin_end": 2.2,
            "count": 3
           },
           {
            "bin_start": 2.2,
            "bin_end": 2.4000000000000004,
            "count": 0
           },
           {
            "bin_start": 2.4000000000000004,
            "bin_end": 2.6,
            "count": 0
           },
           {
            "bin_start": 2.6,
            "bin_end": 2.8,
            "count": 0
           },
           {
            "bin_start": 2.8,
            "bin_end": 3,
            "count": 1
           }
          ]
         }
        },
        {
         "name": "xcalc_10",
         "dtype": "uint8",
         "stats": {
          "unique_count": 5,
          "nan_count": 0,
          "min": "0",
          "max": "11",
          "histogram": [
           {
            "bin_start": 0,
            "bin_end": 1.1,
            "count": 1
           },
           {
            "bin_start": 1.1,
            "bin_end": 2.2,
            "count": 0
           },
           {
            "bin_start": 2.2,
            "bin_end": 3.3000000000000003,
            "count": 0
           },
           {
            "bin_start": 3.3000000000000003,
            "bin_end": 4.4,
            "count": 1
           },
           {
            "bin_start": 4.4,
            "bin_end": 5.5,
            "count": 0
           },
           {
            "bin_start": 5.5,
            "bin_end": 6.6000000000000005,
            "count": 1
           },
           {
            "bin_start": 6.6000000000000005,
            "bin_end": 7.700000000000001,
            "count": 0
           },
           {
            "bin_start": 7.700000000000001,
            "bin_end": 8.8,
            "count": 0
           },
           {
            "bin_start": 8.8,
            "bin_end": 9.9,
            "count": 1
           },
           {
            "bin_start": 9.9,
            "bin_end": 11,
            "count": 1
           }
          ]
         }
        },
        {
         "name": "xcalc_11",
         "dtype": "uint8",
         "stats": {
          "unique_count": 4,
          "nan_count": 0,
          "min": "3",
          "max": "9",
          "histogram": [
           {
            "bin_start": 3,
            "bin_end": 3.6,
            "count": 1
           },
           {
            "bin_start": 3.6,
            "bin_end": 4.2,
            "count": 2
           },
           {
            "bin_start": 4.2,
            "bin_end": 4.8,
            "count": 0
           },
           {
            "bin_start": 4.8,
            "bin_end": 5.4,
            "count": 1
           },
           {
            "bin_start": 5.4,
            "bin_end": 6,
            "count": 0
           },
           {
            "bin_start": 6,
            "bin_end": 6.6,
            "count": 0
           },
           {
            "bin_start": 6.6,
            "bin_end": 7.2,
            "count": 0
           },
           {
            "bin_start": 7.2,
            "bin_end": 7.8,
            "count": 0
           },
           {
            "bin_start": 7.8,
            "bin_end": 8.399999999999999,
            "count": 0
           },
           {
            "bin_start": 8.399999999999999,
            "bin_end": 9,
            "count": 1
           }
          ]
         }
        },
        {
         "name": "xcalc_12",
         "dtype": "uint8",
         "stats": {
          "unique_count": 3,
          "nan_count": 0,
          "min": "0",
          "max": "3",
          "histogram": [
           {
            "bin_start": 0,
            "bin_end": 0.3,
            "count": 3
           },
           {
            "bin_start": 0.3,
            "bin_end": 0.6,
            "count": 0
           },
           {
            "bin_start": 0.6,
            "bin_end": 0.8999999999999999,
            "count": 0
           },
           {
            "bin_start": 0.8999999999999999,
            "bin_end": 1.2,
            "count": 0
           },
           {
            "bin_start": 1.2,
            "bin_end": 1.5,
            "count": 0
           },
           {
            "bin_start": 1.5,
            "bin_end": 1.7999999999999998,
            "count": 0
           },
           {
            "bin_start": 1.7999999999999998,
            "bin_end": 2.1,
            "count": 1
           },
           {
            "bin_start": 2.1,
            "bin_end": 2.4,
            "count": 0
           },
           {
            "bin_start": 2.4,
            "bin_end": 2.6999999999999997,
            "count": 0
           },
           {
            "bin_start": 2.6999999999999997,
            "bin_end": 3,
            "count": 1
           }
          ]
         }
        },
        {
         "name": "xcalc_13",
         "dtype": "uint8",
         "stats": {
          "unique_count": 4,
          "nan_count": 0,
          "min": "1",
          "max": "4",
          "histogram": [
           {
            "bin_start": 1,
            "bin_end": 1.3,
            "count": 1
           },
           {
            "bin_start": 1.3,
            "bin_end": 1.6,
            "count": 0
           },
           {
            "bin_start": 1.6,
            "bin_end": 1.9,
            "count": 0
           },
           {
            "bin_start": 1.9,
            "bin_end": 2.2,
            "count": 2
           },
           {
            "bin_start": 2.2,
            "bin_end": 2.5,
            "count": 0
           },
           {
            "bin_start": 2.5,
            "bin_end": 2.8,
            "count": 0
           },
           {
            "bin_start": 2.8,
            "bin_end": 3.1,
            "count": 1
           },
           {
            "bin_start": 3.1,
            "bin_end": 3.4,
            "count": 0
           },
           {
            "bin_start": 3.4,
            "bin_end": 3.6999999999999997,
            "count": 0
           },
           {
            "bin_start": 3.6999999999999997,
            "bin_end": 4,
            "count": 1
           }
          ]
         }
        },
        {
         "name": "xcalc_14",
         "dtype": "uint8",
         "stats": {
          "unique_count": 4,
          "nan_count": 0,
          "min": "2",
          "max": "8",
          "histogram": [
           {
            "bin_start": 2,
            "bin_end": 2.6,
            "count": 1
           },
           {
            "bin_start": 2.6,
            "bin_end": 3.2,
            "count": 0
           },
           {
            "bin_start": 3.2,
            "bin_end": 3.8,
            "count": 0
           },
           {
            "bin_start": 3.8,
            "bin_end": 4.4,
            "count": 0
           },
           {
            "bin_start": 4.4,
            "bin_end": 5,
            "count": 0
           },
           {
            "bin_start": 5,
            "bin_end": 5.6,
            "count": 0
           },
           {
            "bin_start": 5.6,
            "bin_end": 6.2,
            "count": 1
           },
           {
            "bin_start": 6.2,
            "bin_end": 6.8,
            "count": 0
           },
           {
            "bin_start": 6.8,
            "bin_end": 7.3999999999999995,
            "count": 1
           },
           {
            "bin_start": 7.3999999999999995,
            "bin_end": 8,
            "count": 2
           }
          ]
         }
        },
        {
         "name": "xcalc_15_bin",
         "dtype": "uint8",
         "stats": {
          "unique_count": 1,
          "nan_count": 0,
          "min": "0",
          "max": "0",
          "histogram": [
           {
            "bin_start": -0.5,
            "bin_end": -0.4,
            "count": 0
           },
           {
            "bin_start": -0.4,
            "bin_end": -0.3,
            "count": 0
           },
           {
            "bin_start": -0.3,
            "bin_end": -0.19999999999999996,
            "count": 0
           },
           {
            "bin_start": -0.19999999999999996,
            "bin_end": -0.09999999999999998,
            "count": 0
           },
           {
            "bin_start": -0.09999999999999998,
            "bin_end": 0,
            "count": 0
           },
           {
            "bin_start": 0,
            "bin_end": 0.10000000000000009,
            "count": 5
           },
           {
            "bin_start": 0.10000000000000009,
            "bin_end": 0.20000000000000007,
            "count": 0
           },
           {
            "bin_start": 0.20000000000000007,
            "bin_end": 0.30000000000000004,
            "count": 0
           },
           {
            "bin_start": 0.30000000000000004,
            "bin_end": 0.4,
            "count": 0
           },
           {
            "bin_start": 0.4,
            "bin_end": 0.5,
            "count": 0
           }
          ]
         }
        },
        {
         "name": "xcalc_16_bin",
         "dtype": "uint8",
         "stats": {
          "unique_count": 2,
          "nan_count": 0,
          "min": "0",
          "max": "1",
          "histogram": [
           {
            "bin_start": 0,
            "bin_end": 0.1,
            "count": 3
           },
           {
            "bin_start": 0.1,
            "bin_end": 0.2,
            "count": 0
           },
           {
            "bin_start": 0.2,
            "bin_end": 0.30000000000000004,
            "count": 0
           },
           {
            "bin_start": 0.30000000000000004,
            "bin_end": 0.4,
            "count": 0
           },
           {
            "bin_start": 0.4,
            "bin_end": 0.5,
            "count": 0
           },
           {
            "bin_start": 0.5,
            "bin_end": 0.6000000000000001,
            "count": 0
           },
           {
            "bin_start": 0.6000000000000001,
            "bin_end": 0.7000000000000001,
            "count": 0
           },
           {
            "bin_start": 0.7000000000000001,
            "bin_end": 0.8,
            "count": 0
           },
           {
            "bin_start": 0.8,
            "bin_end": 0.9,
            "count": 0
           },
           {
            "bin_start": 0.9,
            "bin_end": 1,
            "count": 2
           }
          ]
         }
        },
        {
         "name": "xcalc_17_bin",
         "dtype": "uint8",
         "stats": {
          "unique_count": 2,
          "nan_count": 0,
          "min": "0",
          "max": "1",
          "histogram": [
           {
            "bin_start": 0,
            "bin_end": 0.1,
            "count": 3
           },
           {
            "bin_start": 0.1,
            "bin_end": 0.2,
            "count": 0
           },
           {
            "bin_start": 0.2,
            "bin_end": 0.30000000000000004,
            "count": 0
           },
           {
            "bin_start": 0.30000000000000004,
            "bin_end": 0.4,
            "count": 0
           },
           {
            "bin_start": 0.4,
            "bin_end": 0.5,
            "count": 0
           },
           {
            "bin_start": 0.5,
            "bin_end": 0.6000000000000001,
            "count": 0
           },
           {
            "bin_start": 0.6000000000000001,
            "bin_end": 0.7000000000000001,
            "count": 0
           },
           {
            "bin_start": 0.7000000000000001,
            "bin_end": 0.8,
            "count": 0
           },
           {
            "bin_start": 0.8,
            "bin_end": 0.9,
            "count": 0
           },
           {
            "bin_start": 0.9,
            "bin_end": 1,
            "count": 2
           }
          ]
         }
        },
        {
         "name": "xcalc_18_bin",
         "dtype": "uint8",
         "stats": {
          "unique_count": 2,
          "nan_count": 0,
          "min": "0",
          "max": "1",
          "histogram": [
           {
            "bin_start": 0,
            "bin_end": 0.1,
            "count": 3
           },
           {
            "bin_start": 0.1,
            "bin_end": 0.2,
            "count": 0
           },
           {
            "bin_start": 0.2,
            "bin_end": 0.30000000000000004,
            "count": 0
           },
           {
            "bin_start": 0.30000000000000004,
            "bin_end": 0.4,
            "count": 0
           },
           {
            "bin_start": 0.4,
            "bin_end": 0.5,
            "count": 0
           },
           {
            "bin_start": 0.5,
            "bin_end": 0.6000000000000001,
            "count": 0
           },
           {
            "bin_start": 0.6000000000000001,
            "bin_end": 0.7000000000000001,
            "count": 0
           },
           {
            "bin_start": 0.7000000000000001,
            "bin_end": 0.8,
            "count": 0
           },
           {
            "bin_start": 0.8,
            "bin_end": 0.9,
            "count": 0
           },
           {
            "bin_start": 0.9,
            "bin_end": 1,
            "count": 2
           }
          ]
         }
        },
        {
         "name": "xcalc_19_bin",
         "dtype": "uint8",
         "stats": {
          "unique_count": 2,
          "nan_count": 0,
          "min": "0",
          "max": "1",
          "histogram": [
           {
            "bin_start": 0,
            "bin_end": 0.1,
            "count": 2
           },
           {
            "bin_start": 0.1,
            "bin_end": 0.2,
            "count": 0
           },
           {
            "bin_start": 0.2,
            "bin_end": 0.30000000000000004,
            "count": 0
           },
           {
            "bin_start": 0.30000000000000004,
            "bin_end": 0.4,
            "count": 0
           },
           {
            "bin_start": 0.4,
            "bin_end": 0.5,
            "count": 0
           },
           {
            "bin_start": 0.5,
            "bin_end": 0.6000000000000001,
            "count": 0
           },
           {
            "bin_start": 0.6000000000000001,
            "bin_end": 0.7000000000000001,
            "count": 0
           },
           {
            "bin_start": 0.7000000000000001,
            "bin_end": 0.8,
            "count": 0
           },
           {
            "bin_start": 0.8,
            "bin_end": 0.9,
            "count": 0
           },
           {
            "bin_start": 0.9,
            "bin_end": 1,
            "count": 3
           }
          ]
         }
        },
        {
         "name": "xcalc_20_bin",
         "dtype": "uint8",
         "stats": {
          "unique_count": 1,
          "nan_count": 0,
          "min": "0",
          "max": "0",
          "histogram": [
           {
            "bin_start": -0.5,
            "bin_end": -0.4,
            "count": 0
           },
           {
            "bin_start": -0.4,
            "bin_end": -0.3,
            "count": 0
           },
           {
            "bin_start": -0.3,
            "bin_end": -0.19999999999999996,
            "count": 0
           },
           {
            "bin_start": -0.19999999999999996,
            "bin_end": -0.09999999999999998,
            "count": 0
           },
           {
            "bin_start": -0.09999999999999998,
            "bin_end": 0,
            "count": 0
           },
           {
            "bin_start": 0,
            "bin_end": 0.10000000000000009,
            "count": 5
           },
           {
            "bin_start": 0.10000000000000009,
            "bin_end": 0.20000000000000007,
            "count": 0
           },
           {
            "bin_start": 0.20000000000000007,
            "bin_end": 0.30000000000000004,
            "count": 0
           },
           {
            "bin_start": 0.30000000000000004,
            "bin_end": 0.4,
            "count": 0
           },
           {
            "bin_start": 0.4,
            "bin_end": 0.5,
            "count": 0
           }
          ]
         }
        },
        {
         "name": "_deepnote_index_column",
         "dtype": "int64"
        }
       ],
       "rows_top": [
        {
         "y": 0,
         "xind_01": 2,
         "xind_02_cat": 1,
         "xind_03": 5,
         "xind_04_cat": 1,
         "xind_05_cat": 6,
         "xind_06_bin": 0,
         "xind_07_bin": 1,
         "xind_08_bin": 0,
         "xind_09_bin": 0,
         "xind_10_bin": 0,
         "xind_11_bin": 0,
         "xind_12_bin": 0,
         "xind_13_bin": 0,
         "xind_14": 0,
         "xind_15": 10,
         "xind_16_bin": 1,
         "xind_17_bin": 0,
         "xind_18_bin": 0,
         "xreg_01": 0.60009765625,
         "xreg_02": 0,
         "xreg_03": 0.6025390625,
         "xcar_01_cat": 7,
         "xcar_02_cat": 1,
         "xcar_03_cat": 0,
         "xcar_04_cat": 0,
         "xcar_05_cat": 1,
         "xcar_06_cat": 1,
         "xcar_07_cat": 1,
         "xcar_08_cat": 1,
         "xcar_09_cat": 2,
         "xcar_10_cat": 1,
         "xcar_11_cat": 80,
         "xcar_11": 3,
         "xcar_12": 0.316162109375,
         "xcar_13": 0.74853515625,
         "xcar_14": -1,
         "xcar_15": 3.60546875,
         "xcalc_01": 0.39990234375,
         "xcalc_02": 0.89990234375,
         "xcalc_03": 0.60009765625,
         "xcalc_04": 2,
         "xcalc_05": 0,
         "xcalc_06": 6,
         "xcalc_07": 3,
         "xcalc_08": 4,
         "xcalc_09": 2,
         "xcalc_10": 4,
         "xcalc_11": 4,
         "xcalc_12": 0,
         "xcalc_13": 2,
         "xcalc_14": 8,
         "xcalc_15_bin": 0,
         "xcalc_16_bin": 0,
         "xcalc_17_bin": 0,
         "xcalc_18_bin": 1,
         "xcalc_19_bin": 1,
         "xcalc_20_bin": 0,
         "_deepnote_index_column": 0
        },
        {
         "y": 0,
         "xind_01": 2,
         "xind_02_cat": 1,
         "xind_03": 6,
         "xind_04_cat": 0,
         "xind_05_cat": 0,
         "xind_06_bin": 0,
         "xind_07_bin": 0,
         "xind_08_bin": 0,
         "xind_09_bin": 1,
         "xind_10_bin": 0,
         "xind_11_bin": 0,
         "xind_12_bin": 0,
         "xind_13_bin": 0,
         "xind_14": 0,
         "xind_15": 10,
         "xind_16_bin": 1,
         "xind_17_bin": 0,
         "xind_18_bin": 0,
         "xreg_01": 0.39990234375,
         "xreg_02": 0,
         "xreg_03": 0.51123046875,
         "xcar_01_cat": 6,
         "xcar_02_cat": 1,
         "xcar_03_cat": 255,
         "xcar_04_cat": 0,
         "xcar_05_cat": 1,
         "xcar_06_cat": 0,
         "xcar_07_cat": 1,
         "xcar_08_cat": 1,
         "xcar_09_cat": 0,
         "xcar_10_cat": 1,
         "xcar_11_cat": 95,
         "xcar_11": 2,
         "xcar_12": 0.39990234375,
         "xcar_13": 0.73876953125,
         "xcar_14": 0.4013671875,
         "xcar_15": 2.828125,
         "xcalc_01": 0.7001953125,
         "xcalc_02": 0.7001953125,
         "xcalc_03": 0.199951171875,
         "xcalc_04": 4,
         "xcalc_05": 3,
         "xcalc_06": 9,
         "xcalc_07": 5,
         "xcalc_08": 10,
         "xcalc_09": 1,
         "xcalc_10": 11,
         "xcalc_11": 9,
         "xcalc_12": 2,
         "xcalc_13": 3,
         "xcalc_14": 7,
         "xcalc_15_bin": 0,
         "xcalc_16_bin": 0,
         "xcalc_17_bin": 1,
         "xcalc_18_bin": 0,
         "xcalc_19_bin": 0,
         "xcalc_20_bin": 0,
         "_deepnote_index_column": 1
        },
        {
         "y": 0,
         "xind_01": 2,
         "xind_02_cat": 1,
         "xind_03": 9,
         "xind_04_cat": 0,
         "xind_05_cat": 0,
         "xind_06_bin": 1,
         "xind_07_bin": 0,
         "xind_08_bin": 0,
         "xind_09_bin": 0,
         "xind_10_bin": 0,
         "xind_11_bin": 0,
         "xind_12_bin": 0,
         "xind_13_bin": 0,
         "xind_14": 0,
         "xind_15": 12,
         "xind_16_bin": 1,
         "xind_17_bin": 0,
         "xind_18_bin": 0,
         "xreg_01": 0.0999755859375,
         "xreg_02": 0.0999755859375,
         "xreg_03": -1,
         "xcar_01_cat": 7,
         "xcar_02_cat": 1,
         "xcar_03_cat": 1,
         "xcar_04_cat": 0,
         "xcar_05_cat": 0,
         "xcar_06_cat": 14,
         "xcar_07_cat": 1,
         "xcar_08_cat": 1,
         "xcar_09_cat": 0,
         "xcar_10_cat": 1,
         "xcar_11_cat": 42,
         "xcar_11": 2,
         "xcar_12": 0.39990234375,
         "xcar_13": 0.8203125,
         "xcar_14": 0.331298828125,
         "xcar_15": 3.7421875,
         "xcalc_01": 0.199951171875,
         "xcalc_02": 0.300048828125,
         "xcalc_03": 0,
         "xcalc_04": 3,
         "xcalc_05": 1,
         "xcalc_06": 10,
         "xcalc_07": 3,
         "xcalc_08": 9,
         "xcalc_09": 2,
         "xcalc_10": 9,
         "xcalc_11": 5,
         "xcalc_12": 0,
         "xcalc_13": 2,
         "xcalc_14": 6,
         "xcalc_15_bin": 0,
         "xcalc_16_bin": 1,
         "xcalc_17_bin": 0,
         "xcalc_18_bin": 1,
         "xcalc_19_bin": 1,
         "xcalc_20_bin": 0,
         "_deepnote_index_column": 2
        },
        {
         "y": 0,
         "xind_01": 1,
         "xind_02_cat": 1,
         "xind_03": 6,
         "xind_04_cat": 0,
         "xind_05_cat": 0,
         "xind_06_bin": 1,
         "xind_07_bin": 0,
         "xind_08_bin": 0,
         "xind_09_bin": 0,
         "xind_10_bin": 0,
         "xind_11_bin": 0,
         "xind_12_bin": 0,
         "xind_13_bin": 0,
         "xind_14": 0,
         "xind_15": 10,
         "xind_16_bin": 1,
         "xind_17_bin": 0,
         "xind_18_bin": 0,
         "xreg_01": 0.7998046875,
         "xreg_02": 0.0999755859375,
         "xreg_03": 0.462890625,
         "xcar_01_cat": 7,
         "xcar_02_cat": 1,
         "xcar_03_cat": 255,
         "xcar_04_cat": 0,
         "xcar_05_cat": 255,
         "xcar_06_cat": 11,
         "xcar_07_cat": 1,
         "xcar_08_cat": 1,
         "xcar_09_cat": 0,
         "xcar_10_cat": 1,
         "xcar_11_cat": 99,
         "xcar_11": 2,
         "xcar_12": 0.316162109375,
         "xcar_13": 0.63330078125,
         "xcar_14": 0.368896484375,
         "xcar_15": 3,
         "xcalc_01": 0,
         "xcalc_02": 0.5,
         "xcalc_03": 0.89990234375,
         "xcalc_04": 3,
         "xcalc_05": 1,
         "xcalc_06": 9,
         "xcalc_07": 5,
         "xcalc_08": 10,
         "xcalc_09": 3,
         "xcalc_10": 6,
         "xcalc_11": 3,
         "xcalc_12": 0,
         "xcalc_13": 4,
         "xcalc_14": 8,
         "xcalc_15_bin": 0,
         "xcalc_16_bin": 0,
         "xcalc_17_bin": 1,
         "xcalc_18_bin": 0,
         "xcalc_19_bin": 0,
         "xcalc_20_bin": 0,
         "_deepnote_index_column": 3
        },
        {
         "y": 0,
         "xind_01": 1,
         "xind_02_cat": 1,
         "xind_03": 5,
         "xind_04_cat": 1,
         "xind_05_cat": 0,
         "xind_06_bin": 0,
         "xind_07_bin": 1,
         "xind_08_bin": 0,
         "xind_09_bin": 0,
         "xind_10_bin": 0,
         "xind_11_bin": 0,
         "xind_12_bin": 0,
         "xind_13_bin": 0,
         "xind_14": 0,
         "xind_15": 6,
         "xind_16_bin": 1,
         "xind_17_bin": 0,
         "xind_18_bin": 0,
         "xreg_01": 0.39990234375,
         "xreg_02": 0,
         "xreg_03": 0.68505859375,
         "xcar_01_cat": 10,
         "xcar_02_cat": 1,
         "xcar_03_cat": 255,
         "xcar_04_cat": 0,
         "xcar_05_cat": 255,
         "xcar_06_cat": 7,
         "xcar_07_cat": 1,
         "xcar_08_cat": 1,
         "xcar_09_cat": 2,
         "xcar_10_cat": 1,
         "xcar_11_cat": 104,
         "xcar_11": 3,
         "xcar_12": 0.39990234375,
         "xcar_13": 1.0166015625,
         "xcar_14": 0.42578125,
         "xcar_15": 3.46484375,
         "xcalc_01": 0.89990234375,
         "xcalc_02": 0.60009765625,
         "xcalc_03": 0.39990234375,
         "xcalc_04": 0,
         "xcalc_05": 2,
         "xcalc_06": 7,
         "xcalc_07": 3,
         "xcalc_08": 9,
         "xcalc_09": 2,
         "xcalc_10": 0,
         "xcalc_11": 4,
         "xcalc_12": 3,
         "xcalc_13": 1,
         "xcalc_14": 2,
         "xcalc_15_bin": 0,
         "xcalc_16_bin": 1,
         "xcalc_17_bin": 0,
         "xcalc_18_bin": 0,
         "xcalc_19_bin": 1,
         "xcalc_20_bin": 0,
         "_deepnote_index_column": 4
        }
       ],
       "rows_bottom": null
      },
      "text/plain": "   y  xind_01  xind_02_cat  xind_03  xind_04_cat  xind_05_cat  xind_06_bin  \\\n0  0        2            1        5            1            6            0   \n1  0        2            1        6            0            0            0   \n2  0        2            1        9            0            0            1   \n3  0        1            1        6            0            0            1   \n4  0        1            1        5            1            0            0   \n\n   xind_07_bin  xind_08_bin  xind_09_bin  ...  xcalc_11  xcalc_12  xcalc_13  \\\n0            1            0            0  ...         4         0         2   \n1            0            0            1  ...         9         2         3   \n2            0            0            0  ...         5         0         2   \n3            0            0            0  ...         3         0         4   \n4            1            0            0  ...         4         3         1   \n\n   xcalc_14  xcalc_15_bin  xcalc_16_bin  xcalc_17_bin  xcalc_18_bin  \\\n0         8             0             0             0             1   \n1         7             0             0             1             0   \n2         6             0             1             0             1   \n3         8             0             0             1             0   \n4         2             0             1             0             0   \n\n   xcalc_19_bin  xcalc_20_bin  \n0             1             0  \n1             0             0  \n2             1             0  \n3             0             0  \n4             1             0  \n\n[5 rows x 58 columns]",
      "text/html": "<div>\n<style scoped>\n    .dataframe tbody tr th:only-of-type {\n        vertical-align: middle;\n    }\n\n    .dataframe tbody tr th {\n        vertical-align: top;\n    }\n\n    .dataframe thead th {\n        text-align: right;\n    }\n</style>\n<table border=\"1\" class=\"dataframe\">\n  <thead>\n    <tr style=\"text-align: right;\">\n      <th></th>\n      <th>y</th>\n      <th>xind_01</th>\n      <th>xind_02_cat</th>\n      <th>xind_03</th>\n      <th>xind_04_cat</th>\n      <th>xind_05_cat</th>\n      <th>xind_06_bin</th>\n      <th>xind_07_bin</th>\n      <th>xind_08_bin</th>\n      <th>xind_09_bin</th>\n      <th>...</th>\n      <th>xcalc_11</th>\n      <th>xcalc_12</th>\n      <th>xcalc_13</th>\n      <th>xcalc_14</th>\n      <th>xcalc_15_bin</th>\n      <th>xcalc_16_bin</th>\n      <th>xcalc_17_bin</th>\n      <th>xcalc_18_bin</th>\n      <th>xcalc_19_bin</th>\n      <th>xcalc_20_bin</th>\n    </tr>\n  </thead>\n  <tbody>\n    <tr>\n      <th>0</th>\n      <td>0</td>\n      <td>2</td>\n      <td>1</td>\n      <td>5</td>\n      <td>1</td>\n      <td>6</td>\n      <td>0</td>\n      <td>1</td>\n      <td>0</td>\n      <td>0</td>\n      <td>...</td>\n      <td>4</td>\n      <td>0</td>\n      <td>2</td>\n      <td>8</td>\n      <td>0</td>\n      <td>0</td>\n      <td>0</td>\n      <td>1</td>\n      <td>1</td>\n      <td>0</td>\n    </tr>\n    <tr>\n      <th>1</th>\n      <td>0</td>\n      <td>2</td>\n      <td>1</td>\n      <td>6</td>\n      <td>0</td>\n      <td>0</td>\n      <td>0</td>\n      <td>0</td>\n      <td>0</td>\n      <td>1</td>\n      <td>...</td>\n      <td>9</td>\n      <td>2</td>\n      <td>3</td>\n      <td>7</td>\n      <td>0</td>\n      <td>0</td>\n      <td>1</td>\n      <td>0</td>\n      <td>0</td>\n      <td>0</td>\n    </tr>\n    <tr>\n      <th>2</th>\n      <td>0</td>\n      <td>2</td>\n      <td>1</td>\n      <td>9</td>\n      <td>0</td>\n      <td>0</td>\n      <td>1</td>\n      <td>0</td>\n      <td>0</td>\n      <td>0</td>\n      <td>...</td>\n      <td>5</td>\n      <td>0</td>\n      <td>2</td>\n      <td>6</td>\n      <td>0</td>\n      <td>1</td>\n      <td>0</td>\n      <td>1</td>\n      <td>1</td>\n      <td>0</td>\n    </tr>\n    <tr>\n      <th>3</th>\n      <td>0</td>\n      <td>1</td>\n      <td>1</td>\n      <td>6</td>\n      <td>0</td>\n      <td>0</td>\n      <td>1</td>\n      <td>0</td>\n      <td>0</td>\n      <td>0</td>\n      <td>...</td>\n      <td>3</td>\n      <td>0</td>\n      <td>4</td>\n      <td>8</td>\n      <td>0</td>\n      <td>0</td>\n      <td>1</td>\n      <td>0</td>\n      <td>0</td>\n      <td>0</td>\n    </tr>\n    <tr>\n      <th>4</th>\n      <td>0</td>\n      <td>1</td>\n      <td>1</td>\n      <td>5</td>\n      <td>1</td>\n      <td>0</td>\n      <td>0</td>\n      <td>1</td>\n      <td>0</td>\n      <td>0</td>\n      <td>...</td>\n      <td>4</td>\n      <td>3</td>\n      <td>1</td>\n      <td>2</td>\n      <td>0</td>\n      <td>1</td>\n      <td>0</td>\n      <td>0</td>\n      <td>1</td>\n      <td>0</td>\n    </tr>\n  </tbody>\n</table>\n<p>5 rows × 58 columns</p>\n</div>"
     },
     "metadata": {}
    }
   ]
  },
  {
   "cell_type": "markdown",
   "source": "## Binning data",
   "metadata": {
    "tags": [],
    "is_collapsed": false,
    "cell_id": "00013-24d8ae14-e8bf-4e4a-92f1-34934a184190",
    "deepnote_cell_type": "text-cell-h2"
   }
  },
  {
   "cell_type": "markdown",
   "source": "Let's discretize column xind_15. Let's first look at the distribution of data.",
   "metadata": {
    "tags": [],
    "cell_id": "00012-e1fee03a-f27a-4762-8a50-03a6544481de",
    "deepnote_cell_type": "markdown"
   }
  },
  {
   "cell_type": "code",
   "metadata": {
    "tags": [],
    "cell_id": "00012-cdef1c48-867c-4f0f-9a3d-1975de7fcc1c",
    "deepnote_to_be_reexecuted": false,
    "source_hash": "a3b13ccd",
    "execution_start": 1638088228808,
    "execution_millis": 390,
    "deepnote_output_heights": [
     21,
     250
    ],
    "deepnote_cell_type": "code"
   },
   "source": "df.xind_15.hist()",
   "execution_count": null,
   "outputs": [
    {
     "output_type": "execute_result",
     "execution_count": 7,
     "data": {
      "text/plain": "<AxesSubplot:>"
     },
     "metadata": {}
    },
    {
     "data": {
      "text/plain": "<Figure size 432x288 with 1 Axes>",
      "image/png": "[encoded data removed]"
     },
     "metadata": {
      "needs_background": "light",
      "image/png": {
       "width": 393,
       "height": 248
      }
     },
     "output_type": "display_data"
    }
   ]
  },
  {
   "cell_type": "code",
   "metadata": {
    "tags": [],
    "cell_id": "00014-b5be19a4-c77a-457c-9493-1cac421e349d",
    "deepnote_to_be_reexecuted": false,
    "source_hash": "a94f8367",
    "execution_start": 1638088229200,
    "execution_millis": 53,
    "deepnote_cell_type": "code"
   },
   "source": "display(df[['xind_15']].describe())",
   "execution_count": null,
   "outputs": [
    {
     "data": {
      "application/vnd.deepnote.dataframe.v2+json": {
       "row_count": 8,
       "column_count": 1,
       "columns": [
        {
         "name": "xind_15",
         "dtype": "float64",
         "stats": {
          "unique_count": 8,
          "nan_count": 0,
          "min": "0.0",
          "max": "595212.0",
          "histogram": [
           {
            "bin_start": 0,
            "bin_end": 59521.2,
            "count": 7
           },
           {
            "bin_start": 59521.2,
            "bin_end": 119042.4,
            "count": 0
           },
           {
            "bin_start": 119042.4,
            "bin_end": 178563.59999999998,
            "count": 0
           },
           {
            "bin_start": 178563.59999999998,
            "bin_end": 238084.8,
            "count": 0
           },
           {
            "bin_start": 238084.8,
            "bin_end": 297606,
            "count": 0
           },
           {
            "bin_start": 297606,
            "bin_end": 357127.19999999995,
            "count": 0
           },
           {
            "bin_start": 357127.19999999995,
            "bin_end": 416648.39999999997,
            "count": 0
           },
           {
            "bin_start": 416648.39999999997,
            "bin_end": 476169.6,
            "count": 0
           },
           {
            "bin_start": 476169.6,
            "bin_end": 535690.7999999999,
            "count": 0
           },
           {
            "bin_start": 535690.7999999999,
            "bin_end": 595212,
            "count": 1
           }
          ]
         }
        },
        {
         "name": "_deepnote_index_column",
         "dtype": "object"
        }
       ],
       "rows_top": [
        {
         "xind_15": 595212,
         "_deepnote_index_column": "count"
        },
        {
         "xind_15": 7.2999217085677035,
         "_deepnote_index_column": "mean"
        },
        {
         "xind_15": 3.5460421006556575,
         "_deepnote_index_column": "std"
        },
        {
         "xind_15": 0,
         "_deepnote_index_column": "min"
        },
        {
         "xind_15": 5,
         "_deepnote_index_column": "25%"
        },
        {
         "xind_15": 7,
         "_deepnote_index_column": "50%"
        },
        {
         "xind_15": 10,
         "_deepnote_index_column": "75%"
        },
        {
         "xind_15": 13,
         "_deepnote_index_column": "max"
        }
       ],
       "rows_bottom": null
      },
      "text/plain": "             xind_15\ncount  595212.000000\nmean        7.299922\nstd         3.546042\nmin         0.000000\n25%         5.000000\n50%         7.000000\n75%        10.000000\nmax        13.000000",
      "text/html": "<div>\n<style scoped>\n    .dataframe tbody tr th:only-of-type {\n        vertical-align: middle;\n    }\n\n    .dataframe tbody tr th {\n        vertical-align: top;\n    }\n\n    .dataframe thead th {\n        text-align: right;\n    }\n</style>\n<table border=\"1\" class=\"dataframe\">\n  <thead>\n    <tr style=\"text-align: right;\">\n      <th></th>\n      <th>xind_15</th>\n    </tr>\n  </thead>\n  <tbody>\n    <tr>\n      <th>count</th>\n      <td>595212.000000</td>\n    </tr>\n    <tr>\n      <th>mean</th>\n      <td>7.299922</td>\n    </tr>\n    <tr>\n      <th>std</th>\n      <td>3.546042</td>\n    </tr>\n    <tr>\n      <th>min</th>\n      <td>0.000000</td>\n    </tr>\n    <tr>\n      <th>25%</th>\n      <td>5.000000</td>\n    </tr>\n    <tr>\n      <th>50%</th>\n      <td>7.000000</td>\n    </tr>\n    <tr>\n      <th>75%</th>\n      <td>10.000000</td>\n    </tr>\n    <tr>\n      <th>max</th>\n      <td>13.000000</td>\n    </tr>\n  </tbody>\n</table>\n</div>"
     },
     "metadata": {},
     "output_type": "display_data"
    }
   ]
  },
  {
   "cell_type": "markdown",
   "source": "We can see that xind_15 variable is continuous and the distribution is not normal we can use cut pandas function in order to bin this column into subcategories. Let's use linspace numpy function to calculate 4 bins equally distributed (by depth).",
   "metadata": {
    "tags": [],
    "cell_id": "00014-fd3e23ea-a35a-4f1a-b60a-182eb5f7fc43",
    "deepnote_cell_type": "markdown"
   }
  },
  {
   "cell_type": "code",
   "metadata": {
    "tags": [],
    "cell_id": "00016-577aa84a-676c-42b1-80c6-e8993f0fd940",
    "deepnote_to_be_reexecuted": false,
    "source_hash": "7236888e",
    "execution_start": 1638088229262,
    "execution_millis": 16,
    "deepnote_output_heights": [
     21
    ],
    "deepnote_cell_type": "code"
   },
   "source": "min_val, max_val = min_value = df['xind_15'].min(), df['xind_15'].max()\nbins = np.linspace(min_val,max_val,4)\nbins",
   "execution_count": null,
   "outputs": [
    {
     "output_type": "execute_result",
     "execution_count": 9,
     "data": {
      "text/plain": "array([ 0.        ,  4.33333333,  8.66666667, 13.        ])"
     },
     "metadata": {}
    }
   ]
  },
  {
   "cell_type": "code",
   "metadata": {
    "tags": [],
    "cell_id": "00016-9e4b888e-2060-4730-8aca-6f5ac9ad8012",
    "deepnote_to_be_reexecuted": false,
    "source_hash": "2edf74d7",
    "execution_start": 1638088229283,
    "execution_millis": 98,
    "deepnote_output_heights": [
     78
    ],
    "deepnote_cell_type": "code"
   },
   "source": "labels = [\"low\", \"medium\", \"high\"]\n\npd.qcut(df['xind_15'], q=len(bins)-1,  labels=labels).value_counts()",
   "execution_count": null,
   "outputs": [
    {
     "output_type": "execute_result",
     "execution_count": 10,
     "data": {
      "text/plain": "low       237116\nhigh      187663\nmedium    170433\nName: xind_15, dtype: int64"
     },
     "metadata": {}
    }
   ]
  },
  {
   "cell_type": "code",
   "metadata": {
    "tags": [],
    "cell_id": "00015-3ab104f9-a22a-4483-a176-d2adde69916a",
    "deepnote_to_be_reexecuted": false,
    "source_hash": "ba5d9816",
    "execution_start": 1638088229365,
    "execution_millis": 710,
    "deepnote_output_heights": [
     null,
     281
    ],
    "deepnote_cell_type": "code"
   },
   "source": "# separating data to \nbin_df = df.copy()\n\n# Separating the independent variables from dependent variables\nX_bin = bin_df.iloc[:,:-1]\ny_bin = bin_df.iloc[:,-1]\n\nX_train_bin, X_val_bin, y_train_bin, y_val_bin = train_test_split(X_bin,y_bin,test_size=0.30)\n\n# binning into 3 categories\nX_train_bin['x_ind_15_cut'], bins_train = pd.qcut(X_train_bin['xind_15'], q=len(bins)-1, labels=labels, retbins=True)\nprint(X_train_bin.x_ind_15_cut.value_counts())\nX_train_bin['x_ind_15_cut'].value_counts().plot(kind=\"bar\", color=\"r\")\n\nprint(\"Training dataset bins: \", bins_train)",
   "execution_count": null,
   "outputs": [
    {
     "name": "stdout",
     "text": "low       165732\nhigh      131428\nmedium    119488\nName: x_ind_15_cut, dtype: int64\nTraining dataset bins:  [ 0.  6.  9. 13.]\n",
     "output_type": "stream"
    },
    {
     "data": {
      "text/plain": "<Figure size 432x288 with 1 Axes>",
      "image/png": "[encoded data removed]"
     },
     "metadata": {
      "needs_background": "light",
      "image/png": {
       "width": 393,
       "height": 279
      }
     },
     "output_type": "display_data"
    }
   ]
  },
  {
   "cell_type": "code",
   "metadata": {
    "tags": [],
    "cell_id": "00017-1964281b-93a5-4fe9-a4d3-aeb3fec367e5",
    "deepnote_to_be_reexecuted": false,
    "source_hash": "7eee78d6",
    "execution_start": 1638088230100,
    "execution_millis": 271,
    "deepnote_output_heights": [
     null,
     281
    ],
    "deepnote_cell_type": "code"
   },
   "source": "# binning into 3 categories\nbins_test = bins_train\nbins_test[0], bins_test[-1] = -np.inf, np.inf\nX_val_bin['x_ind_15_cut'] = pd.cut(X_val_bin['xind_15'], bins=bins_test, labels=labels, include_lowest=True) \nprint(X_val_bin.x_ind_15_cut.value_counts())\nX_val_bin['x_ind_15_cut'].value_counts().plot(kind=\"bar\", color=\"g\")\n\nprint(\"Validation dataset bins: \",bins_test)",
   "execution_count": null,
   "outputs": [
    {
     "name": "stdout",
     "text": "low       71384\nhigh      56235\nmedium    50945\nName: x_ind_15_cut, dtype: int64\nValidation dataset bins:  [-inf   6.   9.  inf]\n",
     "output_type": "stream"
    },
    {
     "data": {
      "text/plain": "<Figure size 432x288 with 1 Axes>",
      "image/png": "[encoded data removed]"
     },
     "metadata": {
      "needs_background": "light",
      "image/png": {
       "width": 387,
       "height": 279
      }
     },
     "output_type": "display_data"
    }
   ]
  },
  {
   "cell_type": "code",
   "metadata": {
    "tags": [],
    "cell_id": "00025-3f6ba767-b388-4cde-9e75-bc2d95863f7e",
    "deepnote_to_be_reexecuted": false,
    "source_hash": "3a2864e8",
    "execution_start": 1638088230380,
    "execution_millis": 98,
    "deepnote_cell_type": "code"
   },
   "source": "# encoding variables\nX_val_bin = pd.get_dummies(X_val_bin, columns = ['x_ind_15_cut'])\nX_train_bin = pd.get_dummies(X_train_bin, columns = ['x_ind_15_cut'])\n\nX_val_bin = X_val_bin.drop(['xind_15'], axis=1)\nX_train_bin = X_train_bin.drop(['xind_15'], axis=1)",
   "execution_count": null,
   "outputs": []
  },
  {
   "cell_type": "markdown",
   "source": "Let's also try to bin values with equal width.",
   "metadata": {
    "tags": [],
    "cell_id": "00017-031c48f3-edfa-4eba-88f5-c0e01280ce9d",
    "deepnote_cell_type": "markdown"
   }
  },
  {
   "cell_type": "code",
   "metadata": {
    "tags": [],
    "cell_id": "00021-5a909492-61fd-47f6-8cf4-88180f214e0e",
    "deepnote_to_be_reexecuted": false,
    "source_hash": "2576f357",
    "execution_start": 1638088230487,
    "execution_millis": 392,
    "deepnote_output_heights": [
     null,
     249,
     281
    ],
    "deepnote_cell_type": "code"
   },
   "source": "# preprocessing\nbind_df = df.copy()\n\n# Separating the independent variables from dependent variables\nX_bind = bind_df.iloc[:,:-1]\ny_bind = bind_df.iloc[:,-1]\n\nX_train_bind, X_val_bind, y_train_bind, y_val_bind  = train_test_split(X_bind,y_bind,test_size=0.30)\n\n# binning into 3 categories\nX_train_bind['xind_15_cut_d'], dtrain_bins = pd.cut(X_train_bind['xind_15'], bins=bins, precision=1, labels=labels, retbins=True)\nprint(X_train_bind['xind_15_cut_d'].value_counts())",
   "execution_count": null,
   "outputs": [
    {
     "name": "stdout",
     "text": "high      163326\nmedium    158152\nlow        72868\nName: xind_15_cut_d, dtype: int64\n",
     "output_type": "stream"
    }
   ]
  },
  {
   "cell_type": "code",
   "metadata": {
    "tags": [],
    "cell_id": "00031-0a2a7003-0c54-4d0c-995e-23e3e335fbd2",
    "deepnote_to_be_reexecuted": false,
    "source_hash": "6476fdc4",
    "execution_start": 1638088230881,
    "execution_millis": 264,
    "deepnote_output_heights": [
     21,
     281
    ],
    "deepnote_cell_type": "code"
   },
   "source": "X_train_bind['xind_15_cut_d'].value_counts().plot(kind=\"bar\", color=\"r\")",
   "execution_count": null,
   "outputs": [
    {
     "output_type": "execute_result",
     "execution_count": 15,
     "data": {
      "text/plain": "<AxesSubplot:>"
     },
     "metadata": {}
    },
    {
     "data": {
      "text/plain": "<Figure size 432x288 with 1 Axes>",
      "image/png": "[encoded data removed]"
     },
     "metadata": {
      "needs_background": "light",
      "image/png": {
       "width": 393,
       "height": 279
      }
     },
     "output_type": "display_data"
    }
   ]
  },
  {
   "cell_type": "code",
   "metadata": {
    "tags": [],
    "cell_id": "00021-b1ae5da1-8eb7-44bb-b367-c5afc2dd87dd",
    "deepnote_to_be_reexecuted": false,
    "source_hash": "d268551",
    "execution_start": 1638088231153,
    "execution_millis": 268,
    "deepnote_output_heights": [
     null,
     21,
     281
    ],
    "deepnote_cell_type": "code"
   },
   "source": "# binning into 3 categories\nX_val_bind['xind_15_cut_d'] = pd.cut(X_val_bind['xind_15'], bins=dtrain_bins, precision=1, labels=labels)\nprint(X_val_bind['xind_15_cut_d'].value_counts())\nX_val_bind['xind_15_cut_d'].value_counts().plot(kind=\"bar\", color=\"g\")",
   "execution_count": null,
   "outputs": [
    {
     "name": "stdout",
     "text": "high      69834\nmedium    67745\nlow       31461\nName: xind_15_cut_d, dtype: int64\n",
     "output_type": "stream"
    },
    {
     "output_type": "execute_result",
     "execution_count": 16,
     "data": {
      "text/plain": "<AxesSubplot:>"
     },
     "metadata": {}
    },
    {
     "data": {
      "text/plain": "<Figure size 432x288 with 1 Axes>",
      "image/png": "[encoded data removed]"
     },
     "metadata": {
      "needs_background": "light",
      "image/png": {
       "width": 387,
       "height": 279
      }
     },
     "output_type": "display_data"
    }
   ]
  },
  {
   "cell_type": "code",
   "metadata": {
    "tags": [],
    "cell_id": "00030-611e3167-139f-4b30-bd28-4c3c77b05da3",
    "deepnote_to_be_reexecuted": false,
    "source_hash": "568f3ccf",
    "execution_start": 1638088231444,
    "execution_millis": 113,
    "deepnote_cell_type": "code"
   },
   "source": "# encoding variables\nX_val_bind = pd.get_dummies(X_val_bind, columns = ['xind_15_cut_d'])\nX_train_bind = pd.get_dummies(X_train_bind, columns = ['xind_15_cut_d'])\n\nX_val_bind = X_val_bind.drop(['xind_15'], axis=1)\nX_train_bind = X_train_bind.drop(['xind_15'], axis=1)",
   "execution_count": null,
   "outputs": []
  },
  {
   "cell_type": "markdown",
   "source": "### Model evaluation",
   "metadata": {
    "tags": [],
    "is_collapsed": false,
    "cell_id": "00026-09fce504-4a7d-4dcb-b1c8-960278ad0c20",
    "deepnote_cell_type": "text-cell-h3"
   }
  },
  {
   "cell_type": "markdown",
   "source": "Let's now create a function which we will use for classification of our dataset. I first tried to run the data with scikit learn, it was too slow (I was trying to use more classification methods though later you commented in chat that one is enough) that's why I decide to use pyspark for running models.However with pyspark I got into memory issue very fast as I needed to convert pandas dataframe to pyspark dataframe. I stopped using pyspark and switched back to scikit-learn. My pyspark solution os shown below it worked nicely (Logistic regression on data was running for just 2 minutes while with scikit-learn it took over 20 minutes to run).",
   "metadata": {
    "tags": [],
    "cell_id": "00025-5b97397f-2452-4047-8b78-a466d302db4c",
    "deepnote_cell_type": "markdown"
   }
  },
  {
   "cell_type": "code",
   "metadata": {
    "tags": [],
    "cell_id": "00029-3c13fcf6-6738-4cf8-a921-00c045687e00",
    "deepnote_to_be_reexecuted": false,
    "source_hash": "b8719699",
    "execution_start": 1638088231557,
    "execution_millis": 0,
    "deepnote_output_heights": [
     192
    ],
    "deepnote_cell_type": "code"
   },
   "source": "# defining function to run the model\ndef run_model(X_train, y_train, X_val, y_val):\n    model = DecisionTreeClassifier()\n    model = model.fit(X_train, y_train)\n    y_pred = model.predict(X_val)\n\n    # metrics definition\n    f1score = f1_score(y_val, y_pred)\n    auc_score = roc_auc_score(y_val, y_pred, average=None)\n    conf_matrix = confusion_matrix(y_val, y_pred)\n\n    results = f'F1-score: {f1score} \\nAUC score: {auc_score}\\nConfusion matrix: \\n {conf_matrix}'\n    return results",
   "execution_count": null,
   "outputs": []
  },
  {
   "cell_type": "markdown",
   "source": "",
   "metadata": {
    "tags": [],
    "cell_id": "00029-5299de21-13b3-4128-bd6e-d8709b19d912",
    "deepnote_cell_type": "markdown"
   }
  },
  {
   "cell_type": "markdown",
   "source": "### Running the model without any preprocessing",
   "metadata": {
    "tags": [],
    "is_collapsed": false,
    "cell_id": "00031-567e04c7-65f1-4057-b444-e8343b318dc3",
    "deepnote_cell_type": "text-cell-h3"
   }
  },
  {
   "cell_type": "code",
   "metadata": {
    "tags": [],
    "cell_id": "00033-7dc72363-dae3-4dae-ba45-dbfd68138cb3",
    "deepnote_to_be_reexecuted": false,
    "source_hash": "7107ba1a",
    "execution_start": 1638088231558,
    "execution_millis": 24436,
    "deepnote_cell_type": "code"
   },
   "source": "# Separating the independent variables from dependent variables\nX = df.iloc[:,:-1]\ny = df.iloc[:,-1]\n\nX_train, X_val, y_train, y_val = train_test_split(X,y,test_size=0.30)\n\nprint(f'Model: ', 'Decision Tree - No preprocessing')\nprint(run_model(X_train, y_train, X_val, y_val))",
   "execution_count": null,
   "outputs": [
    {
     "name": "stdout",
     "text": "Model:  Decision Tree - No preprocessing\nF1-score: 0.1657027572293208 \nAUC score: 0.5001241056350624\nConfusion matrix: \n [[124012  27164]\n [ 22460   4928]]\n",
     "output_type": "stream"
    }
   ]
  },
  {
   "cell_type": "markdown",
   "source": "### Running the model with binning (equal width)",
   "metadata": {
    "tags": [],
    "is_collapsed": false,
    "cell_id": "00034-af386873-4845-4fe2-8b8e-db8ca6e772fa",
    "deepnote_cell_type": "text-cell-h3"
   }
  },
  {
   "cell_type": "code",
   "metadata": {
    "tags": [],
    "cell_id": "00034-5f8cc38e-80bb-476f-802f-f017673d7d17",
    "deepnote_to_be_reexecuted": false,
    "source_hash": "d174de36",
    "execution_start": 1638088255997,
    "execution_millis": 25968,
    "deepnote_output_heights": [
     611,
     607
    ],
    "deepnote_cell_type": "code"
   },
   "source": "print('Model: ', 'Decision Tree - binning width')\nprint(run_model(X_train_bin, y_train_bin, X_val_bin, y_val_bin))",
   "execution_count": null,
   "outputs": [
    {
     "name": "stdout",
     "text": "Model:  Decision Tree - binning width\nF1-score: 0.16927487352445197 \nAUC score: 0.5026525870756023\nConfusion matrix: \n [[124283  26846]\n [ 22416   5019]]\n",
     "output_type": "stream"
    }
   ]
  },
  {
   "cell_type": "markdown",
   "source": "### Running the model with binning (equal depth)",
   "metadata": {
    "tags": [],
    "is_collapsed": false,
    "cell_id": "00035-58d1da78-c3c8-4f3f-90ac-7e0611e1aa0e",
    "deepnote_cell_type": "text-cell-h3"
   }
  },
  {
   "cell_type": "code",
   "metadata": {
    "tags": [],
    "cell_id": "00036-7ad2a35c-2e20-406f-9e77-8120c9c6c0a4",
    "deepnote_to_be_reexecuted": false,
    "source_hash": "3bfcc7fb",
    "execution_start": 1638088281969,
    "execution_millis": 23511,
    "deepnote_cell_type": "code"
   },
   "source": "print('Model: ', 'Decision Tree - binning depth')\nprint(run_model(X_train_bind, y_train_bind, X_val_bind, y_val_bind))",
   "execution_count": null,
   "outputs": [
    {
     "name": "stdout",
     "text": "Model:  Decision Tree - binning depth\nF1-score: 0.16606766219522484 \nAUC score: 0.5007330672252518\nConfusion matrix: \n [[124220  27041]\n [ 22382   4921]]\n",
     "output_type": "stream"
    }
   ]
  },
  {
   "cell_type": "markdown",
   "source": "From above we can se that F1-score a little bit improved while preprocessing the column with equal width binning. AUC score did not change. The confusion matrix changed with a lower extend.",
   "metadata": {
    "tags": [],
    "cell_id": "00037-432f5c57-263f-46c7-82e4-90348b281a62",
    "deepnote_cell_type": "markdown"
   }
  },
  {
   "cell_type": "markdown",
   "source": "## Balancing data",
   "metadata": {
    "tags": [],
    "is_collapsed": false,
    "cell_id": "00040-5589a087-a482-47db-9cc2-73796d9b2e1f",
    "deepnote_cell_type": "text-cell-h2"
   }
  },
  {
   "cell_type": "markdown",
   "source": "In this part, I decided to use 2 balancing techniques one for under-sampling (Random under-sampling) and one for over-sampling (Random over-sampling).",
   "metadata": {
    "tags": [],
    "cell_id": "00041-31e71a2a-a8e1-40d8-8c55-239a12e0abbd",
    "deepnote_cell_type": "markdown"
   }
  },
  {
   "cell_type": "markdown",
   "source": "### Random under-sampling",
   "metadata": {
    "tags": [],
    "is_collapsed": false,
    "cell_id": "00042-874318eb-9e46-4518-9904-431bf04a99a9",
    "deepnote_cell_type": "text-cell-h3"
   }
  },
  {
   "cell_type": "code",
   "metadata": {
    "tags": [],
    "cell_id": "00043-3e76d6a2-aad2-413c-973c-60e63a2b8fdb",
    "deepnote_to_be_reexecuted": false,
    "source_hash": "9ae53fa2",
    "execution_start": 1638088305499,
    "execution_millis": 6615,
    "deepnote_cell_type": "code"
   },
   "source": "# Separating the independent variables from dependent variables\nX = df.iloc[:,:-1]\ny = df.iloc[:,-1]\n\n# Split train-test data\nX_train, X_val, y_train, y_val = train_test_split(X,y,test_size=0.30)\n\nprint(\"Before undersampling: \", Counter(y_train))\n\nundersample = RandomUnderSampler(sampling_strategy='majority')\n\nX_train_under, y_train_under = undersample.fit_resample(X_train, y_train)\n\nprint(\"After undersampling: \", Counter(y_train_under))\n\nprint('Model: ', 'Decision Tree - Random undersampling')\nprint(run_model(X_train_under, y_train_under,  X_val, y_val))",
   "execution_count": null,
   "outputs": [
    {
     "name": "stdout",
     "text": "Before undersampling:  Counter({0: 352670, 1: 63978})\nAfter undersampling:  Counter({0: 63978, 1: 63978})\nModel:  Decision Tree - Random undersampling\nF1-score: 0.23581400537150013 \nAUC score: 0.5022619654096759\nConfusion matrix: \n [[75764 75521]\n [13538 13741]]\n",
     "output_type": "stream"
    }
   ]
  },
  {
   "cell_type": "markdown",
   "source": "### Random over-sampling",
   "metadata": {
    "tags": [],
    "is_collapsed": false,
    "cell_id": "00048-f9243010-676f-4781-88d0-31921696df6f",
    "deepnote_cell_type": "text-cell-h3"
   }
  },
  {
   "cell_type": "code",
   "metadata": {
    "tags": [],
    "cell_id": "00049-393fa500-3e55-4895-88ab-06bf26092dc5",
    "deepnote_to_be_reexecuted": false,
    "source_hash": "8ac78aab",
    "execution_start": 1638088312113,
    "execution_millis": 40795,
    "deepnote_cell_type": "code"
   },
   "source": "print(\"Before oversampling: \", Counter(y_train))\n\noversampling = RandomOverSampler()\n\nX_train_o, y_train_o = oversampling.fit_resample(X_train, y_train)\n\nprint(\"After oversampling: \", Counter(y_train_o))\n\nprint('Model: ', 'Decision Tree - Random over-sampling')\nprint(run_model(X_train_o, y_train_o,  X_val, y_val))",
   "execution_count": null,
   "outputs": [
    {
     "name": "stdout",
     "text": "Before oversampling:  Counter({0: 352670, 1: 63978})\nAfter oversampling:  Counter({0: 352670, 1: 352670})\nModel:  Decision Tree - Random over-sampling\nF1-score: 0.15666631141425982 \nAUC score: 0.49949816357652355\nConfusion matrix: \n [[126676  24609]\n [ 22869   4410]]\n",
     "output_type": "stream"
    }
   ]
  },
  {
   "cell_type": "markdown",
   "source": "We can see that random undersampling did not change AUC score however it improved F1-score. We can also see that the number of FN calls decreased and FP calls increased compare to classification without any preprocessing. No change in F, score and AUC score was observed when we compare classification without preprocessing and classification with random oversampling.",
   "metadata": {
    "tags": [],
    "cell_id": "00047-51e37150-0a79-421c-8681-4d71f0a43257",
    "deepnote_cell_type": "markdown"
   }
  },
  {
   "cell_type": "markdown",
   "source": "## Running classification test ",
   "metadata": {
    "tags": [],
    "is_collapsed": false,
    "cell_id": "00048-9d8c8f69-41c7-4be8-a327-50da896ede78",
    "deepnote_cell_type": "text-cell-h2"
   }
  },
  {
   "cell_type": "code",
   "metadata": {
    "tags": [],
    "cell_id": "00049-916faf82-11c5-42c8-86d0-86736106c4c9",
    "deepnote_to_be_reexecuted": false,
    "source_hash": "b1c03548",
    "execution_start": 1638088352915,
    "execution_millis": 5,
    "deepnote_cell_type": "code"
   },
   "source": "def build_clf_model(X_train, y_train, x_test, y_test):\n     \n    param_grid = {\n    'max_depth': range(1,20,3),\n    'criterion': ['entropy', 'gini']}\n\n    X_train, X_val, y_train, y_val = train_test_split(X_train, y_train, test_size=0.30, random_state=333)\n\n    grid = GridSearchCV(estimator=DecisionTreeClassifier(),\n                        param_grid=param_grid,\n                        scoring='f1',\n                        n_jobs=-1)\n    # Fit grid to the training data\n    grid.fit(X_train, y_train)\n    # Extract best model from grid\n    best_model = grid.best_estimator_\n\n    prediction = best_model.predict(x_test)\n\n    cnf_matrix = confusion_matrix(y_test, prediction)\n    f1 = f1_score(y_test, prediction)\n\n    print('Best hyperparameters:',grid.best_params_,'\\nConfusion matrix:', cnf_matrix, '\\nF1-score:', f1)",
   "execution_count": null,
   "outputs": []
  },
  {
   "cell_type": "markdown",
   "source": "### Running the model without any preprocessing",
   "metadata": {
    "tags": [],
    "is_collapsed": false,
    "cell_id": "00050-1ae643e6-a5b8-468d-80b3-4a96dfc792f2",
    "deepnote_cell_type": "text-cell-h3"
   }
  },
  {
   "cell_type": "code",
   "metadata": {
    "tags": [],
    "cell_id": "00050-0d785f2a-609c-4a99-963e-796a5d61108a",
    "deepnote_to_be_reexecuted": false,
    "source_hash": "7985a0a7",
    "execution_start": 1638088352924,
    "execution_millis": 255030,
    "deepnote_output_heights": [
     null,
     135
    ],
    "deepnote_cell_type": "code"
   },
   "source": "print(f'Model: ', 'Decision Tree - No preprocessing')\nprint(build_clf_model(X_train, y_train, X_val, y_val))",
   "execution_count": null,
   "outputs": [
    {
     "name": "stdout",
     "text": "Model:  Decision Tree - No preprocessing\nBest hyperparameters: {'criterion': 'gini', 'max_depth': 19} \nConfusion matrix: [[148186   3099]\n [ 26734    545]] \nF1-score: 0.03524884390259676\nNone\n",
     "output_type": "stream"
    }
   ]
  },
  {
   "cell_type": "markdown",
   "source": "### Running the model with random under-sampling",
   "metadata": {
    "tags": [],
    "is_collapsed": false,
    "cell_id": "00056-64ae0a68-f368-4311-9f2c-081ca5562863",
    "deepnote_cell_type": "text-cell-h3"
   }
  },
  {
   "cell_type": "code",
   "metadata": {
    "tags": [],
    "cell_id": "00057-390ad0f2-3d84-49f9-a55d-12e6699024c3",
    "deepnote_to_be_reexecuted": false,
    "source_hash": "fc46b05b",
    "execution_start": 1638088607949,
    "execution_millis": 68834,
    "deepnote_cell_type": "code"
   },
   "source": "print('Model: ', 'Decision Tree - Random undersampling')\nprint(build_clf_model(X_train_under, y_train_under, X_val, y_val))",
   "execution_count": null,
   "outputs": [
    {
     "name": "stdout",
     "text": "Model:  Decision Tree - Random undersampling\nBest hyperparameters: {'criterion': 'gini', 'max_depth': 10} \nConfusion matrix: [[57833 93452]\n [10484 16795]] \nF1-score: 0.2442447246338874\nNone\n",
     "output_type": "stream"
    }
   ]
  },
  {
   "cell_type": "markdown",
   "source": "### Running the model with random over-sampling",
   "metadata": {
    "tags": [],
    "is_collapsed": false,
    "cell_id": "00060-2d0491f2-0dcc-404c-8c04-5f1195e1645e",
    "deepnote_cell_type": "text-cell-h3"
   }
  },
  {
   "cell_type": "code",
   "metadata": {
    "tags": [],
    "cell_id": "00061-28fad488-9526-4693-92d9-0735e4816ffa",
    "deepnote_to_be_reexecuted": false,
    "source_hash": "fc432190",
    "execution_start": 1638088676781,
    "execution_millis": 472494,
    "deepnote_cell_type": "code"
   },
   "source": "print('Model: ', 'Decision Tree - Random oversampling')\nprint(build_clf_model(X_train_o, y_train_o, X_val, y_val))",
   "execution_count": null,
   "outputs": [
    {
     "name": "stdout",
     "text": "Model:  Decision Tree - Random oversampling\nBest hyperparameters: {'criterion': 'gini', 'max_depth': 19} \nConfusion matrix: [[72866 78419]\n [13080 14199]] \nF1-score: 0.23685329908171177\nNone\n",
     "output_type": "stream"
    }
   ]
  },
  {
   "cell_type": "markdown",
   "source": "From above we can observe that modeling of data without any preprocessing returned better results than preprocessing of data with under or oversampling. The conclusion is based on F1-score.",
   "metadata": {
    "tags": [],
    "cell_id": "00055-1d7a625c-b5e2-4a46-b514-b7caabbd47be",
    "deepnote_cell_type": "markdown"
   }
  },
  {
   "cell_type": "markdown",
   "source": "### Running the model with binning (width)",
   "metadata": {
    "tags": [],
    "is_collapsed": false,
    "cell_id": "00053-74b1465e-2f44-4c3a-94c3-0360168519e3",
    "deepnote_cell_type": "text-cell-h3"
   }
  },
  {
   "cell_type": "code",
   "metadata": {
    "tags": [],
    "cell_id": "00054-066308fb-4c9d-438e-a8f8-a9bd68b79393",
    "deepnote_to_be_reexecuted": false,
    "source_hash": "abd7e4ab",
    "execution_start": 1638089149275,
    "execution_millis": 260783,
    "deepnote_cell_type": "code"
   },
   "source": "print('Model: ', 'Decision Tree - Binning with width')\nprint(build_clf_model(X_train_bin, y_train_bin, X_val_bin, y_val_bin))",
   "execution_count": null,
   "outputs": [
    {
     "name": "stdout",
     "text": "Model:  Decision Tree - Binning with width\nBest hyperparameters: {'criterion': 'entropy', 'max_depth': 19} \nConfusion matrix: [[148350   2779]\n [ 26897    538]] \nF1-score: 0.03498959417273674\nNone\n",
     "output_type": "stream"
    }
   ]
  },
  {
   "cell_type": "markdown",
   "source": "From above we can see that preprocessing of data with binning results in better F1-score than preprocessing with over/under sampling. ",
   "metadata": {
    "tags": [],
    "cell_id": "00060-285fefe4-628a-47d2-8348-17ffb18b4a78",
    "deepnote_cell_type": "markdown"
   }
  },
  {
   "cell_type": "markdown",
   "source": "### Binning &amp; Balancing - combined solution",
   "metadata": {
    "tags": [],
    "is_collapsed": false,
    "cell_id": "00057-9333554b-8ea9-418e-ba04-de7bf75b7e34",
    "deepnote_cell_type": "text-cell-h3"
   }
  },
  {
   "cell_type": "markdown",
   "source": "Let's try to combine binning and balancing to see if it can improve the classification model.",
   "metadata": {
    "tags": [],
    "cell_id": "00058-1389ab69-a1a6-46da-a0e2-4fc3e966dd77",
    "deepnote_cell_type": "markdown"
   }
  },
  {
   "cell_type": "code",
   "metadata": {
    "tags": [],
    "cell_id": "00059-d094bb24-7189-40e0-923f-7aaa43971dec",
    "deepnote_to_be_reexecuted": false,
    "source_hash": "2af7a9b0",
    "execution_start": 1638089410114,
    "execution_millis": 76367,
    "deepnote_cell_type": "code"
   },
   "source": "print(\"Before undersampling: \", Counter(y_train_bin))\n\nX_train_under_bin, y_train_under_bin = undersample.fit_resample(X_train_bin, y_train_bin)\n\nprint(\"After undersampling: \", Counter(y_train_under_bin))\n\nprint('Model: ', 'Decision Tree - Random undersampling & Balancing (width)')\nprint(build_clf_model(X_train_under_bin, y_train_under_bin, X_val_bin, y_val_bin))",
   "execution_count": null,
   "outputs": [
    {
     "name": "stdout",
     "text": "Before undersampling:  Counter({0: 352826, 1: 63822})\nAfter undersampling:  Counter({0: 63822, 1: 63822})\nModel:  Decision Tree - Random undersampling & Balancing (width)\nBest hyperparameters: {'criterion': 'gini', 'max_depth': 13} \nConfusion matrix: [[84778 66351]\n [15286 12149]] \nF1-score: 0.2293670647094917\nNone\n",
     "output_type": "stream"
    }
   ]
  },
  {
   "cell_type": "markdown",
   "source": "Combination of two approaches - undersampling & binning did not help to improve F1-score.",
   "metadata": {
    "tags": [],
    "cell_id": "00064-db7ab880-90ae-453d-b5fd-fcbb25a5b9bf",
    "deepnote_cell_type": "markdown"
   }
  },
  {
   "cell_type": "markdown",
   "source": "## Pyspark solution",
   "metadata": {
    "tags": [],
    "is_collapsed": false,
    "cell_id": "00050-ae452c06-594b-4e18-9997-0cd23089e076",
    "deepnote_cell_type": "text-cell-h2"
   }
  },
  {
   "cell_type": "code",
   "metadata": {
    "tags": [],
    "cell_id": "00053-9f87851b-a6b2-49c0-a259-c9dc79760632",
    "deepnote_to_be_reexecuted": false,
    "source_hash": "854fb9f0",
    "execution_start": 1638089486477,
    "execution_millis": 0,
    "deepnote_cell_type": "code"
   },
   "source": "# defining function for evaluation \ndef log_reg_model(input_model, train_data, test_data):\n\n    spark = SparkSession.builder.appName('pandasToSparkDF').getOrCreate()\n\n    assembler = VectorAssembler(outputCol=\"features\")\n    assembler.setInputCols(train_data.columns)\n    \n    pipeline = Pipeline(stages=[assembler, input_model])\n\n    model = pipeline.fit(train_spark)\n\n    predictions = model.transform(test_spark)\n\n    trainingSummary = model.stages[-1].summary\n\n    AUC_train = trainingSummary.areaUnderROC\n    accuracy_train = trainingSummary.accuracy\n\n    evaluator = BinaryClassificationEvaluator(labelCol='y')\n    AUC_test = evaluator.evaluate(predictions, {evaluator.metricName: 'areaUnderROC'})\n\n    evaluator = MulticlassClassificationEvaluator(labelCol='y')\n    accuracy_test = evaluator.evaluate(predictions, {evaluator.metricName: 'accuracy'})\n\n    result = \"Training dataset AUC: %s\\n Testing dataset AUC: %s\\nTraining dataset - accuracy: %s\\n Testing dataset - accuracy: %s\" % (AUC_train, AUC_test, accuracy_train, accuracy_test)\n\n    return result",
   "execution_count": null,
   "outputs": []
  },
  {
   "cell_type": "markdown",
   "source": "To perform the conversion of pandas dataframe to spark dataframe I will use functions given below. These functions were taken from gist - https://gist.github.com/zaloogarcia/11508e9ca786c6851513d31fb2e70bfc.",
   "metadata": {
    "tags": [],
    "cell_id": "00054-d3cfc667-8e92-464c-bb39-0b420a9051bd",
    "deepnote_cell_type": "markdown"
   }
  },
  {
   "cell_type": "code",
   "metadata": {
    "tags": [],
    "cell_id": "00055-e04d7912-7bbe-4b84-b033-f08d0ca1a35d",
    "deepnote_to_be_reexecuted": false,
    "source_hash": "e57208ac",
    "execution_start": 1638089486478,
    "execution_millis": 1,
    "deepnote_cell_type": "code"
   },
   "source": "# creating mySchema\ndef equivalent_type(f):\n    if f == 'datetime64[ns]': return DateType()\n    elif f == 'int64': return LongType()\n    elif f == 'int32': return IntegerType()\n    elif f == 'uint8': return IntegerType()\n    elif f == 'float64': return FloatType()\n    else: return StringType()\n\ndef define_structure(string, format_type):\n    try: typo = equivalent_type(format_type)\n    except: typo = StringType()\n    return StructField(string, typo)\n\n#Given pandas dataframe, it will return a spark's dataframe\ndef pandas_to_spark(df_pandas):\n    sqlContext = SQLContext(SparkContext.getOrCreate())\n    columns = list(df_pandas.columns)\n    types = list(df_pandas.dtypes)\n    struct_list = []\n    for column, typo in zip(columns, types): \n        struct_list.append(define_structure(column, typo))\n    p_schema = StructType(struct_list)\n    return sqlContext.createDataFrame(df_pandas, p_schema)",
   "execution_count": null,
   "outputs": []
  },
  {
   "cell_type": "markdown",
   "source": "### Running the model without any preprocessing",
   "metadata": {
    "tags": [],
    "is_collapsed": false,
    "cell_id": "00056-01c5aa2e-c310-400e-a205-07c438f3de22",
    "deepnote_cell_type": "text-cell-h3"
   }
  },
  {
   "cell_type": "code",
   "metadata": {
    "tags": [],
    "cell_id": "00057-77ef16e2-9aa7-443c-b0cd-e2c7e774f83e",
    "deepnote_to_be_reexecuted": false,
    "source_hash": "a8193d",
    "execution_start": 1638089486496,
    "execution_millis": 3,
    "deepnote_output_heights": [
     21
    ],
    "deepnote_cell_type": "code"
   },
   "source": "'''\npyspark_df = pandas_to_spark(df)\n\nspark_models = {'Logistic regression' : LogisticRegression(maxIter=10, regParam=0.3, elasticNetParam=0.8, featuresCol='features', labelCol='y')}\n\ntrain_spark, test_spark = pyspark_df.randomSplit(weights=[0.7,0.3], seed=200)\n\nfor key, val in spark_models.items():\n    print('Model: ', key)\n    print(log_reg_model(val, train_spark, test_spark), end='\\n\\n')\n'''",
   "execution_count": null,
   "outputs": [
    {
     "output_type": "execute_result",
     "execution_count": 32,
     "data": {
      "text/plain": "\"\\npyspark_df = pandas_to_spark(df)\\n\\nspark_models = {'Logistic regression' : LogisticRegression(maxIter=10, regParam=0.3, elasticNetParam=0.8, featuresCol='features', labelCol='y')}\\n\\ntrain_spark, test_spark = pyspark_df.randomSplit(weights=[0.7,0.3], seed=200)\\n\\nfor key, val in spark_models.items():\\n    print('Model: ', key)\\n    print(log_reg_model(val, train_spark, test_spark), end='\\n\\n')\\n\""
     },
     "metadata": {}
    }
   ]
  },
  {
   "cell_type": "markdown",
   "source": "### Running the model with binning (depth)",
   "metadata": {
    "tags": [],
    "is_collapsed": false,
    "cell_id": "00058-b4fdfe1d-11a0-406c-817f-60b66bb1524b",
    "deepnote_cell_type": "text-cell-h3"
   }
  },
  {
   "cell_type": "code",
   "metadata": {
    "tags": [],
    "cell_id": "00059-122418ea-0afd-40a5-9a40-a46f56e2e693",
    "deepnote_to_be_reexecuted": false,
    "source_hash": "e6423f3f",
    "execution_start": 1638089486497,
    "execution_millis": 0,
    "deepnote_output_heights": [
     21
    ],
    "deepnote_cell_type": "code"
   },
   "source": "'''\ndf_bind = bind_df.drop(['xind_15'], axis=1)\ndf_bind = pd.get_dummies(df_bind, columns=[\"xind_15_cut_d\"])\n\npyspark_bind = pandas_to_spark(df_bind)\n\ntrain_spark_d, test_spark_d = pyspark_bind.randomSplit(weights=[0.7,0.3], seed=200)\n\nfor key, val in spark_models.items():\n    print('Model: ', key)\n    print(log_reg_model(val, train_spark_d, test_spark_d), end='\\n\\n')\n'''",
   "execution_count": null,
   "outputs": [
    {
     "output_type": "execute_result",
     "execution_count": 33,
     "data": {
      "text/plain": "'\\ndf_bind = bind_df.drop([\\'xind_15\\'], axis=1)\\ndf_bind = pd.get_dummies(df_bind, columns=[\"xind_15_cut_d\"])\\n\\npyspark_bind = pandas_to_spark(df_bind)\\n\\ntrain_spark_d, test_spark_d = pyspark_bind.randomSplit(weights=[0.7,0.3], seed=200)\\n\\nfor key, val in spark_models.items():\\n    print(\\'Model: \\', key)\\n    print(log_reg_model(val, train_spark_d, test_spark_d), end=\\'\\n\\n\\')\\n'"
     },
     "metadata": {}
    }
   ]
  },
  {
   "cell_type": "markdown",
   "source": "### Running the model with binning (width)",
   "metadata": {
    "tags": [],
    "is_collapsed": false,
    "cell_id": "00060-6780f15a-ac89-43ef-a89a-5b675f5ac98c",
    "deepnote_cell_type": "text-cell-h3"
   }
  },
  {
   "cell_type": "code",
   "metadata": {
    "tags": [],
    "cell_id": "00061-95e220a6-eaf1-480a-a479-f208d9d49b85",
    "deepnote_to_be_reexecuted": false,
    "source_hash": "8a919b69",
    "execution_start": 1638089486499,
    "execution_millis": 189,
    "deepnote_cell_type": "code"
   },
   "source": "'''\ndf_bin = bin_df.drop(['xind_15'], axis=1)\ndf_bin = pd.get_dummies(df_bind, columns=[\"x_ind_15_cut\"]) \n\n#pyspark_bin = pandas_to_spark(df_bin)\n\n#train_spark_w, test_spark_w = pyspark_bin.randomSplit(weights=[0.7,0.3], seed=200)\n\n#for key, val in spark_models.items():\n#    print('Model: ', key)\n#    print(log_reg_model(val, train_spark_w, test_spark_w), end='\\n\\n')\n",
   "execution_count": null,
   "outputs": [
    {
     "output_type": "error",
     "ename": "SyntaxError",
     "evalue": "EOF while scanning triple-quoted string literal (<ipython-input-34-06c2d879c373>, line 11)",
     "traceback": [
      "\u001b[0;36m  File \u001b[0;32m\"<ipython-input-34-06c2d879c373>\"\u001b[0;36m, line \u001b[0;32m11\u001b[0m\n\u001b[0;31m    #    print(log_reg_model(val, train_spark_w, test_spark_w), end='\\n\\n')\u001b[0m\n\u001b[0m                                                                           \n^\u001b[0m\n\u001b[0;31mSyntaxError\u001b[0m\u001b[0;31m:\u001b[0m EOF while scanning triple-quoted string literal\n"
     ]
    }
   ]
  },
  {
   "cell_type": "markdown",
   "source": "**Personal notes and conclusion:**\n\n* I tried to use SMOTE as oversampling method in addition to those I used however I run out of memory (unprocessed pandas df - default dtype). SMOTE and oversampling were giving me simillar results.\n\n* Pyspark along with pandas (unprocessed pandas df - default dtype) was using a lot of memory, I wanted to learn in this exercise how to use pyspark.\n\n* The speed of the code (due to the size of dataset was quite slow) I couldn't try some other classification models on these data, I was curious which model would work the best. I chose DecisionTree as it was fast to run.\n\n* Binning of data to have the equal with help to improve the performance of the classification model. \n\n* None of techniques used to equalize the number of predictable variable (oversampling/undersampling) did not help to improve F1-score and the number of False positive and False negative calls.\n",
   "metadata": {
    "tags": [],
    "cell_id": "00063-5c53061e-af47-4de8-94c7-d38970a29337",
    "deepnote_cell_type": "markdown"
   }
  },
  {
   "cell_type": "markdown",
   "source": "<a style='text-decoration:none;line-height:16px;display:flex;color:#5B5B62;padding:10px;justify-content:end;' href='https://deepnote.com?utm_source=created-in-deepnote-cell&projectId=c2a71827-6cde-4962-96a5-e524371dd981' target=\"_blank\">\n<img alt='Created in deepnote.com' style='display:inline;max-height:16px;margin:0px;margin-right:7.5px;' src='data:image/svg+xml;base64,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' > </img>\nCreated in <span style='font-weight:600;margin-left:4px;'>Deepnote</span></a>",
   "metadata": {
    "tags": [],
    "created_in_deepnote_cell": true,
    "deepnote_cell_type": "markdown"
   }
  }
 ],
 "nbformat": 4,
 "nbformat_minor": 4,
 "metadata": {
  "kernelspec": {
   "display_name": "Python 3",
   "language": "python",
   "name": "python3"
  },
  "language_info": {
   "codemirror_mode": {
    "name": "ipython",
    "version": 3
   },
   "file_extension": ".py",
   "mimetype": "text/x-python",
   "name": "python",
   "nbconvert_exporter": "python",
   "pygments_lexer": "ipython3",
   "version": "3.9.2"
  },
  "deepnote_notebook_id": "37a436b0-3979-4c91-ae6f-05bb2646c4e4",
  "deepnote": {},
  "deepnote_execution_queue": []
 }
}