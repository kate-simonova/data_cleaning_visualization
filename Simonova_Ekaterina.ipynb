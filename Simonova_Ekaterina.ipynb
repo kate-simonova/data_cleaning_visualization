{
 "cells": [
  {
   "cell_type": "markdown",
   "source": "# Homework 3 - data transformation & dimensionality reduction (deadline 19. 12. 2021, 23:59)\n\nIn short, the main task is to play with transformations and dimensionality reduction to obtain the best results for the linear regression model predicting house sale prices.\n  \n> The instructions are not given in detail: It is up to you to come up with ideas on how to fulfill the particular tasks as best you can!\n\nHowever, we **strongly recommend and require** the following:\n* Follow the assignment step by step. Number each step.\n* Properly comment all your steps. Comments are evaluated for 2 points of the total together with the final presentation of the solution. However, it is not desirable to write novels! \n* Do not leave the task to the last minute.\n* Hand in a notebook that has already been run (i.e. do not delete outputs before handing in).\n\n## What are you supposed to do:\n\nYour aim is to optimize the _RMSLE_ (see the note below) of the linear regression estimator (= our prediction model) of the observed sale prices.\n\n### Instructions:\n\n  1. Download the dataset from the [course pages](https://courses.fit.cvut.cz/MI-PDD/homeworks/index.html) (data.csv, data_description.txt). It corresponds to [this Kaggle competition](https://www.kaggle.com/c/house-prices-advanced-regression-techniques). \n  1. Transform features appropriately and prepare new ones - focus on the increase in the performance of the model (possibly in combination with further steps). Split the dataset into a train and test part exactly as we did in the tutorials. Use the test part for evaluation of the influence of further steps. _(3 points)_\n  1. Try to find some suitable subset of features - first without the use of PCA. _(4 points)_\n  1. Use PCA (principal component analysis) to reduce the dimensionality. Discuss the influence of the number of principal components. _(4 points)_\n  1. Compare the results of previous steps on the test part of the dataset. _(3 points)_\n  \nGive comments (!) on each step of your solution, with short explanations of your choices.\n\nAll your steps and following code **have to be commented!** Comments are evaluated for _2 points_ together with the final presentation of the solution.\n\n**If you do all this properly, you will obtain 16 points.**\n\n**Note**: _RMSLE_ is a Root-Mean-Squared-Error (RMSE) between the logarithm of the predicted value and the logarithm of the observed sale prices.\n\n\n## Comments\n\n  * Please follow the technical instructions from https://courses.fit.cvut.cz/NI-PDD/homeworks/index.html.\n  * If the reviewing teacher is not satisfied, she can (!) give you another chance to rework your homework and to obtain more points. However, this is not a given, so do your best! :)\n  * English is not compulsory.",
   "metadata": {
    "cell_id": "00000-1b3d2572-65c6-4008-a594-c1bfd0bc3203",
    "deepnote_cell_type": "markdown"
   }
  },
  {
   "cell_type": "markdown",
   "source": "# Regression models on prediction of house prices",
   "metadata": {
    "tags": [],
    "is_collapsed": false,
    "cell_id": "00001-2a1d38c0-4395-4908-85de-4e6c982ba220",
    "deepnote_cell_type": "text-cell-h1"
   }
  },
  {
   "cell_type": "markdown",
   "source": "## Ekaterina Simonova - Bioinformatics, UCT Prague",
   "metadata": {
    "tags": [],
    "is_collapsed": false,
    "cell_id": "00001-dfc6109d-4f74-488a-8eb5-aa636f07724e",
    "deepnote_cell_type": "text-cell-h2"
   }
  },
  {
   "cell_type": "markdown",
   "source": "In this exercise, we will work with house prices dataset. Overall, we will try to evaluate different techniques for feature selection on the preformance of regression model. Let's first load all necessary packages, the dataset and the description into the environment in order to have the idea of variables and values presented in data.",
   "metadata": {
    "tags": [],
    "cell_id": "00003-5eec9d24-dfdc-4ac4-b984-c14dfe6bdb52",
    "deepnote_cell_type": "markdown"
   }
  },
  {
   "cell_type": "markdown",
   "source": "### Loading data &amp; libraries",
   "metadata": {
    "tags": [],
    "is_collapsed": false,
    "cell_id": "00004-48d0a704-8756-4850-a1ed-ad452bca6ed9",
    "deepnote_cell_type": "text-cell-h3"
   }
  },
  {
   "cell_type": "code",
   "metadata": {
    "tags": [],
    "cell_id": "00004-ad9e71a3-f8f7-4872-8bff-8ed355875b83",
    "deepnote_to_be_reexecuted": false,
    "source_hash": "f2193b48",
    "execution_start": 1638735478313,
    "execution_millis": 0,
    "deepnote_cell_type": "code"
   },
   "source": "# Data handling and processing\nimport pandas as pd\nimport numpy as np\n\n# Data visualisation \nimport matplotlib.pyplot as plt\n\n# Preprocessing data\nfrom sklearn.preprocessing import MinMaxScaler\nimport scipy.stats as ss\nfrom sklearn.decomposition import PCA\nfrom sklearn.pipeline import Pipeline\nfrom sklearn.impute import SimpleImputer\nfrom sklearn.feature_selection import mutual_info_classif as MIC\n\n# Machine learning algorithms\nfrom sklearn.linear_model import LinearRegression\n\n# Model fine-tuning and evaluation\nfrom sklearn.metrics import mean_squared_error\nfrom sklearn.model_selection import train_test_split\n\n# additional modules\nimport sys\nimport warnings",
   "execution_count": null,
   "outputs": []
  },
  {
   "cell_type": "code",
   "metadata": {
    "tags": [],
    "cell_id": "00005-9c1ddd37-d42b-4dfd-b341-a4dc21ae1328",
    "deepnote_to_be_reexecuted": false,
    "source_hash": "1045a663",
    "execution_start": 1638735478314,
    "execution_millis": 547,
    "deepnote_output_heights": [
     21
    ],
    "deepnote_cell_type": "code"
   },
   "source": "# loading data description\nfile_d = open('data_description.txt').read()\nprint(file_d)",
   "execution_count": null,
   "outputs": [
    {
     "name": "stdout",
     "text": "MSSubClass: Identifies the type of dwelling involved in the sale.\t\n\n        20\t1-STORY 1946 & NEWER ALL STYLES\n        30\t1-STORY 1945 & OLDER\n        40\t1-STORY W/FINISHED ATTIC ALL AGES\n        45\t1-1/2 STORY - UNFINISHED ALL AGES\n        50\t1-1/2 STORY FINISHED ALL AGES\n        60\t2-STORY 1946 & NEWER\n        70\t2-STORY 1945 & OLDER\n        75\t2-1/2 STORY ALL AGES\n        80\tSPLIT OR MULTI-LEVEL\n        85\tSPLIT FOYER\n        90\tDUPLEX - ALL STYLES AND AGES\n       120\t1-STORY PUD (Planned Unit Development) - 1946 & NEWER\n       150\t1-1/2 STORY PUD - ALL AGES\n       160\t2-STORY PUD - 1946 & NEWER\n       180\tPUD - MULTILEVEL - INCL SPLIT LEV/FOYER\n       190\t2 FAMILY CONVERSION - ALL STYLES AND AGES\n\nMSZoning: Identifies the general zoning classification of the sale.\n\t\t\n       A\tAgriculture\n       C\tCommercial\n       FV\tFloating Village Residential\n       I\tIndustrial\n       RH\tResidential High Density\n       RL\tResidential Low Density\n       RP\tResidential Low Density Park \n       RM\tResidential Medium Density\n\t\nLotFrontage: Linear feet of street connected to property\n\nLotArea: Lot size in square feet\n\nStreet: Type of road access to property\n\n       Grvl\tGravel\t\n       Pave\tPaved\n       \t\nAlley: Type of alley access to property\n\n       Grvl\tGravel\n       Pave\tPaved\n       NA \tNo alley access\n\t\t\nLotShape: General shape of property\n\n       Reg\tRegular\t\n       IR1\tSlightly irregular\n       IR2\tModerately Irregular\n       IR3\tIrregular\n       \nLandContour: Flatness of the property\n\n       Lvl\tNear Flat/Level\t\n       Bnk\tBanked - Quick and significant rise from street grade to building\n       HLS\tHillside - Significant slope from side to side\n       Low\tDepression\n\t\t\nUtilities: Type of utilities available\n\t\t\n       AllPub\tAll public Utilities (E,G,W,& S)\t\n       NoSewr\tElectricity, Gas, and Water (Septic Tank)\n       NoSeWa\tElectricity and Gas Only\n       ELO\tElectricity only\t\n\t\nLotConfig: Lot configuration\n\n       Inside\tInside lot\n       Corner\tCorner lot\n       CulDSac\tCul-de-sac\n       FR2\tFrontage on 2 sides of property\n       FR3\tFrontage on 3 sides of property\n\t\nLandSlope: Slope of property\n\t\t\n       Gtl\tGentle slope\n       Mod\tModerate Slope\t\n       Sev\tSevere Slope\n\t\nNeighborhood: Physical locations within Ames city limits\n\n       Blmngtn\tBloomington Heights\n       Blueste\tBluestem\n       BrDale\tBriardale\n       BrkSide\tBrookside\n       ClearCr\tClear Creek\n       CollgCr\tCollege Creek\n       Crawfor\tCrawford\n       Edwards\tEdwards\n       Gilbert\tGilbert\n       IDOTRR\tIowa DOT and Rail Road\n       MeadowV\tMeadow Village\n       Mitchel\tMitchell\n       Names\tNorth Ames\n       NoRidge\tNorthridge\n       NPkVill\tNorthpark Villa\n       NridgHt\tNorthridge Heights\n       NWAmes\tNorthwest Ames\n       OldTown\tOld Town\n       SWISU\tSouth & West of Iowa State University\n       Sawyer\tSawyer\n       SawyerW\tSawyer West\n       Somerst\tSomerset\n       StoneBr\tStone Brook\n       Timber\tTimberland\n       Veenker\tVeenker\n\t\t\t\nCondition1: Proximity to various conditions\n\t\n       Artery\tAdjacent to arterial street\n       Feedr\tAdjacent to feeder street\t\n       Norm\tNormal\t\n       RRNn\tWithin 200' of North-South Railroad\n       RRAn\tAdjacent to North-South Railroad\n       PosN\tNear positive off-site feature--park, greenbelt, etc.\n       PosA\tAdjacent to postive off-site feature\n       RRNe\tWithin 200' of East-West Railroad\n       RRAe\tAdjacent to East-West Railroad\n\t\nCondition2: Proximity to various conditions (if more than one is present)\n\t\t\n       Artery\tAdjacent to arterial street\n       Feedr\tAdjacent to feeder street\t\n       Norm\tNormal\t\n       RRNn\tWithin 200' of North-South Railroad\n       RRAn\tAdjacent to North-South Railroad\n       PosN\tNear positive off-site feature--park, greenbelt, etc.\n       PosA\tAdjacent to postive off-site feature\n       RRNe\tWithin 200' of East-West Railroad\n       RRAe\tAdjacent to East-West Railroad\n\t\nBldgType: Type of dwelling\n\t\t\n       1Fam\tSingle-family Detached\t\n       2FmCon\tTwo-family Conversion; originally built as one-family dwelling\n       Duplx\tDuplex\n       TwnhsE\tTownhouse End Unit\n       TwnhsI\tTownhouse Inside Unit\n\t\nHouseStyle: Style of dwelling\n\t\n       1Story\tOne story\n       1.5Fin\tOne and one-half story: 2nd level finished\n       1.5Unf\tOne and one-half story: 2nd level unfinished\n       2Story\tTwo story\n       2.5Fin\tTwo and one-half story: 2nd level finished\n       2.5Unf\tTwo and one-half story: 2nd level unfinished\n       SFoyer\tSplit Foyer\n       SLvl\tSplit Level\n\t\nOverallQual: Rates the overall material and finish of the house\n\n       10\tVery Excellent\n       9\tExcellent\n       8\tVery Good\n       7\tGood\n       6\tAbove Average\n       5\tAverage\n       4\tBelow Average\n       3\tFair\n       2\tPoor\n       1\tVery Poor\n\t\nOverallCond: Rates the overall condition of the house\n\n       10\tVery Excellent\n       9\tExcellent\n       8\tVery Good\n       7\tGood\n       6\tAbove Average\t\n       5\tAverage\n       4\tBelow Average\t\n       3\tFair\n       2\tPoor\n       1\tVery Poor\n\t\t\nYearBuilt: Original construction date\n\nYearRemodAdd: Remodel date (same as construction date if no remodeling or additions)\n\nRoofStyle: Type of roof\n\n       Flat\tFlat\n       Gable\tGable\n       Gambrel\tGabrel (Barn)\n       Hip\tHip\n       Mansard\tMansard\n       Shed\tShed\n\t\t\nRoofMatl: Roof material\n\n       ClyTile\tClay or Tile\n       CompShg\tStandard (Composite) Shingle\n       Membran\tMembrane\n       Metal\tMetal\n       Roll\tRoll\n       Tar&Grv\tGravel & Tar\n       WdShake\tWood Shakes\n       WdShngl\tWood Shingles\n\t\t\nExterior1st: Exterior covering on house\n\n       AsbShng\tAsbestos Shingles\n       AsphShn\tAsphalt Shingles\n       BrkComm\tBrick Common\n       BrkFace\tBrick Face\n       CBlock\tCinder Block\n       CemntBd\tCement Board\n       HdBoard\tHard Board\n       ImStucc\tImitation Stucco\n       MetalSd\tMetal Siding\n       Other\tOther\n       Plywood\tPlywood\n       PreCast\tPreCast\t\n       Stone\tStone\n       Stucco\tStucco\n       VinylSd\tVinyl Siding\n       Wd Sdng\tWood Siding\n       WdShing\tWood Shingles\n\t\nExterior2nd: Exterior covering on house (if more than one material)\n\n       AsbShng\tAsbestos Shingles\n       AsphShn\tAsphalt Shingles\n       BrkComm\tBrick Common\n       BrkFace\tBrick Face\n       CBlock\tCinder Block\n       CemntBd\tCement Board\n       HdBoard\tHard Board\n       ImStucc\tImitation Stucco\n       MetalSd\tMetal Siding\n       Other\tOther\n       Plywood\tPlywood\n       PreCast\tPreCast\n       Stone\tStone\n       Stucco\tStucco\n       VinylSd\tVinyl Siding\n       Wd Sdng\tWood Siding\n       WdShing\tWood Shingles\n\t\nMasVnrType: Masonry veneer type\n\n       BrkCmn\tBrick Common\n       BrkFace\tBrick Face\n       CBlock\tCinder Block\n       None\tNone\n       Stone\tStone\n\t\nMasVnrArea: Masonry veneer area in square feet\n\nExterQual: Evaluates the quality of the material on the exterior \n\t\t\n       Ex\tExcellent\n       Gd\tGood\n       TA\tAverage/Typical\n       Fa\tFair\n       Po\tPoor\n\t\t\nExterCond: Evaluates the present condition of the material on the exterior\n\t\t\n       Ex\tExcellent\n       Gd\tGood\n       TA\tAverage/Typical\n       Fa\tFair\n       Po\tPoor\n\t\t\nFoundation: Type of foundation\n\t\t\n       BrkTil\tBrick & Tile\n       CBlock\tCinder Block\n       PConc\tPoured Contrete\t\n       Slab\tSlab\n       Stone\tStone\n       Wood\tWood\n\t\t\nBsmtQual: Evaluates the height of the basement\n\n       Ex\tExcellent (100+ inches)\t\n       Gd\tGood (90-99 inches)\n       TA\tTypical (80-89 inches)\n       Fa\tFair (70-79 inches)\n       Po\tPoor (<70 inches\n       NA\tNo Basement\n\t\t\nBsmtCond: Evaluates the general condition of the basement\n\n       Ex\tExcellent\n       Gd\tGood\n       TA\tTypical - slight dampness allowed\n       Fa\tFair - dampness or some cracking or settling\n       Po\tPoor - Severe cracking, settling, or wetness\n       NA\tNo Basement\n\t\nBsmtExposure: Refers to walkout or garden level walls\n\n       Gd\tGood Exposure\n       Av\tAverage Exposure (split levels or foyers typically score average or above)\t\n       Mn\tMimimum Exposure\n       No\tNo Exposure\n       NA\tNo Basement\n\t\nBsmtFinType1: Rating of basement finished area\n\n       GLQ\tGood Living Quarters\n       ALQ\tAverage Living Quarters\n       BLQ\tBelow Average Living Quarters\t\n       Rec\tAverage Rec Room\n       LwQ\tLow Quality\n       Unf\tUnfinshed\n       NA\tNo Basement\n\t\t\nBsmtFinSF1: Type 1 finished square feet\n\nBsmtFinType2: Rating of basement finished area (if multiple types)\n\n       GLQ\tGood Living Quarters\n       ALQ\tAverage Living Quarters\n       BLQ\tBelow Average Living Quarters\t\n       Rec\tAverage Rec Room\n       LwQ\tLow Quality\n       Unf\tUnfinshed\n       NA\tNo Basement\n\nBsmtFinSF2: Type 2 finished square feet\n\nBsmtUnfSF: Unfinished square feet of basement area\n\nTotalBsmtSF: Total square feet of basement area\n\nHeating: Type of heating\n\t\t\n       Floor\tFloor Furnace\n       GasA\tGas forced warm air furnace\n       GasW\tGas hot water or steam heat\n       Grav\tGravity furnace\t\n       OthW\tHot water or steam heat other than gas\n       Wall\tWall furnace\n\t\t\nHeatingQC: Heating quality and condition\n\n       Ex\tExcellent\n       Gd\tGood\n       TA\tAverage/Typical\n       Fa\tFair\n       Po\tPoor\n\t\t\nCentralAir: Central air conditioning\n\n       N\tNo\n       Y\tYes\n\t\t\nElectrical: Electrical system\n\n       SBrkr\tStandard Circuit Breakers & Romex\n       FuseA\tFuse Box over 60 AMP and all Romex wiring (Average)\t\n       FuseF\t60 AMP Fuse Box and mostly Romex wiring (Fair)\n       FuseP\t60 AMP Fuse Box and mostly knob & tube wiring (poor)\n       Mix\tMixed\n\t\t\n1stFlrSF: First Floor square feet\n \n2ndFlrSF: Second floor square feet\n\nLowQualFinSF: Low quality finished square feet (all floors)\n\nGrLivArea: Above grade (ground) living area square feet\n\nBsmtFullBath: Basement full bathrooms\n\nBsmtHalfBath: Basement half bathrooms\n\nFullBath: Full bathrooms above grade\n\nHalfBath: Half baths above grade\n\nBedroom: Bedrooms above grade (does NOT include basement bedrooms)\n\nKitchen: Kitchens above grade\n\nKitchenQual: Kitchen quality\n\n       Ex\tExcellent\n       Gd\tGood\n       TA\tTypical/Average\n       Fa\tFair\n       Po\tPoor\n       \t\nTotRmsAbvGrd: Total rooms above grade (does not include bathrooms)\n\nFunctional: Home functionality (Assume typical unless deductions are warranted)\n\n       Typ\tTypical Functionality\n       Min1\tMinor Deductions 1\n       Min2\tMinor Deductions 2\n       Mod\tModerate Deductions\n       Maj1\tMajor Deductions 1\n       Maj2\tMajor Deductions 2\n       Sev\tSeverely Damaged\n       Sal\tSalvage only\n\t\t\nFireplaces: Number of fireplaces\n\nFireplaceQu: Fireplace quality\n\n       Ex\tExcellent - Exceptional Masonry Fireplace\n       Gd\tGood - Masonry Fireplace in main level\n       TA\tAverage - Prefabricated Fireplace in main living area or Masonry Fireplace in basement\n       Fa\tFair - Prefabricated Fireplace in basement\n       Po\tPoor - Ben Franklin Stove\n       NA\tNo Fireplace\n\t\t\nGarageType: Garage location\n\t\t\n       2Types\tMore than one type of garage\n       Attchd\tAttached to home\n       Basment\tBasement Garage\n       BuiltIn\tBuilt-In (Garage part of house - typically has room above garage)\n       CarPort\tCar Port\n       Detchd\tDetached from home\n       NA\tNo Garage\n\t\t\nGarageYrBlt: Year garage was built\n\t\t\nGarageFinish: Interior finish of the garage\n\n       Fin\tFinished\n       RFn\tRough Finished\t\n       Unf\tUnfinished\n       NA\tNo Garage\n\t\t\nGarageCars: Size of garage in car capacity\n\nGarageArea: Size of garage in square feet\n\nGarageQual: Garage quality\n\n       Ex\tExcellent\n       Gd\tGood\n       TA\tTypical/Average\n       Fa\tFair\n       Po\tPoor\n       NA\tNo Garage\n\t\t\nGarageCond: Garage condition\n\n       Ex\tExcellent\n       Gd\tGood\n       TA\tTypical/Average\n       Fa\tFair\n       Po\tPoor\n       NA\tNo Garage\n\t\t\nPavedDrive: Paved driveway\n\n       Y\tPaved \n       P\tPartial Pavement\n       N\tDirt/Gravel\n\t\t\nWoodDeckSF: Wood deck area in square feet\n\nOpenPorchSF: Open porch area in square feet\n\nEnclosedPorch: Enclosed porch area in square feet\n\n3SsnPorch: Three season porch area in square feet\n\nScreenPorch: Screen porch area in square feet\n\nPoolArea: Pool area in square feet\n\nPoolQC: Pool quality\n\t\t\n       Ex\tExcellent\n       Gd\tGood\n       TA\tAverage/Typical\n       Fa\tFair\n       NA\tNo Pool\n\t\t\nFence: Fence quality\n\t\t\n       GdPrv\tGood Privacy\n       MnPrv\tMinimum Privacy\n       GdWo\tGood Wood\n       MnWw\tMinimum Wood/Wire\n       NA\tNo Fence\n\t\nMiscFeature: Miscellaneous feature not covered in other categories\n\t\t\n       Elev\tElevator\n       Gar2\t2nd Garage (if not described in garage section)\n       Othr\tOther\n       Shed\tShed (over 100 SF)\n       TenC\tTennis Court\n       NA\tNone\n\t\t\nMiscVal: $Value of miscellaneous feature\n\nMoSold: Month Sold (MM)\n\nYrSold: Year Sold (YYYY)\n\nSaleType: Type of sale\n\t\t\n       WD \tWarranty Deed - Conventional\n       CWD\tWarranty Deed - Cash\n       VWD\tWarranty Deed - VA Loan\n       New\tHome just constructed and sold\n       COD\tCourt Officer Deed/Estate\n       Con\tContract 15% Down payment regular terms\n       ConLw\tContract Low Down payment and low interest\n       ConLI\tContract Low Interest\n       ConLD\tContract Low Down\n       Oth\tOther\n\t\t\nSaleCondition: Condition of sale\n\n       Normal\tNormal Sale\n       Abnorml\tAbnormal Sale -  trade, foreclosure, short sale\n       AdjLand\tAdjoining Land Purchase\n       Alloca\tAllocation - two linked properties with separate deeds, typically condo with a garage unit\t\n       Family\tSale between family members\n       Partial\tHome was not completed when last assessed (associated with New Homes)\n\n",
     "output_type": "stream"
    }
   ]
  },
  {
   "cell_type": "code",
   "metadata": {
    "tags": [],
    "cell_id": "00006-1fd30e9c-4de9-47d6-93b8-320c2dc8ac63",
    "deepnote_to_be_reexecuted": false,
    "source_hash": "52c3de74",
    "execution_start": 1638735478799,
    "execution_millis": 459,
    "deepnote_cell_type": "code"
   },
   "source": "# loading data\ndf = pd.read_csv('data.csv')\ndf.head()",
   "execution_count": null,
   "outputs": [
    {
     "output_type": "execute_result",
     "execution_count": 27,
     "data": {
      "application/vnd.deepnote.dataframe.v2+json": {
       "row_count": 5,
       "column_count": 81,
       "columns": [
        {
         "name": "Id",
         "dtype": "int64",
         "stats": {
          "unique_count": 5,
          "nan_count": 0,
          "min": "1",
          "max": "5",
          "histogram": [
           {
            "bin_start": 1,
            "bin_end": 1.4,
            "count": 1
           },
           {
            "bin_start": 1.4,
            "bin_end": 1.8,
            "count": 0
           },
           {
            "bin_start": 1.8,
            "bin_end": 2.2,
            "count": 1
           },
           {
            "bin_start": 2.2,
            "bin_end": 2.6,
            "count": 0
           },
           {
            "bin_start": 2.6,
            "bin_end": 3,
            "count": 0
           },
           {
            "bin_start": 3,
            "bin_end": 3.4000000000000004,
            "count": 1
           },
           {
            "bin_start": 3.4000000000000004,
            "bin_end": 3.8000000000000003,
            "count": 0
           },
           {
            "bin_start": 3.8000000000000003,
            "bin_end": 4.2,
            "count": 1
           },
           {
            "bin_start": 4.2,
            "bin_end": 4.6,
            "count": 0
           },
           {
            "bin_start": 4.6,
            "bin_end": 5,
            "count": 1
           }
          ]
         }
        },
        {
         "name": "MSSubClass",
         "dtype": "int64",
         "stats": {
          "unique_count": 3,
          "nan_count": 0,
          "min": "20",
          "max": "70",
          "histogram": [
           {
            "bin_start": 20,
            "bin_end": 25,
            "count": 1
           },
           {
            "bin_start": 25,
            "bin_end": 30,
            "count": 0
           },
           {
            "bin_start": 30,
            "bin_end": 35,
            "count": 0
           },
           {
            "bin_start": 35,
            "bin_end": 40,
            "count": 0
           },
           {
            "bin_start": 40,
            "bin_end": 45,
            "count": 0
           },
           {
            "bin_start": 45,
            "bin_end": 50,
            "count": 0
           },
           {
            "bin_start": 50,
            "bin_end": 55,
            "count": 0
           },
           {
            "bin_start": 55,
            "bin_end": 60,
            "count": 0
           },
           {
            "bin_start": 60,
            "bin_end": 65,
            "count": 3
           },
           {
            "bin_start": 65,
            "bin_end": 70,
            "count": 1
           }
          ]
         }
        },
        {
         "name": "MSZoning",
         "dtype": "object",
         "stats": {
          "unique_count": 1,
          "nan_count": 0,
          "categories": [
           {
            "name": "RL",
            "count": 5
           }
          ]
         }
        },
        {
         "name": "LotFrontage",
         "dtype": "float64",
         "stats": {
          "unique_count": 5,
          "nan_count": 0,
          "min": "60.0",
          "max": "84.0",
          "histogram": [
           {
            "bin_start": 60,
            "bin_end": 62.4,
            "count": 1
           },
           {
            "bin_start": 62.4,
            "bin_end": 64.8,
            "count": 0
           },
           {
            "bin_start": 64.8,
            "bin_end": 67.2,
            "count": 1
           },
           {
            "bin_start": 67.2,
            "bin_end": 69.6,
            "count": 1
           },
           {
            "bin_start": 69.6,
            "bin_end": 72,
            "count": 0
           },
           {
            "bin_start": 72,
            "bin_end": 74.4,
            "count": 0
           },
           {
            "bin_start": 74.4,
            "bin_end": 76.8,
            "count": 0
           },
           {
            "bin_start": 76.8,
            "bin_end": 79.2,
            "count": 0
           },
           {
            "bin_start": 79.2,
            "bin_end": 81.6,
            "count": 1
           },
           {
            "bin_start": 81.6,
            "bin_end": 84,
            "count": 1
           }
          ]
         }
        },
        {
         "name": "LotArea",
         "dtype": "int64",
         "stats": {
          "unique_count": 5,
          "nan_count": 0,
          "min": "8450",
          "max": "14260",
          "histogram": [
           {
            "bin_start": 8450,
            "bin_end": 9031,
            "count": 1
           },
           {
            "bin_start": 9031,
            "bin_end": 9612,
            "count": 2
           },
           {
            "bin_start": 9612,
            "bin_end": 10193,
            "count": 0
           },
           {
            "bin_start": 10193,
            "bin_end": 10774,
            "count": 0
           },
           {
            "bin_start": 10774,
            "bin_end": 11355,
            "count": 1
           },
           {
            "bin_start": 11355,
            "bin_end": 11936,
            "count": 0
           },
           {
            "bin_start": 11936,
            "bin_end": 12517,
            "count": 0
           },
           {
            "bin_start": 12517,
            "bin_end": 13098,
            "count": 0
           },
           {
            "bin_start": 13098,
            "bin_end": 13679,
            "count": 0
           },
           {
            "bin_start": 13679,
            "bin_end": 14260,
            "count": 1
           }
          ]
         }
        },
        {
         "name": "Street",
         "dtype": "object",
         "stats": {
          "unique_count": 1,
          "nan_count": 0,
          "categories": [
           {
            "name": "Pave",
            "count": 5
           }
          ]
         }
        },
        {
         "name": "Alley",
         "dtype": "object",
         "stats": {
          "unique_count": 0,
          "nan_count": 5,
          "categories": [
           {
            "name": "Missing",
            "count": 5
           }
          ]
         }
        },
        {
         "name": "LotShape",
         "dtype": "object",
         "stats": {
          "unique_count": 2,
          "nan_count": 0,
          "categories": [
           {
            "name": "IR1",
            "count": 3
           },
           {
            "name": "Reg",
            "count": 2
           }
          ]
         }
        },
        {
         "name": "LandContour",
         "dtype": "object",
         "stats": {
          "unique_count": 1,
          "nan_count": 0,
          "categories": [
           {
            "name": "Lvl",
            "count": 5
           }
          ]
         }
        },
        {
         "name": "Utilities",
         "dtype": "object",
         "stats": {
          "unique_count": 1,
          "nan_count": 0,
          "categories": [
           {
            "name": "AllPub",
            "count": 5
           }
          ]
         }
        },
        {
         "name": "LotConfig",
         "dtype": "object",
         "stats": {
          "unique_count": 3,
          "nan_count": 0,
          "categories": [
           {
            "name": "Inside",
            "count": 2
           },
           {
            "name": "FR2",
            "count": 2
           },
           {
            "name": "Corner",
            "count": 1
           }
          ]
         }
        },
        {
         "name": "LandSlope",
         "dtype": "object",
         "stats": {
          "unique_count": 1,
          "nan_count": 0,
          "categories": [
           {
            "name": "Gtl",
            "count": 5
           }
          ]
         }
        },
        {
         "name": "Neighborhood",
         "dtype": "object",
         "stats": {
          "unique_count": 4,
          "nan_count": 0,
          "categories": [
           {
            "name": "CollgCr",
            "count": 2
           },
           {
            "name": "Veenker",
            "count": 1
           },
           {
            "name": "2 others",
            "count": 2
           }
          ]
         }
        },
        {
         "name": "Condition1",
         "dtype": "object",
         "stats": {
          "unique_count": 2,
          "nan_count": 0,
          "categories": [
           {
            "name": "Norm",
            "count": 4
           },
           {
            "name": "Feedr",
            "count": 1
           }
          ]
         }
        },
        {
         "name": "Condition2",
         "dtype": "object",
         "stats": {
          "unique_count": 1,
          "nan_count": 0,
          "categories": [
           {
            "name": "Norm",
            "count": 5
           }
          ]
         }
        },
        {
         "name": "BldgType",
         "dtype": "object",
         "stats": {
          "unique_count": 1,
          "nan_count": 0,
          "categories": [
           {
            "name": "1Fam",
            "count": 5
           }
          ]
         }
        },
        {
         "name": "HouseStyle",
         "dtype": "object",
         "stats": {
          "unique_count": 2,
          "nan_count": 0,
          "categories": [
           {
            "name": "2Story",
            "count": 4
           },
           {
            "name": "1Story",
            "count": 1
           }
          ]
         }
        },
        {
         "name": "OverallQual",
         "dtype": "int64",
         "stats": {
          "unique_count": 3,
          "nan_count": 0,
          "min": "6",
          "max": "8",
          "histogram": [
           {
            "bin_start": 6,
            "bin_end": 6.2,
            "count": 1
           },
           {
            "bin_start": 6.2,
            "bin_end": 6.4,
            "count": 0
           },
           {
            "bin_start": 6.4,
            "bin_end": 6.6,
            "count": 0
           },
           {
            "bin_start": 6.6,
            "bin_end": 6.8,
            "count": 0
           },
           {
            "bin_start": 6.8,
            "bin_end": 7,
            "count": 0
           },
           {
            "bin_start": 7,
            "bin_end": 7.2,
            "count": 3
           },
           {
            "bin_start": 7.2,
            "bin_end": 7.4,
            "count": 0
           },
           {
            "bin_start": 7.4,
            "bin_end": 7.6,
            "count": 0
           },
           {
            "bin_start": 7.6,
            "bin_end": 7.8,
            "count": 0
           },
           {
            "bin_start": 7.8,
            "bin_end": 8,
            "count": 1
           }
          ]
         }
        },
        {
         "name": "OverallCond",
         "dtype": "int64",
         "stats": {
          "unique_count": 2,
          "nan_count": 0,
          "min": "5",
          "max": "8",
          "histogram": [
           {
            "bin_start": 5,
            "bin_end": 5.3,
            "count": 4
           },
           {
            "bin_start": 5.3,
            "bin_end": 5.6,
            "count": 0
           },
           {
            "bin_start": 5.6,
            "bin_end": 5.9,
            "count": 0
           },
           {
            "bin_start": 5.9,
            "bin_end": 6.2,
            "count": 0
           },
           {
            "bin_start": 6.2,
            "bin_end": 6.5,
            "count": 0
           },
           {
            "bin_start": 6.5,
            "bin_end": 6.8,
            "count": 0
           },
           {
            "bin_start": 6.8,
            "bin_end": 7.1,
            "count": 0
           },
           {
            "bin_start": 7.1,
            "bin_end": 7.4,
            "count": 0
           },
           {
            "bin_start": 7.4,
            "bin_end": 7.699999999999999,
            "count": 0
           },
           {
            "bin_start": 7.699999999999999,
            "bin_end": 8,
            "count": 1
           }
          ]
         }
        },
        {
         "name": "YearBuilt",
         "dtype": "int64",
         "stats": {
          "unique_count": 5,
          "nan_count": 0,
          "min": "1915",
          "max": "2003",
          "histogram": [
           {
            "bin_start": 1915,
            "bin_end": 1923.8,
            "count": 1
           },
           {
            "bin_start": 1923.8,
            "bin_end": 1932.6,
            "count": 0
           },
           {
            "bin_start": 1932.6,
            "bin_end": 1941.4,
            "count": 0
           },
           {
            "bin_start": 1941.4,
            "bin_end": 1950.2,
            "count": 0
           },
           {
            "bin_start": 1950.2,
            "bin_end": 1959,
            "count": 0
           },
           {
            "bin_start": 1959,
            "bin_end": 1967.8,
            "count": 0
           },
           {
            "bin_start": 1967.8,
            "bin_end": 1976.6,
            "count": 1
           },
           {
            "bin_start": 1976.6,
            "bin_end": 1985.4,
            "count": 0
           },
           {
            "bin_start": 1985.4,
            "bin_end": 1994.2,
            "count": 0
           },
           {
            "bin_start": 1994.2,
            "bin_end": 2003,
            "count": 3
           }
          ]
         }
        },
        {
         "name": "YearRemodAdd",
         "dtype": "int64",
         "stats": {
          "unique_count": 5,
          "nan_count": 0,
          "min": "1970",
          "max": "2003",
          "histogram": [
           {
            "bin_start": 1970,
            "bin_end": 1973.3,
            "count": 1
           },
           {
            "bin_start": 1973.3,
            "bin_end": 1976.6,
            "count": 1
           },
           {
            "bin_start": 1976.6,
            "bin_end": 1979.9,
            "count": 0
           },
           {
            "bin_start": 1979.9,
            "bin_end": 1983.2,
            "count": 0
           },
           {
            "bin_start": 1983.2,
            "bin_end": 1986.5,
            "count": 0
           },
           {
            "bin_start": 1986.5,
            "bin_end": 1989.8,
            "count": 0
           },
           {
            "bin_start": 1989.8,
            "bin_end": 1993.1,
            "count": 0
           },
           {
            "bin_start": 1993.1,
            "bin_end": 1996.4,
            "count": 0
           },
           {
            "bin_start": 1996.4,
            "bin_end": 1999.7,
            "count": 0
           },
           {
            "bin_start": 1999.7,
            "bin_end": 2003,
            "count": 3
           }
          ]
         }
        },
        {
         "name": "RoofStyle",
         "dtype": "object",
         "stats": {
          "unique_count": 1,
          "nan_count": 0,
          "categories": [
           {
            "name": "Gable",
            "count": 5
           }
          ]
         }
        },
        {
         "name": "RoofMatl",
         "dtype": "object",
         "stats": {
          "unique_count": 1,
          "nan_count": 0,
          "categories": [
           {
            "name": "CompShg",
            "count": 5
           }
          ]
         }
        },
        {
         "name": "Exterior1st",
         "dtype": "object",
         "stats": {
          "unique_count": 3,
          "nan_count": 0,
          "categories": [
           {
            "name": "VinylSd",
            "count": 3
           },
           {
            "name": "MetalSd",
            "count": 1
           },
           {
            "name": "Wd Sdng",
            "count": 1
           }
          ]
         }
        },
        {
         "name": "Exterior2nd",
         "dtype": "object",
         "stats": {
          "unique_count": 3,
          "nan_count": 0,
          "categories": [
           {
            "name": "VinylSd",
            "count": 3
           },
           {
            "name": "MetalSd",
            "count": 1
           },
           {
            "name": "Wd Shng",
            "count": 1
           }
          ]
         }
        },
        {
         "name": "MasVnrType",
         "dtype": "object",
         "stats": {
          "unique_count": 2,
          "nan_count": 0,
          "categories": [
           {
            "name": "BrkFace",
            "count": 3
           },
           {
            "name": "None",
            "count": 2
           }
          ]
         }
        },
        {
         "name": "MasVnrArea",
         "dtype": "float64",
         "stats": {
          "unique_count": 4,
          "nan_count": 0,
          "min": "0.0",
          "max": "350.0",
          "histogram": [
           {
            "bin_start": 0,
            "bin_end": 35,
            "count": 2
           },
           {
            "bin_start": 35,
            "bin_end": 70,
            "count": 0
           },
           {
            "bin_start": 70,
            "bin_end": 105,
            "count": 0
           },
           {
            "bin_start": 105,
            "bin_end": 140,
            "count": 0
           },
           {
            "bin_start": 140,
            "bin_end": 175,
            "count": 1
           },
           {
            "bin_start": 175,
            "bin_end": 210,
            "count": 1
           },
           {
            "bin_start": 210,
            "bin_end": 245,
            "count": 0
           },
           {
            "bin_start": 245,
            "bin_end": 280,
            "count": 0
           },
           {
            "bin_start": 280,
            "bin_end": 315,
            "count": 0
           },
           {
            "bin_start": 315,
            "bin_end": 350,
            "count": 1
           }
          ]
         }
        },
        {
         "name": "ExterQual",
         "dtype": "object",
         "stats": {
          "unique_count": 2,
          "nan_count": 0,
          "categories": [
           {
            "name": "Gd",
            "count": 3
           },
           {
            "name": "TA",
            "count": 2
           }
          ]
         }
        },
        {
         "name": "ExterCond",
         "dtype": "object",
         "stats": {
          "unique_count": 1,
          "nan_count": 0,
          "categories": [
           {
            "name": "TA",
            "count": 5
           }
          ]
         }
        },
        {
         "name": "Foundation",
         "dtype": "object",
         "stats": {
          "unique_count": 3,
          "nan_count": 0,
          "categories": [
           {
            "name": "PConc",
            "count": 3
           },
           {
            "name": "CBlock",
            "count": 1
           },
           {
            "name": "BrkTil",
            "count": 1
           }
          ]
         }
        },
        {
         "name": "BsmtQual",
         "dtype": "object",
         "stats": {
          "unique_count": 2,
          "nan_count": 0,
          "categories": [
           {
            "name": "Gd",
            "count": 4
           },
           {
            "name": "TA",
            "count": 1
           }
          ]
         }
        },
        {
         "name": "BsmtCond",
         "dtype": "object",
         "stats": {
          "unique_count": 2,
          "nan_count": 0,
          "categories": [
           {
            "name": "TA",
            "count": 4
           },
           {
            "name": "Gd",
            "count": 1
           }
          ]
         }
        },
        {
         "name": "BsmtExposure",
         "dtype": "object",
         "stats": {
          "unique_count": 4,
          "nan_count": 0,
          "categories": [
           {
            "name": "No",
            "count": 2
           },
           {
            "name": "Gd",
            "count": 1
           },
           {
            "name": "2 others",
            "count": 2
           }
          ]
         }
        },
        {
         "name": "BsmtFinType1",
         "dtype": "object",
         "stats": {
          "unique_count": 2,
          "nan_count": 0,
          "categories": [
           {
            "name": "GLQ",
            "count": 3
           },
           {
            "name": "ALQ",
            "count": 2
           }
          ]
         }
        },
        {
         "name": "BsmtFinSF1",
         "dtype": "int64",
         "stats": {
          "unique_count": 5,
          "nan_count": 0,
          "min": "216",
          "max": "978",
          "histogram": [
           {
            "bin_start": 216,
            "bin_end": 292.2,
            "count": 1
           },
           {
            "bin_start": 292.2,
            "bin_end": 368.4,
            "count": 0
           },
           {
            "bin_start": 368.4,
            "bin_end": 444.6,
            "count": 0
           },
           {
            "bin_start": 444.6,
            "bin_end": 520.8,
            "count": 1
           },
           {
            "bin_start": 520.8,
            "bin_end": 597,
            "count": 0
           },
           {
            "bin_start": 597,
            "bin_end": 673.2,
            "count": 1
           },
           {
            "bin_start": 673.2,
            "bin_end": 749.4,
            "count": 1
           },
           {
            "bin_start": 749.4,
            "bin_end": 825.6,
            "count": 0
           },
           {
            "bin_start": 825.6,
            "bin_end": 901.8000000000001,
            "count": 0
           },
           {
            "bin_start": 901.8000000000001,
            "bin_end": 978,
            "count": 1
           }
          ]
         }
        },
        {
         "name": "BsmtFinType2",
         "dtype": "object",
         "stats": {
          "unique_count": 1,
          "nan_count": 0,
          "categories": [
           {
            "name": "Unf",
            "count": 5
           }
          ]
         }
        },
        {
         "name": "BsmtFinSF2",
         "dtype": "int64",
         "stats": {
          "unique_count": 1,
          "nan_count": 0,
          "min": "0",
          "max": "0",
          "histogram": [
           {
            "bin_start": -0.5,
            "bin_end": -0.4,
            "count": 0
           },
           {
            "bin_start": -0.4,
            "bin_end": -0.3,
            "count": 0
           },
           {
            "bin_start": -0.3,
            "bin_end": -0.19999999999999996,
            "count": 0
           },
           {
            "bin_start": -0.19999999999999996,
            "bin_end": -0.09999999999999998,
            "count": 0
           },
           {
            "bin_start": -0.09999999999999998,
            "bin_end": 0,
            "count": 0
           },
           {
            "bin_start": 0,
            "bin_end": 0.10000000000000009,
            "count": 5
           },
           {
            "bin_start": 0.10000000000000009,
            "bin_end": 0.20000000000000007,
            "count": 0
           },
           {
            "bin_start": 0.20000000000000007,
            "bin_end": 0.30000000000000004,
            "count": 0
           },
           {
            "bin_start": 0.30000000000000004,
            "bin_end": 0.4,
            "count": 0
           },
           {
            "bin_start": 0.4,
            "bin_end": 0.5,
            "count": 0
           }
          ]
         }
        },
        {
         "name": "BsmtUnfSF",
         "dtype": "int64",
         "stats": {
          "unique_count": 5,
          "nan_count": 0,
          "min": "150",
          "max": "540",
          "histogram": [
           {
            "bin_start": 150,
            "bin_end": 189,
            "count": 1
           },
           {
            "bin_start": 189,
            "bin_end": 228,
            "count": 0
           },
           {
            "bin_start": 228,
            "bin_end": 267,
            "count": 0
           },
           {
            "bin_start": 267,
            "bin_end": 306,
            "count": 1
           },
           {
            "bin_start": 306,
            "bin_end": 345,
            "count": 0
           },
           {
            "bin_start": 345,
            "bin_end": 384,
            "count": 0
           },
           {
            "bin_start": 384,
            "bin_end": 423,
            "count": 0
           },
           {
            "bin_start": 423,
            "bin_end": 462,
            "count": 1
           },
           {
            "bin_start": 462,
            "bin_end": 501,
            "count": 1
           },
           {
            "bin_start": 501,
            "bin_end": 540,
            "count": 1
           }
          ]
         }
        },
        {
         "name": "TotalBsmtSF",
         "dtype": "int64",
         "stats": {
          "unique_count": 5,
          "nan_count": 0,
          "min": "756",
          "max": "1262",
          "histogram": [
           {
            "bin_start": 756,
            "bin_end": 806.6,
            "count": 1
           },
           {
            "bin_start": 806.6,
            "bin_end": 857.2,
            "count": 1
           },
           {
            "bin_start": 857.2,
            "bin_end": 907.8,
            "count": 0
           },
           {
            "bin_start": 907.8,
            "bin_end": 958.4,
            "count": 1
           },
           {
            "bin_start": 958.4,
            "bin_end": 1009,
            "count": 0
           },
           {
            "bin_start": 1009,
            "bin_end": 1059.6,
            "count": 0
           },
           {
            "bin_start": 1059.6,
            "bin_end": 1110.2,
            "count": 0
           },
           {
            "bin_start": 1110.2,
            "bin_end": 1160.8,
            "count": 1
           },
           {
            "bin_start": 1160.8,
            "bin_end": 1211.4,
            "count": 0
           },
           {
            "bin_start": 1211.4,
            "bin_end": 1262,
            "count": 1
           }
          ]
         }
        },
        {
         "name": "Heating",
         "dtype": "object",
         "stats": {
          "unique_count": 1,
          "nan_count": 0,
          "categories": [
           {
            "name": "GasA",
            "count": 5
           }
          ]
         }
        },
        {
         "name": "HeatingQC",
         "dtype": "object",
         "stats": {
          "unique_count": 2,
          "nan_count": 0,
          "categories": [
           {
            "name": "Ex",
            "count": 4
           },
           {
            "name": "Gd",
            "count": 1
           }
          ]
         }
        },
        {
         "name": "CentralAir",
         "dtype": "object",
         "stats": {
          "unique_count": 1,
          "nan_count": 0,
          "categories": [
           {
            "name": "Y",
            "count": 5
           }
          ]
         }
        },
        {
         "name": "Electrical",
         "dtype": "object",
         "stats": {
          "unique_count": 1,
          "nan_count": 0,
          "categories": [
           {
            "name": "SBrkr",
            "count": 5
           }
          ]
         }
        },
        {
         "name": "1stFlrSF",
         "dtype": "int64",
         "stats": {
          "unique_count": 5,
          "nan_count": 0,
          "min": "856",
          "max": "1262",
          "histogram": [
           {
            "bin_start": 856,
            "bin_end": 896.6,
            "count": 1
           },
           {
            "bin_start": 896.6,
            "bin_end": 937.2,
            "count": 1
           },
           {
            "bin_start": 937.2,
            "bin_end": 977.8,
            "count": 1
           },
           {
            "bin_start": 977.8,
            "bin_end": 1018.4,
            "count": 0
           },
           {
            "bin_start": 1018.4,
            "bin_end": 1059,
            "count": 0
           },
           {
            "bin_start": 1059,
            "bin_end": 1099.6,
            "count": 0
           },
           {
            "bin_start": 1099.6,
            "bin_end": 1140.2,
            "count": 0
           },
           {
            "bin_start": 1140.2,
            "bin_end": 1180.8,
            "count": 1
           },
           {
            "bin_start": 1180.8,
            "bin_end": 1221.4,
            "count": 0
           },
           {
            "bin_start": 1221.4,
            "bin_end": 1262,
            "count": 1
           }
          ]
         }
        },
        {
         "name": "2ndFlrSF",
         "dtype": "int64",
         "stats": {
          "unique_count": 5,
          "nan_count": 0,
          "min": "0",
          "max": "1053",
          "histogram": [
           {
            "bin_start": 0,
            "bin_end": 105.3,
            "count": 1
           },
           {
            "bin_start": 105.3,
            "bin_end": 210.6,
            "count": 0
           },
           {
            "bin_start": 210.6,
            "bin_end": 315.9,
            "count": 0
           },
           {
            "bin_start": 315.9,
            "bin_end": 421.2,
            "count": 0
           },
           {
            "bin_start": 421.2,
            "bin_end": 526.5,
            "count": 0
           },
           {
            "bin_start": 526.5,
            "bin_end": 631.8,
            "count": 0
           },
           {
            "bin_start": 631.8,
            "bin_end": 737.1,
            "count": 0
           },
           {
            "bin_start": 737.1,
            "bin_end": 842.4,
            "count": 1
           },
           {
            "bin_start": 842.4,
            "bin_end": 947.6999999999999,
            "count": 2
           },
           {
            "bin_start": 947.6999999999999,
            "bin_end": 1053,
            "count": 1
           }
          ]
         }
        },
        {
         "name": "LowQualFinSF",
         "dtype": "int64",
         "stats": {
          "unique_count": 1,
          "nan_count": 0,
          "min": "0",
          "max": "0",
          "histogram": [
           {
            "bin_start": -0.5,
            "bin_end": -0.4,
            "count": 0
           },
           {
            "bin_start": -0.4,
            "bin_end": -0.3,
            "count": 0
           },
           {
            "bin_start": -0.3,
            "bin_end": -0.19999999999999996,
            "count": 0
           },
           {
            "bin_start": -0.19999999999999996,
            "bin_end": -0.09999999999999998,
            "count": 0
           },
           {
            "bin_start": -0.09999999999999998,
            "bin_end": 0,
            "count": 0
           },
           {
            "bin_start": 0,
            "bin_end": 0.10000000000000009,
            "count": 5
           },
           {
            "bin_start": 0.10000000000000009,
            "bin_end": 0.20000000000000007,
            "count": 0
           },
           {
            "bin_start": 0.20000000000000007,
            "bin_end": 0.30000000000000004,
            "count": 0
           },
           {
            "bin_start": 0.30000000000000004,
            "bin_end": 0.4,
            "count": 0
           },
           {
            "bin_start": 0.4,
            "bin_end": 0.5,
            "count": 0
           }
          ]
         }
        },
        {
         "name": "GrLivArea",
         "dtype": "int64",
         "stats": {
          "unique_count": 5,
          "nan_count": 0,
          "min": "1262",
          "max": "2198",
          "histogram": [
           {
            "bin_start": 1262,
            "bin_end": 1355.6,
            "count": 1
           },
           {
            "bin_start": 1355.6,
            "bin_end": 1449.2,
            "count": 0
           },
           {
            "bin_start": 1449.2,
            "bin_end": 1542.8,
            "count": 0
           },
           {
            "bin_start": 1542.8,
            "bin_end": 1636.4,
            "count": 0
           },
           {
            "bin_start": 1636.4,
            "bin_end": 1730,
            "count": 2
           },
           {
            "bin_start": 1730,
            "bin_end": 1823.6,
            "count": 1
           },
           {
            "bin_start": 1823.6,
            "bin_end": 1917.1999999999998,
            "count": 0
           },
           {
            "bin_start": 1917.1999999999998,
            "bin_end": 2010.8,
            "count": 0
           },
           {
            "bin_start": 2010.8,
            "bin_end": 2104.4,
            "count": 0
           },
           {
            "bin_start": 2104.4,
            "bin_end": 2198,
            "count": 1
           }
          ]
         }
        },
        {
         "name": "BsmtFullBath",
         "dtype": "int64",
         "stats": {
          "unique_count": 2,
          "nan_count": 0,
          "min": "0",
          "max": "1",
          "histogram": [
           {
            "bin_start": 0,
            "bin_end": 0.1,
            "count": 1
           },
           {
            "bin_start": 0.1,
            "bin_end": 0.2,
            "count": 0
           },
           {
            "bin_start": 0.2,
            "bin_end": 0.30000000000000004,
            "count": 0
           },
           {
            "bin_start": 0.30000000000000004,
            "bin_end": 0.4,
            "count": 0
           },
           {
            "bin_start": 0.4,
            "bin_end": 0.5,
            "count": 0
           },
           {
            "bin_start": 0.5,
            "bin_end": 0.6000000000000001,
            "count": 0
           },
           {
            "bin_start": 0.6000000000000001,
            "bin_end": 0.7000000000000001,
            "count": 0
           },
           {
            "bin_start": 0.7000000000000001,
            "bin_end": 0.8,
            "count": 0
           },
           {
            "bin_start": 0.8,
            "bin_end": 0.9,
            "count": 0
           },
           {
            "bin_start": 0.9,
            "bin_end": 1,
            "count": 4
           }
          ]
         }
        },
        {
         "name": "BsmtHalfBath",
         "dtype": "int64",
         "stats": {
          "unique_count": 2,
          "nan_count": 0,
          "min": "0",
          "max": "1",
          "histogram": [
           {
            "bin_start": 0,
            "bin_end": 0.1,
            "count": 4
           },
           {
            "bin_start": 0.1,
            "bin_end": 0.2,
            "count": 0
           },
           {
            "bin_start": 0.2,
            "bin_end": 0.30000000000000004,
            "count": 0
           },
           {
            "bin_start": 0.30000000000000004,
            "bin_end": 0.4,
            "count": 0
           },
           {
            "bin_start": 0.4,
            "bin_end": 0.5,
            "count": 0
           },
           {
            "bin_start": 0.5,
            "bin_end": 0.6000000000000001,
            "count": 0
           },
           {
            "bin_start": 0.6000000000000001,
            "bin_end": 0.7000000000000001,
            "count": 0
           },
           {
            "bin_start": 0.7000000000000001,
            "bin_end": 0.8,
            "count": 0
           },
           {
            "bin_start": 0.8,
            "bin_end": 0.9,
            "count": 0
           },
           {
            "bin_start": 0.9,
            "bin_end": 1,
            "count": 1
           }
          ]
         }
        },
        {
         "name": "FullBath",
         "dtype": "int64",
         "stats": {
          "unique_count": 2,
          "nan_count": 0,
          "min": "1",
          "max": "2",
          "histogram": [
           {
            "bin_start": 1,
            "bin_end": 1.1,
            "count": 1
           },
           {
            "bin_start": 1.1,
            "bin_end": 1.2,
            "count": 0
           },
           {
            "bin_start": 1.2,
            "bin_end": 1.3,
            "count": 0
           },
           {
            "bin_start": 1.3,
            "bin_end": 1.4,
            "count": 0
           },
           {
            "bin_start": 1.4,
            "bin_end": 1.5,
            "count": 0
           },
           {
            "bin_start": 1.5,
            "bin_end": 1.6,
            "count": 0
           },
           {
            "bin_start": 1.6,
            "bin_end": 1.7000000000000002,
            "count": 0
           },
           {
            "bin_start": 1.7000000000000002,
            "bin_end": 1.8,
            "count": 0
           },
           {
            "bin_start": 1.8,
            "bin_end": 1.9,
            "count": 0
           },
           {
            "bin_start": 1.9,
            "bin_end": 2,
            "count": 4
           }
          ]
         }
        },
        {
         "name": "HalfBath",
         "dtype": "int64",
         "stats": {
          "unique_count": 2,
          "nan_count": 0,
          "min": "0",
          "max": "1",
          "histogram": [
           {
            "bin_start": 0,
            "bin_end": 0.1,
            "count": 2
           },
           {
            "bin_start": 0.1,
            "bin_end": 0.2,
            "count": 0
           },
           {
            "bin_start": 0.2,
            "bin_end": 0.30000000000000004,
            "count": 0
           },
           {
            "bin_start": 0.30000000000000004,
            "bin_end": 0.4,
            "count": 0
           },
           {
            "bin_start": 0.4,
            "bin_end": 0.5,
            "count": 0
           },
           {
            "bin_start": 0.5,
            "bin_end": 0.6000000000000001,
            "count": 0
           },
           {
            "bin_start": 0.6000000000000001,
            "bin_end": 0.7000000000000001,
            "count": 0
           },
           {
            "bin_start": 0.7000000000000001,
            "bin_end": 0.8,
            "count": 0
           },
           {
            "bin_start": 0.8,
            "bin_end": 0.9,
            "count": 0
           },
           {
            "bin_start": 0.9,
            "bin_end": 1,
            "count": 3
           }
          ]
         }
        },
        {
         "name": "BedroomAbvGr",
         "dtype": "int64",
         "stats": {
          "unique_count": 2,
          "nan_count": 0,
          "min": "3",
          "max": "4",
          "histogram": [
           {
            "bin_start": 3,
            "bin_end": 3.1,
            "count": 4
           },
           {
            "bin_start": 3.1,
            "bin_end": 3.2,
            "count": 0
           },
           {
            "bin_start": 3.2,
            "bin_end": 3.3,
            "count": 0
           },
           {
            "bin_start": 3.3,
            "bin_end": 3.4,
            "count": 0
           },
           {
            "bin_start": 3.4,
            "bin_end": 3.5,
            "count": 0
           },
           {
            "bin_start": 3.5,
            "bin_end": 3.6,
            "count": 0
           },
           {
            "bin_start": 3.6,
            "bin_end": 3.7,
            "count": 0
           },
           {
            "bin_start": 3.7,
            "bin_end": 3.8,
            "count": 0
           },
           {
            "bin_start": 3.8,
            "bin_end": 3.9,
            "count": 0
           },
           {
            "bin_start": 3.9,
            "bin_end": 4,
            "count": 1
           }
          ]
         }
        },
        {
         "name": "KitchenAbvGr",
         "dtype": "int64",
         "stats": {
          "unique_count": 1,
          "nan_count": 0,
          "min": "1",
          "max": "1",
          "histogram": [
           {
            "bin_start": 0.5,
            "bin_end": 0.6,
            "count": 0
           },
           {
            "bin_start": 0.6,
            "bin_end": 0.7,
            "count": 0
           },
           {
            "bin_start": 0.7,
            "bin_end": 0.8,
            "count": 0
           },
           {
            "bin_start": 0.8,
            "bin_end": 0.9,
            "count": 0
           },
           {
            "bin_start": 0.9,
            "bin_end": 1,
            "count": 0
           },
           {
            "bin_start": 1,
            "bin_end": 1.1,
            "count": 5
           },
           {
            "bin_start": 1.1,
            "bin_end": 1.2000000000000002,
            "count": 0
           },
           {
            "bin_start": 1.2000000000000002,
            "bin_end": 1.3,
            "count": 0
           },
           {
            "bin_start": 1.3,
            "bin_end": 1.4,
            "count": 0
           },
           {
            "bin_start": 1.4,
            "bin_end": 1.5,
            "count": 0
           }
          ]
         }
        },
        {
         "name": "KitchenQual",
         "dtype": "object",
         "stats": {
          "unique_count": 2,
          "nan_count": 0,
          "categories": [
           {
            "name": "Gd",
            "count": 4
           },
           {
            "name": "TA",
            "count": 1
           }
          ]
         }
        },
        {
         "name": "TotRmsAbvGrd",
         "dtype": "int64",
         "stats": {
          "unique_count": 4,
          "nan_count": 0,
          "min": "6",
          "max": "9",
          "histogram": [
           {
            "bin_start": 6,
            "bin_end": 6.3,
            "count": 2
           },
           {
            "bin_start": 6.3,
            "bin_end": 6.6,
            "count": 0
           },
           {
            "bin_start": 6.6,
            "bin_end": 6.9,
            "count": 0
           },
           {
            "bin_start": 6.9,
            "bin_end": 7.2,
            "count": 1
           },
           {
            "bin_start": 7.2,
            "bin_end": 7.5,
            "count": 0
           },
           {
            "bin_start": 7.5,
            "bin_end": 7.8,
            "count": 0
           },
           {
            "bin_start": 7.8,
            "bin_end": 8.1,
            "count": 1
           },
           {
            "bin_start": 8.1,
            "bin_end": 8.4,
            "count": 0
           },
           {
            "bin_start": 8.4,
            "bin_end": 8.7,
            "count": 0
           },
           {
            "bin_start": 8.7,
            "bin_end": 9,
            "count": 1
           }
          ]
         }
        },
        {
         "name": "Functional",
         "dtype": "object",
         "stats": {
          "unique_count": 1,
          "nan_count": 0,
          "categories": [
           {
            "name": "Typ",
            "count": 5
           }
          ]
         }
        },
        {
         "name": "Fireplaces",
         "dtype": "int64",
         "stats": {
          "unique_count": 2,
          "nan_count": 0,
          "min": "0",
          "max": "1",
          "histogram": [
           {
            "bin_start": 0,
            "bin_end": 0.1,
            "count": 1
           },
           {
            "bin_start": 0.1,
            "bin_end": 0.2,
            "count": 0
           },
           {
            "bin_start": 0.2,
            "bin_end": 0.30000000000000004,
            "count": 0
           },
           {
            "bin_start": 0.30000000000000004,
            "bin_end": 0.4,
            "count": 0
           },
           {
            "bin_start": 0.4,
            "bin_end": 0.5,
            "count": 0
           },
           {
            "bin_start": 0.5,
            "bin_end": 0.6000000000000001,
            "count": 0
           },
           {
            "bin_start": 0.6000000000000001,
            "bin_end": 0.7000000000000001,
            "count": 0
           },
           {
            "bin_start": 0.7000000000000001,
            "bin_end": 0.8,
            "count": 0
           },
           {
            "bin_start": 0.8,
            "bin_end": 0.9,
            "count": 0
           },
           {
            "bin_start": 0.9,
            "bin_end": 1,
            "count": 4
           }
          ]
         }
        },
        {
         "name": "FireplaceQu",
         "dtype": "object",
         "stats": {
          "unique_count": 2,
          "nan_count": 1,
          "categories": [
           {
            "name": "TA",
            "count": 3
           },
           {
            "name": "Gd",
            "count": 1
           },
           {
            "name": "Missing",
            "count": 1
           }
          ]
         }
        },
        {
         "name": "GarageType",
         "dtype": "object",
         "stats": {
          "unique_count": 2,
          "nan_count": 0,
          "categories": [
           {
            "name": "Attchd",
            "count": 4
           },
           {
            "name": "Detchd",
            "count": 1
           }
          ]
         }
        },
        {
         "name": "GarageYrBlt",
         "dtype": "float64",
         "stats": {
          "unique_count": 5,
          "nan_count": 0,
          "min": "1976.0",
          "max": "2003.0",
          "histogram": [
           {
            "bin_start": 1976,
            "bin_end": 1978.7,
            "count": 1
           },
           {
            "bin_start": 1978.7,
            "bin_end": 1981.4,
            "count": 0
           },
           {
            "bin_start": 1981.4,
            "bin_end": 1984.1,
            "count": 0
           },
           {
            "bin_start": 1984.1,
            "bin_end": 1986.8,
            "count": 0
           },
           {
            "bin_start": 1986.8,
            "bin_end": 1989.5,
            "count": 0
           },
           {
            "bin_start": 1989.5,
            "bin_end": 1992.2,
            "count": 0
           },
           {
            "bin_start": 1992.2,
            "bin_end": 1994.9,
            "count": 0
           },
           {
            "bin_start": 1994.9,
            "bin_end": 1997.6,
            "count": 0
           },
           {
            "bin_start": 1997.6,
            "bin_end": 2000.3,
            "count": 2
           },
           {
            "bin_start": 2000.3,
            "bin_end": 2003,
            "count": 2
           }
          ]
         }
        },
        {
         "name": "GarageFinish",
         "dtype": "object",
         "stats": {
          "unique_count": 2,
          "nan_count": 0,
          "categories": [
           {
            "name": "RFn",
            "count": 4
           },
           {
            "name": "Unf",
            "count": 1
           }
          ]
         }
        },
        {
         "name": "GarageCars",
         "dtype": "int64",
         "stats": {
          "unique_count": 2,
          "nan_count": 0,
          "min": "2",
          "max": "3",
          "histogram": [
           {
            "bin_start": 2,
            "bin_end": 2.1,
            "count": 3
           },
           {
            "bin_start": 2.1,
            "bin_end": 2.2,
            "count": 0
           },
           {
            "bin_start": 2.2,
            "bin_end": 2.3,
            "count": 0
           },
           {
            "bin_start": 2.3,
            "bin_end": 2.4,
            "count": 0
           },
           {
            "bin_start": 2.4,
            "bin_end": 2.5,
            "count": 0
           },
           {
            "bin_start": 2.5,
            "bin_end": 2.6,
            "count": 0
           },
           {
            "bin_start": 2.6,
            "bin_end": 2.7,
            "count": 0
           },
           {
            "bin_start": 2.7,
            "bin_end": 2.8,
            "count": 0
           },
           {
            "bin_start": 2.8,
            "bin_end": 2.9,
            "count": 0
           },
           {
            "bin_start": 2.9,
            "bin_end": 3,
            "count": 2
           }
          ]
         }
        },
        {
         "name": "GarageArea",
         "dtype": "int64",
         "stats": {
          "unique_count": 5,
          "nan_count": 0,
          "min": "460",
          "max": "836",
          "histogram": [
           {
            "bin_start": 460,
            "bin_end": 497.6,
            "count": 1
           },
           {
            "bin_start": 497.6,
            "bin_end": 535.2,
            "count": 0
           },
           {
            "bin_start": 535.2,
            "bin_end": 572.8,
            "count": 1
           },
           {
            "bin_start": 572.8,
            "bin_end": 610.4,
            "count": 1
           },
           {
            "bin_start": 610.4,
            "bin_end": 648,
            "count": 1
           },
           {
            "bin_start": 648,
            "bin_end": 685.6,
            "count": 0
           },
           {
            "bin_start": 685.6,
            "bin_end": 723.2,
            "count": 0
           },
           {
            "bin_start": 723.2,
            "bin_end": 760.8,
            "count": 0
           },
           {
            "bin_start": 760.8,
            "bin_end": 798.4000000000001,
            "count": 0
           },
           {
            "bin_start": 798.4000000000001,
            "bin_end": 836,
            "count": 1
           }
          ]
         }
        },
        {
         "name": "GarageQual",
         "dtype": "object",
         "stats": {
          "unique_count": 1,
          "nan_count": 0,
          "categories": [
           {
            "name": "TA",
            "count": 5
           }
          ]
         }
        },
        {
         "name": "GarageCond",
         "dtype": "object",
         "stats": {
          "unique_count": 1,
          "nan_count": 0,
          "categories": [
           {
            "name": "TA",
            "count": 5
           }
          ]
         }
        },
        {
         "name": "PavedDrive",
         "dtype": "object",
         "stats": {
          "unique_count": 1,
          "nan_count": 0,
          "categories": [
           {
            "name": "Y",
            "count": 5
           }
          ]
         }
        },
        {
         "name": "WoodDeckSF",
         "dtype": "int64",
         "stats": {
          "unique_count": 3,
          "nan_count": 0,
          "min": "0",
          "max": "298",
          "histogram": [
           {
            "bin_start": 0,
            "bin_end": 29.8,
            "count": 3
           },
           {
            "bin_start": 29.8,
            "bin_end": 59.6,
            "count": 0
           },
           {
            "bin_start": 59.6,
            "bin_end": 89.4,
            "count": 0
           },
           {
            "bin_start": 89.4,
            "bin_end": 119.2,
            "count": 0
           },
           {
            "bin_start": 119.2,
            "bin_end": 149,
            "count": 0
           },
           {
            "bin_start": 149,
            "bin_end": 178.8,
            "count": 0
           },
           {
            "bin_start": 178.8,
            "bin_end": 208.6,
            "count": 1
           },
           {
            "bin_start": 208.6,
            "bin_end": 238.4,
            "count": 0
           },
           {
            "bin_start": 238.4,
            "bin_end": 268.2,
            "count": 0
           },
           {
            "bin_start": 268.2,
            "bin_end": 298,
            "count": 1
           }
          ]
         }
        },
        {
         "name": "OpenPorchSF",
         "dtype": "int64",
         "stats": {
          "unique_count": 5,
          "nan_count": 0,
          "min": "0",
          "max": "84",
          "histogram": [
           {
            "bin_start": 0,
            "bin_end": 8.4,
            "count": 1
           },
           {
            "bin_start": 8.4,
            "bin_end": 16.8,
            "count": 0
           },
           {
            "bin_start": 16.8,
            "bin_end": 25.200000000000003,
            "count": 0
           },
           {
            "bin_start": 25.200000000000003,
            "bin_end": 33.6,
            "count": 0
           },
           {
            "bin_start": 33.6,
            "bin_end": 42,
            "count": 1
           },
           {
            "bin_start": 42,
            "bin_end": 50.400000000000006,
            "count": 1
           },
           {
            "bin_start": 50.400000000000006,
            "bin_end": 58.800000000000004,
            "count": 0
           },
           {
            "bin_start": 58.800000000000004,
            "bin_end": 67.2,
            "count": 1
           },
           {
            "bin_start": 67.2,
            "bin_end": 75.60000000000001,
            "count": 0
           },
           {
            "bin_start": 75.60000000000001,
            "bin_end": 84,
            "count": 1
           }
          ]
         }
        },
        {
         "name": "EnclosedPorch",
         "dtype": "int64",
         "stats": {
          "unique_count": 2,
          "nan_count": 0,
          "min": "0",
          "max": "272",
          "histogram": [
           {
            "bin_start": 0,
            "bin_end": 27.2,
            "count": 4
           },
           {
            "bin_start": 27.2,
            "bin_end": 54.4,
            "count": 0
           },
           {
            "bin_start": 54.4,
            "bin_end": 81.6,
            "count": 0
           },
           {
            "bin_start": 81.6,
            "bin_end": 108.8,
            "count": 0
           },
           {
            "bin_start": 108.8,
            "bin_end": 136,
            "count": 0
           },
           {
            "bin_start": 136,
            "bin_end": 163.2,
            "count": 0
           },
           {
            "bin_start": 163.2,
            "bin_end": 190.4,
            "count": 0
           },
           {
            "bin_start": 190.4,
            "bin_end": 217.6,
            "count": 0
           },
           {
            "bin_start": 217.6,
            "bin_end": 244.79999999999998,
            "count": 0
           },
           {
            "bin_start": 244.79999999999998,
            "bin_end": 272,
            "count": 1
           }
          ]
         }
        },
        {
         "name": "3SsnPorch",
         "dtype": "int64",
         "stats": {
          "unique_count": 1,
          "nan_count": 0,
          "min": "0",
          "max": "0",
          "histogram": [
           {
            "bin_start": -0.5,
            "bin_end": -0.4,
            "count": 0
           },
           {
            "bin_start": -0.4,
            "bin_end": -0.3,
            "count": 0
           },
           {
            "bin_start": -0.3,
            "bin_end": -0.19999999999999996,
            "count": 0
           },
           {
            "bin_start": -0.19999999999999996,
            "bin_end": -0.09999999999999998,
            "count": 0
           },
           {
            "bin_start": -0.09999999999999998,
            "bin_end": 0,
            "count": 0
           },
           {
            "bin_start": 0,
            "bin_end": 0.10000000000000009,
            "count": 5
           },
           {
            "bin_start": 0.10000000000000009,
            "bin_end": 0.20000000000000007,
            "count": 0
           },
           {
            "bin_start": 0.20000000000000007,
            "bin_end": 0.30000000000000004,
            "count": 0
           },
           {
            "bin_start": 0.30000000000000004,
            "bin_end": 0.4,
            "count": 0
           },
           {
            "bin_start": 0.4,
            "bin_end": 0.5,
            "count": 0
           }
          ]
         }
        },
        {
         "name": "ScreenPorch",
         "dtype": "int64",
         "stats": {
          "unique_count": 1,
          "nan_count": 0,
          "min": "0",
          "max": "0",
          "histogram": [
           {
            "bin_start": -0.5,
            "bin_end": -0.4,
            "count": 0
           },
           {
            "bin_start": -0.4,
            "bin_end": -0.3,
            "count": 0
           },
           {
            "bin_start": -0.3,
            "bin_end": -0.19999999999999996,
            "count": 0
           },
           {
            "bin_start": -0.19999999999999996,
            "bin_end": -0.09999999999999998,
            "count": 0
           },
           {
            "bin_start": -0.09999999999999998,
            "bin_end": 0,
            "count": 0
           },
           {
            "bin_start": 0,
            "bin_end": 0.10000000000000009,
            "count": 5
           },
           {
            "bin_start": 0.10000000000000009,
            "bin_end": 0.20000000000000007,
            "count": 0
           },
           {
            "bin_start": 0.20000000000000007,
            "bin_end": 0.30000000000000004,
            "count": 0
           },
           {
            "bin_start": 0.30000000000000004,
            "bin_end": 0.4,
            "count": 0
           },
           {
            "bin_start": 0.4,
            "bin_end": 0.5,
            "count": 0
           }
          ]
         }
        },
        {
         "name": "PoolArea",
         "dtype": "int64",
         "stats": {
          "unique_count": 1,
          "nan_count": 0,
          "min": "0",
          "max": "0",
          "histogram": [
           {
            "bin_start": -0.5,
            "bin_end": -0.4,
            "count": 0
           },
           {
            "bin_start": -0.4,
            "bin_end": -0.3,
            "count": 0
           },
           {
            "bin_start": -0.3,
            "bin_end": -0.19999999999999996,
            "count": 0
           },
           {
            "bin_start": -0.19999999999999996,
            "bin_end": -0.09999999999999998,
            "count": 0
           },
           {
            "bin_start": -0.09999999999999998,
            "bin_end": 0,
            "count": 0
           },
           {
            "bin_start": 0,
            "bin_end": 0.10000000000000009,
            "count": 5
           },
           {
            "bin_start": 0.10000000000000009,
            "bin_end": 0.20000000000000007,
            "count": 0
           },
           {
            "bin_start": 0.20000000000000007,
            "bin_end": 0.30000000000000004,
            "count": 0
           },
           {
            "bin_start": 0.30000000000000004,
            "bin_end": 0.4,
            "count": 0
           },
           {
            "bin_start": 0.4,
            "bin_end": 0.5,
            "count": 0
           }
          ]
         }
        },
        {
         "name": "PoolQC",
         "dtype": "object",
         "stats": {
          "unique_count": 0,
          "nan_count": 5,
          "categories": [
           {
            "name": "Missing",
            "count": 5
           }
          ]
         }
        },
        {
         "name": "Fence",
         "dtype": "object",
         "stats": {
          "unique_count": 0,
          "nan_count": 5,
          "categories": [
           {
            "name": "Missing",
            "count": 5
           }
          ]
         }
        },
        {
         "name": "MiscFeature",
         "dtype": "object",
         "stats": {
          "unique_count": 0,
          "nan_count": 5,
          "categories": [
           {
            "name": "Missing",
            "count": 5
           }
          ]
         }
        },
        {
         "name": "MiscVal",
         "dtype": "int64",
         "stats": {
          "unique_count": 1,
          "nan_count": 0,
          "min": "0",
          "max": "0",
          "histogram": [
           {
            "bin_start": -0.5,
            "bin_end": -0.4,
            "count": 0
           },
           {
            "bin_start": -0.4,
            "bin_end": -0.3,
            "count": 0
           },
           {
            "bin_start": -0.3,
            "bin_end": -0.19999999999999996,
            "count": 0
           },
           {
            "bin_start": -0.19999999999999996,
            "bin_end": -0.09999999999999998,
            "count": 0
           },
           {
            "bin_start": -0.09999999999999998,
            "bin_end": 0,
            "count": 0
           },
           {
            "bin_start": 0,
            "bin_end": 0.10000000000000009,
            "count": 5
           },
           {
            "bin_start": 0.10000000000000009,
            "bin_end": 0.20000000000000007,
            "count": 0
           },
           {
            "bin_start": 0.20000000000000007,
            "bin_end": 0.30000000000000004,
            "count": 0
           },
           {
            "bin_start": 0.30000000000000004,
            "bin_end": 0.4,
            "count": 0
           },
           {
            "bin_start": 0.4,
            "bin_end": 0.5,
            "count": 0
           }
          ]
         }
        },
        {
         "name": "MoSold",
         "dtype": "int64",
         "stats": {
          "unique_count": 4,
          "nan_count": 0,
          "min": "2",
          "max": "12",
          "histogram": [
           {
            "bin_start": 2,
            "bin_end": 3,
            "count": 2
           },
           {
            "bin_start": 3,
            "bin_end": 4,
            "count": 0
           },
           {
            "bin_start": 4,
            "bin_end": 5,
            "count": 0
           },
           {
            "bin_start": 5,
            "bin_end": 6,
            "count": 1
           },
           {
            "bin_start": 6,
            "bin_end": 7,
            "count": 0
           },
           {
            "bin_start": 7,
            "bin_end": 8,
            "count": 0
           },
           {
            "bin_start": 8,
            "bin_end": 9,
            "count": 0
           },
           {
            "bin_start": 9,
            "bin_end": 10,
            "count": 1
           },
           {
            "bin_start": 10,
            "bin_end": 11,
            "count": 0
           },
           {
            "bin_start": 11,
            "bin_end": 12,
            "count": 1
           }
          ]
         }
        },
        {
         "name": "YrSold",
         "dtype": "int64",
         "stats": {
          "unique_count": 3,
          "nan_count": 0,
          "min": "2006",
          "max": "2008",
          "histogram": [
           {
            "bin_start": 2006,
            "bin_end": 2006.2,
            "count": 1
           },
           {
            "bin_start": 2006.2,
            "bin_end": 2006.4,
            "count": 0
           },
           {
            "bin_start": 2006.4,
            "bin_end": 2006.6,
            "count": 0
           },
           {
            "bin_start": 2006.6,
            "bin_end": 2006.8,
            "count": 0
           },
           {
            "bin_start": 2006.8,
            "bin_end": 2007,
            "count": 0
           },
           {
            "bin_start": 2007,
            "bin_end": 2007.2,
            "count": 1
           },
           {
            "bin_start": 2007.2,
            "bin_end": 2007.4,
            "count": 0
           },
           {
            "bin_start": 2007.4,
            "bin_end": 2007.6,
            "count": 0
           },
           {
            "bin_start": 2007.6,
            "bin_end": 2007.8,
            "count": 0
           },
           {
            "bin_start": 2007.8,
            "bin_end": 2008,
            "count": 3
           }
          ]
         }
        },
        {
         "name": "SaleType",
         "dtype": "object",
         "stats": {
          "unique_count": 1,
          "nan_count": 0,
          "categories": [
           {
            "name": "WD",
            "count": 5
           }
          ]
         }
        },
        {
         "name": "SaleCondition",
         "dtype": "object",
         "stats": {
          "unique_count": 2,
          "nan_count": 0,
          "categories": [
           {
            "name": "Normal",
            "count": 4
           },
           {
            "name": "Abnorml",
            "count": 1
           }
          ]
         }
        },
        {
         "name": "SalePrice",
         "dtype": "int64",
         "stats": {
          "unique_count": 5,
          "nan_count": 0,
          "min": "140000",
          "max": "250000",
          "histogram": [
           {
            "bin_start": 140000,
            "bin_end": 151000,
            "count": 1
           },
           {
            "bin_start": 151000,
            "bin_end": 162000,
            "count": 0
           },
           {
            "bin_start": 162000,
            "bin_end": 173000,
            "count": 0
           },
           {
            "bin_start": 173000,
            "bin_end": 184000,
            "count": 1
           },
           {
            "bin_start": 184000,
            "bin_end": 195000,
            "count": 0
           },
           {
            "bin_start": 195000,
            "bin_end": 206000,
            "count": 0
           },
           {
            "bin_start": 206000,
            "bin_end": 217000,
            "count": 1
           },
           {
            "bin_start": 217000,
            "bin_end": 228000,
            "count": 1
           },
           {
            "bin_start": 228000,
            "bin_end": 239000,
            "count": 0
           },
           {
            "bin_start": 239000,
            "bin_end": 250000,
            "count": 1
           }
          ]
         }
        },
        {
         "name": "_deepnote_index_column",
         "dtype": "int64"
        }
       ],
       "rows_top": [
        {
         "Id": 1,
         "MSSubClass": 60,
         "MSZoning": "RL",
         "LotFrontage": 65,
         "LotArea": 8450,
         "Street": "Pave",
         "Alley": "nan",
         "LotShape": "Reg",
         "LandContour": "Lvl",
         "Utilities": "AllPub",
         "LotConfig": "Inside",
         "LandSlope": "Gtl",
         "Neighborhood": "CollgCr",
         "Condition1": "Norm",
         "Condition2": "Norm",
         "BldgType": "1Fam",
         "HouseStyle": "2Story",
         "OverallQual": 7,
         "OverallCond": 5,
         "YearBuilt": 2003,
         "YearRemodAdd": 2003,
         "RoofStyle": "Gable",
         "RoofMatl": "CompShg",
         "Exterior1st": "VinylSd",
         "Exterior2nd": "VinylSd",
         "MasVnrType": "BrkFace",
         "MasVnrArea": 196,
         "ExterQual": "Gd",
         "ExterCond": "TA",
         "Foundation": "PConc",
         "BsmtQual": "Gd",
         "BsmtCond": "TA",
         "BsmtExposure": "No",
         "BsmtFinType1": "GLQ",
         "BsmtFinSF1": 706,
         "BsmtFinType2": "Unf",
         "BsmtFinSF2": 0,
         "BsmtUnfSF": 150,
         "TotalBsmtSF": 856,
         "Heating": "GasA",
         "HeatingQC": "Ex",
         "CentralAir": "Y",
         "Electrical": "SBrkr",
         "1stFlrSF": 856,
         "2ndFlrSF": 854,
         "LowQualFinSF": 0,
         "GrLivArea": 1710,
         "BsmtFullBath": 1,
         "BsmtHalfBath": 0,
         "FullBath": 2,
         "HalfBath": 1,
         "BedroomAbvGr": 3,
         "KitchenAbvGr": 1,
         "KitchenQual": "Gd",
         "TotRmsAbvGrd": 8,
         "Functional": "Typ",
         "Fireplaces": 0,
         "FireplaceQu": "nan",
         "GarageType": "Attchd",
         "GarageYrBlt": 2003,
         "GarageFinish": "RFn",
         "GarageCars": 2,
         "GarageArea": 548,
         "GarageQual": "TA",
         "GarageCond": "TA",
         "PavedDrive": "Y",
         "WoodDeckSF": 0,
         "OpenPorchSF": 61,
         "EnclosedPorch": 0,
         "3SsnPorch": 0,
         "ScreenPorch": 0,
         "PoolArea": 0,
         "PoolQC": "nan",
         "Fence": "nan",
         "MiscFeature": "nan",
         "MiscVal": 0,
         "MoSold": 2,
         "YrSold": 2008,
         "SaleType": "WD",
         "SaleCondition": "Normal",
         "SalePrice": 208500,
         "_deepnote_index_column": 0
        },
        {
         "Id": 2,
         "MSSubClass": 20,
         "MSZoning": "RL",
         "LotFrontage": 80,
         "LotArea": 9600,
         "Street": "Pave",
         "Alley": "nan",
         "LotShape": "Reg",
         "LandContour": "Lvl",
         "Utilities": "AllPub",
         "LotConfig": "FR2",
         "LandSlope": "Gtl",
         "Neighborhood": "Veenker",
         "Condition1": "Feedr",
         "Condition2": "Norm",
         "BldgType": "1Fam",
         "HouseStyle": "1Story",
         "OverallQual": 6,
         "OverallCond": 8,
         "YearBuilt": 1976,
         "YearRemodAdd": 1976,
         "RoofStyle": "Gable",
         "RoofMatl": "CompShg",
         "Exterior1st": "MetalSd",
         "Exterior2nd": "MetalSd",
         "MasVnrType": "None",
         "MasVnrArea": 0,
         "ExterQual": "TA",
         "ExterCond": "TA",
         "Foundation": "CBlock",
         "BsmtQual": "Gd",
         "BsmtCond": "TA",
         "BsmtExposure": "Gd",
         "BsmtFinType1": "ALQ",
         "BsmtFinSF1": 978,
         "BsmtFinType2": "Unf",
         "BsmtFinSF2": 0,
         "BsmtUnfSF": 284,
         "TotalBsmtSF": 1262,
         "Heating": "GasA",
         "HeatingQC": "Ex",
         "CentralAir": "Y",
         "Electrical": "SBrkr",
         "1stFlrSF": 1262,
         "2ndFlrSF": 0,
         "LowQualFinSF": 0,
         "GrLivArea": 1262,
         "BsmtFullBath": 0,
         "BsmtHalfBath": 1,
         "FullBath": 2,
         "HalfBath": 0,
         "BedroomAbvGr": 3,
         "KitchenAbvGr": 1,
         "KitchenQual": "TA",
         "TotRmsAbvGrd": 6,
         "Functional": "Typ",
         "Fireplaces": 1,
         "FireplaceQu": "TA",
         "GarageType": "Attchd",
         "GarageYrBlt": 1976,
         "GarageFinish": "RFn",
         "GarageCars": 2,
         "GarageArea": 460,
         "GarageQual": "TA",
         "GarageCond": "TA",
         "PavedDrive": "Y",
         "WoodDeckSF": 298,
         "OpenPorchSF": 0,
         "EnclosedPorch": 0,
         "3SsnPorch": 0,
         "ScreenPorch": 0,
         "PoolArea": 0,
         "PoolQC": "nan",
         "Fence": "nan",
         "MiscFeature": "nan",
         "MiscVal": 0,
         "MoSold": 5,
         "YrSold": 2007,
         "SaleType": "WD",
         "SaleCondition": "Normal",
         "SalePrice": 181500,
         "_deepnote_index_column": 1
        },
        {
         "Id": 3,
         "MSSubClass": 60,
         "MSZoning": "RL",
         "LotFrontage": 68,
         "LotArea": 11250,
         "Street": "Pave",
         "Alley": "nan",
         "LotShape": "IR1",
         "LandContour": "Lvl",
         "Utilities": "AllPub",
         "LotConfig": "Inside",
         "LandSlope": "Gtl",
         "Neighborhood": "CollgCr",
         "Condition1": "Norm",
         "Condition2": "Norm",
         "BldgType": "1Fam",
         "HouseStyle": "2Story",
         "OverallQual": 7,
         "OverallCond": 5,
         "YearBuilt": 2001,
         "YearRemodAdd": 2002,
         "RoofStyle": "Gable",
         "RoofMatl": "CompShg",
         "Exterior1st": "VinylSd",
         "Exterior2nd": "VinylSd",
         "MasVnrType": "BrkFace",
         "MasVnrArea": 162,
         "ExterQual": "Gd",
         "ExterCond": "TA",
         "Foundation": "PConc",
         "BsmtQual": "Gd",
         "BsmtCond": "TA",
         "BsmtExposure": "Mn",
         "BsmtFinType1": "GLQ",
         "BsmtFinSF1": 486,
         "BsmtFinType2": "Unf",
         "BsmtFinSF2": 0,
         "BsmtUnfSF": 434,
         "TotalBsmtSF": 920,
         "Heating": "GasA",
         "HeatingQC": "Ex",
         "CentralAir": "Y",
         "Electrical": "SBrkr",
         "1stFlrSF": 920,
         "2ndFlrSF": 866,
         "LowQualFinSF": 0,
         "GrLivArea": 1786,
         "BsmtFullBath": 1,
         "BsmtHalfBath": 0,
         "FullBath": 2,
         "HalfBath": 1,
         "BedroomAbvGr": 3,
         "KitchenAbvGr": 1,
         "KitchenQual": "Gd",
         "TotRmsAbvGrd": 6,
         "Functional": "Typ",
         "Fireplaces": 1,
         "FireplaceQu": "TA",
         "GarageType": "Attchd",
         "GarageYrBlt": 2001,
         "GarageFinish": "RFn",
         "GarageCars": 2,
         "GarageArea": 608,
         "GarageQual": "TA",
         "GarageCond": "TA",
         "PavedDrive": "Y",
         "WoodDeckSF": 0,
         "OpenPorchSF": 42,
         "EnclosedPorch": 0,
         "3SsnPorch": 0,
         "ScreenPorch": 0,
         "PoolArea": 0,
         "PoolQC": "nan",
         "Fence": "nan",
         "MiscFeature": "nan",
         "MiscVal": 0,
         "MoSold": 9,
         "YrSold": 2008,
         "SaleType": "WD",
         "SaleCondition": "Normal",
         "SalePrice": 223500,
         "_deepnote_index_column": 2
        },
        {
         "Id": 4,
         "MSSubClass": 70,
         "MSZoning": "RL",
         "LotFrontage": 60,
         "LotArea": 9550,
         "Street": "Pave",
         "Alley": "nan",
         "LotShape": "IR1",
         "LandContour": "Lvl",
         "Utilities": "AllPub",
         "LotConfig": "Corner",
         "LandSlope": "Gtl",
         "Neighborhood": "Crawfor",
         "Condition1": "Norm",
         "Condition2": "Norm",
         "BldgType": "1Fam",
         "HouseStyle": "2Story",
         "OverallQual": 7,
         "OverallCond": 5,
         "YearBuilt": 1915,
         "YearRemodAdd": 1970,
         "RoofStyle": "Gable",
         "RoofMatl": "CompShg",
         "Exterior1st": "Wd Sdng",
         "Exterior2nd": "Wd Shng",
         "MasVnrType": "None",
         "MasVnrArea": 0,
         "ExterQual": "TA",
         "ExterCond": "TA",
         "Foundation": "BrkTil",
         "BsmtQual": "TA",
         "BsmtCond": "Gd",
         "BsmtExposure": "No",
         "BsmtFinType1": "ALQ",
         "BsmtFinSF1": 216,
         "BsmtFinType2": "Unf",
         "BsmtFinSF2": 0,
         "BsmtUnfSF": 540,
         "TotalBsmtSF": 756,
         "Heating": "GasA",
         "HeatingQC": "Gd",
         "CentralAir": "Y",
         "Electrical": "SBrkr",
         "1stFlrSF": 961,
         "2ndFlrSF": 756,
         "LowQualFinSF": 0,
         "GrLivArea": 1717,
         "BsmtFullBath": 1,
         "BsmtHalfBath": 0,
         "FullBath": 1,
         "HalfBath": 0,
         "BedroomAbvGr": 3,
         "KitchenAbvGr": 1,
         "KitchenQual": "Gd",
         "TotRmsAbvGrd": 7,
         "Functional": "Typ",
         "Fireplaces": 1,
         "FireplaceQu": "Gd",
         "GarageType": "Detchd",
         "GarageYrBlt": 1998,
         "GarageFinish": "Unf",
         "GarageCars": 3,
         "GarageArea": 642,
         "GarageQual": "TA",
         "GarageCond": "TA",
         "PavedDrive": "Y",
         "WoodDeckSF": 0,
         "OpenPorchSF": 35,
         "EnclosedPorch": 272,
         "3SsnPorch": 0,
         "ScreenPorch": 0,
         "PoolArea": 0,
         "PoolQC": "nan",
         "Fence": "nan",
         "MiscFeature": "nan",
         "MiscVal": 0,
         "MoSold": 2,
         "YrSold": 2006,
         "SaleType": "WD",
         "SaleCondition": "Abnorml",
         "SalePrice": 140000,
         "_deepnote_index_column": 3
        },
        {
         "Id": 5,
         "MSSubClass": 60,
         "MSZoning": "RL",
         "LotFrontage": 84,
         "LotArea": 14260,
         "Street": "Pave",
         "Alley": "nan",
         "LotShape": "IR1",
         "LandContour": "Lvl",
         "Utilities": "AllPub",
         "LotConfig": "FR2",
         "LandSlope": "Gtl",
         "Neighborhood": "NoRidge",
         "Condition1": "Norm",
         "Condition2": "Norm",
         "BldgType": "1Fam",
         "HouseStyle": "2Story",
         "OverallQual": 8,
         "OverallCond": 5,
         "YearBuilt": 2000,
         "YearRemodAdd": 2000,
         "RoofStyle": "Gable",
         "RoofMatl": "CompShg",
         "Exterior1st": "VinylSd",
         "Exterior2nd": "VinylSd",
         "MasVnrType": "BrkFace",
         "MasVnrArea": 350,
         "ExterQual": "Gd",
         "ExterCond": "TA",
         "Foundation": "PConc",
         "BsmtQual": "Gd",
         "BsmtCond": "TA",
         "BsmtExposure": "Av",
         "BsmtFinType1": "GLQ",
         "BsmtFinSF1": 655,
         "BsmtFinType2": "Unf",
         "BsmtFinSF2": 0,
         "BsmtUnfSF": 490,
         "TotalBsmtSF": 1145,
         "Heating": "GasA",
         "HeatingQC": "Ex",
         "CentralAir": "Y",
         "Electrical": "SBrkr",
         "1stFlrSF": 1145,
         "2ndFlrSF": 1053,
         "LowQualFinSF": 0,
         "GrLivArea": 2198,
         "BsmtFullBath": 1,
         "BsmtHalfBath": 0,
         "FullBath": 2,
         "HalfBath": 1,
         "BedroomAbvGr": 4,
         "KitchenAbvGr": 1,
         "KitchenQual": "Gd",
         "TotRmsAbvGrd": 9,
         "Functional": "Typ",
         "Fireplaces": 1,
         "FireplaceQu": "TA",
         "GarageType": "Attchd",
         "GarageYrBlt": 2000,
         "GarageFinish": "RFn",
         "GarageCars": 3,
         "GarageArea": 836,
         "GarageQual": "TA",
         "GarageCond": "TA",
         "PavedDrive": "Y",
         "WoodDeckSF": 192,
         "OpenPorchSF": 84,
         "EnclosedPorch": 0,
         "3SsnPorch": 0,
         "ScreenPorch": 0,
         "PoolArea": 0,
         "PoolQC": "nan",
         "Fence": "nan",
         "MiscFeature": "nan",
         "MiscVal": 0,
         "MoSold": 12,
         "YrSold": 2008,
         "SaleType": "WD",
         "SaleCondition": "Normal",
         "SalePrice": 250000,
         "_deepnote_index_column": 4
        }
       ],
       "rows_bottom": null
      },
      "text/plain": "   Id  MSSubClass MSZoning  LotFrontage  LotArea Street Alley LotShape  \\\n0   1          60       RL         65.0     8450   Pave   NaN      Reg   \n1   2          20       RL         80.0     9600   Pave   NaN      Reg   \n2   3          60       RL         68.0    11250   Pave   NaN      IR1   \n3   4          70       RL         60.0     9550   Pave   NaN      IR1   \n4   5          60       RL         84.0    14260   Pave   NaN      IR1   \n\n  LandContour Utilities  ... PoolArea PoolQC Fence MiscFeature MiscVal MoSold  \\\n0         Lvl    AllPub  ...        0    NaN   NaN         NaN       0      2   \n1         Lvl    AllPub  ...        0    NaN   NaN         NaN       0      5   \n2         Lvl    AllPub  ...        0    NaN   NaN         NaN       0      9   \n3         Lvl    AllPub  ...        0    NaN   NaN         NaN       0      2   \n4         Lvl    AllPub  ...        0    NaN   NaN         NaN       0     12   \n\n  YrSold  SaleType  SaleCondition  SalePrice  \n0   2008        WD         Normal     208500  \n1   2007        WD         Normal     181500  \n2   2008        WD         Normal     223500  \n3   2006        WD        Abnorml     140000  \n4   2008        WD         Normal     250000  \n\n[5 rows x 81 columns]",
      "text/html": "<div>\n<style scoped>\n    .dataframe tbody tr th:only-of-type {\n        vertical-align: middle;\n    }\n\n    .dataframe tbody tr th {\n        vertical-align: top;\n    }\n\n    .dataframe thead th {\n        text-align: right;\n    }\n</style>\n<table border=\"1\" class=\"dataframe\">\n  <thead>\n    <tr style=\"text-align: right;\">\n      <th></th>\n      <th>Id</th>\n      <th>MSSubClass</th>\n      <th>MSZoning</th>\n      <th>LotFrontage</th>\n      <th>LotArea</th>\n      <th>Street</th>\n      <th>Alley</th>\n      <th>LotShape</th>\n      <th>LandContour</th>\n      <th>Utilities</th>\n      <th>...</th>\n      <th>PoolArea</th>\n      <th>PoolQC</th>\n      <th>Fence</th>\n      <th>MiscFeature</th>\n      <th>MiscVal</th>\n      <th>MoSold</th>\n      <th>YrSold</th>\n      <th>SaleType</th>\n      <th>SaleCondition</th>\n      <th>SalePrice</th>\n    </tr>\n  </thead>\n  <tbody>\n    <tr>\n      <th>0</th>\n      <td>1</td>\n      <td>60</td>\n      <td>RL</td>\n      <td>65.0</td>\n      <td>8450</td>\n      <td>Pave</td>\n      <td>NaN</td>\n      <td>Reg</td>\n      <td>Lvl</td>\n      <td>AllPub</td>\n      <td>...</td>\n      <td>0</td>\n      <td>NaN</td>\n      <td>NaN</td>\n      <td>NaN</td>\n      <td>0</td>\n      <td>2</td>\n      <td>2008</td>\n      <td>WD</td>\n      <td>Normal</td>\n      <td>208500</td>\n    </tr>\n    <tr>\n      <th>1</th>\n      <td>2</td>\n      <td>20</td>\n      <td>RL</td>\n      <td>80.0</td>\n      <td>9600</td>\n      <td>Pave</td>\n      <td>NaN</td>\n      <td>Reg</td>\n      <td>Lvl</td>\n      <td>AllPub</td>\n      <td>...</td>\n      <td>0</td>\n      <td>NaN</td>\n      <td>NaN</td>\n      <td>NaN</td>\n      <td>0</td>\n      <td>5</td>\n      <td>2007</td>\n      <td>WD</td>\n      <td>Normal</td>\n      <td>181500</td>\n    </tr>\n    <tr>\n      <th>2</th>\n      <td>3</td>\n      <td>60</td>\n      <td>RL</td>\n      <td>68.0</td>\n      <td>11250</td>\n      <td>Pave</td>\n      <td>NaN</td>\n      <td>IR1</td>\n      <td>Lvl</td>\n      <td>AllPub</td>\n      <td>...</td>\n      <td>0</td>\n      <td>NaN</td>\n      <td>NaN</td>\n      <td>NaN</td>\n      <td>0</td>\n      <td>9</td>\n      <td>2008</td>\n      <td>WD</td>\n      <td>Normal</td>\n      <td>223500</td>\n    </tr>\n    <tr>\n      <th>3</th>\n      <td>4</td>\n      <td>70</td>\n      <td>RL</td>\n      <td>60.0</td>\n      <td>9550</td>\n      <td>Pave</td>\n      <td>NaN</td>\n      <td>IR1</td>\n      <td>Lvl</td>\n      <td>AllPub</td>\n      <td>...</td>\n      <td>0</td>\n      <td>NaN</td>\n      <td>NaN</td>\n      <td>NaN</td>\n      <td>0</td>\n      <td>2</td>\n      <td>2006</td>\n      <td>WD</td>\n      <td>Abnorml</td>\n      <td>140000</td>\n    </tr>\n    <tr>\n      <th>4</th>\n      <td>5</td>\n      <td>60</td>\n      <td>RL</td>\n      <td>84.0</td>\n      <td>14260</td>\n      <td>Pave</td>\n      <td>NaN</td>\n      <td>IR1</td>\n      <td>Lvl</td>\n      <td>AllPub</td>\n      <td>...</td>\n      <td>0</td>\n      <td>NaN</td>\n      <td>NaN</td>\n      <td>NaN</td>\n      <td>0</td>\n      <td>12</td>\n      <td>2008</td>\n      <td>WD</td>\n      <td>Normal</td>\n      <td>250000</td>\n    </tr>\n  </tbody>\n</table>\n<p>5 rows × 81 columns</p>\n</div>"
     },
     "metadata": {}
    }
   ]
  },
  {
   "cell_type": "code",
   "metadata": {
    "tags": [],
    "cell_id": "00007-cba46cce-105b-4381-b29b-08f54aa0487b",
    "deepnote_to_be_reexecuted": false,
    "source_hash": "de1e323c",
    "execution_start": 1638735479270,
    "execution_millis": 70,
    "deepnote_cell_type": "code"
   },
   "source": "df.info()",
   "execution_count": null,
   "outputs": [
    {
     "name": "stdout",
     "text": "<class 'pandas.core.frame.DataFrame'>\nRangeIndex: 1460 entries, 0 to 1459\nData columns (total 81 columns):\n #   Column         Non-Null Count  Dtype  \n---  ------         --------------  -----  \n 0   Id             1460 non-null   int64  \n 1   MSSubClass     1460 non-null   int64  \n 2   MSZoning       1460 non-null   object \n 3   LotFrontage    1201 non-null   float64\n 4   LotArea        1460 non-null   int64  \n 5   Street         1460 non-null   object \n 6   Alley          91 non-null     object \n 7   LotShape       1460 non-null   object \n 8   LandContour    1460 non-null   object \n 9   Utilities      1460 non-null   object \n 10  LotConfig      1460 non-null   object \n 11  LandSlope      1460 non-null   object \n 12  Neighborhood   1460 non-null   object \n 13  Condition1     1460 non-null   object \n 14  Condition2     1460 non-null   object \n 15  BldgType       1460 non-null   object \n 16  HouseStyle     1460 non-null   object \n 17  OverallQual    1460 non-null   int64  \n 18  OverallCond    1460 non-null   int64  \n 19  YearBuilt      1460 non-null   int64  \n 20  YearRemodAdd   1460 non-null   int64  \n 21  RoofStyle      1460 non-null   object \n 22  RoofMatl       1460 non-null   object \n 23  Exterior1st    1460 non-null   object \n 24  Exterior2nd    1460 non-null   object \n 25  MasVnrType     1452 non-null   object \n 26  MasVnrArea     1452 non-null   float64\n 27  ExterQual      1460 non-null   object \n 28  ExterCond      1460 non-null   object \n 29  Foundation     1460 non-null   object \n 30  BsmtQual       1423 non-null   object \n 31  BsmtCond       1423 non-null   object \n 32  BsmtExposure   1422 non-null   object \n 33  BsmtFinType1   1423 non-null   object \n 34  BsmtFinSF1     1460 non-null   int64  \n 35  BsmtFinType2   1422 non-null   object \n 36  BsmtFinSF2     1460 non-null   int64  \n 37  BsmtUnfSF      1460 non-null   int64  \n 38  TotalBsmtSF    1460 non-null   int64  \n 39  Heating        1460 non-null   object \n 40  HeatingQC      1460 non-null   object \n 41  CentralAir     1460 non-null   object \n 42  Electrical     1459 non-null   object \n 43  1stFlrSF       1460 non-null   int64  \n 44  2ndFlrSF       1460 non-null   int64  \n 45  LowQualFinSF   1460 non-null   int64  \n 46  GrLivArea      1460 non-null   int64  \n 47  BsmtFullBath   1460 non-null   int64  \n 48  BsmtHalfBath   1460 non-null   int64  \n 49  FullBath       1460 non-null   int64  \n 50  HalfBath       1460 non-null   int64  \n 51  BedroomAbvGr   1460 non-null   int64  \n 52  KitchenAbvGr   1460 non-null   int64  \n 53  KitchenQual    1460 non-null   object \n 54  TotRmsAbvGrd   1460 non-null   int64  \n 55  Functional     1460 non-null   object \n 56  Fireplaces     1460 non-null   int64  \n 57  FireplaceQu    770 non-null    object \n 58  GarageType     1379 non-null   object \n 59  GarageYrBlt    1379 non-null   float64\n 60  GarageFinish   1379 non-null   object \n 61  GarageCars     1460 non-null   int64  \n 62  GarageArea     1460 non-null   int64  \n 63  GarageQual     1379 non-null   object \n 64  GarageCond     1379 non-null   object \n 65  PavedDrive     1460 non-null   object \n 66  WoodDeckSF     1460 non-null   int64  \n 67  OpenPorchSF    1460 non-null   int64  \n 68  EnclosedPorch  1460 non-null   int64  \n 69  3SsnPorch      1460 non-null   int64  \n 70  ScreenPorch    1460 non-null   int64  \n 71  PoolArea       1460 non-null   int64  \n 72  PoolQC         7 non-null      object \n 73  Fence          281 non-null    object \n 74  MiscFeature    54 non-null     object \n 75  MiscVal        1460 non-null   int64  \n 76  MoSold         1460 non-null   int64  \n 77  YrSold         1460 non-null   int64  \n 78  SaleType       1460 non-null   object \n 79  SaleCondition  1460 non-null   object \n 80  SalePrice      1460 non-null   int64  \ndtypes: float64(3), int64(35), object(43)\nmemory usage: 924.0+ KB\n",
     "output_type": "stream"
    }
   ]
  },
  {
   "cell_type": "markdown",
   "source": "From above we can see that this dataset contains 80 columns 1460 values. Some columns have missing values - Alley, LotFrontage, BsmtQual etc. From above we can also see that the column Id is useless so we can set it as the index for data.",
   "metadata": {
    "tags": [],
    "cell_id": "00008-1e900776-b761-461b-8f20-241499d5c5bb",
    "deepnote_cell_type": "markdown"
   }
  },
  {
   "cell_type": "code",
   "metadata": {
    "tags": [],
    "cell_id": "00010-a853f77e-8bed-4ef7-9591-448c5a1d6a51",
    "deepnote_to_be_reexecuted": false,
    "source_hash": "97d02961",
    "execution_start": 1638735479342,
    "execution_millis": 460,
    "deepnote_cell_type": "code"
   },
   "source": "df = df.set_index(\"Id\")\ndf.head()",
   "execution_count": null,
   "outputs": [
    {
     "output_type": "execute_result",
     "execution_count": 29,
     "data": {
      "application/vnd.deepnote.dataframe.v2+json": {
       "row_count": 5,
       "column_count": 80,
       "columns": [
        {
         "name": "MSSubClass",
         "dtype": "int64",
         "stats": {
          "unique_count": 3,
          "nan_count": 0,
          "min": "20",
          "max": "70",
          "histogram": [
           {
            "bin_start": 20,
            "bin_end": 25,
            "count": 1
           },
           {
            "bin_start": 25,
            "bin_end": 30,
            "count": 0
           },
           {
            "bin_start": 30,
            "bin_end": 35,
            "count": 0
           },
           {
            "bin_start": 35,
            "bin_end": 40,
            "count": 0
           },
           {
            "bin_start": 40,
            "bin_end": 45,
            "count": 0
           },
           {
            "bin_start": 45,
            "bin_end": 50,
            "count": 0
           },
           {
            "bin_start": 50,
            "bin_end": 55,
            "count": 0
           },
           {
            "bin_start": 55,
            "bin_end": 60,
            "count": 0
           },
           {
            "bin_start": 60,
            "bin_end": 65,
            "count": 3
           },
           {
            "bin_start": 65,
            "bin_end": 70,
            "count": 1
           }
          ]
         }
        },
        {
         "name": "MSZoning",
         "dtype": "object",
         "stats": {
          "unique_count": 1,
          "nan_count": 0,
          "categories": [
           {
            "name": "RL",
            "count": 5
           }
          ]
         }
        },
        {
         "name": "LotFrontage",
         "dtype": "float64",
         "stats": {
          "unique_count": 5,
          "nan_count": 0,
          "min": "60.0",
          "max": "84.0",
          "histogram": [
           {
            "bin_start": 60,
            "bin_end": 62.4,
            "count": 1
           },
           {
            "bin_start": 62.4,
            "bin_end": 64.8,
            "count": 0
           },
           {
            "bin_start": 64.8,
            "bin_end": 67.2,
            "count": 1
           },
           {
            "bin_start": 67.2,
            "bin_end": 69.6,
            "count": 1
           },
           {
            "bin_start": 69.6,
            "bin_end": 72,
            "count": 0
           },
           {
            "bin_start": 72,
            "bin_end": 74.4,
            "count": 0
           },
           {
            "bin_start": 74.4,
            "bin_end": 76.8,
            "count": 0
           },
           {
            "bin_start": 76.8,
            "bin_end": 79.2,
            "count": 0
           },
           {
            "bin_start": 79.2,
            "bin_end": 81.6,
            "count": 1
           },
           {
            "bin_start": 81.6,
            "bin_end": 84,
            "count": 1
           }
          ]
         }
        },
        {
         "name": "LotArea",
         "dtype": "int64",
         "stats": {
          "unique_count": 5,
          "nan_count": 0,
          "min": "8450",
          "max": "14260",
          "histogram": [
           {
            "bin_start": 8450,
            "bin_end": 9031,
            "count": 1
           },
           {
            "bin_start": 9031,
            "bin_end": 9612,
            "count": 2
           },
           {
            "bin_start": 9612,
            "bin_end": 10193,
            "count": 0
           },
           {
            "bin_start": 10193,
            "bin_end": 10774,
            "count": 0
           },
           {
            "bin_start": 10774,
            "bin_end": 11355,
            "count": 1
           },
           {
            "bin_start": 11355,
            "bin_end": 11936,
            "count": 0
           },
           {
            "bin_start": 11936,
            "bin_end": 12517,
            "count": 0
           },
           {
            "bin_start": 12517,
            "bin_end": 13098,
            "count": 0
           },
           {
            "bin_start": 13098,
            "bin_end": 13679,
            "count": 0
           },
           {
            "bin_start": 13679,
            "bin_end": 14260,
            "count": 1
           }
          ]
         }
        },
        {
         "name": "Street",
         "dtype": "object",
         "stats": {
          "unique_count": 1,
          "nan_count": 0,
          "categories": [
           {
            "name": "Pave",
            "count": 5
           }
          ]
         }
        },
        {
         "name": "Alley",
         "dtype": "object",
         "stats": {
          "unique_count": 0,
          "nan_count": 5,
          "categories": [
           {
            "name": "Missing",
            "count": 5
           }
          ]
         }
        },
        {
         "name": "LotShape",
         "dtype": "object",
         "stats": {
          "unique_count": 2,
          "nan_count": 0,
          "categories": [
           {
            "name": "IR1",
            "count": 3
           },
           {
            "name": "Reg",
            "count": 2
           }
          ]
         }
        },
        {
         "name": "LandContour",
         "dtype": "object",
         "stats": {
          "unique_count": 1,
          "nan_count": 0,
          "categories": [
           {
            "name": "Lvl",
            "count": 5
           }
          ]
         }
        },
        {
         "name": "Utilities",
         "dtype": "object",
         "stats": {
          "unique_count": 1,
          "nan_count": 0,
          "categories": [
           {
            "name": "AllPub",
            "count": 5
           }
          ]
         }
        },
        {
         "name": "LotConfig",
         "dtype": "object",
         "stats": {
          "unique_count": 3,
          "nan_count": 0,
          "categories": [
           {
            "name": "Inside",
            "count": 2
           },
           {
            "name": "FR2",
            "count": 2
           },
           {
            "name": "Corner",
            "count": 1
           }
          ]
         }
        },
        {
         "name": "LandSlope",
         "dtype": "object",
         "stats": {
          "unique_count": 1,
          "nan_count": 0,
          "categories": [
           {
            "name": "Gtl",
            "count": 5
           }
          ]
         }
        },
        {
         "name": "Neighborhood",
         "dtype": "object",
         "stats": {
          "unique_count": 4,
          "nan_count": 0,
          "categories": [
           {
            "name": "CollgCr",
            "count": 2
           },
           {
            "name": "Veenker",
            "count": 1
           },
           {
            "name": "2 others",
            "count": 2
           }
          ]
         }
        },
        {
         "name": "Condition1",
         "dtype": "object",
         "stats": {
          "unique_count": 2,
          "nan_count": 0,
          "categories": [
           {
            "name": "Norm",
            "count": 4
           },
           {
            "name": "Feedr",
            "count": 1
           }
          ]
         }
        },
        {
         "name": "Condition2",
         "dtype": "object",
         "stats": {
          "unique_count": 1,
          "nan_count": 0,
          "categories": [
           {
            "name": "Norm",
            "count": 5
           }
          ]
         }
        },
        {
         "name": "BldgType",
         "dtype": "object",
         "stats": {
          "unique_count": 1,
          "nan_count": 0,
          "categories": [
           {
            "name": "1Fam",
            "count": 5
           }
          ]
         }
        },
        {
         "name": "HouseStyle",
         "dtype": "object",
         "stats": {
          "unique_count": 2,
          "nan_count": 0,
          "categories": [
           {
            "name": "2Story",
            "count": 4
           },
           {
            "name": "1Story",
            "count": 1
           }
          ]
         }
        },
        {
         "name": "OverallQual",
         "dtype": "int64",
         "stats": {
          "unique_count": 3,
          "nan_count": 0,
          "min": "6",
          "max": "8",
          "histogram": [
           {
            "bin_start": 6,
            "bin_end": 6.2,
            "count": 1
           },
           {
            "bin_start": 6.2,
            "bin_end": 6.4,
            "count": 0
           },
           {
            "bin_start": 6.4,
            "bin_end": 6.6,
            "count": 0
           },
           {
            "bin_start": 6.6,
            "bin_end": 6.8,
            "count": 0
           },
           {
            "bin_start": 6.8,
            "bin_end": 7,
            "count": 0
           },
           {
            "bin_start": 7,
            "bin_end": 7.2,
            "count": 3
           },
           {
            "bin_start": 7.2,
            "bin_end": 7.4,
            "count": 0
           },
           {
            "bin_start": 7.4,
            "bin_end": 7.6,
            "count": 0
           },
           {
            "bin_start": 7.6,
            "bin_end": 7.8,
            "count": 0
           },
           {
            "bin_start": 7.8,
            "bin_end": 8,
            "count": 1
           }
          ]
         }
        },
        {
         "name": "OverallCond",
         "dtype": "int64",
         "stats": {
          "unique_count": 2,
          "nan_count": 0,
          "min": "5",
          "max": "8",
          "histogram": [
           {
            "bin_start": 5,
            "bin_end": 5.3,
            "count": 4
           },
           {
            "bin_start": 5.3,
            "bin_end": 5.6,
            "count": 0
           },
           {
            "bin_start": 5.6,
            "bin_end": 5.9,
            "count": 0
           },
           {
            "bin_start": 5.9,
            "bin_end": 6.2,
            "count": 0
           },
           {
            "bin_start": 6.2,
            "bin_end": 6.5,
            "count": 0
           },
           {
            "bin_start": 6.5,
            "bin_end": 6.8,
            "count": 0
           },
           {
            "bin_start": 6.8,
            "bin_end": 7.1,
            "count": 0
           },
           {
            "bin_start": 7.1,
            "bin_end": 7.4,
            "count": 0
           },
           {
            "bin_start": 7.4,
            "bin_end": 7.699999999999999,
            "count": 0
           },
           {
            "bin_start": 7.699999999999999,
            "bin_end": 8,
            "count": 1
           }
          ]
         }
        },
        {
         "name": "YearBuilt",
         "dtype": "int64",
         "stats": {
          "unique_count": 5,
          "nan_count": 0,
          "min": "1915",
          "max": "2003",
          "histogram": [
           {
            "bin_start": 1915,
            "bin_end": 1923.8,
            "count": 1
           },
           {
            "bin_start": 1923.8,
            "bin_end": 1932.6,
            "count": 0
           },
           {
            "bin_start": 1932.6,
            "bin_end": 1941.4,
            "count": 0
           },
           {
            "bin_start": 1941.4,
            "bin_end": 1950.2,
            "count": 0
           },
           {
            "bin_start": 1950.2,
            "bin_end": 1959,
            "count": 0
           },
           {
            "bin_start": 1959,
            "bin_end": 1967.8,
            "count": 0
           },
           {
            "bin_start": 1967.8,
            "bin_end": 1976.6,
            "count": 1
           },
           {
            "bin_start": 1976.6,
            "bin_end": 1985.4,
            "count": 0
           },
           {
            "bin_start": 1985.4,
            "bin_end": 1994.2,
            "count": 0
           },
           {
            "bin_start": 1994.2,
            "bin_end": 2003,
            "count": 3
           }
          ]
         }
        },
        {
         "name": "YearRemodAdd",
         "dtype": "int64",
         "stats": {
          "unique_count": 5,
          "nan_count": 0,
          "min": "1970",
          "max": "2003",
          "histogram": [
           {
            "bin_start": 1970,
            "bin_end": 1973.3,
            "count": 1
           },
           {
            "bin_start": 1973.3,
            "bin_end": 1976.6,
            "count": 1
           },
           {
            "bin_start": 1976.6,
            "bin_end": 1979.9,
            "count": 0
           },
           {
            "bin_start": 1979.9,
            "bin_end": 1983.2,
            "count": 0
           },
           {
            "bin_start": 1983.2,
            "bin_end": 1986.5,
            "count": 0
           },
           {
            "bin_start": 1986.5,
            "bin_end": 1989.8,
            "count": 0
           },
           {
            "bin_start": 1989.8,
            "bin_end": 1993.1,
            "count": 0
           },
           {
            "bin_start": 1993.1,
            "bin_end": 1996.4,
            "count": 0
           },
           {
            "bin_start": 1996.4,
            "bin_end": 1999.7,
            "count": 0
           },
           {
            "bin_start": 1999.7,
            "bin_end": 2003,
            "count": 3
           }
          ]
         }
        },
        {
         "name": "RoofStyle",
         "dtype": "object",
         "stats": {
          "unique_count": 1,
          "nan_count": 0,
          "categories": [
           {
            "name": "Gable",
            "count": 5
           }
          ]
         }
        },
        {
         "name": "RoofMatl",
         "dtype": "object",
         "stats": {
          "unique_count": 1,
          "nan_count": 0,
          "categories": [
           {
            "name": "CompShg",
            "count": 5
           }
          ]
         }
        },
        {
         "name": "Exterior1st",
         "dtype": "object",
         "stats": {
          "unique_count": 3,
          "nan_count": 0,
          "categories": [
           {
            "name": "VinylSd",
            "count": 3
           },
           {
            "name": "MetalSd",
            "count": 1
           },
           {
            "name": "Wd Sdng",
            "count": 1
           }
          ]
         }
        },
        {
         "name": "Exterior2nd",
         "dtype": "object",
         "stats": {
          "unique_count": 3,
          "nan_count": 0,
          "categories": [
           {
            "name": "VinylSd",
            "count": 3
           },
           {
            "name": "MetalSd",
            "count": 1
           },
           {
            "name": "Wd Shng",
            "count": 1
           }
          ]
         }
        },
        {
         "name": "MasVnrType",
         "dtype": "object",
         "stats": {
          "unique_count": 2,
          "nan_count": 0,
          "categories": [
           {
            "name": "BrkFace",
            "count": 3
           },
           {
            "name": "None",
            "count": 2
           }
          ]
         }
        },
        {
         "name": "MasVnrArea",
         "dtype": "float64",
         "stats": {
          "unique_count": 4,
          "nan_count": 0,
          "min": "0.0",
          "max": "350.0",
          "histogram": [
           {
            "bin_start": 0,
            "bin_end": 35,
            "count": 2
           },
           {
            "bin_start": 35,
            "bin_end": 70,
            "count": 0
           },
           {
            "bin_start": 70,
            "bin_end": 105,
            "count": 0
           },
           {
            "bin_start": 105,
            "bin_end": 140,
            "count": 0
           },
           {
            "bin_start": 140,
            "bin_end": 175,
            "count": 1
           },
           {
            "bin_start": 175,
            "bin_end": 210,
            "count": 1
           },
           {
            "bin_start": 210,
            "bin_end": 245,
            "count": 0
           },
           {
            "bin_start": 245,
            "bin_end": 280,
            "count": 0
           },
           {
            "bin_start": 280,
            "bin_end": 315,
            "count": 0
           },
           {
            "bin_start": 315,
            "bin_end": 350,
            "count": 1
           }
          ]
         }
        },
        {
         "name": "ExterQual",
         "dtype": "object",
         "stats": {
          "unique_count": 2,
          "nan_count": 0,
          "categories": [
           {
            "name": "Gd",
            "count": 3
           },
           {
            "name": "TA",
            "count": 2
           }
          ]
         }
        },
        {
         "name": "ExterCond",
         "dtype": "object",
         "stats": {
          "unique_count": 1,
          "nan_count": 0,
          "categories": [
           {
            "name": "TA",
            "count": 5
           }
          ]
         }
        },
        {
         "name": "Foundation",
         "dtype": "object",
         "stats": {
          "unique_count": 3,
          "nan_count": 0,
          "categories": [
           {
            "name": "PConc",
            "count": 3
           },
           {
            "name": "CBlock",
            "count": 1
           },
           {
            "name": "BrkTil",
            "count": 1
           }
          ]
         }
        },
        {
         "name": "BsmtQual",
         "dtype": "object",
         "stats": {
          "unique_count": 2,
          "nan_count": 0,
          "categories": [
           {
            "name": "Gd",
            "count": 4
           },
           {
            "name": "TA",
            "count": 1
           }
          ]
         }
        },
        {
         "name": "BsmtCond",
         "dtype": "object",
         "stats": {
          "unique_count": 2,
          "nan_count": 0,
          "categories": [
           {
            "name": "TA",
            "count": 4
           },
           {
            "name": "Gd",
            "count": 1
           }
          ]
         }
        },
        {
         "name": "BsmtExposure",
         "dtype": "object",
         "stats": {
          "unique_count": 4,
          "nan_count": 0,
          "categories": [
           {
            "name": "No",
            "count": 2
           },
           {
            "name": "Gd",
            "count": 1
           },
           {
            "name": "2 others",
            "count": 2
           }
          ]
         }
        },
        {
         "name": "BsmtFinType1",
         "dtype": "object",
         "stats": {
          "unique_count": 2,
          "nan_count": 0,
          "categories": [
           {
            "name": "GLQ",
            "count": 3
           },
           {
            "name": "ALQ",
            "count": 2
           }
          ]
         }
        },
        {
         "name": "BsmtFinSF1",
         "dtype": "int64",
         "stats": {
          "unique_count": 5,
          "nan_count": 0,
          "min": "216",
          "max": "978",
          "histogram": [
           {
            "bin_start": 216,
            "bin_end": 292.2,
            "count": 1
           },
           {
            "bin_start": 292.2,
            "bin_end": 368.4,
            "count": 0
           },
           {
            "bin_start": 368.4,
            "bin_end": 444.6,
            "count": 0
           },
           {
            "bin_start": 444.6,
            "bin_end": 520.8,
            "count": 1
           },
           {
            "bin_start": 520.8,
            "bin_end": 597,
            "count": 0
           },
           {
            "bin_start": 597,
            "bin_end": 673.2,
            "count": 1
           },
           {
            "bin_start": 673.2,
            "bin_end": 749.4,
            "count": 1
           },
           {
            "bin_start": 749.4,
            "bin_end": 825.6,
            "count": 0
           },
           {
            "bin_start": 825.6,
            "bin_end": 901.8000000000001,
            "count": 0
           },
           {
            "bin_start": 901.8000000000001,
            "bin_end": 978,
            "count": 1
           }
          ]
         }
        },
        {
         "name": "BsmtFinType2",
         "dtype": "object",
         "stats": {
          "unique_count": 1,
          "nan_count": 0,
          "categories": [
           {
            "name": "Unf",
            "count": 5
           }
          ]
         }
        },
        {
         "name": "BsmtFinSF2",
         "dtype": "int64",
         "stats": {
          "unique_count": 1,
          "nan_count": 0,
          "min": "0",
          "max": "0",
          "histogram": [
           {
            "bin_start": -0.5,
            "bin_end": -0.4,
            "count": 0
           },
           {
            "bin_start": -0.4,
            "bin_end": -0.3,
            "count": 0
           },
           {
            "bin_start": -0.3,
            "bin_end": -0.19999999999999996,
            "count": 0
           },
           {
            "bin_start": -0.19999999999999996,
            "bin_end": -0.09999999999999998,
            "count": 0
           },
           {
            "bin_start": -0.09999999999999998,
            "bin_end": 0,
            "count": 0
           },
           {
            "bin_start": 0,
            "bin_end": 0.10000000000000009,
            "count": 5
           },
           {
            "bin_start": 0.10000000000000009,
            "bin_end": 0.20000000000000007,
            "count": 0
           },
           {
            "bin_start": 0.20000000000000007,
            "bin_end": 0.30000000000000004,
            "count": 0
           },
           {
            "bin_start": 0.30000000000000004,
            "bin_end": 0.4,
            "count": 0
           },
           {
            "bin_start": 0.4,
            "bin_end": 0.5,
            "count": 0
           }
          ]
         }
        },
        {
         "name": "BsmtUnfSF",
         "dtype": "int64",
         "stats": {
          "unique_count": 5,
          "nan_count": 0,
          "min": "150",
          "max": "540",
          "histogram": [
           {
            "bin_start": 150,
            "bin_end": 189,
            "count": 1
           },
           {
            "bin_start": 189,
            "bin_end": 228,
            "count": 0
           },
           {
            "bin_start": 228,
            "bin_end": 267,
            "count": 0
           },
           {
            "bin_start": 267,
            "bin_end": 306,
            "count": 1
           },
           {
            "bin_start": 306,
            "bin_end": 345,
            "count": 0
           },
           {
            "bin_start": 345,
            "bin_end": 384,
            "count": 0
           },
           {
            "bin_start": 384,
            "bin_end": 423,
            "count": 0
           },
           {
            "bin_start": 423,
            "bin_end": 462,
            "count": 1
           },
           {
            "bin_start": 462,
            "bin_end": 501,
            "count": 1
           },
           {
            "bin_start": 501,
            "bin_end": 540,
            "count": 1
           }
          ]
         }
        },
        {
         "name": "TotalBsmtSF",
         "dtype": "int64",
         "stats": {
          "unique_count": 5,
          "nan_count": 0,
          "min": "756",
          "max": "1262",
          "histogram": [
           {
            "bin_start": 756,
            "bin_end": 806.6,
            "count": 1
           },
           {
            "bin_start": 806.6,
            "bin_end": 857.2,
            "count": 1
           },
           {
            "bin_start": 857.2,
            "bin_end": 907.8,
            "count": 0
           },
           {
            "bin_start": 907.8,
            "bin_end": 958.4,
            "count": 1
           },
           {
            "bin_start": 958.4,
            "bin_end": 1009,
            "count": 0
           },
           {
            "bin_start": 1009,
            "bin_end": 1059.6,
            "count": 0
           },
           {
            "bin_start": 1059.6,
            "bin_end": 1110.2,
            "count": 0
           },
           {
            "bin_start": 1110.2,
            "bin_end": 1160.8,
            "count": 1
           },
           {
            "bin_start": 1160.8,
            "bin_end": 1211.4,
            "count": 0
           },
           {
            "bin_start": 1211.4,
            "bin_end": 1262,
            "count": 1
           }
          ]
         }
        },
        {
         "name": "Heating",
         "dtype": "object",
         "stats": {
          "unique_count": 1,
          "nan_count": 0,
          "categories": [
           {
            "name": "GasA",
            "count": 5
           }
          ]
         }
        },
        {
         "name": "HeatingQC",
         "dtype": "object",
         "stats": {
          "unique_count": 2,
          "nan_count": 0,
          "categories": [
           {
            "name": "Ex",
            "count": 4
           },
           {
            "name": "Gd",
            "count": 1
           }
          ]
         }
        },
        {
         "name": "CentralAir",
         "dtype": "object",
         "stats": {
          "unique_count": 1,
          "nan_count": 0,
          "categories": [
           {
            "name": "Y",
            "count": 5
           }
          ]
         }
        },
        {
         "name": "Electrical",
         "dtype": "object",
         "stats": {
          "unique_count": 1,
          "nan_count": 0,
          "categories": [
           {
            "name": "SBrkr",
            "count": 5
           }
          ]
         }
        },
        {
         "name": "1stFlrSF",
         "dtype": "int64",
         "stats": {
          "unique_count": 5,
          "nan_count": 0,
          "min": "856",
          "max": "1262",
          "histogram": [
           {
            "bin_start": 856,
            "bin_end": 896.6,
            "count": 1
           },
           {
            "bin_start": 896.6,
            "bin_end": 937.2,
            "count": 1
           },
           {
            "bin_start": 937.2,
            "bin_end": 977.8,
            "count": 1
           },
           {
            "bin_start": 977.8,
            "bin_end": 1018.4,
            "count": 0
           },
           {
            "bin_start": 1018.4,
            "bin_end": 1059,
            "count": 0
           },
           {
            "bin_start": 1059,
            "bin_end": 1099.6,
            "count": 0
           },
           {
            "bin_start": 1099.6,
            "bin_end": 1140.2,
            "count": 0
           },
           {
            "bin_start": 1140.2,
            "bin_end": 1180.8,
            "count": 1
           },
           {
            "bin_start": 1180.8,
            "bin_end": 1221.4,
            "count": 0
           },
           {
            "bin_start": 1221.4,
            "bin_end": 1262,
            "count": 1
           }
          ]
         }
        },
        {
         "name": "2ndFlrSF",
         "dtype": "int64",
         "stats": {
          "unique_count": 5,
          "nan_count": 0,
          "min": "0",
          "max": "1053",
          "histogram": [
           {
            "bin_start": 0,
            "bin_end": 105.3,
            "count": 1
           },
           {
            "bin_start": 105.3,
            "bin_end": 210.6,
            "count": 0
           },
           {
            "bin_start": 210.6,
            "bin_end": 315.9,
            "count": 0
           },
           {
            "bin_start": 315.9,
            "bin_end": 421.2,
            "count": 0
           },
           {
            "bin_start": 421.2,
            "bin_end": 526.5,
            "count": 0
           },
           {
            "bin_start": 526.5,
            "bin_end": 631.8,
            "count": 0
           },
           {
            "bin_start": 631.8,
            "bin_end": 737.1,
            "count": 0
           },
           {
            "bin_start": 737.1,
            "bin_end": 842.4,
            "count": 1
           },
           {
            "bin_start": 842.4,
            "bin_end": 947.6999999999999,
            "count": 2
           },
           {
            "bin_start": 947.6999999999999,
            "bin_end": 1053,
            "count": 1
           }
          ]
         }
        },
        {
         "name": "LowQualFinSF",
         "dtype": "int64",
         "stats": {
          "unique_count": 1,
          "nan_count": 0,
          "min": "0",
          "max": "0",
          "histogram": [
           {
            "bin_start": -0.5,
            "bin_end": -0.4,
            "count": 0
           },
           {
            "bin_start": -0.4,
            "bin_end": -0.3,
            "count": 0
           },
           {
            "bin_start": -0.3,
            "bin_end": -0.19999999999999996,
            "count": 0
           },
           {
            "bin_start": -0.19999999999999996,
            "bin_end": -0.09999999999999998,
            "count": 0
           },
           {
            "bin_start": -0.09999999999999998,
            "bin_end": 0,
            "count": 0
           },
           {
            "bin_start": 0,
            "bin_end": 0.10000000000000009,
            "count": 5
           },
           {
            "bin_start": 0.10000000000000009,
            "bin_end": 0.20000000000000007,
            "count": 0
           },
           {
            "bin_start": 0.20000000000000007,
            "bin_end": 0.30000000000000004,
            "count": 0
           },
           {
            "bin_start": 0.30000000000000004,
            "bin_end": 0.4,
            "count": 0
           },
           {
            "bin_start": 0.4,
            "bin_end": 0.5,
            "count": 0
           }
          ]
         }
        },
        {
         "name": "GrLivArea",
         "dtype": "int64",
         "stats": {
          "unique_count": 5,
          "nan_count": 0,
          "min": "1262",
          "max": "2198",
          "histogram": [
           {
            "bin_start": 1262,
            "bin_end": 1355.6,
            "count": 1
           },
           {
            "bin_start": 1355.6,
            "bin_end": 1449.2,
            "count": 0
           },
           {
            "bin_start": 1449.2,
            "bin_end": 1542.8,
            "count": 0
           },
           {
            "bin_start": 1542.8,
            "bin_end": 1636.4,
            "count": 0
           },
           {
            "bin_start": 1636.4,
            "bin_end": 1730,
            "count": 2
           },
           {
            "bin_start": 1730,
            "bin_end": 1823.6,
            "count": 1
           },
           {
            "bin_start": 1823.6,
            "bin_end": 1917.1999999999998,
            "count": 0
           },
           {
            "bin_start": 1917.1999999999998,
            "bin_end": 2010.8,
            "count": 0
           },
           {
            "bin_start": 2010.8,
            "bin_end": 2104.4,
            "count": 0
           },
           {
            "bin_start": 2104.4,
            "bin_end": 2198,
            "count": 1
           }
          ]
         }
        },
        {
         "name": "BsmtFullBath",
         "dtype": "int64",
         "stats": {
          "unique_count": 2,
          "nan_count": 0,
          "min": "0",
          "max": "1",
          "histogram": [
           {
            "bin_start": 0,
            "bin_end": 0.1,
            "count": 1
           },
           {
            "bin_start": 0.1,
            "bin_end": 0.2,
            "count": 0
           },
           {
            "bin_start": 0.2,
            "bin_end": 0.30000000000000004,
            "count": 0
           },
           {
            "bin_start": 0.30000000000000004,
            "bin_end": 0.4,
            "count": 0
           },
           {
            "bin_start": 0.4,
            "bin_end": 0.5,
            "count": 0
           },
           {
            "bin_start": 0.5,
            "bin_end": 0.6000000000000001,
            "count": 0
           },
           {
            "bin_start": 0.6000000000000001,
            "bin_end": 0.7000000000000001,
            "count": 0
           },
           {
            "bin_start": 0.7000000000000001,
            "bin_end": 0.8,
            "count": 0
           },
           {
            "bin_start": 0.8,
            "bin_end": 0.9,
            "count": 0
           },
           {
            "bin_start": 0.9,
            "bin_end": 1,
            "count": 4
           }
          ]
         }
        },
        {
         "name": "BsmtHalfBath",
         "dtype": "int64",
         "stats": {
          "unique_count": 2,
          "nan_count": 0,
          "min": "0",
          "max": "1",
          "histogram": [
           {
            "bin_start": 0,
            "bin_end": 0.1,
            "count": 4
           },
           {
            "bin_start": 0.1,
            "bin_end": 0.2,
            "count": 0
           },
           {
            "bin_start": 0.2,
            "bin_end": 0.30000000000000004,
            "count": 0
           },
           {
            "bin_start": 0.30000000000000004,
            "bin_end": 0.4,
            "count": 0
           },
           {
            "bin_start": 0.4,
            "bin_end": 0.5,
            "count": 0
           },
           {
            "bin_start": 0.5,
            "bin_end": 0.6000000000000001,
            "count": 0
           },
           {
            "bin_start": 0.6000000000000001,
            "bin_end": 0.7000000000000001,
            "count": 0
           },
           {
            "bin_start": 0.7000000000000001,
            "bin_end": 0.8,
            "count": 0
           },
           {
            "bin_start": 0.8,
            "bin_end": 0.9,
            "count": 0
           },
           {
            "bin_start": 0.9,
            "bin_end": 1,
            "count": 1
           }
          ]
         }
        },
        {
         "name": "FullBath",
         "dtype": "int64",
         "stats": {
          "unique_count": 2,
          "nan_count": 0,
          "min": "1",
          "max": "2",
          "histogram": [
           {
            "bin_start": 1,
            "bin_end": 1.1,
            "count": 1
           },
           {
            "bin_start": 1.1,
            "bin_end": 1.2,
            "count": 0
           },
           {
            "bin_start": 1.2,
            "bin_end": 1.3,
            "count": 0
           },
           {
            "bin_start": 1.3,
            "bin_end": 1.4,
            "count": 0
           },
           {
            "bin_start": 1.4,
            "bin_end": 1.5,
            "count": 0
           },
           {
            "bin_start": 1.5,
            "bin_end": 1.6,
            "count": 0
           },
           {
            "bin_start": 1.6,
            "bin_end": 1.7000000000000002,
            "count": 0
           },
           {
            "bin_start": 1.7000000000000002,
            "bin_end": 1.8,
            "count": 0
           },
           {
            "bin_start": 1.8,
            "bin_end": 1.9,
            "count": 0
           },
           {
            "bin_start": 1.9,
            "bin_end": 2,
            "count": 4
           }
          ]
         }
        },
        {
         "name": "HalfBath",
         "dtype": "int64",
         "stats": {
          "unique_count": 2,
          "nan_count": 0,
          "min": "0",
          "max": "1",
          "histogram": [
           {
            "bin_start": 0,
            "bin_end": 0.1,
            "count": 2
           },
           {
            "bin_start": 0.1,
            "bin_end": 0.2,
            "count": 0
           },
           {
            "bin_start": 0.2,
            "bin_end": 0.30000000000000004,
            "count": 0
           },
           {
            "bin_start": 0.30000000000000004,
            "bin_end": 0.4,
            "count": 0
           },
           {
            "bin_start": 0.4,
            "bin_end": 0.5,
            "count": 0
           },
           {
            "bin_start": 0.5,
            "bin_end": 0.6000000000000001,
            "count": 0
           },
           {
            "bin_start": 0.6000000000000001,
            "bin_end": 0.7000000000000001,
            "count": 0
           },
           {
            "bin_start": 0.7000000000000001,
            "bin_end": 0.8,
            "count": 0
           },
           {
            "bin_start": 0.8,
            "bin_end": 0.9,
            "count": 0
           },
           {
            "bin_start": 0.9,
            "bin_end": 1,
            "count": 3
           }
          ]
         }
        },
        {
         "name": "BedroomAbvGr",
         "dtype": "int64",
         "stats": {
          "unique_count": 2,
          "nan_count": 0,
          "min": "3",
          "max": "4",
          "histogram": [
           {
            "bin_start": 3,
            "bin_end": 3.1,
            "count": 4
           },
           {
            "bin_start": 3.1,
            "bin_end": 3.2,
            "count": 0
           },
           {
            "bin_start": 3.2,
            "bin_end": 3.3,
            "count": 0
           },
           {
            "bin_start": 3.3,
            "bin_end": 3.4,
            "count": 0
           },
           {
            "bin_start": 3.4,
            "bin_end": 3.5,
            "count": 0
           },
           {
            "bin_start": 3.5,
            "bin_end": 3.6,
            "count": 0
           },
           {
            "bin_start": 3.6,
            "bin_end": 3.7,
            "count": 0
           },
           {
            "bin_start": 3.7,
            "bin_end": 3.8,
            "count": 0
           },
           {
            "bin_start": 3.8,
            "bin_end": 3.9,
            "count": 0
           },
           {
            "bin_start": 3.9,
            "bin_end": 4,
            "count": 1
           }
          ]
         }
        },
        {
         "name": "KitchenAbvGr",
         "dtype": "int64",
         "stats": {
          "unique_count": 1,
          "nan_count": 0,
          "min": "1",
          "max": "1",
          "histogram": [
           {
            "bin_start": 0.5,
            "bin_end": 0.6,
            "count": 0
           },
           {
            "bin_start": 0.6,
            "bin_end": 0.7,
            "count": 0
           },
           {
            "bin_start": 0.7,
            "bin_end": 0.8,
            "count": 0
           },
           {
            "bin_start": 0.8,
            "bin_end": 0.9,
            "count": 0
           },
           {
            "bin_start": 0.9,
            "bin_end": 1,
            "count": 0
           },
           {
            "bin_start": 1,
            "bin_end": 1.1,
            "count": 5
           },
           {
            "bin_start": 1.1,
            "bin_end": 1.2000000000000002,
            "count": 0
           },
           {
            "bin_start": 1.2000000000000002,
            "bin_end": 1.3,
            "count": 0
           },
           {
            "bin_start": 1.3,
            "bin_end": 1.4,
            "count": 0
           },
           {
            "bin_start": 1.4,
            "bin_end": 1.5,
            "count": 0
           }
          ]
         }
        },
        {
         "name": "KitchenQual",
         "dtype": "object",
         "stats": {
          "unique_count": 2,
          "nan_count": 0,
          "categories": [
           {
            "name": "Gd",
            "count": 4
           },
           {
            "name": "TA",
            "count": 1
           }
          ]
         }
        },
        {
         "name": "TotRmsAbvGrd",
         "dtype": "int64",
         "stats": {
          "unique_count": 4,
          "nan_count": 0,
          "min": "6",
          "max": "9",
          "histogram": [
           {
            "bin_start": 6,
            "bin_end": 6.3,
            "count": 2
           },
           {
            "bin_start": 6.3,
            "bin_end": 6.6,
            "count": 0
           },
           {
            "bin_start": 6.6,
            "bin_end": 6.9,
            "count": 0
           },
           {
            "bin_start": 6.9,
            "bin_end": 7.2,
            "count": 1
           },
           {
            "bin_start": 7.2,
            "bin_end": 7.5,
            "count": 0
           },
           {
            "bin_start": 7.5,
            "bin_end": 7.8,
            "count": 0
           },
           {
            "bin_start": 7.8,
            "bin_end": 8.1,
            "count": 1
           },
           {
            "bin_start": 8.1,
            "bin_end": 8.4,
            "count": 0
           },
           {
            "bin_start": 8.4,
            "bin_end": 8.7,
            "count": 0
           },
           {
            "bin_start": 8.7,
            "bin_end": 9,
            "count": 1
           }
          ]
         }
        },
        {
         "name": "Functional",
         "dtype": "object",
         "stats": {
          "unique_count": 1,
          "nan_count": 0,
          "categories": [
           {
            "name": "Typ",
            "count": 5
           }
          ]
         }
        },
        {
         "name": "Fireplaces",
         "dtype": "int64",
         "stats": {
          "unique_count": 2,
          "nan_count": 0,
          "min": "0",
          "max": "1",
          "histogram": [
           {
            "bin_start": 0,
            "bin_end": 0.1,
            "count": 1
           },
           {
            "bin_start": 0.1,
            "bin_end": 0.2,
            "count": 0
           },
           {
            "bin_start": 0.2,
            "bin_end": 0.30000000000000004,
            "count": 0
           },
           {
            "bin_start": 0.30000000000000004,
            "bin_end": 0.4,
            "count": 0
           },
           {
            "bin_start": 0.4,
            "bin_end": 0.5,
            "count": 0
           },
           {
            "bin_start": 0.5,
            "bin_end": 0.6000000000000001,
            "count": 0
           },
           {
            "bin_start": 0.6000000000000001,
            "bin_end": 0.7000000000000001,
            "count": 0
           },
           {
            "bin_start": 0.7000000000000001,
            "bin_end": 0.8,
            "count": 0
           },
           {
            "bin_start": 0.8,
            "bin_end": 0.9,
            "count": 0
           },
           {
            "bin_start": 0.9,
            "bin_end": 1,
            "count": 4
           }
          ]
         }
        },
        {
         "name": "FireplaceQu",
         "dtype": "object",
         "stats": {
          "unique_count": 2,
          "nan_count": 1,
          "categories": [
           {
            "name": "TA",
            "count": 3
           },
           {
            "name": "Gd",
            "count": 1
           },
           {
            "name": "Missing",
            "count": 1
           }
          ]
         }
        },
        {
         "name": "GarageType",
         "dtype": "object",
         "stats": {
          "unique_count": 2,
          "nan_count": 0,
          "categories": [
           {
            "name": "Attchd",
            "count": 4
           },
           {
            "name": "Detchd",
            "count": 1
           }
          ]
         }
        },
        {
         "name": "GarageYrBlt",
         "dtype": "float64",
         "stats": {
          "unique_count": 5,
          "nan_count": 0,
          "min": "1976.0",
          "max": "2003.0",
          "histogram": [
           {
            "bin_start": 1976,
            "bin_end": 1978.7,
            "count": 1
           },
           {
            "bin_start": 1978.7,
            "bin_end": 1981.4,
            "count": 0
           },
           {
            "bin_start": 1981.4,
            "bin_end": 1984.1,
            "count": 0
           },
           {
            "bin_start": 1984.1,
            "bin_end": 1986.8,
            "count": 0
           },
           {
            "bin_start": 1986.8,
            "bin_end": 1989.5,
            "count": 0
           },
           {
            "bin_start": 1989.5,
            "bin_end": 1992.2,
            "count": 0
           },
           {
            "bin_start": 1992.2,
            "bin_end": 1994.9,
            "count": 0
           },
           {
            "bin_start": 1994.9,
            "bin_end": 1997.6,
            "count": 0
           },
           {
            "bin_start": 1997.6,
            "bin_end": 2000.3,
            "count": 2
           },
           {
            "bin_start": 2000.3,
            "bin_end": 2003,
            "count": 2
           }
          ]
         }
        },
        {
         "name": "GarageFinish",
         "dtype": "object",
         "stats": {
          "unique_count": 2,
          "nan_count": 0,
          "categories": [
           {
            "name": "RFn",
            "count": 4
           },
           {
            "name": "Unf",
            "count": 1
           }
          ]
         }
        },
        {
         "name": "GarageCars",
         "dtype": "int64",
         "stats": {
          "unique_count": 2,
          "nan_count": 0,
          "min": "2",
          "max": "3",
          "histogram": [
           {
            "bin_start": 2,
            "bin_end": 2.1,
            "count": 3
           },
           {
            "bin_start": 2.1,
            "bin_end": 2.2,
            "count": 0
           },
           {
            "bin_start": 2.2,
            "bin_end": 2.3,
            "count": 0
           },
           {
            "bin_start": 2.3,
            "bin_end": 2.4,
            "count": 0
           },
           {
            "bin_start": 2.4,
            "bin_end": 2.5,
            "count": 0
           },
           {
            "bin_start": 2.5,
            "bin_end": 2.6,
            "count": 0
           },
           {
            "bin_start": 2.6,
            "bin_end": 2.7,
            "count": 0
           },
           {
            "bin_start": 2.7,
            "bin_end": 2.8,
            "count": 0
           },
           {
            "bin_start": 2.8,
            "bin_end": 2.9,
            "count": 0
           },
           {
            "bin_start": 2.9,
            "bin_end": 3,
            "count": 2
           }
          ]
         }
        },
        {
         "name": "GarageArea",
         "dtype": "int64",
         "stats": {
          "unique_count": 5,
          "nan_count": 0,
          "min": "460",
          "max": "836",
          "histogram": [
           {
            "bin_start": 460,
            "bin_end": 497.6,
            "count": 1
           },
           {
            "bin_start": 497.6,
            "bin_end": 535.2,
            "count": 0
           },
           {
            "bin_start": 535.2,
            "bin_end": 572.8,
            "count": 1
           },
           {
            "bin_start": 572.8,
            "bin_end": 610.4,
            "count": 1
           },
           {
            "bin_start": 610.4,
            "bin_end": 648,
            "count": 1
           },
           {
            "bin_start": 648,
            "bin_end": 685.6,
            "count": 0
           },
           {
            "bin_start": 685.6,
            "bin_end": 723.2,
            "count": 0
           },
           {
            "bin_start": 723.2,
            "bin_end": 760.8,
            "count": 0
           },
           {
            "bin_start": 760.8,
            "bin_end": 798.4000000000001,
            "count": 0
           },
           {
            "bin_start": 798.4000000000001,
            "bin_end": 836,
            "count": 1
           }
          ]
         }
        },
        {
         "name": "GarageQual",
         "dtype": "object",
         "stats": {
          "unique_count": 1,
          "nan_count": 0,
          "categories": [
           {
            "name": "TA",
            "count": 5
           }
          ]
         }
        },
        {
         "name": "GarageCond",
         "dtype": "object",
         "stats": {
          "unique_count": 1,
          "nan_count": 0,
          "categories": [
           {
            "name": "TA",
            "count": 5
           }
          ]
         }
        },
        {
         "name": "PavedDrive",
         "dtype": "object",
         "stats": {
          "unique_count": 1,
          "nan_count": 0,
          "categories": [
           {
            "name": "Y",
            "count": 5
           }
          ]
         }
        },
        {
         "name": "WoodDeckSF",
         "dtype": "int64",
         "stats": {
          "unique_count": 3,
          "nan_count": 0,
          "min": "0",
          "max": "298",
          "histogram": [
           {
            "bin_start": 0,
            "bin_end": 29.8,
            "count": 3
           },
           {
            "bin_start": 29.8,
            "bin_end": 59.6,
            "count": 0
           },
           {
            "bin_start": 59.6,
            "bin_end": 89.4,
            "count": 0
           },
           {
            "bin_start": 89.4,
            "bin_end": 119.2,
            "count": 0
           },
           {
            "bin_start": 119.2,
            "bin_end": 149,
            "count": 0
           },
           {
            "bin_start": 149,
            "bin_end": 178.8,
            "count": 0
           },
           {
            "bin_start": 178.8,
            "bin_end": 208.6,
            "count": 1
           },
           {
            "bin_start": 208.6,
            "bin_end": 238.4,
            "count": 0
           },
           {
            "bin_start": 238.4,
            "bin_end": 268.2,
            "count": 0
           },
           {
            "bin_start": 268.2,
            "bin_end": 298,
            "count": 1
           }
          ]
         }
        },
        {
         "name": "OpenPorchSF",
         "dtype": "int64",
         "stats": {
          "unique_count": 5,
          "nan_count": 0,
          "min": "0",
          "max": "84",
          "histogram": [
           {
            "bin_start": 0,
            "bin_end": 8.4,
            "count": 1
           },
           {
            "bin_start": 8.4,
            "bin_end": 16.8,
            "count": 0
           },
           {
            "bin_start": 16.8,
            "bin_end": 25.200000000000003,
            "count": 0
           },
           {
            "bin_start": 25.200000000000003,
            "bin_end": 33.6,
            "count": 0
           },
           {
            "bin_start": 33.6,
            "bin_end": 42,
            "count": 1
           },
           {
            "bin_start": 42,
            "bin_end": 50.400000000000006,
            "count": 1
           },
           {
            "bin_start": 50.400000000000006,
            "bin_end": 58.800000000000004,
            "count": 0
           },
           {
            "bin_start": 58.800000000000004,
            "bin_end": 67.2,
            "count": 1
           },
           {
            "bin_start": 67.2,
            "bin_end": 75.60000000000001,
            "count": 0
           },
           {
            "bin_start": 75.60000000000001,
            "bin_end": 84,
            "count": 1
           }
          ]
         }
        },
        {
         "name": "EnclosedPorch",
         "dtype": "int64",
         "stats": {
          "unique_count": 2,
          "nan_count": 0,
          "min": "0",
          "max": "272",
          "histogram": [
           {
            "bin_start": 0,
            "bin_end": 27.2,
            "count": 4
           },
           {
            "bin_start": 27.2,
            "bin_end": 54.4,
            "count": 0
           },
           {
            "bin_start": 54.4,
            "bin_end": 81.6,
            "count": 0
           },
           {
            "bin_start": 81.6,
            "bin_end": 108.8,
            "count": 0
           },
           {
            "bin_start": 108.8,
            "bin_end": 136,
            "count": 0
           },
           {
            "bin_start": 136,
            "bin_end": 163.2,
            "count": 0
           },
           {
            "bin_start": 163.2,
            "bin_end": 190.4,
            "count": 0
           },
           {
            "bin_start": 190.4,
            "bin_end": 217.6,
            "count": 0
           },
           {
            "bin_start": 217.6,
            "bin_end": 244.79999999999998,
            "count": 0
           },
           {
            "bin_start": 244.79999999999998,
            "bin_end": 272,
            "count": 1
           }
          ]
         }
        },
        {
         "name": "3SsnPorch",
         "dtype": "int64",
         "stats": {
          "unique_count": 1,
          "nan_count": 0,
          "min": "0",
          "max": "0",
          "histogram": [
           {
            "bin_start": -0.5,
            "bin_end": -0.4,
            "count": 0
           },
           {
            "bin_start": -0.4,
            "bin_end": -0.3,
            "count": 0
           },
           {
            "bin_start": -0.3,
            "bin_end": -0.19999999999999996,
            "count": 0
           },
           {
            "bin_start": -0.19999999999999996,
            "bin_end": -0.09999999999999998,
            "count": 0
           },
           {
            "bin_start": -0.09999999999999998,
            "bin_end": 0,
            "count": 0
           },
           {
            "bin_start": 0,
            "bin_end": 0.10000000000000009,
            "count": 5
           },
           {
            "bin_start": 0.10000000000000009,
            "bin_end": 0.20000000000000007,
            "count": 0
           },
           {
            "bin_start": 0.20000000000000007,
            "bin_end": 0.30000000000000004,
            "count": 0
           },
           {
            "bin_start": 0.30000000000000004,
            "bin_end": 0.4,
            "count": 0
           },
           {
            "bin_start": 0.4,
            "bin_end": 0.5,
            "count": 0
           }
          ]
         }
        },
        {
         "name": "ScreenPorch",
         "dtype": "int64",
         "stats": {
          "unique_count": 1,
          "nan_count": 0,
          "min": "0",
          "max": "0",
          "histogram": [
           {
            "bin_start": -0.5,
            "bin_end": -0.4,
            "count": 0
           },
           {
            "bin_start": -0.4,
            "bin_end": -0.3,
            "count": 0
           },
           {
            "bin_start": -0.3,
            "bin_end": -0.19999999999999996,
            "count": 0
           },
           {
            "bin_start": -0.19999999999999996,
            "bin_end": -0.09999999999999998,
            "count": 0
           },
           {
            "bin_start": -0.09999999999999998,
            "bin_end": 0,
            "count": 0
           },
           {
            "bin_start": 0,
            "bin_end": 0.10000000000000009,
            "count": 5
           },
           {
            "bin_start": 0.10000000000000009,
            "bin_end": 0.20000000000000007,
            "count": 0
           },
           {
            "bin_start": 0.20000000000000007,
            "bin_end": 0.30000000000000004,
            "count": 0
           },
           {
            "bin_start": 0.30000000000000004,
            "bin_end": 0.4,
            "count": 0
           },
           {
            "bin_start": 0.4,
            "bin_end": 0.5,
            "count": 0
           }
          ]
         }
        },
        {
         "name": "PoolArea",
         "dtype": "int64",
         "stats": {
          "unique_count": 1,
          "nan_count": 0,
          "min": "0",
          "max": "0",
          "histogram": [
           {
            "bin_start": -0.5,
            "bin_end": -0.4,
            "count": 0
           },
           {
            "bin_start": -0.4,
            "bin_end": -0.3,
            "count": 0
           },
           {
            "bin_start": -0.3,
            "bin_end": -0.19999999999999996,
            "count": 0
           },
           {
            "bin_start": -0.19999999999999996,
            "bin_end": -0.09999999999999998,
            "count": 0
           },
           {
            "bin_start": -0.09999999999999998,
            "bin_end": 0,
            "count": 0
           },
           {
            "bin_start": 0,
            "bin_end": 0.10000000000000009,
            "count": 5
           },
           {
            "bin_start": 0.10000000000000009,
            "bin_end": 0.20000000000000007,
            "count": 0
           },
           {
            "bin_start": 0.20000000000000007,
            "bin_end": 0.30000000000000004,
            "count": 0
           },
           {
            "bin_start": 0.30000000000000004,
            "bin_end": 0.4,
            "count": 0
           },
           {
            "bin_start": 0.4,
            "bin_end": 0.5,
            "count": 0
           }
          ]
         }
        },
        {
         "name": "PoolQC",
         "dtype": "object",
         "stats": {
          "unique_count": 0,
          "nan_count": 5,
          "categories": [
           {
            "name": "Missing",
            "count": 5
           }
          ]
         }
        },
        {
         "name": "Fence",
         "dtype": "object",
         "stats": {
          "unique_count": 0,
          "nan_count": 5,
          "categories": [
           {
            "name": "Missing",
            "count": 5
           }
          ]
         }
        },
        {
         "name": "MiscFeature",
         "dtype": "object",
         "stats": {
          "unique_count": 0,
          "nan_count": 5,
          "categories": [
           {
            "name": "Missing",
            "count": 5
           }
          ]
         }
        },
        {
         "name": "MiscVal",
         "dtype": "int64",
         "stats": {
          "unique_count": 1,
          "nan_count": 0,
          "min": "0",
          "max": "0",
          "histogram": [
           {
            "bin_start": -0.5,
            "bin_end": -0.4,
            "count": 0
           },
           {
            "bin_start": -0.4,
            "bin_end": -0.3,
            "count": 0
           },
           {
            "bin_start": -0.3,
            "bin_end": -0.19999999999999996,
            "count": 0
           },
           {
            "bin_start": -0.19999999999999996,
            "bin_end": -0.09999999999999998,
            "count": 0
           },
           {
            "bin_start": -0.09999999999999998,
            "bin_end": 0,
            "count": 0
           },
           {
            "bin_start": 0,
            "bin_end": 0.10000000000000009,
            "count": 5
           },
           {
            "bin_start": 0.10000000000000009,
            "bin_end": 0.20000000000000007,
            "count": 0
           },
           {
            "bin_start": 0.20000000000000007,
            "bin_end": 0.30000000000000004,
            "count": 0
           },
           {
            "bin_start": 0.30000000000000004,
            "bin_end": 0.4,
            "count": 0
           },
           {
            "bin_start": 0.4,
            "bin_end": 0.5,
            "count": 0
           }
          ]
         }
        },
        {
         "name": "MoSold",
         "dtype": "int64",
         "stats": {
          "unique_count": 4,
          "nan_count": 0,
          "min": "2",
          "max": "12",
          "histogram": [
           {
            "bin_start": 2,
            "bin_end": 3,
            "count": 2
           },
           {
            "bin_start": 3,
            "bin_end": 4,
            "count": 0
           },
           {
            "bin_start": 4,
            "bin_end": 5,
            "count": 0
           },
           {
            "bin_start": 5,
            "bin_end": 6,
            "count": 1
           },
           {
            "bin_start": 6,
            "bin_end": 7,
            "count": 0
           },
           {
            "bin_start": 7,
            "bin_end": 8,
            "count": 0
           },
           {
            "bin_start": 8,
            "bin_end": 9,
            "count": 0
           },
           {
            "bin_start": 9,
            "bin_end": 10,
            "count": 1
           },
           {
            "bin_start": 10,
            "bin_end": 11,
            "count": 0
           },
           {
            "bin_start": 11,
            "bin_end": 12,
            "count": 1
           }
          ]
         }
        },
        {
         "name": "YrSold",
         "dtype": "int64",
         "stats": {
          "unique_count": 3,
          "nan_count": 0,
          "min": "2006",
          "max": "2008",
          "histogram": [
           {
            "bin_start": 2006,
            "bin_end": 2006.2,
            "count": 1
           },
           {
            "bin_start": 2006.2,
            "bin_end": 2006.4,
            "count": 0
           },
           {
            "bin_start": 2006.4,
            "bin_end": 2006.6,
            "count": 0
           },
           {
            "bin_start": 2006.6,
            "bin_end": 2006.8,
            "count": 0
           },
           {
            "bin_start": 2006.8,
            "bin_end": 2007,
            "count": 0
           },
           {
            "bin_start": 2007,
            "bin_end": 2007.2,
            "count": 1
           },
           {
            "bin_start": 2007.2,
            "bin_end": 2007.4,
            "count": 0
           },
           {
            "bin_start": 2007.4,
            "bin_end": 2007.6,
            "count": 0
           },
           {
            "bin_start": 2007.6,
            "bin_end": 2007.8,
            "count": 0
           },
           {
            "bin_start": 2007.8,
            "bin_end": 2008,
            "count": 3
           }
          ]
         }
        },
        {
         "name": "SaleType",
         "dtype": "object",
         "stats": {
          "unique_count": 1,
          "nan_count": 0,
          "categories": [
           {
            "name": "WD",
            "count": 5
           }
          ]
         }
        },
        {
         "name": "SaleCondition",
         "dtype": "object",
         "stats": {
          "unique_count": 2,
          "nan_count": 0,
          "categories": [
           {
            "name": "Normal",
            "count": 4
           },
           {
            "name": "Abnorml",
            "count": 1
           }
          ]
         }
        },
        {
         "name": "SalePrice",
         "dtype": "int64",
         "stats": {
          "unique_count": 5,
          "nan_count": 0,
          "min": "140000",
          "max": "250000",
          "histogram": [
           {
            "bin_start": 140000,
            "bin_end": 151000,
            "count": 1
           },
           {
            "bin_start": 151000,
            "bin_end": 162000,
            "count": 0
           },
           {
            "bin_start": 162000,
            "bin_end": 173000,
            "count": 0
           },
           {
            "bin_start": 173000,
            "bin_end": 184000,
            "count": 1
           },
           {
            "bin_start": 184000,
            "bin_end": 195000,
            "count": 0
           },
           {
            "bin_start": 195000,
            "bin_end": 206000,
            "count": 0
           },
           {
            "bin_start": 206000,
            "bin_end": 217000,
            "count": 1
           },
           {
            "bin_start": 217000,
            "bin_end": 228000,
            "count": 1
           },
           {
            "bin_start": 228000,
            "bin_end": 239000,
            "count": 0
           },
           {
            "bin_start": 239000,
            "bin_end": 250000,
            "count": 1
           }
          ]
         }
        },
        {
         "name": "_deepnote_index_column",
         "dtype": "int64"
        }
       ],
       "rows_top": [
        {
         "MSSubClass": 60,
         "MSZoning": "RL",
         "LotFrontage": 65,
         "LotArea": 8450,
         "Street": "Pave",
         "Alley": "nan",
         "LotShape": "Reg",
         "LandContour": "Lvl",
         "Utilities": "AllPub",
         "LotConfig": "Inside",
         "LandSlope": "Gtl",
         "Neighborhood": "CollgCr",
         "Condition1": "Norm",
         "Condition2": "Norm",
         "BldgType": "1Fam",
         "HouseStyle": "2Story",
         "OverallQual": 7,
         "OverallCond": 5,
         "YearBuilt": 2003,
         "YearRemodAdd": 2003,
         "RoofStyle": "Gable",
         "RoofMatl": "CompShg",
         "Exterior1st": "VinylSd",
         "Exterior2nd": "VinylSd",
         "MasVnrType": "BrkFace",
         "MasVnrArea": 196,
         "ExterQual": "Gd",
         "ExterCond": "TA",
         "Foundation": "PConc",
         "BsmtQual": "Gd",
         "BsmtCond": "TA",
         "BsmtExposure": "No",
         "BsmtFinType1": "GLQ",
         "BsmtFinSF1": 706,
         "BsmtFinType2": "Unf",
         "BsmtFinSF2": 0,
         "BsmtUnfSF": 150,
         "TotalBsmtSF": 856,
         "Heating": "GasA",
         "HeatingQC": "Ex",
         "CentralAir": "Y",
         "Electrical": "SBrkr",
         "1stFlrSF": 856,
         "2ndFlrSF": 854,
         "LowQualFinSF": 0,
         "GrLivArea": 1710,
         "BsmtFullBath": 1,
         "BsmtHalfBath": 0,
         "FullBath": 2,
         "HalfBath": 1,
         "BedroomAbvGr": 3,
         "KitchenAbvGr": 1,
         "KitchenQual": "Gd",
         "TotRmsAbvGrd": 8,
         "Functional": "Typ",
         "Fireplaces": 0,
         "FireplaceQu": "nan",
         "GarageType": "Attchd",
         "GarageYrBlt": 2003,
         "GarageFinish": "RFn",
         "GarageCars": 2,
         "GarageArea": 548,
         "GarageQual": "TA",
         "GarageCond": "TA",
         "PavedDrive": "Y",
         "WoodDeckSF": 0,
         "OpenPorchSF": 61,
         "EnclosedPorch": 0,
         "3SsnPorch": 0,
         "ScreenPorch": 0,
         "PoolArea": 0,
         "PoolQC": "nan",
         "Fence": "nan",
         "MiscFeature": "nan",
         "MiscVal": 0,
         "MoSold": 2,
         "YrSold": 2008,
         "SaleType": "WD",
         "SaleCondition": "Normal",
         "SalePrice": 208500,
         "_deepnote_index_column": 1
        },
        {
         "MSSubClass": 20,
         "MSZoning": "RL",
         "LotFrontage": 80,
         "LotArea": 9600,
         "Street": "Pave",
         "Alley": "nan",
         "LotShape": "Reg",
         "LandContour": "Lvl",
         "Utilities": "AllPub",
         "LotConfig": "FR2",
         "LandSlope": "Gtl",
         "Neighborhood": "Veenker",
         "Condition1": "Feedr",
         "Condition2": "Norm",
         "BldgType": "1Fam",
         "HouseStyle": "1Story",
         "OverallQual": 6,
         "OverallCond": 8,
         "YearBuilt": 1976,
         "YearRemodAdd": 1976,
         "RoofStyle": "Gable",
         "RoofMatl": "CompShg",
         "Exterior1st": "MetalSd",
         "Exterior2nd": "MetalSd",
         "MasVnrType": "None",
         "MasVnrArea": 0,
         "ExterQual": "TA",
         "ExterCond": "TA",
         "Foundation": "CBlock",
         "BsmtQual": "Gd",
         "BsmtCond": "TA",
         "BsmtExposure": "Gd",
         "BsmtFinType1": "ALQ",
         "BsmtFinSF1": 978,
         "BsmtFinType2": "Unf",
         "BsmtFinSF2": 0,
         "BsmtUnfSF": 284,
         "TotalBsmtSF": 1262,
         "Heating": "GasA",
         "HeatingQC": "Ex",
         "CentralAir": "Y",
         "Electrical": "SBrkr",
         "1stFlrSF": 1262,
         "2ndFlrSF": 0,
         "LowQualFinSF": 0,
         "GrLivArea": 1262,
         "BsmtFullBath": 0,
         "BsmtHalfBath": 1,
         "FullBath": 2,
         "HalfBath": 0,
         "BedroomAbvGr": 3,
         "KitchenAbvGr": 1,
         "KitchenQual": "TA",
         "TotRmsAbvGrd": 6,
         "Functional": "Typ",
         "Fireplaces": 1,
         "FireplaceQu": "TA",
         "GarageType": "Attchd",
         "GarageYrBlt": 1976,
         "GarageFinish": "RFn",
         "GarageCars": 2,
         "GarageArea": 460,
         "GarageQual": "TA",
         "GarageCond": "TA",
         "PavedDrive": "Y",
         "WoodDeckSF": 298,
         "OpenPorchSF": 0,
         "EnclosedPorch": 0,
         "3SsnPorch": 0,
         "ScreenPorch": 0,
         "PoolArea": 0,
         "PoolQC": "nan",
         "Fence": "nan",
         "MiscFeature": "nan",
         "MiscVal": 0,
         "MoSold": 5,
         "YrSold": 2007,
         "SaleType": "WD",
         "SaleCondition": "Normal",
         "SalePrice": 181500,
         "_deepnote_index_column": 2
        },
        {
         "MSSubClass": 60,
         "MSZoning": "RL",
         "LotFrontage": 68,
         "LotArea": 11250,
         "Street": "Pave",
         "Alley": "nan",
         "LotShape": "IR1",
         "LandContour": "Lvl",
         "Utilities": "AllPub",
         "LotConfig": "Inside",
         "LandSlope": "Gtl",
         "Neighborhood": "CollgCr",
         "Condition1": "Norm",
         "Condition2": "Norm",
         "BldgType": "1Fam",
         "HouseStyle": "2Story",
         "OverallQual": 7,
         "OverallCond": 5,
         "YearBuilt": 2001,
         "YearRemodAdd": 2002,
         "RoofStyle": "Gable",
         "RoofMatl": "CompShg",
         "Exterior1st": "VinylSd",
         "Exterior2nd": "VinylSd",
         "MasVnrType": "BrkFace",
         "MasVnrArea": 162,
         "ExterQual": "Gd",
         "ExterCond": "TA",
         "Foundation": "PConc",
         "BsmtQual": "Gd",
         "BsmtCond": "TA",
         "BsmtExposure": "Mn",
         "BsmtFinType1": "GLQ",
         "BsmtFinSF1": 486,
         "BsmtFinType2": "Unf",
         "BsmtFinSF2": 0,
         "BsmtUnfSF": 434,
         "TotalBsmtSF": 920,
         "Heating": "GasA",
         "HeatingQC": "Ex",
         "CentralAir": "Y",
         "Electrical": "SBrkr",
         "1stFlrSF": 920,
         "2ndFlrSF": 866,
         "LowQualFinSF": 0,
         "GrLivArea": 1786,
         "BsmtFullBath": 1,
         "BsmtHalfBath": 0,
         "FullBath": 2,
         "HalfBath": 1,
         "BedroomAbvGr": 3,
         "KitchenAbvGr": 1,
         "KitchenQual": "Gd",
         "TotRmsAbvGrd": 6,
         "Functional": "Typ",
         "Fireplaces": 1,
         "FireplaceQu": "TA",
         "GarageType": "Attchd",
         "GarageYrBlt": 2001,
         "GarageFinish": "RFn",
         "GarageCars": 2,
         "GarageArea": 608,
         "GarageQual": "TA",
         "GarageCond": "TA",
         "PavedDrive": "Y",
         "WoodDeckSF": 0,
         "OpenPorchSF": 42,
         "EnclosedPorch": 0,
         "3SsnPorch": 0,
         "ScreenPorch": 0,
         "PoolArea": 0,
         "PoolQC": "nan",
         "Fence": "nan",
         "MiscFeature": "nan",
         "MiscVal": 0,
         "MoSold": 9,
         "YrSold": 2008,
         "SaleType": "WD",
         "SaleCondition": "Normal",
         "SalePrice": 223500,
         "_deepnote_index_column": 3
        },
        {
         "MSSubClass": 70,
         "MSZoning": "RL",
         "LotFrontage": 60,
         "LotArea": 9550,
         "Street": "Pave",
         "Alley": "nan",
         "LotShape": "IR1",
         "LandContour": "Lvl",
         "Utilities": "AllPub",
         "LotConfig": "Corner",
         "LandSlope": "Gtl",
         "Neighborhood": "Crawfor",
         "Condition1": "Norm",
         "Condition2": "Norm",
         "BldgType": "1Fam",
         "HouseStyle": "2Story",
         "OverallQual": 7,
         "OverallCond": 5,
         "YearBuilt": 1915,
         "YearRemodAdd": 1970,
         "RoofStyle": "Gable",
         "RoofMatl": "CompShg",
         "Exterior1st": "Wd Sdng",
         "Exterior2nd": "Wd Shng",
         "MasVnrType": "None",
         "MasVnrArea": 0,
         "ExterQual": "TA",
         "ExterCond": "TA",
         "Foundation": "BrkTil",
         "BsmtQual": "TA",
         "BsmtCond": "Gd",
         "BsmtExposure": "No",
         "BsmtFinType1": "ALQ",
         "BsmtFinSF1": 216,
         "BsmtFinType2": "Unf",
         "BsmtFinSF2": 0,
         "BsmtUnfSF": 540,
         "TotalBsmtSF": 756,
         "Heating": "GasA",
         "HeatingQC": "Gd",
         "CentralAir": "Y",
         "Electrical": "SBrkr",
         "1stFlrSF": 961,
         "2ndFlrSF": 756,
         "LowQualFinSF": 0,
         "GrLivArea": 1717,
         "BsmtFullBath": 1,
         "BsmtHalfBath": 0,
         "FullBath": 1,
         "HalfBath": 0,
         "BedroomAbvGr": 3,
         "KitchenAbvGr": 1,
         "KitchenQual": "Gd",
         "TotRmsAbvGrd": 7,
         "Functional": "Typ",
         "Fireplaces": 1,
         "FireplaceQu": "Gd",
         "GarageType": "Detchd",
         "GarageYrBlt": 1998,
         "GarageFinish": "Unf",
         "GarageCars": 3,
         "GarageArea": 642,
         "GarageQual": "TA",
         "GarageCond": "TA",
         "PavedDrive": "Y",
         "WoodDeckSF": 0,
         "OpenPorchSF": 35,
         "EnclosedPorch": 272,
         "3SsnPorch": 0,
         "ScreenPorch": 0,
         "PoolArea": 0,
         "PoolQC": "nan",
         "Fence": "nan",
         "MiscFeature": "nan",
         "MiscVal": 0,
         "MoSold": 2,
         "YrSold": 2006,
         "SaleType": "WD",
         "SaleCondition": "Abnorml",
         "SalePrice": 140000,
         "_deepnote_index_column": 4
        },
        {
         "MSSubClass": 60,
         "MSZoning": "RL",
         "LotFrontage": 84,
         "LotArea": 14260,
         "Street": "Pave",
         "Alley": "nan",
         "LotShape": "IR1",
         "LandContour": "Lvl",
         "Utilities": "AllPub",
         "LotConfig": "FR2",
         "LandSlope": "Gtl",
         "Neighborhood": "NoRidge",
         "Condition1": "Norm",
         "Condition2": "Norm",
         "BldgType": "1Fam",
         "HouseStyle": "2Story",
         "OverallQual": 8,
         "OverallCond": 5,
         "YearBuilt": 2000,
         "YearRemodAdd": 2000,
         "RoofStyle": "Gable",
         "RoofMatl": "CompShg",
         "Exterior1st": "VinylSd",
         "Exterior2nd": "VinylSd",
         "MasVnrType": "BrkFace",
         "MasVnrArea": 350,
         "ExterQual": "Gd",
         "ExterCond": "TA",
         "Foundation": "PConc",
         "BsmtQual": "Gd",
         "BsmtCond": "TA",
         "BsmtExposure": "Av",
         "BsmtFinType1": "GLQ",
         "BsmtFinSF1": 655,
         "BsmtFinType2": "Unf",
         "BsmtFinSF2": 0,
         "BsmtUnfSF": 490,
         "TotalBsmtSF": 1145,
         "Heating": "GasA",
         "HeatingQC": "Ex",
         "CentralAir": "Y",
         "Electrical": "SBrkr",
         "1stFlrSF": 1145,
         "2ndFlrSF": 1053,
         "LowQualFinSF": 0,
         "GrLivArea": 2198,
         "BsmtFullBath": 1,
         "BsmtHalfBath": 0,
         "FullBath": 2,
         "HalfBath": 1,
         "BedroomAbvGr": 4,
         "KitchenAbvGr": 1,
         "KitchenQual": "Gd",
         "TotRmsAbvGrd": 9,
         "Functional": "Typ",
         "Fireplaces": 1,
         "FireplaceQu": "TA",
         "GarageType": "Attchd",
         "GarageYrBlt": 2000,
         "GarageFinish": "RFn",
         "GarageCars": 3,
         "GarageArea": 836,
         "GarageQual": "TA",
         "GarageCond": "TA",
         "PavedDrive": "Y",
         "WoodDeckSF": 192,
         "OpenPorchSF": 84,
         "EnclosedPorch": 0,
         "3SsnPorch": 0,
         "ScreenPorch": 0,
         "PoolArea": 0,
         "PoolQC": "nan",
         "Fence": "nan",
         "MiscFeature": "nan",
         "MiscVal": 0,
         "MoSold": 12,
         "YrSold": 2008,
         "SaleType": "WD",
         "SaleCondition": "Normal",
         "SalePrice": 250000,
         "_deepnote_index_column": 5
        }
       ],
       "rows_bottom": null
      },
      "text/plain": "    MSSubClass MSZoning  LotFrontage  LotArea Street Alley LotShape  \\\nId                                                                    \n1           60       RL         65.0     8450   Pave   NaN      Reg   \n2           20       RL         80.0     9600   Pave   NaN      Reg   \n3           60       RL         68.0    11250   Pave   NaN      IR1   \n4           70       RL         60.0     9550   Pave   NaN      IR1   \n5           60       RL         84.0    14260   Pave   NaN      IR1   \n\n   LandContour Utilities LotConfig  ... PoolArea PoolQC Fence MiscFeature  \\\nId                                  ...                                     \n1          Lvl    AllPub    Inside  ...        0    NaN   NaN         NaN   \n2          Lvl    AllPub       FR2  ...        0    NaN   NaN         NaN   \n3          Lvl    AllPub    Inside  ...        0    NaN   NaN         NaN   \n4          Lvl    AllPub    Corner  ...        0    NaN   NaN         NaN   \n5          Lvl    AllPub       FR2  ...        0    NaN   NaN         NaN   \n\n   MiscVal MoSold  YrSold  SaleType  SaleCondition  SalePrice  \nId                                                             \n1        0      2    2008        WD         Normal     208500  \n2        0      5    2007        WD         Normal     181500  \n3        0      9    2008        WD         Normal     223500  \n4        0      2    2006        WD        Abnorml     140000  \n5        0     12    2008        WD         Normal     250000  \n\n[5 rows x 80 columns]",
      "text/html": "<div>\n<style scoped>\n    .dataframe tbody tr th:only-of-type {\n        vertical-align: middle;\n    }\n\n    .dataframe tbody tr th {\n        vertical-align: top;\n    }\n\n    .dataframe thead th {\n        text-align: right;\n    }\n</style>\n<table border=\"1\" class=\"dataframe\">\n  <thead>\n    <tr style=\"text-align: right;\">\n      <th></th>\n      <th>MSSubClass</th>\n      <th>MSZoning</th>\n      <th>LotFrontage</th>\n      <th>LotArea</th>\n      <th>Street</th>\n      <th>Alley</th>\n      <th>LotShape</th>\n      <th>LandContour</th>\n      <th>Utilities</th>\n      <th>LotConfig</th>\n      <th>...</th>\n      <th>PoolArea</th>\n      <th>PoolQC</th>\n      <th>Fence</th>\n      <th>MiscFeature</th>\n      <th>MiscVal</th>\n      <th>MoSold</th>\n      <th>YrSold</th>\n      <th>SaleType</th>\n      <th>SaleCondition</th>\n      <th>SalePrice</th>\n    </tr>\n    <tr>\n      <th>Id</th>\n      <th></th>\n      <th></th>\n      <th></th>\n      <th></th>\n      <th></th>\n      <th></th>\n      <th></th>\n      <th></th>\n      <th></th>\n      <th></th>\n      <th></th>\n      <th></th>\n      <th></th>\n      <th></th>\n      <th></th>\n      <th></th>\n      <th></th>\n      <th></th>\n      <th></th>\n      <th></th>\n      <th></th>\n    </tr>\n  </thead>\n  <tbody>\n    <tr>\n      <th>1</th>\n      <td>60</td>\n      <td>RL</td>\n      <td>65.0</td>\n      <td>8450</td>\n      <td>Pave</td>\n      <td>NaN</td>\n      <td>Reg</td>\n      <td>Lvl</td>\n      <td>AllPub</td>\n      <td>Inside</td>\n      <td>...</td>\n      <td>0</td>\n      <td>NaN</td>\n      <td>NaN</td>\n      <td>NaN</td>\n      <td>0</td>\n      <td>2</td>\n      <td>2008</td>\n      <td>WD</td>\n      <td>Normal</td>\n      <td>208500</td>\n    </tr>\n    <tr>\n      <th>2</th>\n      <td>20</td>\n      <td>RL</td>\n      <td>80.0</td>\n      <td>9600</td>\n      <td>Pave</td>\n      <td>NaN</td>\n      <td>Reg</td>\n      <td>Lvl</td>\n      <td>AllPub</td>\n      <td>FR2</td>\n      <td>...</td>\n      <td>0</td>\n      <td>NaN</td>\n      <td>NaN</td>\n      <td>NaN</td>\n      <td>0</td>\n      <td>5</td>\n      <td>2007</td>\n      <td>WD</td>\n      <td>Normal</td>\n      <td>181500</td>\n    </tr>\n    <tr>\n      <th>3</th>\n      <td>60</td>\n      <td>RL</td>\n      <td>68.0</td>\n      <td>11250</td>\n      <td>Pave</td>\n      <td>NaN</td>\n      <td>IR1</td>\n      <td>Lvl</td>\n      <td>AllPub</td>\n      <td>Inside</td>\n      <td>...</td>\n      <td>0</td>\n      <td>NaN</td>\n      <td>NaN</td>\n      <td>NaN</td>\n      <td>0</td>\n      <td>9</td>\n      <td>2008</td>\n      <td>WD</td>\n      <td>Normal</td>\n      <td>223500</td>\n    </tr>\n    <tr>\n      <th>4</th>\n      <td>70</td>\n      <td>RL</td>\n      <td>60.0</td>\n      <td>9550</td>\n      <td>Pave</td>\n      <td>NaN</td>\n      <td>IR1</td>\n      <td>Lvl</td>\n      <td>AllPub</td>\n      <td>Corner</td>\n      <td>...</td>\n      <td>0</td>\n      <td>NaN</td>\n      <td>NaN</td>\n      <td>NaN</td>\n      <td>0</td>\n      <td>2</td>\n      <td>2006</td>\n      <td>WD</td>\n      <td>Abnorml</td>\n      <td>140000</td>\n    </tr>\n    <tr>\n      <th>5</th>\n      <td>60</td>\n      <td>RL</td>\n      <td>84.0</td>\n      <td>14260</td>\n      <td>Pave</td>\n      <td>NaN</td>\n      <td>IR1</td>\n      <td>Lvl</td>\n      <td>AllPub</td>\n      <td>FR2</td>\n      <td>...</td>\n      <td>0</td>\n      <td>NaN</td>\n      <td>NaN</td>\n      <td>NaN</td>\n      <td>0</td>\n      <td>12</td>\n      <td>2008</td>\n      <td>WD</td>\n      <td>Normal</td>\n      <td>250000</td>\n    </tr>\n  </tbody>\n</table>\n<p>5 rows × 80 columns</p>\n</div>"
     },
     "metadata": {}
    }
   ]
  },
  {
   "cell_type": "markdown",
   "source": "Let's look at columns which have null values and evaluate the proportion of missing values. We will drop all columns that have more than around 50 % of null values. If I fill values in such columns with the most frequent value I may change the interpretation of the data completely or bring a huge bias/error to the model.",
   "metadata": {
    "tags": [],
    "cell_id": "00011-f63ae37e-c069-4dd2-a13d-a51c36fc307d",
    "deepnote_cell_type": "markdown"
   }
  },
  {
   "cell_type": "code",
   "metadata": {
    "tags": [],
    "cell_id": "00011-f390b205-4ab6-475c-83c7-2e7adf6cff9d",
    "deepnote_to_be_reexecuted": false,
    "source_hash": "eee6f443",
    "execution_start": 1638735479806,
    "execution_millis": 32,
    "deepnote_output_heights": [
     382
    ],
    "deepnote_cell_type": "code"
   },
   "source": "# checking which columns have null values\nnull_cols = df.columns[df.isna().any()].tolist()\ndf[null_cols].isin([' ','NULL',np.nan]).mean()",
   "execution_count": null,
   "outputs": [
    {
     "output_type": "execute_result",
     "execution_count": 30,
     "data": {
      "text/plain": "LotFrontage     0.177397\nAlley           0.937671\nMasVnrType      0.005479\nMasVnrArea      0.005479\nBsmtQual        0.025342\nBsmtCond        0.025342\nBsmtExposure    0.026027\nBsmtFinType1    0.025342\nBsmtFinType2    0.026027\nElectrical      0.000685\nFireplaceQu     0.472603\nGarageType      0.055479\nGarageYrBlt     0.055479\nGarageFinish    0.055479\nGarageQual      0.055479\nGarageCond      0.055479\nPoolQC          0.995205\nFence           0.807534\nMiscFeature     0.963014\ndtype: float64"
     },
     "metadata": {}
    }
   ]
  },
  {
   "cell_type": "markdown",
   "source": "From above we can see that columns Alley, FireplaceQu, PoolQC, Fence, MiscFeature do contain a high proportion of nulls. I will drop these columns before further preprocessing.",
   "metadata": {
    "tags": [],
    "cell_id": "00013-a586963d-3046-4b96-a3dd-fd83cf164e98",
    "deepnote_cell_type": "markdown"
   }
  },
  {
   "cell_type": "code",
   "metadata": {
    "tags": [],
    "cell_id": "00013-2d50c630-e2d6-4aa2-af6d-73abcdadcd97",
    "deepnote_to_be_reexecuted": false,
    "source_hash": "c8b430d9",
    "execution_start": 1638735479843,
    "execution_millis": 18,
    "deepnote_cell_type": "code"
   },
   "source": "df = df.drop([\"Alley\", \"FireplaceQu\", \"PoolQC\", \"Fence\", \"MiscFeature\"], axis=1)",
   "execution_count": null,
   "outputs": []
  },
  {
   "cell_type": "markdown",
   "source": "### Data Exploration",
   "metadata": {
    "tags": [],
    "is_collapsed": false,
    "cell_id": "00009-1d391d2b-4531-4a72-88e1-b77e3d79503c",
    "deepnote_cell_type": "text-cell-h3"
   }
  },
  {
   "cell_type": "markdown",
   "source": "Before we start with data processing and standardization, let's explore our data a little bit more. Let's select features with Nulls and fill them with most frequent value. Let's first have a look on which variables correlate the most with the variable we will predict (SalePrice). As we have 80 columns in the data set, let's first subset some (int and float) and perform the correlation.",
   "metadata": {
    "tags": [],
    "cell_id": "00011-9c499609-2d9b-4cd9-9508-c214e70c5517",
    "deepnote_cell_type": "markdown"
   }
  },
  {
   "cell_type": "code",
   "metadata": {
    "tags": [],
    "cell_id": "00012-144bf5c2-0e69-4521-b295-0f6724a06c79",
    "deepnote_to_be_reexecuted": false,
    "source_hash": "7ae1b277",
    "execution_start": 1638735479866,
    "execution_millis": 37,
    "deepnote_output_heights": [
     21
    ],
    "deepnote_cell_type": "code"
   },
   "source": "# detecting columns with nan\ncorr_df = df.copy()\ncorr_df = corr_df.select_dtypes(include=['float64', \"int64\"])\nnan_values = corr_df.columns[corr_df.isna().any()].tolist()\nnan_values",
   "execution_count": null,
   "outputs": [
    {
     "output_type": "execute_result",
     "execution_count": 32,
     "data": {
      "text/plain": "['LotFrontage', 'MasVnrArea', 'GarageYrBlt']"
     },
     "metadata": {}
    }
   ]
  },
  {
   "cell_type": "code",
   "metadata": {
    "tags": [],
    "cell_id": "00013-98af827e-68ad-4fd6-a1eb-661b184233df",
    "deepnote_to_be_reexecuted": false,
    "source_hash": "ffe77d6",
    "execution_start": 1638735479907,
    "execution_millis": 94,
    "deepnote_cell_type": "code"
   },
   "source": "# replacing NaN with median\ncorr_df = corr_df.apply(lambda x: x.fillna(x.value_counts().index[0]))",
   "execution_count": null,
   "outputs": []
  },
  {
   "cell_type": "code",
   "metadata": {
    "tags": [],
    "cell_id": "00012-cd6fccf6-4ade-4414-a000-ccac58b41089",
    "deepnote_to_be_reexecuted": false,
    "source_hash": "553098fc",
    "execution_start": 1638735480015,
    "execution_millis": 3973,
    "deepnote_output_heights": [
     611
    ],
    "deepnote_cell_type": "code"
   },
   "source": "# drawing heatmap\nsns.set(rc={'figure.figsize':(15,15)})\ncorr_df = corr_df.corr()\ncorr_matrix=sns.heatmap(corr_df, cmap = \"coolwarm\")",
   "execution_count": null,
   "outputs": [
    {
     "data": {
      "text/plain": "<Figure size 1080x1080 with 2 Axes>",
      "image/png": "[encoded data removed]"
     },
     "metadata": {
      "image/png": {
       "width": 896,
       "height": 927
      }
     },
     "output_type": "display_data"
    }
   ]
  },
  {
   "cell_type": "markdown",
   "source": "From above we can see that between variables that highly correlate with SalesPrice GarageCars & GarageArea (these too variables have very high correlation to each other), FullBath, GrLivArea, 1stFlrSF, TotalBsmtSf and OverallQual. We can also notice that TotalBsmtSfhighly correlates to 1stFlrSF.\n\nLet's now also look at object variables. These variables are categorical, so we would need to preprocess them in order to access the correlation values. For that, let's use Cramer's coefficient. The function was taken from this [article](https://towardsdatascience.com/the-search-for-categorical-correlation-a1cf7f1888c9). If Cramer's coefficient is equal to 0 means no association between variables and 1 is full association. (Unlike correlation, there are no negative values, as there’s no such thing as a negative association. I haven't used this technique before, however we might not be interested in features that have have high assosiation between each other, which means as in case of correlation that they bring the same information.",
   "metadata": {
    "tags": [],
    "cell_id": "00013-232cb9ec-fbf9-445a-98dd-f4a19b0967af",
    "deepnote_cell_type": "markdown"
   }
  },
  {
   "cell_type": "code",
   "metadata": {
    "tags": [],
    "cell_id": "00014-a5a415fd-bf00-4767-b304-9c15b988e404",
    "deepnote_to_be_reexecuted": false,
    "source_hash": "37a920c5",
    "execution_start": 1638735483994,
    "execution_millis": 11,
    "deepnote_cell_type": "code"
   },
   "source": "# the function used to calculate cramers coefficient\ndef cramers_v(x, y):\n    confusion_matrix = pd.crosstab(x,y)\n    chi2 = ss.chi2_contingency(confusion_matrix)[0]\n    n = confusion_matrix.sum().sum()\n    phi2 = chi2/n\n    r,k = confusion_matrix.shape\n    phi2corr = max(0, phi2-((k-1)*(r-1))/(n-1))\n    rcorr = r-((r-1)**2)/(n-1)\n    kcorr = k-((k-1)**2)/(n-1)\n    return np.sqrt(phi2corr/min((kcorr-1),(rcorr-1)))",
   "execution_count": null,
   "outputs": []
  },
  {
   "cell_type": "markdown",
   "source": "At this step, we will select columns with NULL values to replace them with the most frequent value.",
   "metadata": {
    "tags": [],
    "cell_id": "00017-fe346dec-d7b9-4be4-94e7-80f2e46d3d22",
    "deepnote_cell_type": "markdown"
   }
  },
  {
   "cell_type": "code",
   "metadata": {
    "tags": [],
    "cell_id": "00015-95058ef4-2d04-4e5e-af00-e16469174f2a",
    "deepnote_to_be_reexecuted": false,
    "source_hash": "f5bc675f",
    "execution_start": 1638735484031,
    "execution_millis": 25,
    "deepnote_output_heights": [
     211
    ],
    "deepnote_cell_type": "code"
   },
   "source": "# selecting columns with nulls\nobj_df = df.select_dtypes(include=[\"object\"])\nnan_values_obj = obj_df.columns[obj_df.isna().any()].tolist()\nnan_values_obj",
   "execution_count": null,
   "outputs": [
    {
     "output_type": "execute_result",
     "execution_count": 36,
     "data": {
      "text/plain": "['MasVnrType',\n 'BsmtQual',\n 'BsmtCond',\n 'BsmtExposure',\n 'BsmtFinType1',\n 'BsmtFinType2',\n 'Electrical',\n 'GarageType',\n 'GarageFinish',\n 'GarageQual',\n 'GarageCond']"
     },
     "metadata": {}
    }
   ]
  },
  {
   "cell_type": "code",
   "metadata": {
    "tags": [],
    "cell_id": "00018-a4cc937a-3f33-4aa4-88d0-1883e9f2373f",
    "deepnote_to_be_reexecuted": false,
    "source_hash": "b9e55ccd",
    "execution_start": 1638735484061,
    "execution_millis": 125,
    "deepnote_cell_type": "code"
   },
   "source": "# NaN values replacement with the most frequent values\nobj_df = obj_df.apply(lambda x:x.fillna(x.value_counts().index[0]))",
   "execution_count": null,
   "outputs": []
  },
  {
   "cell_type": "code",
   "metadata": {
    "tags": [],
    "cell_id": "00018-897eab83-b363-42a7-8e0d-8f9608b95182",
    "deepnote_to_be_reexecuted": false,
    "source_hash": "1fd8c293",
    "execution_start": 1638735484191,
    "execution_millis": 21,
    "deepnote_output_heights": [
     21
    ],
    "deepnote_cell_type": "code"
   },
   "source": "# select the target and check the shape of data\nobj_df['SalePrice'] = df.SalePrice\nobj_df.shape",
   "execution_count": null,
   "outputs": [
    {
     "output_type": "execute_result",
     "execution_count": 38,
     "data": {
      "text/plain": "(1460, 39)"
     },
     "metadata": {}
    }
   ]
  },
  {
   "cell_type": "code",
   "metadata": {
    "tags": [],
    "cell_id": "00016-beecec70-3cec-4c67-9465-9f6b331b1809",
    "deepnote_to_be_reexecuted": false,
    "source_hash": "8e033910",
    "execution_start": 1638735484220,
    "execution_millis": 80601,
    "deepnote_output_heights": [
     249
    ],
    "deepnote_cell_type": "code"
   },
   "source": "# calculation cramers values to generate assosiation matrix\nimport warnings\nwarnings.filterwarnings('ignore')\n\ncramers_vals = np.zeros(shape=(len(obj_df.columns), len(obj_df.columns)))\nfor x, x_col in enumerate(obj_df.columns):\n    for y, y_col in enumerate(obj_df.columns):\n        cramers_vals[x][y] = cramers_v(obj_df[x_col],obj_df[y_col])\n\n\ncramers_vals",
   "execution_count": null,
   "outputs": [
    {
     "output_type": "execute_result",
     "execution_count": 39,
     "data": {
      "text/plain": "array([[1.        , 0.24938428, 0.15219083, ..., 0.15090267, 0.13606503,\n        0.29244056],\n       [0.24938428, 0.91626277, 0.0337698 , ..., 0.11088637, 0.09945753,\n        0.39345168],\n       [0.15219083, 0.0337698 , 1.        , ..., 0.        , 0.00192302,\n        0.32400872],\n       ...,\n       [0.15090267, 0.11088637, 0.        , ..., 1.        , 0.47081876,\n        0.26245943],\n       [0.13606503, 0.09945753, 0.00192302, ..., 0.47081876, 1.        ,\n        0.29624737],\n       [0.29244056, 0.39345168, 0.32400872, ..., 0.26245943, 0.29624737,\n        1.        ]])"
     },
     "metadata": {}
    }
   ]
  },
  {
   "cell_type": "code",
   "metadata": {
    "tags": [],
    "cell_id": "00017-c12d3220-d984-4e0c-a152-f454eca319ad",
    "deepnote_to_be_reexecuted": false,
    "source_hash": "6063a7f9",
    "execution_start": 1638735564778,
    "execution_millis": 3823,
    "deepnote_output_heights": [
     611
    ],
    "deepnote_cell_type": "code"
   },
   "source": "# plotting assosiation matrix\nassosiation_df = pd.DataFrame(cramers_vals, index=obj_df.columns, columns=obj_df.columns)\nassosiation_matrix=sns.heatmap(assosiation_df, cmap = \"coolwarm\")",
   "execution_count": null,
   "outputs": [
    {
     "data": {
      "text/plain": "<Figure size 1080x1080 with 2 Axes>",
      "image/png": "[encoded data removed]"
     },
     "metadata": {
      "image/png": {
       "width": 882,
       "height": 922
      }
     },
     "output_type": "display_data"
    }
   ]
  },
  {
   "cell_type": "markdown",
   "source": "### Feature selection Correlation &amp; Association analysis",
   "metadata": {
    "tags": [],
    "is_collapsed": false,
    "cell_id": "00014-a9bd57e7-b948-40bd-befa-60f3f699d0d4",
    "deepnote_cell_type": "text-cell-h3"
   }
  },
  {
   "cell_type": "markdown",
   "source": "Let's perform feature selection based on correlation & association, two step preprocessing:\n1) remove all features with correlation > |0.8| (for dtypes integer and float)\n2) remove all features with assosiation value over 0.6 (for categorical variables)",
   "metadata": {
    "tags": [],
    "cell_id": "00014-f54b3943-7c27-459a-a672-44ea1a37dd61",
    "deepnote_cell_type": "markdown"
   }
  },
  {
   "cell_type": "code",
   "metadata": {
    "tags": [],
    "cell_id": "00016-1287505b-8be4-42d5-a038-202ab256aac6",
    "deepnote_to_be_reexecuted": false,
    "source_hash": "2927a056",
    "execution_start": 1638735568601,
    "execution_millis": 71,
    "deepnote_output_heights": [
     611
    ],
    "deepnote_cell_type": "code"
   },
   "source": "# filtering unnecessary columns with correlation or assosiation mask\ncorr_df = corr_df.drop(\"SalePrice\", axis=1)\nassosiation_df = assosiation_df.drop(\"SalePrice\", axis=1)\ncorr_mask = np.triu(np.ones_like(corr_df, dtype=bool))\nassosiation_mask = np.triu(np.ones_like(assosiation_df, dtype=bool))\ncorr_df_masked = corr_df.mask(corr_mask)\nassosiation_df_masked = assosiation_df.mask(assosiation_mask)\nto_drop_1 = [c for c in corr_df_masked.columns if any(abs(corr_df_masked[c]) >= 0.8)]\nto_drop_2 = [c for c in assosiation_df_masked.columns if any(assosiation_df_masked[c] >= 0.6)]\n\n# printing out the number of columns to remove\nprint(f\"The number of columns to drop (int & float): {len(to_drop_1)} out of {len(corr_df.columns)}\")\nprint(f\"The number of columns to drop (categorical): {len(to_drop_2)} out of {len(assosiation_df.columns)}\")",
   "execution_count": null,
   "outputs": [
    {
     "name": "stdout",
     "text": "The number of columns to drop (int & float): 3 out of 36\nThe number of columns to drop (categorical): 3 out of 38\n",
     "output_type": "stream"
    }
   ]
  },
  {
   "cell_type": "code",
   "metadata": {
    "tags": [],
    "cell_id": "00021-97cc7646-b85b-4d42-afe2-c10ced2edfaf",
    "deepnote_to_be_reexecuted": false,
    "source_hash": "a32a39e6",
    "execution_start": 1638735568679,
    "execution_millis": 296,
    "deepnote_cell_type": "code"
   },
   "source": "# dropping unnecessary columns\nto_drop = to_drop_1 + to_drop_2\n\n# separationg features from target variable\ncoras_df = df.copy()\ncoras_df = coras_df.apply(lambda x:x.fillna(x.value_counts().index[0]))\ncoras_df = coras_df.drop(to_drop, axis=1)\n\n# converting categorical variables into dummies\nX_coras = coras_df.drop(\"SalePrice\", axis=1)\ny_coras = df.SalePrice\nX_coras_dummies = pd.get_dummies(X_coras)\n\n\nprint(X_coras_dummies.shape)",
   "execution_count": null,
   "outputs": [
    {
     "name": "stdout",
     "text": "(1460, 242)\n",
     "output_type": "stream"
    }
   ]
  },
  {
   "cell_type": "code",
   "metadata": {
    "tags": [],
    "cell_id": "00022-aa3a63b6-0a10-4ca1-b0ce-cffadd339dd2",
    "deepnote_to_be_reexecuted": false,
    "source_hash": "a5bdfc17",
    "execution_start": 1638735568983,
    "execution_millis": 13,
    "deepnote_cell_type": "code"
   },
   "source": "# train test split for data preprocessed via correlation or assosiation\nX_train_corr_fs, X_test_corr_fs, y_train_corr_fs, y_test_corr_fs = train_test_split(X_coras_dummies, y_coras, test_size=0.30, random_state=5)",
   "execution_count": null,
   "outputs": []
  },
  {
   "cell_type": "markdown",
   "source": "From above we can see that we removed 6 features from the model, which may help or not our model to perform better. With correlation & assosiation analysis we reduced the number to features to 68.",
   "metadata": {
    "tags": [],
    "cell_id": "00022-3013338c-26ff-4333-975c-7b2bd3d9dc39",
    "deepnote_cell_type": "markdown"
   }
  },
  {
   "cell_type": "markdown",
   "source": "### Mutual Information Feature Selection",
   "metadata": {
    "tags": [],
    "is_collapsed": false,
    "cell_id": "00016-77dcfb01-b69d-4e24-a6cb-5e6e1692ae24",
    "deepnote_cell_type": "text-cell-h3"
   }
  },
  {
   "cell_type": "markdown",
   "source": "Let's also try to perform Mutual Information feature selection on our data. Mutual information (MI) between two random variables is a non-negative value, which measures the dependency between the variables. It is equal to zero if and only if two random variables are independent, and higher values mean higher dependency. There was no a specific reason why I selected 0.2 as a cutoff for the analysis, I just noticed that it was used in the other tutorial. The best solution would be to select a range of cutoffs and keep the one which would work the best for our dataset.",
   "metadata": {
    "tags": [],
    "cell_id": "00029-95fd4000-a069-45d2-bc19-dbcb0d0d4fbb",
    "deepnote_cell_type": "markdown"
   }
  },
  {
   "cell_type": "code",
   "metadata": {
    "tags": [],
    "cell_id": "00030-8d089078-02ae-4cac-a090-dc70931e9acd",
    "deepnote_to_be_reexecuted": false,
    "source_hash": "6cfd3678",
    "execution_start": 1638735569000,
    "execution_millis": 91776,
    "deepnote_cell_type": "code"
   },
   "source": "# calculation scores per each feature\nmic_df = df.copy()\nmic_df = mic_df.apply(lambda x:x.fillna(x.value_counts().index[0]))\nmic_df_dummies = pd.get_dummies(mic_df)\ny_mic = mic_df[\"SalePrice\"]\nX_mic = mic_df_dummies.drop(\"SalePrice\", axis=1)\nmi_score = MIC(X_mic,y_mic)\nprint(mi_score)",
   "execution_count": null,
   "outputs": [
    {
     "name": "stdout",
     "text": "[2.14410927e-01 2.33489456e-01 1.30174657e-01 7.87588550e-01\n 4.37547338e-01 2.93874415e-01 2.34563436e-01 1.16493545e-01\n 8.17068302e-02 0.00000000e+00 1.62613364e-02 2.30960074e-01\n 1.60414926e-01 1.19487262e-01 0.00000000e+00 3.85870080e-01\n 4.21452687e-01 3.35657366e-02 2.60937818e+00 5.23000072e-01\n 5.55292953e-01 3.73827812e+00 4.25759883e-01 9.31780758e-01\n 1.65187743e-01 2.09252940e+00 2.90660398e-01 1.16227212e-01\n 1.81864959e-01 0.00000000e+00 0.00000000e+00 4.72100510e-02\n 0.00000000e+00 1.33555024e-02 0.00000000e+00 1.86198759e-01\n 0.00000000e+00 0.00000000e+00 1.25116217e-02 2.42324533e+00\n 1.09900026e-01 2.38566402e-03 4.03309830e+00 2.38660491e-01\n 1.83036610e-02 1.07977675e-02 1.63526678e+00 0.00000000e+00\n 2.60591706e-02 0.00000000e+00 3.20432130e+00 3.90954913e+00\n 0.00000000e+00 3.33909603e-02 0.00000000e+00 6.53956846e-03\n 0.00000000e+00 1.74564831e+00 3.51135869e+00 0.00000000e+00\n 0.00000000e+00 0.00000000e+00 0.00000000e+00 0.00000000e+00\n 8.76560908e-03 0.00000000e+00 8.00346400e-02 0.00000000e+00\n 7.09968154e-04 3.74543832e-02 0.00000000e+00 4.11785152e-02\n 4.72115493e-03 4.62693217e-02 1.42516621e-02 0.00000000e+00\n 5.75671156e-02 7.16485124e-02 1.06663391e-02 9.56567240e-03\n 0.00000000e+00 0.00000000e+00 0.00000000e+00 0.00000000e+00\n 7.11377706e-04 0.00000000e+00 0.00000000e+00 3.67637274e-02\n 2.93458132e+00 9.52645362e-03 0.00000000e+00 2.42825942e-02\n 0.00000000e+00 0.00000000e+00 1.06133923e-02 0.00000000e+00\n 0.00000000e+00 4.07837618e+00 4.95960206e-03 2.49012816e-02\n 6.10772277e-03 0.00000000e+00 0.00000000e+00 2.63985899e+00\n 0.00000000e+00 0.00000000e+00 0.00000000e+00 4.94377527e-03\n 6.18211614e-02 2.99365040e-02 6.11048343e-01 0.00000000e+00\n 1.18372012e-02 3.65171723e-01 0.00000000e+00 0.00000000e+00\n 0.00000000e+00 2.45755327e+00 0.00000000e+00 4.40223225e-02\n 2.75595305e-02 2.82382057e-03 0.00000000e+00 3.94929041e+00\n 0.00000000e+00 1.78624764e-02 6.91544130e-03 7.44043325e-03\n 4.49747393e-02 0.00000000e+00 4.61356001e-02 0.00000000e+00\n 0.00000000e+00 5.66392379e-02 2.15032778e-03 0.00000000e+00\n 0.00000000e+00 3.31103790e-02 0.00000000e+00 5.07632429e-02\n 4.03619801e-02 2.48099973e-02 3.34678005e-01 9.64988754e-02\n 0.00000000e+00 0.00000000e+00 8.99800890e-03 2.47257860e-02\n 0.00000000e+00 1.69938417e-02 0.00000000e+00 0.00000000e+00\n 5.65469457e-03 1.89668631e-02 1.36162741e-02 3.48104004e-02\n 3.00486125e-03 0.00000000e+00 3.30124261e-01 9.06525215e-02\n 0.00000000e+00 4.92852969e-03 3.66020907e-01 1.44791351e+00\n 2.66859179e-02 2.49478736e-03 0.00000000e+00 8.53871337e-01\n 2.01305420e+00 3.62701798e-05 1.80393758e-02 2.17387548e-02\n 2.01459475e-02 2.82593725e+00 2.93557243e-02 6.73672424e-01\n 9.73768241e-01 0.00000000e+00 0.00000000e+00 0.00000000e+00\n 4.64269479e-02 0.00000000e+00 1.00288487e+00 1.28961685e+00\n 0.00000000e+00 0.00000000e+00 3.31022536e-02 3.22440884e+00\n 5.88473425e-02 2.91832942e-02 4.39360759e-02 1.85222220e+00\n 1.19799292e-01 0.00000000e+00 2.72980655e-01 1.81351797e-03\n 1.89786034e-02 2.49891648e-01 0.00000000e+00 0.00000000e+00\n 0.00000000e+00 2.91608468e-02 5.15058845e-03 3.03472604e+00\n 9.88433949e-03 3.62498403e+00 8.54798920e-03 0.00000000e+00\n 0.00000000e+00 7.27197552e-03 8.59427867e-01 2.92422546e-02\n 3.35639409e-02 6.19380628e-02 2.72882060e-01 4.25085843e-02\n 3.50679555e+00 1.00425035e-02 5.58366843e-03 1.36963559e-02\n 0.00000000e+00 3.34540121e+00 5.18693841e-02 0.00000000e+00\n 9.19957032e-01 1.46705965e+00 1.51749479e-02 0.00000000e+00\n 0.00000000e+00 9.65665086e-03 2.64077828e-03 3.90896634e-02\n 3.54957002e+00 3.43106315e-02 1.62071441e+00 0.00000000e+00\n 0.00000000e+00 9.37682678e-03 2.83477132e-01 2.42240986e-01\n 3.29061220e-01 1.37602241e+00 2.36012469e-02 0.00000000e+00\n 0.00000000e+00 0.00000000e+00 3.68776490e+00 4.64060385e-03\n 0.00000000e+00 1.20667464e-02 0.00000000e+00 3.92633993e+00\n 4.60581367e-03 0.00000000e+00 3.39872270e+00 0.00000000e+00\n 2.59818261e-02 7.59445135e-03 0.00000000e+00 0.00000000e+00\n 2.21422592e-02 1.35192893e-02 0.00000000e+00 3.08908166e+00\n 3.45118675e-03 2.02327419e-02 0.00000000e+00 0.00000000e+00\n 3.02239058e+00 0.00000000e+00]\n",
     "output_type": "stream"
    }
   ]
  },
  {
   "cell_type": "code",
   "metadata": {
    "tags": [],
    "cell_id": "00031-c827b71e-07e9-4512-b92c-6b63730cb440",
    "deepnote_to_be_reexecuted": false,
    "source_hash": "b2dee9dc",
    "execution_start": 1638735660774,
    "execution_millis": 2,
    "deepnote_output_heights": [
     null,
     116
    ],
    "deepnote_cell_type": "code"
   },
   "source": "# select only features with mi_score above 0.2\nmi_score_selected_index = np.where(mi_score > 0.2)[0]\nprint(\"The number of selected features with Mutual Information Method: \", len(mi_score_selected_index))\nmi_score_selected_index",
   "execution_count": null,
   "outputs": [
    {
     "name": "stdout",
     "text": "The number of selected features with Mutual Information Method:  66\n",
     "output_type": "stream"
    },
    {
     "output_type": "execute_result",
     "execution_count": 45,
     "data": {
      "text/plain": "array([  0,   1,   3,   4,   5,   6,  11,  15,  16,  18,  19,  20,  21,\n        22,  23,  25,  26,  39,  42,  43,  46,  50,  51,  57,  58,  88,\n        97, 103, 110, 113, 117, 123, 142, 158, 162, 163, 167, 168, 173,\n       175, 176, 182, 183, 187, 191, 194, 197, 203, 205, 210, 214, 216,\n       221, 224, 225, 232, 234, 238, 239, 240, 241, 246, 251, 254, 263,\n       268])"
     },
     "metadata": {}
    }
   ]
  },
  {
   "cell_type": "code",
   "metadata": {
    "tags": [],
    "cell_id": "00032-98f8795e-0945-4839-9069-4ffad98a8e40",
    "deepnote_to_be_reexecuted": false,
    "source_hash": "a134a0cd",
    "execution_start": 1638735660775,
    "execution_millis": 0,
    "deepnote_cell_type": "code"
   },
   "source": "# preprocessing X for a predictive model\nX_mic_selected = X_mic.iloc[:,mi_score_selected_index]",
   "execution_count": null,
   "outputs": []
  },
  {
   "cell_type": "code",
   "metadata": {
    "tags": [],
    "cell_id": "00033-d8dfca44-0f1c-4cb7-be81-73e4dbb64159",
    "deepnote_to_be_reexecuted": false,
    "source_hash": "640e992d",
    "execution_start": 1638735660784,
    "execution_millis": 24,
    "deepnote_cell_type": "code"
   },
   "source": "# splitting data to train and test for data preprocessed via mutual information feature selection\nX_train_mic, X_test_mic, y_train_mic, y_test_mic = train_test_split(X_mic_selected,y_mic,random_state=5)",
   "execution_count": null,
   "outputs": []
  },
  {
   "cell_type": "markdown",
   "source": "As we can see from above with Mutual information feature selection we reduced the number of features to 66. ",
   "metadata": {
    "tags": [],
    "cell_id": "00034-18ffa52d-9034-4c43-b13c-87ea577b0049",
    "deepnote_cell_type": "markdown"
   }
  },
  {
   "cell_type": "markdown",
   "source": "### Feature selection - PCA",
   "metadata": {
    "tags": [],
    "is_collapsed": false,
    "cell_id": "00016-5ed5a1f7-31f5-4078-925b-5652611ae195",
    "deepnote_cell_type": "text-cell-h3"
   }
  },
  {
   "cell_type": "markdown",
   "source": "Let's now try to use PCA in order to select the best feature for our model.",
   "metadata": {
    "tags": [],
    "cell_id": "00025-82089bb5-e95b-4470-b1b4-40869946dec2",
    "deepnote_cell_type": "markdown"
   }
  },
  {
   "cell_type": "markdown",
   "source": "To process data with PCA we first consdider two rules:\n\n1) we should standardize the data before using PCA (we will preprocess data with MinMaxScaler)\n2) PCA is used only on the train data",
   "metadata": {
    "tags": [],
    "cell_id": "00027-31c401fb-60cf-49b1-8f86-c7cb951e87dc",
    "deepnote_cell_type": "markdown"
   }
  },
  {
   "cell_type": "markdown",
   "source": "To preprocess the data for PCA let's first tranform all categorical variables to dummies variables, then let's apply MinMaxScaler to stadardize the data. As some variables contain NaN values I will also use Imputer to fill NaNs with the most frequent value.",
   "metadata": {
    "tags": [],
    "cell_id": "00028-8466be16-a365-4bbc-8f6a-26118be3102c",
    "deepnote_cell_type": "markdown"
   }
  },
  {
   "cell_type": "code",
   "metadata": {
    "tags": [],
    "cell_id": "00039-1f24efd0-5789-412d-8ab4-5f00a35f55eb",
    "deepnote_to_be_reexecuted": false,
    "source_hash": "b17e584d",
    "execution_start": 1638736285421,
    "execution_millis": 102084,
    "deepnote_output_heights": [
     null,
     21,
     611
    ],
    "deepnote_cell_type": "code"
   },
   "source": "# separation predicting variable and features\npca_df = df.copy()\ny = pca_df[\"SalePrice\"]\nX = pca_df.drop([\"SalePrice\"], axis = 1)\nX_dummies = pd.get_dummies(X)\n\n# returning the total number of features\nprint(\"The final number of features of X_dummies dataframe\",X_dummies.shape[1])\n\n# splitting data to train and test\nX_train, X_test, y_train, y_test = train_test_split(X_dummies, y, test_size=0.30, random_state=5)\n\n# calculation RMSLE for different number of principal components\ni, rmsle_vals  = 0, {}\nwhile i < 200:\n    i += 1\n    # defining a pipeline used for preprocessing of data\n    pipeline = Pipeline([(\"imputer\", SimpleImputer(missing_values=np.nan, strategy='most_frequent')),\n    ('scaling', MinMaxScaler()),\n    ('pca', PCA(n_components=i, whiten=True)),\n    ('linreg', LinearRegression())])\n    \n    pipeline.fit(X_train, y_train)\n    y_test_pred = pipeline.predict(X_test)\n    # adding RMSLE to dictionary\n    rmsle_vals[i] = np.sqrt(mean_squared_error(np.log(y_test), np.log(y_test_pred)))\n    \n# plotting RMSE as a function of number of principal components used\nplt.scatter(rmsle_vals.keys(), rmsle_vals.values(), c='green')\nplt.title(\"RMSLE as a function of number of principal components used\")\nplt.xlabel('Number of principal component used')\nplt.ylabel('RMSLE')",
   "execution_count": null,
   "outputs": [
    {
     "name": "stdout",
     "text": "The final number of features of X_dummies dataframe 270\n",
     "output_type": "stream"
    },
    {
     "output_type": "execute_result",
     "execution_count": 54,
     "data": {
      "text/plain": "Text(0, 0.5, 'RMSLE')"
     },
     "metadata": {}
    },
    {
     "data": {
      "text/plain": "<Figure size 1080x1080 with 1 Axes>",
      "image/png": "[encoded data removed]"
     },
     "metadata": {
      "image/png": {
       "width": 902,
       "height": 882
      }
     },
     "output_type": "display_data"
    }
   ]
  },
  {
   "cell_type": "markdown",
   "source": "I could iterate over all 288 features, however I decided to set 200 as a cutoff for all possible principal components.",
   "metadata": {
    "tags": [],
    "cell_id": "00042-39c42a0d-c7fb-424a-b1fa-6013bfefe785",
    "deepnote_cell_type": "markdown"
   }
  },
  {
   "cell_type": "markdown",
   "source": "Let's find out how many features we would keep to have the smallest RMSLE.",
   "metadata": {
    "tags": [],
    "cell_id": "00030-73e450fb-6cbb-455c-9489-64c21714eef8",
    "deepnote_cell_type": "markdown"
   }
  },
  {
   "cell_type": "code",
   "metadata": {
    "tags": [],
    "cell_id": "00031-0bb80e81-7b66-4c4f-9c1e-e30ddc56ffd9",
    "deepnote_to_be_reexecuted": false,
    "source_hash": "36355783",
    "execution_start": 1638736081029,
    "execution_millis": 18,
    "deepnote_cell_type": "code"
   },
   "source": "min_rmse = min(rmsle_vals, key=rmsle_vals.get)\n\nprint(f'The smallest RMSLE was detected for {min_rmse} features, which was {rmsle_vals[min_rmse]}.')",
   "execution_count": null,
   "outputs": [
    {
     "name": "stdout",
     "text": "The smallest RMSLE was detected for 127 features, which was 0.15895647373262825.\n",
     "output_type": "stream"
    }
   ]
  },
  {
   "cell_type": "markdown",
   "source": "From above we can see that the lowest RMSLE was observed for 127 features. Overall we can see that by the increasing the number of features RMSLE is decreasing. However we can see 3 peaks one is around 80 features, the secons is around 150 features and the third one is around 200.",
   "metadata": {
    "tags": [],
    "cell_id": "00032-0d650aa5-ad80-4f3d-9ddf-116af1bb2135",
    "deepnote_cell_type": "markdown"
   }
  },
  {
   "cell_type": "code",
   "metadata": {
    "tags": [],
    "cell_id": "00042-f5ecae94-dc57-4b99-b3ed-ea6309e3daeb",
    "deepnote_to_be_reexecuted": false,
    "source_hash": "9dcf5a41",
    "execution_start": 1638737140273,
    "execution_millis": 953,
    "deepnote_output_heights": [
     21
    ],
    "deepnote_cell_type": "code"
   },
   "source": "# preprocessing of data for PCA\ndf_pca = df.copy()\ndf_pca = df_pca.apply(lambda x:x.fillna(x.value_counts().index[0]))\ndf_pca_dummies = pd.get_dummies(df_pca)\ny_pca = df_pca[\"SalePrice\"]\nX_pca_dummies = df_pca_dummies.drop(\"SalePrice\", axis=1)\nX_train_pca, X_test_pca, y_train_pca, y_test_pca = train_test_split(X_pca_dummies, y_pca, test_size=0.30, random_state=5)\n\n# scaling and preprocessing of data\nsc = MinMaxScaler()\npca = PCA(n_components=min_rmse)\n\nX_train_pca = sc.fit_transform(X_train_pca)\nX_train_pca = pca.fit_transform(X_train_pca)\n\nX_test_pca = sc.transform(X_test_pca)\nX_test_pca = pca.transform(X_test_pca)\n",
   "execution_count": null,
   "outputs": []
  },
  {
   "cell_type": "markdown",
   "source": "### No preprocessing",
   "metadata": {
    "tags": [],
    "is_collapsed": false,
    "cell_id": "00044-c4a8de2b-c684-4d65-ab9b-305447268730",
    "deepnote_cell_type": "text-cell-h3"
   }
  },
  {
   "cell_type": "markdown",
   "source": "Let's also preprocess the data to confirm how much better/worse the performance of preprocessed data compare to data which were not preprocessed for the modelling.",
   "metadata": {
    "tags": [],
    "cell_id": "00045-e6452d5b-8d80-4f79-a11f-87be802669b7",
    "deepnote_cell_type": "markdown"
   }
  },
  {
   "cell_type": "code",
   "metadata": {
    "tags": [],
    "cell_id": "00045-8bfc11ac-a3ca-4856-bf02-2be1bcbf5a76",
    "deepnote_to_be_reexecuted": false,
    "source_hash": "88331635",
    "execution_start": 1638736456541,
    "execution_millis": 331,
    "deepnote_cell_type": "code"
   },
   "source": "# no preprocessing\ndf_nopre = df.copy()\ndf_nopre = df_nopre.apply(lambda x:x.fillna(x.value_counts().index[0]))\ndf_nopre_dummies = pd.get_dummies(df_nopre)\ny_nopre = df_nopre[\"SalePrice\"]\nX_nopre = df_nopre_dummies.drop(\"SalePrice\", axis=1)\n\nimputer=SimpleImputer(missing_values=np.nan,strategy='most_frequent')\nimputer.fit(X_nopre)\nX_nopre=imputer.transform(X_nopre)\n\nX_train_nopre, X_test_nopre, y_train_nopre, y_test_nopre = train_test_split(X_nopre, y_nopre, test_size=0.30, random_state=5)\n",
   "execution_count": null,
   "outputs": []
  },
  {
   "cell_type": "markdown",
   "source": "### Influence of the feature selection method on the regression modeling",
   "metadata": {
    "tags": [],
    "is_collapsed": false,
    "cell_id": "00017-508122d4-dd46-449e-8e15-ae8ee0fca9a7",
    "deepnote_cell_type": "text-cell-h3"
   }
  },
  {
   "cell_type": "markdown",
   "source": "Let's now see which feature selection method worked the best for our dataset.",
   "metadata": {
    "tags": [],
    "cell_id": "00043-ad888c20-07a0-4906-824c-f179e1d927d5",
    "deepnote_cell_type": "markdown"
   }
  },
  {
   "cell_type": "code",
   "metadata": {
    "tags": [],
    "cell_id": "00044-b73d4180-7a87-4e25-a026-edb03734ba27",
    "deepnote_to_be_reexecuted": false,
    "source_hash": "c3baf329",
    "execution_start": 1638736470053,
    "execution_millis": 0,
    "deepnote_cell_type": "code"
   },
   "source": "# defining a function to evaluate the performance\ndef run_lenreg_eval(preprocessing, X_train, X_test, y_train, y_test):\n    model = LinearRegression()\n    model.fit(X_train, y_train)\n    y_test_pred = model.predict(X_test)\n    rmsle_val = round(np.sqrt(mean_squared_error(np.log(y_test), np.log(y_test_pred))),3)\n    return f'RMSLE value for data preparation with {preprocessing}: {rmsle_val}'",
   "execution_count": null,
   "outputs": []
  },
  {
   "cell_type": "code",
   "metadata": {
    "tags": [],
    "cell_id": "00047-d87e6a69-ae8e-4937-b974-529f2c8823de",
    "deepnote_to_be_reexecuted": false,
    "source_hash": "68a896",
    "execution_start": 1638736475832,
    "execution_millis": 127,
    "deepnote_cell_type": "code"
   },
   "source": "# No preprocessing \nprint(run_lenreg_eval(\"No preprocessing\", X_train_nopre, X_test_nopre, y_train_nopre, y_test_nopre))",
   "execution_count": null,
   "outputs": [
    {
     "name": "stdout",
     "text": "RMSLE value for data preparation with No preprocessing: 0.151\n",
     "output_type": "stream"
    }
   ]
  },
  {
   "cell_type": "code",
   "metadata": {
    "tags": [],
    "cell_id": "00047-37287ab9-1d71-4273-97d9-a869c2efce2a",
    "deepnote_to_be_reexecuted": false,
    "source_hash": "62ef325d",
    "execution_start": 1638736478900,
    "execution_millis": 132,
    "deepnote_cell_type": "code"
   },
   "source": "# Correlation & Assosiation analysis\nprint(run_lenreg_eval(\"Correlation & Assosiation analysis\", X_train_corr_fs, X_test_corr_fs, y_train_corr_fs, y_test_corr_fs))",
   "execution_count": null,
   "outputs": [
    {
     "name": "stdout",
     "text": "RMSLE value for data preparation with Correlation & Assosiation analysis: 0.149\n",
     "output_type": "stream"
    }
   ]
  },
  {
   "cell_type": "code",
   "metadata": {
    "tags": [],
    "cell_id": "00048-8881120b-1049-43d3-814f-10289e210073",
    "deepnote_to_be_reexecuted": false,
    "source_hash": "4a36d27c",
    "execution_start": 1638736481059,
    "execution_millis": 39,
    "deepnote_cell_type": "code"
   },
   "source": "# Mutual information\nprint(run_lenreg_eval(\"Mutual Information\", X_train_mic, X_test_mic, y_train_mic, y_test_mic))",
   "execution_count": null,
   "outputs": [
    {
     "name": "stdout",
     "text": "RMSLE value for data preparation with Mutual Information: 0.164\n",
     "output_type": "stream"
    }
   ]
  },
  {
   "cell_type": "code",
   "metadata": {
    "tags": [],
    "cell_id": "00048-348598e7-7a24-4702-b041-34af3f39f8ee",
    "deepnote_to_be_reexecuted": false,
    "source_hash": "7117848d",
    "execution_start": 1638736484366,
    "execution_millis": 45,
    "deepnote_cell_type": "code"
   },
   "source": "# PCA\nprint(run_lenreg_eval(\"PCA\", X_train_pca, X_test_pca, y_train_pca, y_test_pca))",
   "execution_count": null,
   "outputs": [
    {
     "name": "stdout",
     "text": "RMSLE value for data preparation with PCA: 0.165\n",
     "output_type": "stream"
    }
   ]
  },
  {
   "cell_type": "markdown",
   "source": "### Summary &amp; Discussion",
   "metadata": {
    "tags": [],
    "is_collapsed": false,
    "cell_id": "00054-97dc97d4-6f28-4790-8c55-d6a4d229571b",
    "deepnote_cell_type": "text-cell-h3"
   }
  },
  {
   "cell_type": "markdown",
   "source": "* In this analysis, I used 3 feature selection methods, namely Correlation & Assosiation analysis, Mutual information scoring and PCA\n* All null values in the dataset were always filled with the most frequent value - for both categorical and numerical columns\n* I could also use mean or median to fill in numerical variables which might improve the model or have a different influence on the model performance\n* All categorical variables were one-hot encoded with pandas dummies function\n* For PCA different number of features was tested in order to select the most appropriate number of features\n* To evaluate the performance of the model I used RMSLE \n* Overall the RMSLE value for all features selection methods was around 0.15-0.18\n* Correlation & Assosiation analysis showed the lowest RMSE compare to other methods used in this analysis, however the difference to unprocessed data was insignificant\n* PCA and Mutual Information feature selection performed relatively the same and worse compare to unprocessed data and correlation & assosiation analysis \n* Moreover, the possible reason for the low performance of mutual information of feature selection method is that is not frequently used to select features for regressions models, it is more likely used for classification, a better option which I could select for feature selection for this dataset are Stepwise Regression,\nForward Selection or Backward Elimination.\n\nHowever, some authors previosly discussed the use of mutual information for regression models in the paper https://www.sciencedirect.com/science/article/abs/pii/S0893608013001883,and concluded that under some reasonable assumptions, features selected with the mutual information criterion are the ones minimising the mean squared error and the mean absolute error.\n",
   "metadata": {
    "tags": [],
    "cell_id": "00054-9df8c5d2-93e9-45ce-a3f1-cb0f01023d48",
    "deepnote_cell_type": "markdown"
   }
  },
  {
   "cell_type": "markdown",
   "source": "<a style='text-decoration:none;line-height:16px;display:flex;color:#5B5B62;padding:10px;justify-content:end;' href='https://deepnote.com?utm_source=created-in-deepnote-cell&projectId=4533eb3c-58b2-435b-a508-5317de453516' target=\"_blank\">\n<img alt='Created in deepnote.com' style='display:inline;max-height:16px;margin:0px;margin-right:7.5px;' src='data:image/svg+xml;base64,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' > </img>\nCreated in <span style='font-weight:600;margin-left:4px;'>Deepnote</span></a>",
   "metadata": {
    "tags": [],
    "created_in_deepnote_cell": true,
    "deepnote_cell_type": "markdown"
   }
  }
 ],
 "nbformat": 4,
 "nbformat_minor": 4,
 "metadata": {
  "kernelspec": {
   "display_name": "Python 3",
   "language": "python",
   "name": "python3"
  },
  "language_info": {
   "codemirror_mode": {
    "name": "ipython",
    "version": 3
   },
   "file_extension": ".py",
   "mimetype": "text/x-python",
   "name": "python",
   "nbconvert_exporter": "python",
   "pygments_lexer": "ipython3",
   "version": "3.9.2"
  },
  "deepnote_notebook_id": "9ab2bed3-9154-41b6-8ff8-8dcb6d8a2127",
  "deepnote": {},
  "deepnote_execution_queue": []
 }
}